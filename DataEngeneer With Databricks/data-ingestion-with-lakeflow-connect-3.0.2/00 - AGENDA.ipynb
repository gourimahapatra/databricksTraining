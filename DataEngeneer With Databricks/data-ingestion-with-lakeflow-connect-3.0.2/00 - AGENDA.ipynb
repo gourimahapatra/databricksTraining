{
 "cells": [
  {
   "cell_type": "markdown",
   "metadata": {
    "application/vnd.databricks.v1+cell": {
     "cellMetadata": {},
     "inputWidgets": {},
     "nuid": "a720a401-53c5-4107-ae53-348756de636c",
     "showTitle": false,
     "tableResultSettingsMap": {},
     "title": ""
    }
   },
   "source": [
    "\n",
    "<div style=\"text-align: center; line-height: 0; padding-top: 9px;\">\n",
    "  <img src=\"https://databricks.com/wp-content/uploads/2018/03/db-academy-rgb-1200px.png\" alt=\"Databricks Learning\">\n",
    "</div>\n"
   ]
  },
  {
   "cell_type": "markdown",
   "metadata": {
    "application/vnd.databricks.v1+cell": {
     "cellMetadata": {},
     "inputWidgets": {},
     "nuid": "76a0e9a5-704f-4849-9739-3e8649e45a20",
     "showTitle": false,
     "tableResultSettingsMap": {},
     "title": ""
    }
   },
   "source": [
    "\n",
    "## Data Ingestion with Lakeflow Connect\n",
    "\n",
    "This course provides a comprehensive introduction to Lakeflow Connect as a scalable and simplified solution for ingesting data into Databricks from a variety of data sources. You will begin by exploring the different types of connectors within Lakeflow Connect (Standard and Managed), learn about various ingestion techniques, including batch, incremental batch, and streaming, and then review the key benefits of Delta tables and the Medallion architecture.\n",
    "\n",
    "From there, you will gain practical skills to efficiently ingest data from cloud object storage using Lakeflow Connect Standard Connectors with methods such as CREATE TABLE AS (CTAS), COPY INTO, and Auto Loader, along with the benefits and considerations of each approach. You will then learn how to append metadata columns to your bronze level tables during ingestion into the Databricks data intelligence platform. This is followed by working with the rescued data column, which handles records that don’t match the schema of your bronze table, including strategies for managing this rescued data.\n",
    "\n",
    "The course also introduces techniques for ingesting and flattening semi-structured JSON data, as well as enterprise-grade data ingestion using Lakeflow Connect Managed Connectors.\n",
    "\n",
    "Finally, learners will explore alternative ingestion strategies, including MERGE INTO operations and leveraging the Databricks Marketplace, equipping you with foundational knowledge to support modern data engineering ingestion.\n",
    "\n",
    "------\n",
    "\n",
    "### Prerequisites\n",
    "You should meet the following prerequisites before starting this course:\n",
    "\n",
    "- Basic understanding of the Databricks Data Intelligence platform, including Databricks Workspaces, Apache Spark, Delta Lake, the Medallion Architecture and Unity Catalog.\n",
    "- Experience working with various file formats (e.g., Parquet, CSV, JSON, TXT).\n",
    "- Proficiency in SQL and Python.\n",
    "- Familiarity with running code in Databricks notebooks.\n",
    "\n",
    "---\n",
    "### Course Agenda\n",
    "The following modules are part of the **Data Engineer Learning** Path by Databricks Academy.\n",
    "| # | Notebook Name |\n",
    "| --- | --- |\n",
    "| 00 | [Appendix]($./Appendix) |\n",
    "| 01 | [Exploring the Lab Environment]($./01 - Exploring the Lab Environment) |\n",
    "| 02A | [Data Ingestion with CREATE TABLE AS and COPY INTO]($./02A - Data Ingestion with CREATE TABLE AS and COPY INTO) |\n",
    "| 02B | [Create Streaming Tables with SQL using Auto Loader]($./02B -  Create Streaming Tables with SQL using Auto Loader) |\n",
    "| 03 | [Adding Metadata Columns During Ingestion]($./03 - Adding Metadata Columns During Ingestion) |\n",
    "| 04 | [Handling CSV Ingestion with the Rescued Data Column]($./04 - Handling CSV Ingestion with the Rescued Data Column) |\n",
    "| 05L | [Creating Bronze Tables from CSV Files]($./05L - Creating Bronze Tables from CSV Files) |\n",
    "| 06 | [Ingesting JSON files with Databricks]($./06 - Ingesting JSON files with Databricks) |\n",
    "| 07L | [Creating Bronze Tables from JSON Files]($./07L - Creating Bronze Tables from JSON Files) |\n",
    "| 08 | [Enterprise Data Ingestion with Lakeflow Connect]($./08 - Enterprise Data Ingestion with Lakeflow Connect) |\n",
    "| 09 | [BONUS - Data Ingestion with MERGE INTO]($./09 - BONUS - Data Ingestion with MERGE INTO) |\n",
    "\n",
    "--- \n",
    "\n",
    "### Requirements\n",
    "\n",
    "Please review the following requirements before starting the lesson:\n",
    "\n",
    "* To run demo and lab notebooks, you need to use the following Databricks runtime: **`16.4.x-scala2.12`**\n",
    "\n"
   ]
  },
  {
   "cell_type": "markdown",
   "metadata": {
    "application/vnd.databricks.v1+cell": {
     "cellMetadata": {},
     "inputWidgets": {},
     "nuid": "2dcd356d-76f1-4304-89a4-102f6ab4507b",
     "showTitle": false,
     "tableResultSettingsMap": {},
     "title": ""
    }
   },
   "source": [
    "\n",
    "&copy; 2025 Databricks, Inc. All rights reserved. Apache, Apache Spark, Spark, the Spark Logo, Apache Iceberg, Iceberg, and the Apache Iceberg logo are trademarks of the <a href=\"https://www.apache.org/\" target=\"blank\">Apache Software Foundation</a>.<br/>\n",
    "<br/><a href=\"https://databricks.com/privacy-policy\" target=\"blank\">Privacy Policy</a> | \n",
    "<a href=\"https://databricks.com/terms-of-use\" target=\"blank\">Terms of Use</a> | \n",
    "<a href=\"https://help.databricks.com/\" target=\"blank\">Support</a>"
   ]
  }
 ],
 "metadata": {
  "application/vnd.databricks.v1+notebook": {
   "computePreferences": null,
   "dashboards": [],
   "environmentMetadata": null,
   "inputWidgetPreferences": null,
   "language": "python",
   "notebookMetadata": {
    "pythonIndentUnit": 4
   },
   "notebookName": "00 - AGENDA",
   "widgets": {}
  },
  "language_info": {
   "name": "python"
  }
 },
 "nbformat": 4,
 "nbformat_minor": 0
}