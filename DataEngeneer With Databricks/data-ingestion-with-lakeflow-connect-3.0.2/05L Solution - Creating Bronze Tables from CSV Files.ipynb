{
 "cells": [
  {
   "cell_type": "markdown",
   "metadata": {
    "application/vnd.databricks.v1+cell": {
     "cellMetadata": {},
     "inputWidgets": {},
     "nuid": "a713de38-689e-4c40-820b-960c67a72f51",
     "showTitle": false,
     "tableResultSettingsMap": {},
     "title": ""
    }
   },
   "source": [
    "\n",
    "<div style=\"text-align: center; line-height: 0; padding-top: 9px;\">\n",
    "  <img src=\"https://databricks.com/wp-content/uploads/2018/03/db-academy-rgb-1200px.png\" alt=\"Databricks Learning\">\n",
    "</div>\n"
   ]
  },
  {
   "cell_type": "markdown",
   "metadata": {
    "application/vnd.databricks.v1+cell": {
     "cellMetadata": {},
     "inputWidgets": {},
     "nuid": "41a59c67-668a-4669-9add-c6f4ba473ab0",
     "showTitle": false,
     "tableResultSettingsMap": {},
     "title": ""
    }
   },
   "source": [
    "# Lab - Creating Bronze Tables from CSV Files\n",
    "### Duration: ~15-20 minutes\n",
    "\n",
    "This lab is divided into two sections: the **course lab** and an **optional challenge**. \n",
    "\n",
    "In a live class, if you finish the main lab early, feel free to attempt the challenge. You can also complete the challenge after class. \n",
    "\n",
    "**NOTE:** The challenge will require you to use resources outside the scope of this course.\n",
    "\n",
    "### Learning Objectives\n",
    "  - Inspect CSV files.\n",
    "  - Read in CSV files as a Delta table and append with metadata columns.\n",
    "  - Record malformed data types using the `_rescued_data` column.  \n",
    "\n",
    "### Challenge Learning Objectives:\n",
    "  - Clean malformed data types during ingestion by leveraging the `_rescued_data` column."
   ]
  },
  {
   "cell_type": "markdown",
   "metadata": {
    "application/vnd.databricks.v1+cell": {
     "cellMetadata": {},
     "inputWidgets": {},
     "nuid": "b99b9e09-d3e4-4aed-892b-5e7cf874aa98",
     "showTitle": false,
     "tableResultSettingsMap": {},
     "title": ""
    }
   },
   "source": [
    "## REQUIRED - SELECT CLASSIC COMPUTE\n",
    "\n",
    "Before executing cells in this notebook, please select your classic compute cluster in the lab. Be aware that **Serverless** is enabled by default and you have a Shared SQL warehouse.\n",
    "\n",
    "<!-- ![Select Cluster](./Includes/images/selecting_cluster_info.png) -->\n",
    "\n",
    "Follow these steps to select the classic compute cluster:\n",
    "\n",
    "\n",
    "1. Navigate to the top-right of this notebook and click the drop-down menu to select your cluster. By default, the notebook will use **Serverless**.\n",
    "\n",
    "2. If your cluster is available, select it and continue to the next cell. If the cluster is not shown:\n",
    "\n",
    "   - Click **More** in the drop-down.\n",
    "\n",
    "   - In the **Attach to an existing compute resource** window, use the first drop-down to select your unique cluster.\n",
    "\n",
    "**NOTE:** If your cluster has terminated, you might need to restart it in order to select it. To do this:\n",
    "\n",
    "1. Right-click on **Compute** in the left navigation pane and select *Open in new tab*.\n",
    "\n",
    "2. Find the triangle icon to the right of your compute cluster name and click it.\n",
    "\n",
    "3. Wait a few minutes for the cluster to start.\n",
    "\n",
    "4. Once the cluster is running, complete the steps above to select your cluster."
   ]
  },
  {
   "cell_type": "markdown",
   "metadata": {
    "application/vnd.databricks.v1+cell": {
     "cellMetadata": {},
     "inputWidgets": {},
     "nuid": "18580691-c32c-4022-9abb-7111ae465c0e",
     "showTitle": false,
     "tableResultSettingsMap": {},
     "title": ""
    }
   },
   "source": [
    "# Course Lab - Creating Bronze Tables from CSV Files\n",
    "\n",
    "### Scenario\n",
    "\n",
    "You are working with your data team on ingesting a CSV file into Databricks. However, you notice there is a malformed row in your CSV file. Your job is to ingest the file and rescue the malformed data and write as a Delta table."
   ]
  },
  {
   "cell_type": "markdown",
   "metadata": {
    "application/vnd.databricks.v1+cell": {
     "cellMetadata": {},
     "inputWidgets": {},
     "nuid": "0a35c35a-e751-461d-b156-505483eb1804",
     "showTitle": false,
     "tableResultSettingsMap": {},
     "title": ""
    }
   },
   "source": [
    "\n",
    "## A. Classroom Setup\n",
    "\n",
    "Run the following cell to configure your working environment for this notebook.\n",
    "\n",
    "**NOTE:** The `DA` object is only used in Databricks Academy courses and is not available outside of these courses. It will dynamically reference the information needed to run the course in the lab environment."
   ]
  },
  {
   "cell_type": "code",
   "execution_count": 0,
   "metadata": {
    "application/vnd.databricks.v1+cell": {
     "cellMetadata": {
      "byteLimit": 2048000,
      "implicitDf": true,
      "rowLimit": 10000
     },
     "inputWidgets": {},
     "nuid": "0b01fb58-426a-44ea-b2b5-7f4fdd089cd3",
     "showTitle": false,
     "tableResultSettingsMap": {},
     "title": ""
    }
   },
   "outputs": [
    {
     "output_type": "stream",
     "name": "stdout",
     "output_type": "stream",
     "text": [
      "\u001B[43mNote: you may need to restart the kernel using %restart_python or dbutils.library.restartPython() to use updated packages.\u001B[0m\n"
     ]
    },
    {
     "output_type": "display_data",
     "data": {
      "text/html": [
       "<style scoped>\n",
       "  .table-result-container {\n",
       "    max-height: 300px;\n",
       "    overflow: auto;\n",
       "  }\n",
       "  table, th, td {\n",
       "    border: 1px solid black;\n",
       "    border-collapse: collapse;\n",
       "  }\n",
       "  th, td {\n",
       "    padding: 5px;\n",
       "  }\n",
       "  th {\n",
       "    text-align: left;\n",
       "  }\n",
       "</style><div class='table-result-container'><table class='table-result'><thead style='background-color: white'><tr></tr></thead><tbody></tbody></table></div>"
      ]
     },
     "metadata": {
      "application/vnd.databricks.v1+output": {
       "addedWidgets": {},
       "aggData": [],
       "aggError": "",
       "aggOverflow": false,
       "aggSchema": [],
       "aggSeriesLimitReached": false,
       "aggType": "",
       "arguments": {},
       "columnCustomDisplayInfos": {},
       "data": [],
       "datasetInfos": [],
       "dbfsResultPath": null,
       "isJsonSchema": true,
       "metadata": {},
       "overflow": false,
       "plotOptions": {
        "customPlotOptions": {},
        "displayType": "table",
        "pivotAggregation": null,
        "pivotColumns": null,
        "xColumns": null,
        "yColumns": null
       },
       "removedWidgets": [],
       "schema": [],
       "type": "table"
      }
     },
     "output_type": "display_data"
    },
    {
     "output_type": "stream",
     "name": "stdout",
     "output_type": "stream",
     "text": [
      "----------------------------------------------------------------------------------------\nDirectory /Volumes/dbacademy/ops/labuser10983516_1758894578@vocareum_com/csv_demo_files already exists. No action taken.\nDirectory /Volumes/dbacademy/ops/labuser10983516_1758894578@vocareum_com/json_demo_files already exists. No action taken.\nDirectory /Volumes/dbacademy/ops/labuser10983516_1758894578@vocareum_com/xml_demo_files already exists. No action taken.\n----------------------------------------------------------------------------------------\n\n"
     ]
    },
    {
     "output_type": "display_data",
     "data": {
      "text/html": [
       "<style scoped>\n",
       "  .table-result-container {\n",
       "    max-height: 300px;\n",
       "    overflow: auto;\n",
       "  }\n",
       "  table, th, td {\n",
       "    border: 1px solid black;\n",
       "    border-collapse: collapse;\n",
       "  }\n",
       "  th, td {\n",
       "    padding: 5px;\n",
       "  }\n",
       "  th {\n",
       "    text-align: left;\n",
       "  }\n",
       "</style><div class='table-result-container'><table class='table-result'><thead style='background-color: white'><tr></tr></thead><tbody></tbody></table></div>"
      ]
     },
     "metadata": {
      "application/vnd.databricks.v1+output": {
       "addedWidgets": {},
       "aggData": [],
       "aggError": "",
       "aggOverflow": false,
       "aggSchema": [],
       "aggSeriesLimitReached": false,
       "aggType": "",
       "arguments": {},
       "columnCustomDisplayInfos": {},
       "data": [],
       "datasetInfos": [],
       "dbfsResultPath": null,
       "isJsonSchema": true,
       "metadata": {},
       "overflow": false,
       "plotOptions": {
        "customPlotOptions": {},
        "displayType": "table",
        "pivotAggregation": null,
        "pivotColumns": null,
        "xColumns": null,
        "yColumns": null
       },
       "removedWidgets": [],
       "schema": [],
       "type": "table"
      }
     },
     "output_type": "display_data"
    },
    {
     "output_type": "stream",
     "name": "stdout",
     "output_type": "stream",
     "text": [
      "----------------------------------------------------------------------------------------\nDirectory /Volumes/dbacademy/ops/labuser10983516_1758894578@vocareum_com/csv_demo_files already exists. No action taken.\nDirectory /Volumes/dbacademy/ops/labuser10983516_1758894578@vocareum_com/json_demo_files already exists. No action taken.\nDirectory /Volumes/dbacademy/ops/labuser10983516_1758894578@vocareum_com/xml_demo_files already exists. No action taken.\n----------------------------------------------------------------------------------------\n\n"
     ]
    },
    {
     "output_type": "execute_result",
     "data": {
      "text/plain": [
       "DataFrame[num_affected_rows: bigint, num_inserted_rows: bigint]"
      ]
     },
     "execution_count": 12,
     "metadata": {},
     "output_type": "execute_result"
    }
   ],
   "source": [
    "%run ./Includes/Classroom-Setup-05L"
   ]
  },
  {
   "cell_type": "markdown",
   "metadata": {
    "application/vnd.databricks.v1+cell": {
     "cellMetadata": {},
     "inputWidgets": {},
     "nuid": "5de99bda-8cf8-4757-8c63-5cdd5d59e352",
     "showTitle": false,
     "tableResultSettingsMap": {},
     "title": ""
    }
   },
   "source": [
    "Run the cell below to view your default catalog and schema. Notice that your default catalog is **dbacademy** and your default schema is your unique **labuser** schema.\n",
    "\n",
    "**NOTE:** The default catalog and schema are pre-configured for you to avoid the need to specify the three-level name when writing your tables (i.e., catalog.schema.table)."
   ]
  },
  {
   "cell_type": "code",
   "execution_count": 0,
   "metadata": {
    "application/vnd.databricks.v1+cell": {
     "cellMetadata": {
      "byteLimit": 2048000,
      "rowLimit": 10000
     },
     "inputWidgets": {},
     "nuid": "c8a33c7f-41d3-4679-ae3e-7c90598b5b1e",
     "showTitle": false,
     "tableResultSettingsMap": {},
     "title": ""
    }
   },
   "outputs": [
    {
     "output_type": "display_data",
     "data": {
      "text/html": [
       "<style scoped>\n",
       "  .table-result-container {\n",
       "    max-height: 300px;\n",
       "    overflow: auto;\n",
       "  }\n",
       "  table, th, td {\n",
       "    border: 1px solid black;\n",
       "    border-collapse: collapse;\n",
       "  }\n",
       "  th, td {\n",
       "    padding: 5px;\n",
       "  }\n",
       "  th {\n",
       "    text-align: left;\n",
       "  }\n",
       "</style><div class='table-result-container'><table class='table-result'><thead style='background-color: white'><tr><th>current_catalog()</th><th>current_schema()</th></tr></thead><tbody><tr><td>dbacademy</td><td>labuser10983516_1758894578</td></tr></tbody></table></div>"
      ]
     },
     "metadata": {
      "application/vnd.databricks.v1+output": {
       "addedWidgets": {},
       "aggData": [],
       "aggError": "",
       "aggOverflow": false,
       "aggSchema": [],
       "aggSeriesLimitReached": false,
       "aggType": "",
       "arguments": {},
       "columnCustomDisplayInfos": {},
       "data": [
        [
         "dbacademy",
         "labuser10983516_1758894578"
        ]
       ],
       "datasetInfos": [],
       "dbfsResultPath": null,
       "isJsonSchema": true,
       "metadata": {
        "isDbfsCommandResult": false
       },
       "overflow": false,
       "plotOptions": {
        "customPlotOptions": {},
        "displayType": "table",
        "pivotAggregation": null,
        "pivotColumns": null,
        "xColumns": null,
        "yColumns": null
       },
       "removedWidgets": [],
       "schema": [
        {
         "metadata": "{\"__autoGeneratedAlias\":\"true\"}",
         "name": "current_catalog()",
         "type": "\"string\""
        },
        {
         "metadata": "{\"__autoGeneratedAlias\":\"true\"}",
         "name": "current_schema()",
         "type": "\"string\""
        }
       ],
       "type": "table"
      }
     },
     "output_type": "display_data"
    }
   ],
   "source": [
    "SELECT current_catalog(), current_schema()"
   ]
  },
  {
   "cell_type": "markdown",
   "metadata": {
    "application/vnd.databricks.v1+cell": {
     "cellMetadata": {},
     "inputWidgets": {},
     "nuid": "dac95b87-aa41-461f-8afb-d599a51b07f7",
     "showTitle": false,
     "tableResultSettingsMap": {},
     "title": ""
    }
   },
   "source": [
    "## B. Lab - CSV File Ingestion\n",
    "Ingest the CSV file as a Delta table."
   ]
  },
  {
   "cell_type": "markdown",
   "metadata": {
    "application/vnd.databricks.v1+cell": {
     "cellMetadata": {},
     "inputWidgets": {},
     "nuid": "1c35d8c5-31a3-4f76-935b-46e4c29eb11c",
     "showTitle": false,
     "tableResultSettingsMap": {},
     "title": ""
    }
   },
   "source": [
    "### B1. Inspect the Dataset\n",
    "\n",
    "1. In the cell below, view the value of the SQL variable `DA.paths_working_dir`. This variable will reference your **labuser** volume, as each user has a different source volume. This variable is created within the classroom setup script to dynamically reference your unique volume.\n",
    "\n",
    "   Run the cell and review the results. You’ll notice that the `DA.paths_working_dir` variable points to your `/Volumes/dbacademy/ops/labuser` volume.\n",
    "\n",
    "**Note:** Instead of using the `DA.paths_working_dir` variable, you could also specify the path name directly by right clicking on your volume and selecting **Copy volume path**."
   ]
  },
  {
   "cell_type": "code",
   "execution_count": 0,
   "metadata": {
    "application/vnd.databricks.v1+cell": {
     "cellMetadata": {
      "byteLimit": 2048000,
      "rowLimit": 10000
     },
     "inputWidgets": {},
     "nuid": "26e5565f-ed95-4051-923f-013588fb93b6",
     "showTitle": false,
     "tableResultSettingsMap": {},
     "title": ""
    }
   },
   "outputs": [
    {
     "output_type": "display_data",
     "data": {
      "text/html": [
       "<style scoped>\n",
       "  .table-result-container {\n",
       "    max-height: 300px;\n",
       "    overflow: auto;\n",
       "  }\n",
       "  table, th, td {\n",
       "    border: 1px solid black;\n",
       "    border-collapse: collapse;\n",
       "  }\n",
       "  th, td {\n",
       "    padding: 5px;\n",
       "  }\n",
       "  th {\n",
       "    text-align: left;\n",
       "  }\n",
       "</style><div class='table-result-container'><table class='table-result'><thead style='background-color: white'><tr><th>col1</th></tr></thead><tbody><tr><td>/Volumes/dbacademy/ops/labuser10983516_1758894578@vocareum_com</td></tr></tbody></table></div>"
      ]
     },
     "metadata": {
      "application/vnd.databricks.v1+output": {
       "addedWidgets": {},
       "aggData": [],
       "aggError": "",
       "aggOverflow": false,
       "aggSchema": [],
       "aggSeriesLimitReached": false,
       "aggType": "",
       "arguments": {},
       "columnCustomDisplayInfos": {},
       "data": [
        [
         "/Volumes/dbacademy/ops/labuser10983516_1758894578@vocareum_com"
        ]
       ],
       "datasetInfos": [],
       "dbfsResultPath": null,
       "isJsonSchema": true,
       "metadata": {
        "isDbfsCommandResult": false
       },
       "overflow": false,
       "plotOptions": {
        "customPlotOptions": {},
        "displayType": "table",
        "pivotAggregation": null,
        "pivotColumns": null,
        "xColumns": null,
        "yColumns": null
       },
       "removedWidgets": [],
       "schema": [
        {
         "metadata": "{}",
         "name": "col1",
         "type": "\"string\""
        }
       ],
       "type": "table"
      }
     },
     "output_type": "display_data"
    }
   ],
   "source": [
    "values(DA.paths_working_dir)"
   ]
  },
  {
   "cell_type": "markdown",
   "metadata": {
    "application/vnd.databricks.v1+cell": {
     "cellMetadata": {},
     "inputWidgets": {},
     "nuid": "236c4ab8-7ed6-4a13-b656-1fa528979ce6",
     "showTitle": false,
     "tableResultSettingsMap": {},
     "title": ""
    }
   },
   "source": [
    "2. You can concatenate the `DA.paths_working_dir` SQL variable with a string to specify a specific subdirectory in your volume.\n",
    "\n",
    "   Run the cell below and review the results. You’ll notice that it returns the path to your **lab_malformed_data.csv** file. This method will be used when referencing your volume within the `read_files` function."
   ]
  },
  {
   "cell_type": "code",
   "execution_count": 0,
   "metadata": {
    "application/vnd.databricks.v1+cell": {
     "cellMetadata": {
      "byteLimit": 2048000,
      "rowLimit": 10000
     },
     "inputWidgets": {},
     "nuid": "3a739a17-4e7b-4cf7-8c16-059031d9bc2f",
     "showTitle": false,
     "tableResultSettingsMap": {},
     "title": ""
    }
   },
   "outputs": [
    {
     "output_type": "display_data",
     "data": {
      "text/html": [
       "<style scoped>\n",
       "  .table-result-container {\n",
       "    max-height: 300px;\n",
       "    overflow: auto;\n",
       "  }\n",
       "  table, th, td {\n",
       "    border: 1px solid black;\n",
       "    border-collapse: collapse;\n",
       "  }\n",
       "  th, td {\n",
       "    padding: 5px;\n",
       "  }\n",
       "  th {\n",
       "    text-align: left;\n",
       "  }\n",
       "</style><div class='table-result-container'><table class='table-result'><thead style='background-color: white'><tr><th>col1</th></tr></thead><tbody><tr><td>/Volumes/dbacademy/ops/labuser10983516_1758894578@vocareum_com/csv_demo_files/lab_malformed_data.csv</td></tr></tbody></table></div>"
      ]
     },
     "metadata": {
      "application/vnd.databricks.v1+output": {
       "addedWidgets": {},
       "aggData": [],
       "aggError": "",
       "aggOverflow": false,
       "aggSchema": [],
       "aggSeriesLimitReached": false,
       "aggType": "",
       "arguments": {},
       "columnCustomDisplayInfos": {},
       "data": [
        [
         "/Volumes/dbacademy/ops/labuser10983516_1758894578@vocareum_com/csv_demo_files/lab_malformed_data.csv"
        ]
       ],
       "datasetInfos": [],
       "dbfsResultPath": null,
       "isJsonSchema": true,
       "metadata": {
        "isDbfsCommandResult": false
       },
       "overflow": false,
       "plotOptions": {
        "customPlotOptions": {},
        "displayType": "table",
        "pivotAggregation": null,
        "pivotColumns": null,
        "xColumns": null,
        "yColumns": null
       },
       "removedWidgets": [],
       "schema": [
        {
         "metadata": "{}",
         "name": "col1",
         "type": "\"string\""
        }
       ],
       "type": "table"
      }
     },
     "output_type": "display_data"
    }
   ],
   "source": [
    "values(DA.paths_working_dir || '/csv_demo_files/lab_malformed_data.csv')"
   ]
  },
  {
   "cell_type": "markdown",
   "metadata": {
    "application/vnd.databricks.v1+cell": {
     "cellMetadata": {},
     "inputWidgets": {},
     "nuid": "9a28dc4e-a787-458f-9457-e70a331f70c7",
     "showTitle": false,
     "tableResultSettingsMap": {},
     "title": ""
    }
   },
   "source": [
    "3. Next, let's take a look at our CSV file. \n",
    "\n",
    "    Copy the path from the output below and paste it within the backticks in the query to reference the **lab_malformed_data.csv** file.\n",
    "\n",
    "    The query should use `text.<path_from_above>` to return the headers and rows from the CSV file. \n",
    "\n",
    "    Run the cell and view row 4. Notice that the value for the price contains a `$`."
   ]
  },
  {
   "cell_type": "code",
   "execution_count": 0,
   "metadata": {
    "application/vnd.databricks.v1+cell": {
     "cellMetadata": {
      "byteLimit": 2048000,
      "rowLimit": 10000
     },
     "inputWidgets": {},
     "nuid": "ea925d74-b22b-4c93-a27a-ea0385572e22",
     "showTitle": false,
     "tableResultSettingsMap": {},
     "title": ""
    }
   },
   "outputs": [
    {
     "output_type": "display_data",
     "data": {
      "text/html": [
       "<style scoped>\n",
       "  .table-result-container {\n",
       "    max-height: 300px;\n",
       "    overflow: auto;\n",
       "  }\n",
       "  table, th, td {\n",
       "    border: 1px solid black;\n",
       "    border-collapse: collapse;\n",
       "  }\n",
       "  th, td {\n",
       "    padding: 5px;\n",
       "  }\n",
       "  th {\n",
       "    text-align: left;\n",
       "  }\n",
       "</style><div class='table-result-container'><table class='table-result'><thead style='background-color: white'><tr><th>value</th></tr></thead><tbody><tr><td>item_id,name,price</td></tr><tr><td>M_PREM_Q,Premium Queen Mattress,1795.0</td></tr><tr><td>M_STAN_F,Standard Full Mattress,945.0</td></tr><tr><td>M_PREM_A,Premium Queen Mattress,$100.00</td></tr></tbody></table></div>"
      ]
     },
     "metadata": {
      "application/vnd.databricks.v1+output": {
       "addedWidgets": {},
       "aggData": [],
       "aggError": "",
       "aggOverflow": false,
       "aggSchema": [],
       "aggSeriesLimitReached": false,
       "aggType": "",
       "arguments": {},
       "columnCustomDisplayInfos": {},
       "data": [
        [
         "item_id,name,price"
        ],
        [
         "M_PREM_Q,Premium Queen Mattress,1795.0"
        ],
        [
         "M_STAN_F,Standard Full Mattress,945.0"
        ],
        [
         "M_PREM_A,Premium Queen Mattress,$100.00"
        ]
       ],
       "datasetInfos": [],
       "dbfsResultPath": null,
       "isJsonSchema": true,
       "metadata": {},
       "overflow": false,
       "plotOptions": {
        "customPlotOptions": {},
        "displayType": "table",
        "pivotAggregation": null,
        "pivotColumns": null,
        "xColumns": null,
        "yColumns": null
       },
       "removedWidgets": [],
       "schema": [
        {
         "metadata": "{}",
         "name": "value",
         "type": "\"string\""
        }
       ],
       "type": "table"
      }
     },
     "output_type": "display_data"
    }
   ],
   "source": [
    "%python\n",
    "spark.sql(f'''\n",
    "SELECT *\n",
    "FROM text.`{DA.paths.working_dir}/csv_demo_files/lab_malformed_data.csv`\n",
    "'''\n",
    ").display()"
   ]
  },
  {
   "cell_type": "markdown",
   "metadata": {
    "application/vnd.databricks.v1+cell": {
     "cellMetadata": {},
     "inputWidgets": {},
     "nuid": "558b6491-3852-4559-8ca4-885cae5d77ef",
     "showTitle": false,
     "tableResultSettingsMap": {},
     "title": ""
    }
   },
   "source": [
    "### B2. Ingesting and Rescuing Malformed Data\n",
    "\n",
    "Begin developing your query to ingest the CSV file in the specified path and view malformed records using the **_rescued_data** column.\n",
    "\n",
    "#### Requirements\n",
    "Your final SQL query should ingest the CSV file using CTAS and `read_files`. **In the cell below, do not create a table yet. Simply start developing your query to ingest and create the table**:\n",
    "\n",
    "1. Select all columns from the raw CSV file.\n",
    "\n",
    "2. Use the `read_files()` function with appropriate options to read the CSV file. \n",
    "   - **HINT:** Note that the delimiter is a comma (`,`) not a pipe (`|`).\n",
    "\n",
    "3. Explicitly define the schema for ingestion. The schema is defined as follows:  \n",
    "   - `item_id` (STRING)  \n",
    "   - `name` (STRING)  \n",
    "   - `price` (DOUBLE)\n",
    "\n",
    "4. Use the correct option to include the rescued data column and name it **_rescued_data** to capture malformed rows.\n",
    "\n",
    "   - **HINT**: If you define a schema you must [use the rescuedDataColumn option](https://docs.databricks.com/aws/en/sql/language-manual/functions/read_files#csv-options) to add the **_rescued_data** column.\n",
    "\n",
    "**SOLUTION OUTPUT**\n",
    "\n",
    "Your output result should look like the following:\n",
    "| item_id (STRING)   | name (STRING)                   | price (DOUBLE)| _rescued_data (STRING)                                                                                         |\n",
    "|-----------|-------------------------|-------|-----------------------------------------------------------------------------------------------------------|\n",
    "| M_PREM_Q  | Premium Queen Mattress   | 1795  | null                                                                                                      |\n",
    "| M_STAN_F  | Standard Full Mattress   | 945   | null                                                                                                      |\n",
    "| M_PREM_A  | Premium Queen Mattress   | null  | {\"price\":\"$100.00\",\"_file_path\":\"dbfs:/Volumes/dbacademy/ops/peter_s@databricks_com/csv_demo_files/lab_malformed_data.csv\"} |\n"
   ]
  },
  {
   "cell_type": "code",
   "execution_count": 0,
   "metadata": {
    "application/vnd.databricks.v1+cell": {
     "cellMetadata": {
      "byteLimit": 2048000,
      "rowLimit": 10000
     },
     "inputWidgets": {},
     "nuid": "c7240341-fcd4-4726-942a-773dec557261",
     "showTitle": false,
     "tableResultSettingsMap": {},
     "title": ""
    }
   },
   "outputs": [
    {
     "output_type": "display_data",
     "data": {
      "text/html": [
       "<style scoped>\n",
       "  .table-result-container {\n",
       "    max-height: 300px;\n",
       "    overflow: auto;\n",
       "  }\n",
       "  table, th, td {\n",
       "    border: 1px solid black;\n",
       "    border-collapse: collapse;\n",
       "  }\n",
       "  th, td {\n",
       "    padding: 5px;\n",
       "  }\n",
       "  th {\n",
       "    text-align: left;\n",
       "  }\n",
       "</style><div class='table-result-container'><table class='table-result'><thead style='background-color: white'><tr><th>item_id</th><th>name</th><th>price</th><th>_rescued_data</th></tr></thead><tbody><tr><td>M_PREM_Q</td><td>Premium Queen Mattress</td><td>1795.0</td><td>null</td></tr><tr><td>M_STAN_F</td><td>Standard Full Mattress</td><td>945.0</td><td>null</td></tr><tr><td>M_PREM_A</td><td>Premium Queen Mattress</td><td>null</td><td>{\"price\":\"$100.00\",\"_file_path\":\"dbfs:/Volumes/dbacademy/ops/labuser10983516_1758894578@vocareum_com/csv_demo_files/lab_malformed_data.csv\"}</td></tr></tbody></table></div>"
      ]
     },
     "metadata": {
      "application/vnd.databricks.v1+output": {
       "addedWidgets": {},
       "aggData": [],
       "aggError": "",
       "aggOverflow": false,
       "aggSchema": [],
       "aggSeriesLimitReached": false,
       "aggType": "",
       "arguments": {},
       "columnCustomDisplayInfos": {},
       "data": [
        [
         "M_PREM_Q",
         "Premium Queen Mattress",
         1795.0,
         null
        ],
        [
         "M_STAN_F",
         "Standard Full Mattress",
         945.0,
         null
        ],
        [
         "M_PREM_A",
         "Premium Queen Mattress",
         null,
         "{\"price\":\"$100.00\",\"_file_path\":\"dbfs:/Volumes/dbacademy/ops/labuser10983516_1758894578@vocareum_com/csv_demo_files/lab_malformed_data.csv\"}"
        ]
       ],
       "datasetInfos": [],
       "dbfsResultPath": null,
       "isJsonSchema": true,
       "metadata": {
        "isDbfsCommandResult": false
       },
       "overflow": false,
       "plotOptions": {
        "customPlotOptions": {},
        "displayType": "table",
        "pivotAggregation": null,
        "pivotColumns": null,
        "xColumns": null,
        "yColumns": null
       },
       "removedWidgets": [],
       "schema": [
        {
         "metadata": "{}",
         "name": "item_id",
         "type": "\"string\""
        },
        {
         "metadata": "{}",
         "name": "name",
         "type": "\"string\""
        },
        {
         "metadata": "{}",
         "name": "price",
         "type": "\"double\""
        },
        {
         "metadata": "{}",
         "name": "_rescued_data",
         "type": "\"string\""
        }
       ],
       "type": "table"
      }
     },
     "output_type": "display_data"
    }
   ],
   "source": [
    "SELECT * \n",
    "FROM read_files(\n",
    "        DA.paths_working_dir || '/csv_demo_files/lab_malformed_data.csv',\n",
    "        format => \"csv\",\n",
    "        sep => \",\",\n",
    "        header => true,\n",
    "        schema => '''\n",
    "              item_id STRING, \n",
    "              name STRING, \n",
    "              price DOUBLE\n",
    "        ''',\n",
    "        rescueddatacolumn => \"_rescued_data\"\n",
    "      )"
   ]
  },
  {
   "cell_type": "markdown",
   "metadata": {
    "application/vnd.databricks.v1+cell": {
     "cellMetadata": {},
     "inputWidgets": {},
     "nuid": "c0d26a2c-f1fe-4a29-93c9-93150603e8e3",
     "showTitle": false,
     "tableResultSettingsMap": {},
     "title": ""
    }
   },
   "source": [
    "### B3. Add Additional Metadata Columns During Ingestion\n",
    "\n",
    "Next, you can create the final bronze table named **05_lab_bronze** that contains the additional metadata columns. Use the query you created above as the starting point.\n",
    "\n",
    "### Final Table Requirements\n",
    "\n",
    "Incorporate the SQL query you created in the previous section and complete the following:\n",
    "\n",
    "1. Use a CTAS statement to create the final bronze Delta table named **05_lab_bronze**. \n",
    "\n",
    "1. Ingest the same CSV file `/Volumes/dbacademy/ops/<username>/csv_demo_files/lab_malformed_data.csv`\n",
    "\n",
    "1. Use the same defined schema:  \n",
    "   - `item_id` (STRING)  \n",
    "   - `name` (STRING)  \n",
    "   - `price` (DOUBLE)\n",
    "\n",
    "1. Use the `_metadata` column to create two new columns named **file_modification_time** and **source_file**  within your SELECT statement.\n",
    "   - **HINT:** [_metadata](https://docs.databricks.com/en/ingestion/file-metadata-column.html)\n",
    "\n",
    "1. Add a column named **ingestion_time** that provides a timestamp for ingestion. \n",
    "   - **HINT:** Use the [current_timestamp()](https://docs.databricks.com/aws/en/sql/language-manual/functions/current_timestamp) to record the current timestamp at the start of the query evaluation. \n",
    "\n",
    "\n",
    "**NOTE:** If you need to see how your final table should look, run the next cell to view the solution table **05_lab_solution**."
   ]
  },
  {
   "cell_type": "code",
   "execution_count": 0,
   "metadata": {
    "application/vnd.databricks.v1+cell": {
     "cellMetadata": {
      "byteLimit": 2048000,
      "rowLimit": 10000
     },
     "inputWidgets": {},
     "nuid": "ced25d28-f02f-492a-b4e8-8466280aaeaa",
     "showTitle": false,
     "tableResultSettingsMap": {},
     "title": ""
    }
   },
   "outputs": [
    {
     "output_type": "display_data",
     "data": {
      "text/html": [
       "<style scoped>\n",
       "  .table-result-container {\n",
       "    max-height: 300px;\n",
       "    overflow: auto;\n",
       "  }\n",
       "  table, th, td {\n",
       "    border: 1px solid black;\n",
       "    border-collapse: collapse;\n",
       "  }\n",
       "  th, td {\n",
       "    padding: 5px;\n",
       "  }\n",
       "  th {\n",
       "    text-align: left;\n",
       "  }\n",
       "</style><div class='table-result-container'><table class='table-result'><thead style='background-color: white'><tr><th>item_id</th><th>name</th><th>price</th><th>_rescued_data</th><th>file_modification_time</th><th>source_file</th><th>ingestion_time</th></tr></thead><tbody><tr><td>M_PREM_Q</td><td>Premium Queen Mattress</td><td>1795.0</td><td>null</td><td>2025-09-26T16:34:42Z</td><td>lab_malformed_data.csv</td><td>2025-09-26T16:34:43.772047Z</td></tr><tr><td>M_STAN_F</td><td>Standard Full Mattress</td><td>945.0</td><td>null</td><td>2025-09-26T16:34:42Z</td><td>lab_malformed_data.csv</td><td>2025-09-26T16:34:43.772047Z</td></tr><tr><td>M_PREM_A</td><td>Premium Queen Mattress</td><td>null</td><td>{\"price\":\"$100.00\",\"_file_path\":\"dbfs:/Volumes/dbacademy/ops/labuser10983516_1758894578@vocareum_com/csv_demo_files/lab_malformed_data.csv\"}</td><td>2025-09-26T16:34:42Z</td><td>lab_malformed_data.csv</td><td>2025-09-26T16:34:43.772047Z</td></tr></tbody></table></div>"
      ]
     },
     "metadata": {
      "application/vnd.databricks.v1+output": {
       "addedWidgets": {},
       "aggData": [],
       "aggError": "",
       "aggOverflow": false,
       "aggSchema": [],
       "aggSeriesLimitReached": false,
       "aggType": "",
       "arguments": {},
       "columnCustomDisplayInfos": {},
       "data": [
        [
         "M_PREM_Q",
         "Premium Queen Mattress",
         1795.0,
         null,
         "2025-09-26T16:34:42Z",
         "lab_malformed_data.csv",
         "2025-09-26T16:34:43.772047Z"
        ],
        [
         "M_STAN_F",
         "Standard Full Mattress",
         945.0,
         null,
         "2025-09-26T16:34:42Z",
         "lab_malformed_data.csv",
         "2025-09-26T16:34:43.772047Z"
        ],
        [
         "M_PREM_A",
         "Premium Queen Mattress",
         null,
         "{\"price\":\"$100.00\",\"_file_path\":\"dbfs:/Volumes/dbacademy/ops/labuser10983516_1758894578@vocareum_com/csv_demo_files/lab_malformed_data.csv\"}",
         "2025-09-26T16:34:42Z",
         "lab_malformed_data.csv",
         "2025-09-26T16:34:43.772047Z"
        ]
       ],
       "datasetInfos": [],
       "dbfsResultPath": null,
       "isJsonSchema": true,
       "metadata": {
        "isDbfsCommandResult": false
       },
       "overflow": false,
       "plotOptions": {
        "customPlotOptions": {},
        "displayType": "table",
        "pivotAggregation": null,
        "pivotColumns": null,
        "xColumns": null,
        "yColumns": null
       },
       "removedWidgets": [],
       "schema": [
        {
         "metadata": "{}",
         "name": "item_id",
         "type": "\"string\""
        },
        {
         "metadata": "{}",
         "name": "name",
         "type": "\"string\""
        },
        {
         "metadata": "{}",
         "name": "price",
         "type": "\"double\""
        },
        {
         "metadata": "{}",
         "name": "_rescued_data",
         "type": "\"string\""
        },
        {
         "metadata": "{}",
         "name": "file_modification_time",
         "type": "\"timestamp\""
        },
        {
         "metadata": "{}",
         "name": "source_file",
         "type": "\"string\""
        },
        {
         "metadata": "{}",
         "name": "ingestion_time",
         "type": "\"timestamp\""
        }
       ],
       "type": "table"
      }
     },
     "output_type": "display_data"
    }
   ],
   "source": [
    "-- Run if you want to see the final table\n",
    "SELECT * \n",
    "FROM 05_lab_solution"
   ]
  },
  {
   "cell_type": "code",
   "execution_count": 0,
   "metadata": {
    "application/vnd.databricks.v1+cell": {
     "cellMetadata": {
      "byteLimit": 2048000,
      "rowLimit": 10000
     },
     "inputWidgets": {},
     "nuid": "0985e450-c87e-439d-80d7-6f768916e4bb",
     "showTitle": false,
     "tableResultSettingsMap": {},
     "title": ""
    }
   },
   "outputs": [
    {
     "output_type": "display_data",
     "data": {
      "text/html": [
       "<style scoped>\n",
       "  .table-result-container {\n",
       "    max-height: 300px;\n",
       "    overflow: auto;\n",
       "  }\n",
       "  table, th, td {\n",
       "    border: 1px solid black;\n",
       "    border-collapse: collapse;\n",
       "  }\n",
       "  th, td {\n",
       "    padding: 5px;\n",
       "  }\n",
       "  th {\n",
       "    text-align: left;\n",
       "  }\n",
       "</style><div class='table-result-container'><table class='table-result'><thead style='background-color: white'><tr><th>num_affected_rows</th><th>num_inserted_rows</th></tr></thead><tbody></tbody></table></div>"
      ]
     },
     "metadata": {
      "application/vnd.databricks.v1+output": {
       "addedWidgets": {},
       "aggData": [],
       "aggError": "",
       "aggOverflow": false,
       "aggSchema": [],
       "aggSeriesLimitReached": false,
       "aggType": "",
       "arguments": {},
       "columnCustomDisplayInfos": {},
       "data": [],
       "datasetInfos": [],
       "dbfsResultPath": null,
       "isJsonSchema": true,
       "metadata": {
        "isDbfsCommandResult": false
       },
       "overflow": false,
       "plotOptions": {
        "customPlotOptions": {},
        "displayType": "table",
        "pivotAggregation": null,
        "pivotColumns": null,
        "xColumns": null,
        "yColumns": null
       },
       "removedWidgets": [],
       "schema": [
        {
         "metadata": "{}",
         "name": "num_affected_rows",
         "type": "\"long\""
        },
        {
         "metadata": "{}",
         "name": "num_inserted_rows",
         "type": "\"long\""
        }
       ],
       "type": "table"
      }
     },
     "output_type": "display_data"
    }
   ],
   "source": [
    "---- Drop the table if it exists for demonstration purposes\n",
    "DROP TABLE IF EXISTS 05_lab_bronze;\n",
    "\n",
    "---- Create the Delta table\n",
    "CREATE TABLE 05_lab_bronze \n",
    "AS\n",
    "SELECT\n",
    "  *,\n",
    "  _metadata.file_modification_time AS file_modification_time,\n",
    "  _metadata.file_name AS source_file, \n",
    "  current_timestamp() as ingestion_time\n",
    "FROM read_files(\n",
    "        DA.paths_working_dir || '/csv_demo_files/lab_malformed_data.csv',\n",
    "        format => \"csv\",\n",
    "        sep => \",\",\n",
    "        header => true,\n",
    "        schema => 'item_id STRING, name STRING, price DOUBLE', \n",
    "        rescueddatacolumn => \"_rescued_data\"\n",
    "      );"
   ]
  },
  {
   "cell_type": "markdown",
   "metadata": {
    "application/vnd.databricks.v1+cell": {
     "cellMetadata": {},
     "inputWidgets": {},
     "nuid": "96e8acf5-c470-4049-9732-1359ed033cad",
     "showTitle": false,
     "tableResultSettingsMap": {},
     "title": ""
    }
   },
   "source": [
    "Run the cell below to view your final table **05_lab_bronze** and compare it with the solution table."
   ]
  },
  {
   "cell_type": "code",
   "execution_count": 0,
   "metadata": {
    "application/vnd.databricks.v1+cell": {
     "cellMetadata": {
      "byteLimit": 2048000,
      "rowLimit": 10000
     },
     "inputWidgets": {},
     "nuid": "af4d0db8-28b7-4564-a1df-648f89e3a235",
     "showTitle": false,
     "tableResultSettingsMap": {},
     "title": ""
    }
   },
   "outputs": [
    {
     "output_type": "display_data",
     "data": {
      "text/html": [
       "<style scoped>\n",
       "  .table-result-container {\n",
       "    max-height: 300px;\n",
       "    overflow: auto;\n",
       "  }\n",
       "  table, th, td {\n",
       "    border: 1px solid black;\n",
       "    border-collapse: collapse;\n",
       "  }\n",
       "  th, td {\n",
       "    padding: 5px;\n",
       "  }\n",
       "  th {\n",
       "    text-align: left;\n",
       "  }\n",
       "</style><div class='table-result-container'><table class='table-result'><thead style='background-color: white'><tr><th>item_id</th><th>name</th><th>price</th><th>_rescued_data</th><th>file_modification_time</th><th>source_file</th><th>ingestion_time</th></tr></thead><tbody><tr><td>M_PREM_Q</td><td>Premium Queen Mattress</td><td>1795.0</td><td>null</td><td>2025-09-26T16:34:42Z</td><td>lab_malformed_data.csv</td><td>2025-09-26T16:38:02.161304Z</td></tr><tr><td>M_STAN_F</td><td>Standard Full Mattress</td><td>945.0</td><td>null</td><td>2025-09-26T16:34:42Z</td><td>lab_malformed_data.csv</td><td>2025-09-26T16:38:02.161304Z</td></tr><tr><td>M_PREM_A</td><td>Premium Queen Mattress</td><td>null</td><td>{\"price\":\"$100.00\",\"_file_path\":\"dbfs:/Volumes/dbacademy/ops/labuser10983516_1758894578@vocareum_com/csv_demo_files/lab_malformed_data.csv\"}</td><td>2025-09-26T16:34:42Z</td><td>lab_malformed_data.csv</td><td>2025-09-26T16:38:02.161304Z</td></tr></tbody></table></div>"
      ]
     },
     "metadata": {
      "application/vnd.databricks.v1+output": {
       "addedWidgets": {},
       "aggData": [],
       "aggError": "",
       "aggOverflow": false,
       "aggSchema": [],
       "aggSeriesLimitReached": false,
       "aggType": "",
       "arguments": {},
       "columnCustomDisplayInfos": {},
       "data": [
        [
         "M_PREM_Q",
         "Premium Queen Mattress",
         1795.0,
         null,
         "2025-09-26T16:34:42Z",
         "lab_malformed_data.csv",
         "2025-09-26T16:38:02.161304Z"
        ],
        [
         "M_STAN_F",
         "Standard Full Mattress",
         945.0,
         null,
         "2025-09-26T16:34:42Z",
         "lab_malformed_data.csv",
         "2025-09-26T16:38:02.161304Z"
        ],
        [
         "M_PREM_A",
         "Premium Queen Mattress",
         null,
         "{\"price\":\"$100.00\",\"_file_path\":\"dbfs:/Volumes/dbacademy/ops/labuser10983516_1758894578@vocareum_com/csv_demo_files/lab_malformed_data.csv\"}",
         "2025-09-26T16:34:42Z",
         "lab_malformed_data.csv",
         "2025-09-26T16:38:02.161304Z"
        ]
       ],
       "datasetInfos": [],
       "dbfsResultPath": null,
       "isJsonSchema": true,
       "metadata": {
        "isDbfsCommandResult": false
       },
       "overflow": false,
       "plotOptions": {
        "customPlotOptions": {},
        "displayType": "table",
        "pivotAggregation": null,
        "pivotColumns": null,
        "xColumns": null,
        "yColumns": null
       },
       "removedWidgets": [],
       "schema": [
        {
         "metadata": "{}",
         "name": "item_id",
         "type": "\"string\""
        },
        {
         "metadata": "{}",
         "name": "name",
         "type": "\"string\""
        },
        {
         "metadata": "{}",
         "name": "price",
         "type": "\"double\""
        },
        {
         "metadata": "{}",
         "name": "_rescued_data",
         "type": "\"string\""
        },
        {
         "metadata": "{}",
         "name": "file_modification_time",
         "type": "\"timestamp\""
        },
        {
         "metadata": "{}",
         "name": "source_file",
         "type": "\"string\""
        },
        {
         "metadata": "{}",
         "name": "ingestion_time",
         "type": "\"timestamp\""
        }
       ],
       "type": "table"
      }
     },
     "output_type": "display_data"
    }
   ],
   "source": [
    "-- View the final table\n",
    "SELECT * \n",
    "FROM 05_lab_bronze"
   ]
  },
  {
   "cell_type": "markdown",
   "metadata": {
    "application/vnd.databricks.v1+cell": {
     "cellMetadata": {},
     "inputWidgets": {},
     "nuid": "228bb6db-19d1-4e5d-b272-61541efe0d73",
     "showTitle": false,
     "tableResultSettingsMap": {},
     "title": ""
    }
   },
   "source": [
    "## C. (Optional) Challenge: Rescuing Data\n",
    "The challenge is optional during a live class if you have time. This challenge may require you to use documentation. If you run out of time during a live class, try and complete this after class.\n",
    "\n",
    "#### Optional Challenge Scenario\n",
    "You report back to your data team and everyone agrees to clean up any values in the rescued data column that contain a `$` when ingesting as a bronze table. To fix this issue, you agree to handle these edge case during ingestion by leveraging the `_rescued_data` column.\n",
    "\n",
    "Your team has decided to strip the `$` in the price and simply store the numeric value during ingestion.\n",
    "\n",
    "\n",
    "#### Requirements\n",
    "\n",
    "- Complete the SQL query below to modify the **_rescued_data** column and correctly fixes the malformed value.\n",
    "\n",
    "- Your final table should return the following columns:\n",
    "  - **item_id**\n",
    "  - **name**\n",
    "  - **price** (the original price column)\n",
    "  - **TO DO**: **price_fixed** (fix the malformed row in the rescued data column `$100` and return all prices a numeric values)\n",
    "  - **_rescued_data**\n",
    "  - **source_file**\n",
    "  - **file_modification_time**\n",
    "  - **ingestion_timestamp**\n",
    "\n",
    "- Use `CREATE TABLE AS` with `read_files()` to read the CSV file and create a table named .\n",
    "\n",
    "**HINT:** One solution you can use is the [`COALESCE()`](https://docs.databricks.com/aws/en/sql/language-manual/functions/coalesce) function along with the [`REPLACE()`](https://docs.databricks.com/aws/en/sql/language-manual/functions/replace) function to replace the malformed string price (`$100`) with `100`."
   ]
  },
  {
   "cell_type": "markdown",
   "metadata": {
    "application/vnd.databricks.v1+cell": {
     "cellMetadata": {},
     "inputWidgets": {},
     "nuid": "90f2491f-58cc-4b44-a135-75d14c5e1b0d",
     "showTitle": false,
     "tableResultSettingsMap": {},
     "title": ""
    }
   },
   "source": [
    "You can view the final table by running the next cell if you would like a hint for building your query."
   ]
  },
  {
   "cell_type": "code",
   "execution_count": 0,
   "metadata": {
    "application/vnd.databricks.v1+cell": {
     "cellMetadata": {
      "byteLimit": 2048000,
      "rowLimit": 10000
     },
     "inputWidgets": {},
     "nuid": "3f039d40-c3dc-427f-965a-abe1d9145d95",
     "showTitle": false,
     "tableResultSettingsMap": {},
     "title": ""
    }
   },
   "outputs": [
    {
     "output_type": "display_data",
     "data": {
      "text/html": [
       "<style scoped>\n",
       "  .table-result-container {\n",
       "    max-height: 300px;\n",
       "    overflow: auto;\n",
       "  }\n",
       "  table, th, td {\n",
       "    border: 1px solid black;\n",
       "    border-collapse: collapse;\n",
       "  }\n",
       "  th, td {\n",
       "    padding: 5px;\n",
       "  }\n",
       "  th {\n",
       "    text-align: left;\n",
       "  }\n",
       "</style><div class='table-result-container'><table class='table-result'><thead style='background-color: white'><tr><th>item_id</th><th>name</th><th>price</th><th>price_fixed</th><th>_rescued_data</th><th>file_modification_time</th><th>source_file</th><th>ingestion_time</th></tr></thead><tbody><tr><td>M_PREM_Q</td><td>Premium Queen Mattress</td><td>1795.0</td><td>1795.0</td><td>null</td><td>2025-09-26T16:34:42Z</td><td>lab_malformed_data.csv</td><td>2025-09-26T16:34:46.313607Z</td></tr><tr><td>M_STAN_F</td><td>Standard Full Mattress</td><td>945.0</td><td>945.0</td><td>null</td><td>2025-09-26T16:34:42Z</td><td>lab_malformed_data.csv</td><td>2025-09-26T16:34:46.313607Z</td></tr><tr><td>M_PREM_A</td><td>Premium Queen Mattress</td><td>null</td><td>100.00</td><td>{\"price\":\"$100.00\",\"_file_path\":\"dbfs:/Volumes/dbacademy/ops/labuser10983516_1758894578@vocareum_com/csv_demo_files/lab_malformed_data.csv\"}</td><td>2025-09-26T16:34:42Z</td><td>lab_malformed_data.csv</td><td>2025-09-26T16:34:46.313607Z</td></tr></tbody></table></div>"
      ]
     },
     "metadata": {
      "application/vnd.databricks.v1+output": {
       "addedWidgets": {},
       "aggData": [],
       "aggError": "",
       "aggOverflow": false,
       "aggSchema": [],
       "aggSeriesLimitReached": false,
       "aggType": "",
       "arguments": {},
       "columnCustomDisplayInfos": {},
       "data": [
        [
         "M_PREM_Q",
         "Premium Queen Mattress",
         1795.0,
         "1795.0",
         null,
         "2025-09-26T16:34:42Z",
         "lab_malformed_data.csv",
         "2025-09-26T16:34:46.313607Z"
        ],
        [
         "M_STAN_F",
         "Standard Full Mattress",
         945.0,
         "945.0",
         null,
         "2025-09-26T16:34:42Z",
         "lab_malformed_data.csv",
         "2025-09-26T16:34:46.313607Z"
        ],
        [
         "M_PREM_A",
         "Premium Queen Mattress",
         null,
         "100.00",
         "{\"price\":\"$100.00\",\"_file_path\":\"dbfs:/Volumes/dbacademy/ops/labuser10983516_1758894578@vocareum_com/csv_demo_files/lab_malformed_data.csv\"}",
         "2025-09-26T16:34:42Z",
         "lab_malformed_data.csv",
         "2025-09-26T16:34:46.313607Z"
        ]
       ],
       "datasetInfos": [],
       "dbfsResultPath": null,
       "isJsonSchema": true,
       "metadata": {
        "isDbfsCommandResult": false
       },
       "overflow": false,
       "plotOptions": {
        "customPlotOptions": {},
        "displayType": "table",
        "pivotAggregation": null,
        "pivotColumns": null,
        "xColumns": null,
        "yColumns": null
       },
       "removedWidgets": [],
       "schema": [
        {
         "metadata": "{}",
         "name": "item_id",
         "type": "\"string\""
        },
        {
         "metadata": "{}",
         "name": "name",
         "type": "\"string\""
        },
        {
         "metadata": "{}",
         "name": "price",
         "type": "\"double\""
        },
        {
         "metadata": "{}",
         "name": "price_fixed",
         "type": "\"string\""
        },
        {
         "metadata": "{}",
         "name": "_rescued_data",
         "type": "\"string\""
        },
        {
         "metadata": "{}",
         "name": "file_modification_time",
         "type": "\"timestamp\""
        },
        {
         "metadata": "{}",
         "name": "source_file",
         "type": "\"string\""
        },
        {
         "metadata": "{}",
         "name": "ingestion_time",
         "type": "\"timestamp\""
        }
       ],
       "type": "table"
      }
     },
     "output_type": "display_data"
    }
   ],
   "source": [
    "-- Run if you want to see the final table\n",
    "SELECT * \n",
    "FROM 05_lab_challenge_solution;"
   ]
  },
  {
   "cell_type": "code",
   "execution_count": 0,
   "metadata": {
    "application/vnd.databricks.v1+cell": {
     "cellMetadata": {
      "byteLimit": 2048000,
      "rowLimit": 10000
     },
     "inputWidgets": {},
     "nuid": "cfe7b154-9350-494d-8cf6-4d453c74fca1",
     "showTitle": false,
     "tableResultSettingsMap": {},
     "title": ""
    }
   },
   "outputs": [
    {
     "output_type": "display_data",
     "data": {
      "text/html": [
       "<style scoped>\n",
       "  .table-result-container {\n",
       "    max-height: 300px;\n",
       "    overflow: auto;\n",
       "  }\n",
       "  table, th, td {\n",
       "    border: 1px solid black;\n",
       "    border-collapse: collapse;\n",
       "  }\n",
       "  th, td {\n",
       "    padding: 5px;\n",
       "  }\n",
       "  th {\n",
       "    text-align: left;\n",
       "  }\n",
       "</style><div class='table-result-container'><table class='table-result'><thead style='background-color: white'><tr><th>item_id</th><th>name</th><th>price</th><th>price_fixed</th><th>_rescued_data</th><th>file_modification_time</th><th>source_file</th><th>ingestion_timestamp</th></tr></thead><tbody><tr><td>M_PREM_Q</td><td>Premium Queen Mattress</td><td>1795.0</td><td>1795.0</td><td>null</td><td>2025-09-26T16:34:42Z</td><td>lab_malformed_data.csv</td><td>2025-09-26T16:38:16.412492Z</td></tr><tr><td>M_STAN_F</td><td>Standard Full Mattress</td><td>945.0</td><td>945.0</td><td>null</td><td>2025-09-26T16:34:42Z</td><td>lab_malformed_data.csv</td><td>2025-09-26T16:38:16.412492Z</td></tr><tr><td>M_PREM_A</td><td>Premium Queen Mattress</td><td>null</td><td>100.00</td><td>{\"price\":\"$100.00\",\"_file_path\":\"dbfs:/Volumes/dbacademy/ops/labuser10983516_1758894578@vocareum_com/csv_demo_files/lab_malformed_data.csv\"}</td><td>2025-09-26T16:34:42Z</td><td>lab_malformed_data.csv</td><td>2025-09-26T16:38:16.412492Z</td></tr></tbody></table></div>"
      ]
     },
     "metadata": {
      "application/vnd.databricks.v1+output": {
       "addedWidgets": {},
       "aggData": [],
       "aggError": "",
       "aggOverflow": false,
       "aggSchema": [],
       "aggSeriesLimitReached": false,
       "aggType": "",
       "arguments": {},
       "columnCustomDisplayInfos": {},
       "data": [
        [
         "M_PREM_Q",
         "Premium Queen Mattress",
         1795.0,
         "1795.0",
         null,
         "2025-09-26T16:34:42Z",
         "lab_malformed_data.csv",
         "2025-09-26T16:38:16.412492Z"
        ],
        [
         "M_STAN_F",
         "Standard Full Mattress",
         945.0,
         "945.0",
         null,
         "2025-09-26T16:34:42Z",
         "lab_malformed_data.csv",
         "2025-09-26T16:38:16.412492Z"
        ],
        [
         "M_PREM_A",
         "Premium Queen Mattress",
         null,
         "100.00",
         "{\"price\":\"$100.00\",\"_file_path\":\"dbfs:/Volumes/dbacademy/ops/labuser10983516_1758894578@vocareum_com/csv_demo_files/lab_malformed_data.csv\"}",
         "2025-09-26T16:34:42Z",
         "lab_malformed_data.csv",
         "2025-09-26T16:38:16.412492Z"
        ]
       ],
       "datasetInfos": [],
       "dbfsResultPath": null,
       "isJsonSchema": true,
       "metadata": {
        "isDbfsCommandResult": false
       },
       "overflow": false,
       "plotOptions": {
        "customPlotOptions": {},
        "displayType": "table",
        "pivotAggregation": null,
        "pivotColumns": null,
        "xColumns": null,
        "yColumns": null
       },
       "removedWidgets": [],
       "schema": [
        {
         "metadata": "{}",
         "name": "item_id",
         "type": "\"string\""
        },
        {
         "metadata": "{}",
         "name": "name",
         "type": "\"string\""
        },
        {
         "metadata": "{}",
         "name": "price",
         "type": "\"double\""
        },
        {
         "metadata": "{}",
         "name": "price_fixed",
         "type": "\"string\""
        },
        {
         "metadata": "{}",
         "name": "_rescued_data",
         "type": "\"string\""
        },
        {
         "metadata": "{}",
         "name": "file_modification_time",
         "type": "\"timestamp\""
        },
        {
         "metadata": "{}",
         "name": "source_file",
         "type": "\"string\""
        },
        {
         "metadata": "{}",
         "name": "ingestion_timestamp",
         "type": "\"timestamp\""
        }
       ],
       "type": "table"
      }
     },
     "output_type": "display_data"
    }
   ],
   "source": [
    "CREATE OR REPLACE TABLE 05_lab_challenge\n",
    "SELECT\n",
    "  item_id,\n",
    "  name,\n",
    "  price,\n",
    "  coalesce(price, replace(_rescued_data:price,'$','')) AS price_fixed,\n",
    "  _rescued_data,\n",
    "  _metadata.file_modification_time AS file_modification_time,\n",
    "  _metadata.file_name AS source_file, \n",
    "  current_timestamp() as ingestion_timestamp\n",
    "FROM read_files(\n",
    "        DA.paths_working_dir || '/csv_demo_files/lab_malformed_data.csv',\n",
    "        format => \"csv\",\n",
    "        sep => \",\",\n",
    "        header => true,\n",
    "        schema => 'item_id STRING, name STRING, price DOUBLE', \n",
    "        rescueddatacolumn => \"_rescued_data\"\n",
    "      );\n",
    "\n",
    "---- Display the table\n",
    "SELECT *\n",
    "FROM 05_lab_challenge"
   ]
  },
  {
   "cell_type": "markdown",
   "metadata": {
    "application/vnd.databricks.v1+cell": {
     "cellMetadata": {},
     "inputWidgets": {},
     "nuid": "fae98463-0daa-49ba-afe8-31cc88236956",
     "showTitle": false,
     "tableResultSettingsMap": {},
     "title": ""
    }
   },
   "source": [
    "\n",
    "&copy; 2025 Databricks, Inc. All rights reserved. Apache, Apache Spark, Spark, the Spark Logo, Apache Iceberg, Iceberg, and the Apache Iceberg logo are trademarks of the <a href=\"https://www.apache.org/\" target=\"blank\">Apache Software Foundation</a>.<br/>\n",
    "<br/><a href=\"https://databricks.com/privacy-policy\" target=\"blank\">Privacy Policy</a> | \n",
    "<a href=\"https://databricks.com/terms-of-use\" target=\"blank\">Terms of Use</a> | \n",
    "<a href=\"https://help.databricks.com/\" target=\"blank\">Support</a>"
   ]
  }
 ],
 "metadata": {
  "application/vnd.databricks.v1+notebook": {
   "computePreferences": null,
   "dashboards": [],
   "environmentMetadata": null,
   "inputWidgetPreferences": null,
   "language": "sql",
   "notebookMetadata": {
    "mostRecentlyExecutedCommandWithImplicitDF": {
     "commandId": 1762254638001348,
     "dataframes": [
      "_sqldf"
     ]
    },
    "pythonIndentUnit": 4
   },
   "notebookName": "05L Solution - Creating Bronze Tables from CSV Files",
   "widgets": {}
  },
  "language_info": {
   "name": "sql"
  }
 },
 "nbformat": 4,
 "nbformat_minor": 0
}