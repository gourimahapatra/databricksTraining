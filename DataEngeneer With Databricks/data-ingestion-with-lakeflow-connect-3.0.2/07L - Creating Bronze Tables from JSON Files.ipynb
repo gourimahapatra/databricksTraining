{
 "cells": [
  {
   "cell_type": "markdown",
   "metadata": {
    "application/vnd.databricks.v1+cell": {
     "cellMetadata": {},
     "inputWidgets": {},
     "nuid": "12ed25a4-9cb6-4bb6-a9be-6a8364025049",
     "showTitle": false,
     "tableResultSettingsMap": {},
     "title": ""
    }
   },
   "source": [
    "\n",
    "<div style=\"text-align: center; line-height: 0; padding-top: 9px;\">\n",
    "  <img src=\"https://databricks.com/wp-content/uploads/2018/03/db-academy-rgb-1200px.png\" alt=\"Databricks Learning\">\n",
    "</div>\n"
   ]
  },
  {
   "cell_type": "markdown",
   "metadata": {
    "application/vnd.databricks.v1+cell": {
     "cellMetadata": {},
     "inputWidgets": {},
     "nuid": "739e42e9-71e7-4326-ac45-436378af1614",
     "showTitle": false,
     "tableResultSettingsMap": {},
     "title": ""
    }
   },
   "source": [
    "# Lab - Creating Bronze Tables from JSON Files\n",
    "### Duration: ~ 15 minutes\n",
    "\n",
    "In this lab you will ingest a JSON file as Delta table and then flatten the JSON formatted string column.\n",
    "\n",
    "### Learning Objectives\n",
    "  - Inspect a raw JSON file.\n",
    "  - Read in JSON files to a Delta table and flatten the JSON formatted string column."
   ]
  },
  {
   "cell_type": "markdown",
   "metadata": {
    "application/vnd.databricks.v1+cell": {
     "cellMetadata": {},
     "inputWidgets": {},
     "nuid": "536ce506-04f7-4270-9975-c83b52360873",
     "showTitle": false,
     "tableResultSettingsMap": {},
     "title": ""
    }
   },
   "source": [
    "## REQUIRED - SELECT CLASSIC COMPUTE\n",
    "\n",
    "Before executing cells in this notebook, please select your classic compute cluster in the lab. Be aware that **Serverless** is enabled by default and you have a Shared SQL warehouse.\n",
    "\n",
    "<!-- ![Select Cluster](./Includes/images/selecting_cluster_info.png) -->\n",
    "\n",
    "Follow these steps to select the classic compute cluster:\n",
    "\n",
    "\n",
    "1. Navigate to the top-right of this notebook and click the drop-down menu to select your cluster. By default, the notebook will use **Serverless**.\n",
    "\n",
    "2. If your cluster is available, select it and continue to the next cell. If the cluster is not shown:\n",
    "\n",
    "   - Click **More** in the drop-down.\n",
    "\n",
    "   - In the **Attach to an existing compute resource** window, use the first drop-down to select your unique cluster.\n",
    "\n",
    "**NOTE:** If your cluster has terminated, you might need to restart it in order to select it. To do this:\n",
    "\n",
    "1. Right-click on **Compute** in the left navigation pane and select *Open in new tab*.\n",
    "\n",
    "2. Find the triangle icon to the right of your compute cluster name and click it.\n",
    "\n",
    "3. Wait a few minutes for the cluster to start.\n",
    "\n",
    "4. Once the cluster is running, complete the steps above to select your cluster."
   ]
  },
  {
   "cell_type": "markdown",
   "metadata": {
    "application/vnd.databricks.v1+cell": {
     "cellMetadata": {},
     "inputWidgets": {},
     "nuid": "573cae0d-7658-4399-90ca-3e3fa857376a",
     "showTitle": false,
     "tableResultSettingsMap": {},
     "title": ""
    }
   },
   "source": [
    "\n",
    "## A. Classroom Setup\n",
    "\n",
    "Run the following cell to configure your working environment for this notebook.\n",
    "\n",
    "**NOTE:** The `DA` object is only used in Databricks Academy courses and is not available outside of these courses. It will dynamically reference the information needed to run the course in the lab environment."
   ]
  },
  {
   "cell_type": "code",
   "execution_count": 0,
   "metadata": {
    "application/vnd.databricks.v1+cell": {
     "cellMetadata": {
      "byteLimit": 2048000,
      "implicitDf": true,
      "rowLimit": 10000
     },
     "inputWidgets": {},
     "nuid": "c425a7ef-0cd1-4d71-94e9-b7f762afebef",
     "showTitle": false,
     "tableResultSettingsMap": {},
     "title": ""
    }
   },
   "outputs": [
    {
     "output_type": "stream",
     "name": "stdout",
     "output_type": "stream",
     "text": [
      "\u001B[43mNote: you may need to restart the kernel using %restart_python or dbutils.library.restartPython() to use updated packages.\u001B[0m\n"
     ]
    },
    {
     "output_type": "display_data",
     "data": {
      "text/html": [
       "<style scoped>\n",
       "  .table-result-container {\n",
       "    max-height: 300px;\n",
       "    overflow: auto;\n",
       "  }\n",
       "  table, th, td {\n",
       "    border: 1px solid black;\n",
       "    border-collapse: collapse;\n",
       "  }\n",
       "  th, td {\n",
       "    padding: 5px;\n",
       "  }\n",
       "  th {\n",
       "    text-align: left;\n",
       "  }\n",
       "</style><div class='table-result-container'><table class='table-result'><thead style='background-color: white'><tr></tr></thead><tbody></tbody></table></div>"
      ]
     },
     "metadata": {
      "application/vnd.databricks.v1+output": {
       "addedWidgets": {},
       "aggData": [],
       "aggError": "",
       "aggOverflow": false,
       "aggSchema": [],
       "aggSeriesLimitReached": false,
       "aggType": "",
       "arguments": {},
       "columnCustomDisplayInfos": {},
       "data": [],
       "datasetInfos": [],
       "dbfsResultPath": null,
       "isJsonSchema": true,
       "metadata": {},
       "overflow": false,
       "plotOptions": {
        "customPlotOptions": {},
        "displayType": "table",
        "pivotAggregation": null,
        "pivotColumns": null,
        "xColumns": null,
        "yColumns": null
       },
       "removedWidgets": [],
       "schema": [],
       "type": "table"
      }
     },
     "output_type": "display_data"
    },
    {
     "output_type": "stream",
     "name": "stdout",
     "output_type": "stream",
     "text": [
      "----------------------------------------------------------------------------------------\nDirectory /Volumes/dbacademy/ops/labuser10983516_1758981184@vocareum_com/csv_demo_files already exists. No action taken.\nDirectory /Volumes/dbacademy/ops/labuser10983516_1758981184@vocareum_com/json_demo_files already exists. No action taken.\nDirectory /Volumes/dbacademy/ops/labuser10983516_1758981184@vocareum_com/xml_demo_files already exists. No action taken.\n----------------------------------------------------------------------------------------\n\n"
     ]
    },
    {
     "output_type": "display_data",
     "data": {
      "text/html": [
       "<style scoped>\n",
       "  .table-result-container {\n",
       "    max-height: 300px;\n",
       "    overflow: auto;\n",
       "  }\n",
       "  table, th, td {\n",
       "    border: 1px solid black;\n",
       "    border-collapse: collapse;\n",
       "  }\n",
       "  th, td {\n",
       "    padding: 5px;\n",
       "  }\n",
       "  th {\n",
       "    text-align: left;\n",
       "  }\n",
       "</style><div class='table-result-container'><table class='table-result'><thead style='background-color: white'><tr></tr></thead><tbody></tbody></table></div>"
      ]
     },
     "metadata": {
      "application/vnd.databricks.v1+output": {
       "addedWidgets": {},
       "aggData": [],
       "aggError": "",
       "aggOverflow": false,
       "aggSchema": [],
       "aggSeriesLimitReached": false,
       "aggType": "",
       "arguments": {},
       "columnCustomDisplayInfos": {},
       "data": [],
       "datasetInfos": [],
       "dbfsResultPath": null,
       "isJsonSchema": true,
       "metadata": {},
       "overflow": false,
       "plotOptions": {
        "customPlotOptions": {},
        "displayType": "table",
        "pivotAggregation": null,
        "pivotColumns": null,
        "xColumns": null,
        "yColumns": null
       },
       "removedWidgets": [],
       "schema": [],
       "type": "table"
      }
     },
     "output_type": "display_data"
    },
    {
     "output_type": "stream",
     "name": "stdout",
     "output_type": "stream",
     "text": [
      "Generated file: /Volumes/dbacademy/ops/labuser10983516_1758981184@vocareum_com/json_demo_files/lab_kafka_events.json\n"
     ]
    },
    {
     "output_type": "stream",
     "name": "stdout",
     "output_type": "stream",
     "text": [
      "File written with 1 malformed 'timestamp' at position 40: /Volumes/dbacademy/ops/labuser10983516_1758981184@vocareum_com/json_demo_files/lab_kafka_events_challenge.json\n"
     ]
    },
    {
     "output_type": "display_data",
     "data": {
      "text/html": [
       "<style scoped>\n",
       "  .table-result-container {\n",
       "    max-height: 300px;\n",
       "    overflow: auto;\n",
       "  }\n",
       "  table, th, td {\n",
       "    border: 1px solid black;\n",
       "    border-collapse: collapse;\n",
       "  }\n",
       "  th, td {\n",
       "    padding: 5px;\n",
       "  }\n",
       "  th {\n",
       "    text-align: left;\n",
       "  }\n",
       "</style><div class='table-result-container'><table class='table-result'><thead style='background-color: white'><tr></tr></thead><tbody></tbody></table></div>"
      ]
     },
     "metadata": {
      "application/vnd.databricks.v1+output": {
       "addedWidgets": {},
       "aggData": [],
       "aggError": "",
       "aggOverflow": false,
       "aggSchema": [],
       "aggSeriesLimitReached": false,
       "aggType": "",
       "arguments": {},
       "columnCustomDisplayInfos": {},
       "data": [],
       "datasetInfos": [],
       "dbfsResultPath": null,
       "isJsonSchema": true,
       "metadata": {},
       "overflow": false,
       "plotOptions": {
        "customPlotOptions": {},
        "displayType": "table",
        "pivotAggregation": null,
        "pivotColumns": null,
        "xColumns": null,
        "yColumns": null
       },
       "removedWidgets": [],
       "schema": [],
       "type": "table"
      }
     },
     "output_type": "display_data"
    }
   ],
   "source": [
    "%run ./Includes/Classroom-Setup-07L"
   ]
  },
  {
   "cell_type": "markdown",
   "metadata": {
    "application/vnd.databricks.v1+cell": {
     "cellMetadata": {},
     "inputWidgets": {},
     "nuid": "e4ee184a-829a-4860-8b56-7122a063fc1b",
     "showTitle": false,
     "tableResultSettingsMap": {},
     "title": ""
    }
   },
   "source": [
    "Run the cell below to view your default catalog and schema. Notice that your default catalog is **dbacademy** and your default schema is your unique **labuser** schema.\n",
    "\n",
    "**NOTE:** The default catalog and schema are pre-configured for you to avoid the need to specify the three-level name when writing your tables (i.e., catalog.schema.table)."
   ]
  },
  {
   "cell_type": "code",
   "execution_count": 0,
   "metadata": {
    "application/vnd.databricks.v1+cell": {
     "cellMetadata": {},
     "inputWidgets": {},
     "nuid": "8086ae15-12b8-4d48-b62e-ac2f3090cbb2",
     "showTitle": false,
     "tableResultSettingsMap": {},
     "title": ""
    }
   },
   "outputs": [],
   "source": [
    "SELECT current_catalog(), current_schema()"
   ]
  },
  {
   "cell_type": "markdown",
   "metadata": {
    "application/vnd.databricks.v1+cell": {
     "cellMetadata": {},
     "inputWidgets": {},
     "nuid": "3f8a5943-7526-492c-9a53-7200a79193d0",
     "showTitle": false,
     "tableResultSettingsMap": {},
     "title": ""
    }
   },
   "source": [
    "## B. Lab - JSON Ingestion\n",
    "**Scenario:** You are working with your data team on ingesting a JSON file into Databricks. Your job is to ingest the JSON file as is into a bronze table, then create a second bronze table that flattens the JSON formatted string column in the raw bronze table for downstream processing."
   ]
  },
  {
   "cell_type": "markdown",
   "metadata": {
    "application/vnd.databricks.v1+cell": {
     "cellMetadata": {},
     "inputWidgets": {},
     "nuid": "9e206713-f7fe-4f9a-b8f6-c6004d3896cf",
     "showTitle": false,
     "tableResultSettingsMap": {},
     "title": ""
    }
   },
   "source": [
    "### B1. Inspect the Dataset"
   ]
  },
  {
   "cell_type": "markdown",
   "metadata": {
    "application/vnd.databricks.v1+cell": {
     "cellMetadata": {},
     "inputWidgets": {},
     "nuid": "510d1488-d454-4af7-89f3-b9ca24b7d7c7",
     "showTitle": false,
     "tableResultSettingsMap": {},
     "title": ""
    }
   },
   "source": [
    "1. In the cell below, view the value of the Python variable `DA.paths.working_dir`. This variable will reference your **dbacademy.ops.labuser** volume, as each user has a different source volume. This variable is created within the classroom setup script to dynamically reference your unique volume.\n",
    "\n",
    "   Run the cell and review the results. You’ll notice that the `DA.paths.working_dir` variable points to your `/Volumes/dbacademy/ops/labuser` volume.\n",
    "\n",
    "**Note:** Instead of using the `DA.paths.working_dir` variable, you could also specify the path name directly by right clicking on your volume and selecting **Copy volume path**."
   ]
  },
  {
   "cell_type": "code",
   "execution_count": 0,
   "metadata": {
    "application/vnd.databricks.v1+cell": {
     "cellMetadata": {
      "byteLimit": 2048000,
      "rowLimit": 10000
     },
     "inputWidgets": {},
     "nuid": "b23d24f6-17d3-46af-8c05-171864f9c870",
     "showTitle": false,
     "tableResultSettingsMap": {},
     "title": ""
    }
   },
   "outputs": [
    {
     "output_type": "stream",
     "name": "stdout",
     "output_type": "stream",
     "text": [
      "/Volumes/dbacademy/ops/labuser10983516_1758981184@vocareum_com\n"
     ]
    }
   ],
   "source": [
    "%python\n",
    "print(DA.paths.working_dir)"
   ]
  },
  {
   "cell_type": "markdown",
   "metadata": {
    "application/vnd.databricks.v1+cell": {
     "cellMetadata": {},
     "inputWidgets": {},
     "nuid": "978b059e-56bd-4b69-a5ba-d326314f816e",
     "showTitle": false,
     "tableResultSettingsMap": {},
     "title": ""
    }
   },
   "source": [
    "Run the cell to view the data in the `/Volumes/dbacademy/ops/your-labuser-name/json_demo_files/lab_kafka_events.json` file in the location from above."
   ]
  },
  {
   "cell_type": "code",
   "execution_count": 0,
   "metadata": {
    "application/vnd.databricks.v1+cell": {
     "cellMetadata": {
      "byteLimit": 2048000,
      "rowLimit": 10000
     },
     "inputWidgets": {},
     "nuid": "fc68c340-3eaa-47e4-b26d-067fc994af6d",
     "showTitle": false,
     "tableResultSettingsMap": {},
     "title": ""
    }
   },
   "outputs": [
    {
     "output_type": "display_data",
     "data": {
      "text/html": [
       "<style scoped>\n",
       "  .table-result-container {\n",
       "    max-height: 300px;\n",
       "    overflow: auto;\n",
       "  }\n",
       "  table, th, td {\n",
       "    border: 1px solid black;\n",
       "    border-collapse: collapse;\n",
       "  }\n",
       "  th, td {\n",
       "    padding: 5px;\n",
       "  }\n",
       "  th {\n",
       "    text-align: left;\n",
       "  }\n",
       "</style><div class='table-result-container'><table class='table-result'><thead style='background-color: white'><tr><th>key</th><th>timestamp</th><th>value</th></tr></thead><tbody><tr><td>event_0</td><td>1.758982153059221E9</td><td>eyJ1c2VyX2lkIjogInVzZXJfNDgzNSIsICJldmVudF90eXBlIjogImNsaWNrIiwgImV2ZW50X3RpbWVzdGFtcCI6ICIyMDI1LTA5LTI3VDE0OjA5OjEzLjA1OTE2OSIsICJpdGVtcyI6IFt7Iml0ZW1faWQiOiAiaXRlbV84OTMiLCAicXVhbnRpdHkiOiAzLCAicHJpY2VfdXNkIjogMTguMjl9LCB7Iml0ZW1faWQiOiAiaXRlbV80MjUiLCAicXVhbnRpdHkiOiAyLCAicHJpY2VfdXNkIjogMTkuODV9LCB7Iml0ZW1faWQiOiAiaXRlbV82MzciLCAicXVhbnRpdHkiOiAxLCAicHJpY2VfdXNkIjogNzIuNTN9XX0=</td></tr><tr><td>event_1</td><td>1.758982153059242E9</td><td>eyJ1c2VyX2lkIjogInVzZXJfMTMxNSIsICJldmVudF90eXBlIjogInB1cmNoYXNlIiwgImV2ZW50X3RpbWVzdGFtcCI6ICIyMDI1LTA5LTI3VDE0OjA5OjEzLjA1OTIyNiIsICJpdGVtcyI6IFt7Iml0ZW1faWQiOiAiaXRlbV83NjYiLCAicXVhbnRpdHkiOiA0LCAicHJpY2VfdXNkIjogNTMuOTF9XX0=</td></tr><tr><td>event_2</td><td>1.758982153059263E9</td><td>eyJ1c2VyX2lkIjogInVzZXJfNDU0NSIsICJldmVudF90eXBlIjogInB1cmNoYXNlIiwgImV2ZW50X3RpbWVzdGFtcCI6ICIyMDI1LTA5LTI3VDE0OjA5OjEzLjA1OTI0NSIsICJpdGVtcyI6IFt7Iml0ZW1faWQiOiAiaXRlbV82MDEiLCAicXVhbnRpdHkiOiAxLCAicHJpY2VfdXNkIjogNDIuNjV9LCB7Iml0ZW1faWQiOiAiaXRlbV82MjQiLCAicXVhbnRpdHkiOiA1LCAicHJpY2VfdXNkIjogMjEuNn0sIHsiaXRlbV9pZCI6ICJpdGVtXzgwMCIsICJxdWFudGl0eSI6IDIsICJwcmljZV91c2QiOiA4NS4xMX1dfQ==</td></tr><tr><td>event_3</td><td>1.758982153059278E9</td><td>eyJ1c2VyX2lkIjogInVzZXJfNDg5NiIsICJldmVudF90eXBlIjogInB1cmNoYXNlIiwgImV2ZW50X3RpbWVzdGFtcCI6ICIyMDI1LTA5LTI3VDE0OjA5OjEzLjA1OTI2NSIsICJpdGVtcyI6IFt7Iml0ZW1faWQiOiAiaXRlbV84MTYiLCAicXVhbnRpdHkiOiA1LCAicHJpY2VfdXNkIjogNTQuODh9LCB7Iml0ZW1faWQiOiAiaXRlbV80ODUiLCAicXVhbnRpdHkiOiAzLCAicHJpY2VfdXNkIjogMjguNTV9XX0=</td></tr><tr><td>event_4</td><td>1.758982153059304E9</td><td>eyJ1c2VyX2lkIjogInVzZXJfMjAwOSIsICJldmVudF90eXBlIjogImNsaWNrIiwgImV2ZW50X3RpbWVzdGFtcCI6ICIyMDI1LTA5LTI3VDE0OjA5OjEzLjA1OTI4MCIsICJpdGVtcyI6IFt7Iml0ZW1faWQiOiAiaXRlbV84MTEiLCAicXVhbnRpdHkiOiAxLCAicHJpY2VfdXNkIjogOTcuMjl9LCB7Iml0ZW1faWQiOiAiaXRlbV8xMDciLCAicXVhbnRpdHkiOiA0LCAicHJpY2VfdXNkIjogNTIuMzF9LCB7Iml0ZW1faWQiOiAiaXRlbV8yMDUiLCAicXVhbnRpdHkiOiAyLCAicHJpY2VfdXNkIjogOTIuNTh9XX0=</td></tr><tr><td>event_5</td><td>1.758982153059322E9</td><td>eyJ1c2VyX2lkIjogInVzZXJfNjM3MSIsICJldmVudF90eXBlIjogImNsaWNrIiwgImV2ZW50X3RpbWVzdGFtcCI6ICIyMDI1LTA5LTI3VDE0OjA5OjEzLjA1OTMwNyIsICJpdGVtcyI6IFt7Iml0ZW1faWQiOiAiaXRlbV8yNDAiLCAicXVhbnRpdHkiOiAxLCAicHJpY2VfdXNkIjogMTEuMjh9LCB7Iml0ZW1faWQiOiAiaXRlbV8xNzkiLCAicXVhbnRpdHkiOiA1LCAicHJpY2VfdXNkIjogODUuNjZ9LCB7Iml0ZW1faWQiOiAiaXRlbV80NjciLCAicXVhbnRpdHkiOiA0LCAicHJpY2VfdXNkIjogNDIuMTF9XX0=</td></tr><tr><td>event_6</td><td>1.758982153059335E9</td><td>eyJ1c2VyX2lkIjogInVzZXJfNDAzNCIsICJldmVudF90eXBlIjogInZpZXciLCAiZXZlbnRfdGltZXN0YW1wIjogIjIwMjUtMDktMjdUMTQ6MDk6MTMuMDU5MzI0IiwgIml0ZW1zIjogW3siaXRlbV9pZCI6ICJpdGVtXzM3NiIsICJxdWFudGl0eSI6IDQsICJwcmljZV91c2QiOiAyMi4yM30sIHsiaXRlbV9pZCI6ICJpdGVtXzg2MSIsICJxdWFudGl0eSI6IDEsICJwcmljZV91c2QiOiAzOS40Mn1dfQ==</td></tr><tr><td>event_7</td><td>1.758982153059346E9</td><td>eyJ1c2VyX2lkIjogInVzZXJfMTA4NSIsICJldmVudF90eXBlIjogInZpZXciLCAiZXZlbnRfdGltZXN0YW1wIjogIjIwMjUtMDktMjdUMTQ6MDk6MTMuMDU5MzM3IiwgIml0ZW1zIjogW3siaXRlbV9pZCI6ICJpdGVtXzYyMCIsICJxdWFudGl0eSI6IDIsICJwcmljZV91c2QiOiAyNC42OH1dfQ==</td></tr><tr><td>event_8</td><td>1.758982153059356E9</td><td>eyJ1c2VyX2lkIjogInVzZXJfNDU3MiIsICJldmVudF90eXBlIjogInZpZXciLCAiZXZlbnRfdGltZXN0YW1wIjogIjIwMjUtMDktMjdUMTQ6MDk6MTMuMDU5MzQ4IiwgIml0ZW1zIjogW3siaXRlbV9pZCI6ICJpdGVtXzkwNiIsICJxdWFudGl0eSI6IDMsICJwcmljZV91c2QiOiA1Ni4yfV19</td></tr><tr><td>event_9</td><td>1.75898215305937E9</td><td>eyJ1c2VyX2lkIjogInVzZXJfOTQ3NyIsICJldmVudF90eXBlIjogInZpZXciLCAiZXZlbnRfdGltZXN0YW1wIjogIjIwMjUtMDktMjdUMTQ6MDk6MTMuMDU5MzU4IiwgIml0ZW1zIjogW3siaXRlbV9pZCI6ICJpdGVtXzgwOSIsICJxdWFudGl0eSI6IDEsICJwcmljZV91c2QiOiA1Mi45fSwgeyJpdGVtX2lkIjogIml0ZW1fNDkzIiwgInF1YW50aXR5IjogNCwgInByaWNlX3VzZCI6IDMyLjY1fV19</td></tr><tr><td>event_10</td><td>1.758982153059386E9</td><td>eyJ1c2VyX2lkIjogInVzZXJfNDg4NCIsICJldmVudF90eXBlIjogInB1cmNoYXNlIiwgImV2ZW50X3RpbWVzdGFtcCI6ICIyMDI1LTA5LTI3VDE0OjA5OjEzLjA1OTM3MiIsICJpdGVtcyI6IFt7Iml0ZW1faWQiOiAiaXRlbV8yNzMiLCAicXVhbnRpdHkiOiAzLCAicHJpY2VfdXNkIjogNDUuNjZ9LCB7Iml0ZW1faWQiOiAiaXRlbV8xNjEiLCAicXVhbnRpdHkiOiAzLCAicHJpY2VfdXNkIjogOTcuNn0sIHsiaXRlbV9pZCI6ICJpdGVtXzk5OSIsICJxdWFudGl0eSI6IDEsICJwcmljZV91c2QiOiA0MS4zNX1dfQ==</td></tr><tr><td>event_11</td><td>1.758982153059402E9</td><td>eyJ1c2VyX2lkIjogInVzZXJfNTM1NiIsICJldmVudF90eXBlIjogImNsaWNrIiwgImV2ZW50X3RpbWVzdGFtcCI6ICIyMDI1LTA5LTI3VDE0OjA5OjEzLjA1OTM4OCIsICJpdGVtcyI6IFt7Iml0ZW1faWQiOiAiaXRlbV85NjciLCAicXVhbnRpdHkiOiAyLCAicHJpY2VfdXNkIjogNzUuMn0sIHsiaXRlbV9pZCI6ICJpdGVtXzQ2MyIsICJxdWFudGl0eSI6IDQsICJwcmljZV91c2QiOiAzOC40OH0sIHsiaXRlbV9pZCI6ICJpdGVtXzQzNSIsICJxdWFudGl0eSI6IDEsICJwcmljZV91c2QiOiA0MC41OX1dfQ==</td></tr><tr><td>event_12</td><td>1.758982153059415E9</td><td>eyJ1c2VyX2lkIjogInVzZXJfNzUxNSIsICJldmVudF90eXBlIjogInZpZXciLCAiZXZlbnRfdGltZXN0YW1wIjogIjIwMjUtMDktMjdUMTQ6MDk6MTMuMDU5NDA0IiwgIml0ZW1zIjogW3siaXRlbV9pZCI6ICJpdGVtXzgwNCIsICJxdWFudGl0eSI6IDIsICJwcmljZV91c2QiOiA3OC43Nn0sIHsiaXRlbV9pZCI6ICJpdGVtXzY0MSIsICJxdWFudGl0eSI6IDQsICJwcmljZV91c2QiOiA2OS4zOX1dfQ==</td></tr><tr><td>event_13</td><td>1.758982153059426E9</td><td>eyJ1c2VyX2lkIjogInVzZXJfODI2NiIsICJldmVudF90eXBlIjogImNsaWNrIiwgImV2ZW50X3RpbWVzdGFtcCI6ICIyMDI1LTA5LTI3VDE0OjA5OjEzLjA1OTQxNyIsICJpdGVtcyI6IFt7Iml0ZW1faWQiOiAiaXRlbV84MzQiLCAicXVhbnRpdHkiOiAxLCAicHJpY2VfdXNkIjogMTAuMzR9XX0=</td></tr><tr><td>event_14</td><td>1.758982153059439E9</td><td>eyJ1c2VyX2lkIjogInVzZXJfMTE3OCIsICJldmVudF90eXBlIjogInB1cmNoYXNlIiwgImV2ZW50X3RpbWVzdGFtcCI6ICIyMDI1LTA5LTI3VDE0OjA5OjEzLjA1OTQyOCIsICJpdGVtcyI6IFt7Iml0ZW1faWQiOiAiaXRlbV84NTIiLCAicXVhbnRpdHkiOiA0LCAicHJpY2VfdXNkIjogOTAuNH0sIHsiaXRlbV9pZCI6ICJpdGVtXzI5NCIsICJxdWFudGl0eSI6IDUsICJwcmljZV91c2QiOiA4Ni40fV19</td></tr><tr><td>event_15</td><td>1.758982153059449E9</td><td>eyJ1c2VyX2lkIjogInVzZXJfMjA3MCIsICJldmVudF90eXBlIjogImNsaWNrIiwgImV2ZW50X3RpbWVzdGFtcCI6ICIyMDI1LTA5LTI3VDE0OjA5OjEzLjA1OTQ0MSIsICJpdGVtcyI6IFt7Iml0ZW1faWQiOiAiaXRlbV81MTgiLCAicXVhbnRpdHkiOiA0LCAicHJpY2VfdXNkIjogMTguNjV9XX0=</td></tr><tr><td>event_16</td><td>1.758982153059462E9</td><td>eyJ1c2VyX2lkIjogInVzZXJfNjgwNCIsICJldmVudF90eXBlIjogInZpZXciLCAiZXZlbnRfdGltZXN0YW1wIjogIjIwMjUtMDktMjdUMTQ6MDk6MTMuMDU5NDUxIiwgIml0ZW1zIjogW3siaXRlbV9pZCI6ICJpdGVtXzUxNSIsICJxdWFudGl0eSI6IDIsICJwcmljZV91c2QiOiA5My43NX0sIHsiaXRlbV9pZCI6ICJpdGVtXzExOCIsICJxdWFudGl0eSI6IDQsICJwcmljZV91c2QiOiA2NS4yfV19</td></tr><tr><td>event_17</td><td>1.758982153059478E9</td><td>eyJ1c2VyX2lkIjogInVzZXJfMTYxNyIsICJldmVudF90eXBlIjogInZpZXciLCAiZXZlbnRfdGltZXN0YW1wIjogIjIwMjUtMDktMjdUMTQ6MDk6MTMuMDU5NDY0IiwgIml0ZW1zIjogW3siaXRlbV9pZCI6ICJpdGVtXzcxOSIsICJxdWFudGl0eSI6IDMsICJwcmljZV91c2QiOiAzNy4wM30sIHsiaXRlbV9pZCI6ICJpdGVtXzIwNyIsICJxdWFudGl0eSI6IDQsICJwcmljZV91c2QiOiA3NC42OH0sIHsiaXRlbV9pZCI6ICJpdGVtXzQ4OCIsICJxdWFudGl0eSI6IDUsICJwcmljZV91c2QiOiAzNC4xNn1dfQ==</td></tr><tr><td>event_18</td><td>1.758982153059493E9</td><td>eyJ1c2VyX2lkIjogInVzZXJfMzU5MiIsICJldmVudF90eXBlIjogImNsaWNrIiwgImV2ZW50X3RpbWVzdGFtcCI6ICIyMDI1LTA5LTI3VDE0OjA5OjEzLjA1OTQ4MCIsICJpdGVtcyI6IFt7Iml0ZW1faWQiOiAiaXRlbV82MDYiLCAicXVhbnRpdHkiOiAzLCAicHJpY2VfdXNkIjogMzkuOTl9LCB7Iml0ZW1faWQiOiAiaXRlbV84NjEiLCAicXVhbnRpdHkiOiAyLCAicHJpY2VfdXNkIjogNzAuMjF9LCB7Iml0ZW1faWQiOiAiaXRlbV84ODQiLCAicXVhbnRpdHkiOiA1LCAicHJpY2VfdXNkIjogOTAuMjJ9XX0=</td></tr><tr><td>event_19</td><td>1.758982153059504E9</td><td>eyJ1c2VyX2lkIjogInVzZXJfNjU1OCIsICJldmVudF90eXBlIjogInB1cmNoYXNlIiwgImV2ZW50X3RpbWVzdGFtcCI6ICIyMDI1LTA5LTI3VDE0OjA5OjEzLjA1OTQ5NSIsICJpdGVtcyI6IFt7Iml0ZW1faWQiOiAiaXRlbV8yNDciLCAicXVhbnRpdHkiOiA0LCAicHJpY2VfdXNkIjogNzMuOH1dfQ==</td></tr><tr><td>event_20</td><td>1.758982153059519E9</td><td>eyJ1c2VyX2lkIjogInVzZXJfODkzMCIsICJldmVudF90eXBlIjogImNsaWNrIiwgImV2ZW50X3RpbWVzdGFtcCI6ICIyMDI1LTA5LTI3VDE0OjA5OjEzLjA1OTUwNSIsICJpdGVtcyI6IFt7Iml0ZW1faWQiOiAiaXRlbV8xMDkiLCAicXVhbnRpdHkiOiA0LCAicHJpY2VfdXNkIjogNDkuMjF9LCB7Iml0ZW1faWQiOiAiaXRlbV81NTgiLCAicXVhbnRpdHkiOiA0LCAicHJpY2VfdXNkIjogNzUuODR9LCB7Iml0ZW1faWQiOiAiaXRlbV84MTgiLCAicXVhbnRpdHkiOiAxLCAicHJpY2VfdXNkIjogODcuMDV9XX0=</td></tr><tr><td>event_21</td><td>1.758982153059538E9</td><td>eyJ1c2VyX2lkIjogInVzZXJfNjMwMyIsICJldmVudF90eXBlIjogInZpZXciLCAiZXZlbnRfdGltZXN0YW1wIjogIjIwMjUtMDktMjdUMTQ6MDk6MTMuMDU5NTIxIiwgIml0ZW1zIjogW3siaXRlbV9pZCI6ICJpdGVtXzY5MSIsICJxdWFudGl0eSI6IDQsICJwcmljZV91c2QiOiA4NC43NH0sIHsiaXRlbV9pZCI6ICJpdGVtXzUzMCIsICJxdWFudGl0eSI6IDEsICJwcmljZV91c2QiOiA0MS44NH1dfQ==</td></tr><tr><td>event_22</td><td>1.758982153059566E9</td><td>eyJ1c2VyX2lkIjogInVzZXJfMjI1MyIsICJldmVudF90eXBlIjogInB1cmNoYXNlIiwgImV2ZW50X3RpbWVzdGFtcCI6ICIyMDI1LTA5LTI3VDE0OjA5OjEzLjA1OTU0MiIsICJpdGVtcyI6IFt7Iml0ZW1faWQiOiAiaXRlbV8zMTMiLCAicXVhbnRpdHkiOiAxLCAicHJpY2VfdXNkIjogNjAuMzF9LCB7Iml0ZW1faWQiOiAiaXRlbV80MTYiLCAicXVhbnRpdHkiOiAxLCAicHJpY2VfdXNkIjogMTQuNDR9XX0=</td></tr><tr><td>event_23</td><td>1.758982153059589E9</td><td>eyJ1c2VyX2lkIjogInVzZXJfMzM3NyIsICJldmVudF90eXBlIjogInZpZXciLCAiZXZlbnRfdGltZXN0YW1wIjogIjIwMjUtMDktMjdUMTQ6MDk6MTMuMDU5NTY5IiwgIml0ZW1zIjogW3siaXRlbV9pZCI6ICJpdGVtXzg1MyIsICJxdWFudGl0eSI6IDEsICJwcmljZV91c2QiOiAxOS44Nn0sIHsiaXRlbV9pZCI6ICJpdGVtXzg4MyIsICJxdWFudGl0eSI6IDEsICJwcmljZV91c2QiOiAyNS4xfV19</td></tr><tr><td>event_24</td><td>1.758982153059617E9</td><td>eyJ1c2VyX2lkIjogInVzZXJfNjgzMyIsICJldmVudF90eXBlIjogImNsaWNrIiwgImV2ZW50X3RpbWVzdGFtcCI6ICIyMDI1LTA5LTI3VDE0OjA5OjEzLjA1OTU5MiIsICJpdGVtcyI6IFt7Iml0ZW1faWQiOiAiaXRlbV85MzEiLCAicXVhbnRpdHkiOiA0LCAicHJpY2VfdXNkIjogOTkuMTJ9LCB7Iml0ZW1faWQiOiAiaXRlbV82NTkiLCAicXVhbnRpdHkiOiAzLCAicHJpY2VfdXNkIjogNDEuMjF9LCB7Iml0ZW1faWQiOiAiaXRlbV84MjAiLCAicXVhbnRpdHkiOiA1LCAicHJpY2VfdXNkIjogNTUuODl9XX0=</td></tr><tr><td>event_25</td><td>1.758982153059697E9</td><td>eyJ1c2VyX2lkIjogInVzZXJfOTI4OSIsICJldmVudF90eXBlIjogImNsaWNrIiwgImV2ZW50X3RpbWVzdGFtcCI6ICIyMDI1LTA5LTI3VDE0OjA5OjEzLjA1OTYyMSIsICJpdGVtcyI6IFt7Iml0ZW1faWQiOiAiaXRlbV81MzAiLCAicXVhbnRpdHkiOiAxLCAicHJpY2VfdXNkIjogOTkuMn0sIHsiaXRlbV9pZCI6ICJpdGVtXzE2OCIsICJxdWFudGl0eSI6IDMsICJwcmljZV91c2QiOiA1NS45NH0sIHsiaXRlbV9pZCI6ICJpdGVtXzM1NSIsICJxdWFudGl0eSI6IDMsICJwcmljZV91c2QiOiA1Ni4xNH1dfQ==</td></tr><tr><td>event_26</td><td>1.758982153059713E9</td><td>eyJ1c2VyX2lkIjogInVzZXJfNTExMyIsICJldmVudF90eXBlIjogInZpZXciLCAiZXZlbnRfdGltZXN0YW1wIjogIjIwMjUtMDktMjdUMTQ6MDk6MTMuMDU5NzAwIiwgIml0ZW1zIjogW3siaXRlbV9pZCI6ICJpdGVtXzMxMCIsICJxdWFudGl0eSI6IDIsICJwcmljZV91c2QiOiA3NC4yNX0sIHsiaXRlbV9pZCI6ICJpdGVtXzY4NCIsICJxdWFudGl0eSI6IDIsICJwcmljZV91c2QiOiA3NS42fV19</td></tr><tr><td>event_27</td><td>1.758982153059727E9</td><td>eyJ1c2VyX2lkIjogInVzZXJfODc4MSIsICJldmVudF90eXBlIjogImNsaWNrIiwgImV2ZW50X3RpbWVzdGFtcCI6ICIyMDI1LTA5LTI3VDE0OjA5OjEzLjA1OTcxNSIsICJpdGVtcyI6IFt7Iml0ZW1faWQiOiAiaXRlbV82NzAiLCAicXVhbnRpdHkiOiA0LCAicHJpY2VfdXNkIjogMjEuNzZ9LCB7Iml0ZW1faWQiOiAiaXRlbV84MzYiLCAicXVhbnRpdHkiOiA1LCAicHJpY2VfdXNkIjogNDguNjN9XX0=</td></tr><tr><td>event_28</td><td>1.758982153059739E9</td><td>eyJ1c2VyX2lkIjogInVzZXJfNzcwNyIsICJldmVudF90eXBlIjogInZpZXciLCAiZXZlbnRfdGltZXN0YW1wIjogIjIwMjUtMDktMjdUMTQ6MDk6MTMuMDU5NzI5IiwgIml0ZW1zIjogW3siaXRlbV9pZCI6ICJpdGVtXzkwNCIsICJxdWFudGl0eSI6IDUsICJwcmljZV91c2QiOiAzMy4wN30sIHsiaXRlbV9pZCI6ICJpdGVtXzc5MiIsICJxdWFudGl0eSI6IDIsICJwcmljZV91c2QiOiAyMC4zNX1dfQ==</td></tr><tr><td>event_29</td><td>1.758982153059752E9</td><td>eyJ1c2VyX2lkIjogInVzZXJfNjcxNiIsICJldmVudF90eXBlIjogImNsaWNrIiwgImV2ZW50X3RpbWVzdGFtcCI6ICIyMDI1LTA5LTI3VDE0OjA5OjEzLjA1OTc0MiIsICJpdGVtcyI6IFt7Iml0ZW1faWQiOiAiaXRlbV8xNTciLCAicXVhbnRpdHkiOiA1LCAicHJpY2VfdXNkIjogNjcuNjF9LCB7Iml0ZW1faWQiOiAiaXRlbV8zMzAiLCAicXVhbnRpdHkiOiAyLCAicHJpY2VfdXNkIjogODkuNDR9XX0=</td></tr><tr><td>event_30</td><td>1.758982153059765E9</td><td>eyJ1c2VyX2lkIjogInVzZXJfOTczMiIsICJldmVudF90eXBlIjogInB1cmNoYXNlIiwgImV2ZW50X3RpbWVzdGFtcCI6ICIyMDI1LTA5LTI3VDE0OjA5OjEzLjA1OTc1NCIsICJpdGVtcyI6IFt7Iml0ZW1faWQiOiAiaXRlbV80OTEiLCAicXVhbnRpdHkiOiAyLCAicHJpY2VfdXNkIjogMzYuMjN9LCB7Iml0ZW1faWQiOiAiaXRlbV80NTQiLCAicXVhbnRpdHkiOiAyLCAicHJpY2VfdXNkIjogODUuNzZ9XX0=</td></tr><tr><td>event_31</td><td>1.758982153059781E9</td><td>eyJ1c2VyX2lkIjogInVzZXJfNTQ1OCIsICJldmVudF90eXBlIjogInB1cmNoYXNlIiwgImV2ZW50X3RpbWVzdGFtcCI6ICIyMDI1LTA5LTI3VDE0OjA5OjEzLjA1OTc2NyIsICJpdGVtcyI6IFt7Iml0ZW1faWQiOiAiaXRlbV84NjciLCAicXVhbnRpdHkiOiAxLCAicHJpY2VfdXNkIjogODguOTR9LCB7Iml0ZW1faWQiOiAiaXRlbV80OTciLCAicXVhbnRpdHkiOiAyLCAicHJpY2VfdXNkIjogNDYuMTF9LCB7Iml0ZW1faWQiOiAiaXRlbV84NDgiLCAicXVhbnRpdHkiOiAxLCAicHJpY2VfdXNkIjogMzcuMDN9XX0=</td></tr><tr><td>event_32</td><td>1.758982153059797E9</td><td>eyJ1c2VyX2lkIjogInVzZXJfNTI3MSIsICJldmVudF90eXBlIjogImNsaWNrIiwgImV2ZW50X3RpbWVzdGFtcCI6ICIyMDI1LTA5LTI3VDE0OjA5OjEzLjA1OTc4MyIsICJpdGVtcyI6IFt7Iml0ZW1faWQiOiAiaXRlbV85NzIiLCAicXVhbnRpdHkiOiA1LCAicHJpY2VfdXNkIjogNTEuNDZ9LCB7Iml0ZW1faWQiOiAiaXRlbV83NTgiLCAicXVhbnRpdHkiOiA1LCAicHJpY2VfdXNkIjogMTkuODF9LCB7Iml0ZW1faWQiOiAiaXRlbV8zMDQiLCAicXVhbnRpdHkiOiAxLCAicHJpY2VfdXNkIjogNDkuNDJ9XX0=</td></tr><tr><td>event_33</td><td>1.75898215305981E9</td><td>eyJ1c2VyX2lkIjogInVzZXJfMTg3NCIsICJldmVudF90eXBlIjogInB1cmNoYXNlIiwgImV2ZW50X3RpbWVzdGFtcCI6ICIyMDI1LTA5LTI3VDE0OjA5OjEzLjA1OTc5OSIsICJpdGVtcyI6IFt7Iml0ZW1faWQiOiAiaXRlbV8zOTgiLCAicXVhbnRpdHkiOiA1LCAicHJpY2VfdXNkIjogNTkuNDV9XX0=</td></tr><tr><td>event_34</td><td>1.758982153059833E9</td><td>eyJ1c2VyX2lkIjogInVzZXJfODIyOSIsICJldmVudF90eXBlIjogImNsaWNrIiwgImV2ZW50X3RpbWVzdGFtcCI6ICIyMDI1LTA5LTI3VDE0OjA5OjEzLjA1OTgxNCIsICJpdGVtcyI6IFt7Iml0ZW1faWQiOiAiaXRlbV8yMzgiLCAicXVhbnRpdHkiOiA1LCAicHJpY2VfdXNkIjogMjAuNTR9LCB7Iml0ZW1faWQiOiAiaXRlbV8yNDAiLCAicXVhbnRpdHkiOiAzLCAicHJpY2VfdXNkIjogMzYuMjl9XX0=</td></tr><tr><td>event_35</td><td>1.758982153059861E9</td><td>eyJ1c2VyX2lkIjogInVzZXJfNDcyNCIsICJldmVudF90eXBlIjogInB1cmNoYXNlIiwgImV2ZW50X3RpbWVzdGFtcCI6ICIyMDI1LTA5LTI3VDE0OjA5OjEzLjA1OTgzNSIsICJpdGVtcyI6IFt7Iml0ZW1faWQiOiAiaXRlbV81NDciLCAicXVhbnRpdHkiOiAxLCAicHJpY2VfdXNkIjogNDQuMTl9LCB7Iml0ZW1faWQiOiAiaXRlbV80MzYiLCAicXVhbnRpdHkiOiAzLCAicHJpY2VfdXNkIjogNzMuNH1dfQ==</td></tr><tr><td>event_36</td><td>1.758982153059875E9</td><td>eyJ1c2VyX2lkIjogInVzZXJfNDUzMyIsICJldmVudF90eXBlIjogInZpZXciLCAiZXZlbnRfdGltZXN0YW1wIjogIjIwMjUtMDktMjdUMTQ6MDk6MTMuMDU5ODY0IiwgIml0ZW1zIjogW3siaXRlbV9pZCI6ICJpdGVtXzI0NSIsICJxdWFudGl0eSI6IDMsICJwcmljZV91c2QiOiA0NC42NH1dfQ==</td></tr><tr><td>event_37</td><td>1.758982153059886E9</td><td>eyJ1c2VyX2lkIjogInVzZXJfMTU5MiIsICJldmVudF90eXBlIjogInB1cmNoYXNlIiwgImV2ZW50X3RpbWVzdGFtcCI6ICIyMDI1LTA5LTI3VDE0OjA5OjEzLjA1OTg3NyIsICJpdGVtcyI6IFt7Iml0ZW1faWQiOiAiaXRlbV80NjEiLCAicXVhbnRpdHkiOiAyLCAicHJpY2VfdXNkIjogNTQuNTN9XX0=</td></tr><tr><td>event_38</td><td>1.758982153059896E9</td><td>eyJ1c2VyX2lkIjogInVzZXJfODIwMCIsICJldmVudF90eXBlIjogImNsaWNrIiwgImV2ZW50X3RpbWVzdGFtcCI6ICIyMDI1LTA5LTI3VDE0OjA5OjEzLjA1OTg4OCIsICJpdGVtcyI6IFt7Iml0ZW1faWQiOiAiaXRlbV80ODEiLCAicXVhbnRpdHkiOiAyLCAicHJpY2VfdXNkIjogNTYuMTF9XX0=</td></tr><tr><td>event_39</td><td>1.758982153059913E9</td><td>eyJ1c2VyX2lkIjogInVzZXJfNzM3OCIsICJldmVudF90eXBlIjogInZpZXciLCAiZXZlbnRfdGltZXN0YW1wIjogIjIwMjUtMDktMjdUMTQ6MDk6MTMuMDU5ODk4IiwgIml0ZW1zIjogW3siaXRlbV9pZCI6ICJpdGVtXzQ1NCIsICJxdWFudGl0eSI6IDUsICJwcmljZV91c2QiOiA1Ni4yNH0sIHsiaXRlbV9pZCI6ICJpdGVtXzE1NyIsICJxdWFudGl0eSI6IDEsICJwcmljZV91c2QiOiA0MS41Nn0sIHsiaXRlbV9pZCI6ICJpdGVtXzU3MCIsICJxdWFudGl0eSI6IDQsICJwcmljZV91c2QiOiA0OC4wMX1dfQ==</td></tr><tr><td>event_40</td><td>1.758982153059929E9</td><td>eyJ1c2VyX2lkIjogInVzZXJfMTcyMSIsICJldmVudF90eXBlIjogInB1cmNoYXNlIiwgImV2ZW50X3RpbWVzdGFtcCI6ICIyMDI1LTA5LTI3VDE0OjA5OjEzLjA1OTkxNSIsICJpdGVtcyI6IFt7Iml0ZW1faWQiOiAiaXRlbV84NTIiLCAicXVhbnRpdHkiOiA0LCAicHJpY2VfdXNkIjogNjcuNzd9LCB7Iml0ZW1faWQiOiAiaXRlbV8xMDQiLCAicXVhbnRpdHkiOiAyLCAicHJpY2VfdXNkIjogNjYuMjR9LCB7Iml0ZW1faWQiOiAiaXRlbV82MTEiLCAicXVhbnRpdHkiOiAxLCAicHJpY2VfdXNkIjogMTUuNTR9XX0=</td></tr><tr><td>event_41</td><td>1.758982153059939E9</td><td>eyJ1c2VyX2lkIjogInVzZXJfMjE0MyIsICJldmVudF90eXBlIjogImNsaWNrIiwgImV2ZW50X3RpbWVzdGFtcCI6ICIyMDI1LTA5LTI3VDE0OjA5OjEzLjA1OTkzMSIsICJpdGVtcyI6IFt7Iml0ZW1faWQiOiAiaXRlbV80MjEiLCAicXVhbnRpdHkiOiA1LCAicHJpY2VfdXNkIjogNjkuNjJ9XX0=</td></tr><tr><td>event_42</td><td>1.758982153059955E9</td><td>eyJ1c2VyX2lkIjogInVzZXJfNTc0MSIsICJldmVudF90eXBlIjogInB1cmNoYXNlIiwgImV2ZW50X3RpbWVzdGFtcCI6ICIyMDI1LTA5LTI3VDE0OjA5OjEzLjA1OTk0MSIsICJpdGVtcyI6IFt7Iml0ZW1faWQiOiAiaXRlbV8zMDMiLCAicXVhbnRpdHkiOiA1LCAicHJpY2VfdXNkIjogOTYuMDJ9LCB7Iml0ZW1faWQiOiAiaXRlbV8zMTMiLCAicXVhbnRpdHkiOiA0LCAicHJpY2VfdXNkIjogNDQuNDd9LCB7Iml0ZW1faWQiOiAiaXRlbV81NzAiLCAicXVhbnRpdHkiOiA0LCAicHJpY2VfdXNkIjogMjYuNjV9XX0=</td></tr><tr><td>event_43</td><td>1.758982153059965E9</td><td>eyJ1c2VyX2lkIjogInVzZXJfMjA1MyIsICJldmVudF90eXBlIjogInB1cmNoYXNlIiwgImV2ZW50X3RpbWVzdGFtcCI6ICIyMDI1LTA5LTI3VDE0OjA5OjEzLjA1OTk1NyIsICJpdGVtcyI6IFt7Iml0ZW1faWQiOiAiaXRlbV84NjEiLCAicXVhbnRpdHkiOiAzLCAicHJpY2VfdXNkIjogNzAuNTV9XX0=</td></tr><tr><td>event_44</td><td>1.758982153059978E9</td><td>eyJ1c2VyX2lkIjogInVzZXJfMzY4MiIsICJldmVudF90eXBlIjogInB1cmNoYXNlIiwgImV2ZW50X3RpbWVzdGFtcCI6ICIyMDI1LTA5LTI3VDE0OjA5OjEzLjA1OTk2NyIsICJpdGVtcyI6IFt7Iml0ZW1faWQiOiAiaXRlbV85MjkiLCAicXVhbnRpdHkiOiA0LCAicHJpY2VfdXNkIjogMzAuNX0sIHsiaXRlbV9pZCI6ICJpdGVtXzUzMyIsICJxdWFudGl0eSI6IDEsICJwcmljZV91c2QiOiA0OS4yMX1dfQ==</td></tr><tr><td>event_45</td><td>1.75898215305999E9</td><td>eyJ1c2VyX2lkIjogInVzZXJfNzg3NSIsICJldmVudF90eXBlIjogInZpZXciLCAiZXZlbnRfdGltZXN0YW1wIjogIjIwMjUtMDktMjdUMTQ6MDk6MTMuMDU5OTc5IiwgIml0ZW1zIjogW3siaXRlbV9pZCI6ICJpdGVtXzczMSIsICJxdWFudGl0eSI6IDIsICJwcmljZV91c2QiOiA3NS42OX0sIHsiaXRlbV9pZCI6ICJpdGVtXzI1OCIsICJxdWFudGl0eSI6IDUsICJwcmljZV91c2QiOiA0MS40N31dfQ==</td></tr><tr><td>event_46</td><td>1.75898215306E9</td><td>eyJ1c2VyX2lkIjogInVzZXJfMjIzMSIsICJldmVudF90eXBlIjogInB1cmNoYXNlIiwgImV2ZW50X3RpbWVzdGFtcCI6ICIyMDI1LTA5LTI3VDE0OjA5OjEzLjA1OTk5MiIsICJpdGVtcyI6IFt7Iml0ZW1faWQiOiAiaXRlbV84NTEiLCAicXVhbnRpdHkiOiAyLCAicHJpY2VfdXNkIjogMTIuOTJ9XX0=</td></tr><tr><td>event_47</td><td>1.758982153060011E9</td><td>eyJ1c2VyX2lkIjogInVzZXJfMjY5NSIsICJldmVudF90eXBlIjogInB1cmNoYXNlIiwgImV2ZW50X3RpbWVzdGFtcCI6ICIyMDI1LTA5LTI3VDE0OjA5OjEzLjA2MDAwMiIsICJpdGVtcyI6IFt7Iml0ZW1faWQiOiAiaXRlbV83NTEiLCAicXVhbnRpdHkiOiAyLCAicHJpY2VfdXNkIjogMjcuNzN9XX0=</td></tr><tr><td>event_48</td><td>1.758982153060026E9</td><td>eyJ1c2VyX2lkIjogInVzZXJfMTc1NSIsICJldmVudF90eXBlIjogInB1cmNoYXNlIiwgImV2ZW50X3RpbWVzdGFtcCI6ICIyMDI1LTA5LTI3VDE0OjA5OjEzLjA2MDAxMiIsICJpdGVtcyI6IFt7Iml0ZW1faWQiOiAiaXRlbV8xODkiLCAicXVhbnRpdHkiOiAzLCAicHJpY2VfdXNkIjogMTQuOTF9LCB7Iml0ZW1faWQiOiAiaXRlbV8zMDEiLCAicXVhbnRpdHkiOiA1LCAicHJpY2VfdXNkIjogODYuMzV9LCB7Iml0ZW1faWQiOiAiaXRlbV82MDMiLCAicXVhbnRpdHkiOiAxLCAicHJpY2VfdXNkIjogNzAuNTh9XX0=</td></tr><tr><td>event_49</td><td>1.758982153060047E9</td><td>eyJ1c2VyX2lkIjogInVzZXJfNDM3MyIsICJldmVudF90eXBlIjogImNsaWNrIiwgImV2ZW50X3RpbWVzdGFtcCI6ICIyMDI1LTA5LTI3VDE0OjA5OjEzLjA2MDAyOCIsICJpdGVtcyI6IFt7Iml0ZW1faWQiOiAiaXRlbV83NTgiLCAicXVhbnRpdHkiOiAzLCAicHJpY2VfdXNkIjogNDQuODZ9LCB7Iml0ZW1faWQiOiAiaXRlbV85NzciLCAicXVhbnRpdHkiOiA0LCAicHJpY2VfdXNkIjogMTMuNTd9XX0=</td></tr><tr><td>event_50</td><td>1.758982153060063E9</td><td>eyJ1c2VyX2lkIjogInVzZXJfNzEzMSIsICJldmVudF90eXBlIjogInB1cmNoYXNlIiwgImV2ZW50X3RpbWVzdGFtcCI6ICIyMDI1LTA5LTI3VDE0OjA5OjEzLjA2MDA1MCIsICJpdGVtcyI6IFt7Iml0ZW1faWQiOiAiaXRlbV8xODUiLCAicXVhbnRpdHkiOiAyLCAicHJpY2VfdXNkIjogNTkuMTd9XX0=</td></tr><tr><td>event_51</td><td>1.758982153060079E9</td><td>eyJ1c2VyX2lkIjogInVzZXJfNzUwNSIsICJldmVudF90eXBlIjogInZpZXciLCAiZXZlbnRfdGltZXN0YW1wIjogIjIwMjUtMDktMjdUMTQ6MDk6MTMuMDYwMDY2IiwgIml0ZW1zIjogW3siaXRlbV9pZCI6ICJpdGVtXzk4MCIsICJxdWFudGl0eSI6IDMsICJwcmljZV91c2QiOiA0OC4zOX1dfQ==</td></tr><tr><td>event_52</td><td>1.75898215306009E9</td><td>eyJ1c2VyX2lkIjogInVzZXJfNjQxOCIsICJldmVudF90eXBlIjogInZpZXciLCAiZXZlbnRfdGltZXN0YW1wIjogIjIwMjUtMDktMjdUMTQ6MDk6MTMuMDYwMDgxIiwgIml0ZW1zIjogW3siaXRlbV9pZCI6ICJpdGVtXzcxMCIsICJxdWFudGl0eSI6IDEsICJwcmljZV91c2QiOiAyNi4xOX1dfQ==</td></tr><tr><td>event_53</td><td>1.758982153060106E9</td><td>eyJ1c2VyX2lkIjogInVzZXJfOTQ4NiIsICJldmVudF90eXBlIjogInB1cmNoYXNlIiwgImV2ZW50X3RpbWVzdGFtcCI6ICIyMDI1LTA5LTI3VDE0OjA5OjEzLjA2MDA5MiIsICJpdGVtcyI6IFt7Iml0ZW1faWQiOiAiaXRlbV80MzMiLCAicXVhbnRpdHkiOiA1LCAicHJpY2VfdXNkIjogMzUuMzF9LCB7Iml0ZW1faWQiOiAiaXRlbV82ODEiLCAicXVhbnRpdHkiOiAyLCAicHJpY2VfdXNkIjogOTcuMzJ9LCB7Iml0ZW1faWQiOiAiaXRlbV8zMjYiLCAicXVhbnRpdHkiOiA1LCAicHJpY2VfdXNkIjogMzAuMzJ9XX0=</td></tr><tr><td>event_54</td><td>1.758982153060122E9</td><td>eyJ1c2VyX2lkIjogInVzZXJfNTA5MCIsICJldmVudF90eXBlIjogInB1cmNoYXNlIiwgImV2ZW50X3RpbWVzdGFtcCI6ICIyMDI1LTA5LTI3VDE0OjA5OjEzLjA2MDEwOSIsICJpdGVtcyI6IFt7Iml0ZW1faWQiOiAiaXRlbV8xMDYiLCAicXVhbnRpdHkiOiAyLCAicHJpY2VfdXNkIjogMjYuMDV9LCB7Iml0ZW1faWQiOiAiaXRlbV8xMjMiLCAicXVhbnRpdHkiOiAxLCAicHJpY2VfdXNkIjogNjcuNjR9LCB7Iml0ZW1faWQiOiAiaXRlbV83MzgiLCAicXVhbnRpdHkiOiAyLCAicHJpY2VfdXNkIjogMTMuMH1dfQ==</td></tr><tr><td>event_55</td><td>1.758982153060138E9</td><td>eyJ1c2VyX2lkIjogInVzZXJfNTQ0NCIsICJldmVudF90eXBlIjogInZpZXciLCAiZXZlbnRfdGltZXN0YW1wIjogIjIwMjUtMDktMjdUMTQ6MDk6MTMuMDYwMTI0IiwgIml0ZW1zIjogW3siaXRlbV9pZCI6ICJpdGVtXzIyNiIsICJxdWFudGl0eSI6IDIsICJwcmljZV91c2QiOiAxMi42M30sIHsiaXRlbV9pZCI6ICJpdGVtXzMzMCIsICJxdWFudGl0eSI6IDEsICJwcmljZV91c2QiOiA5NC4zNn0sIHsiaXRlbV9pZCI6ICJpdGVtXzY1MiIsICJxdWFudGl0eSI6IDUsICJwcmljZV91c2QiOiA0Mi42fV19</td></tr><tr><td>event_56</td><td>1.758982153060149E9</td><td>eyJ1c2VyX2lkIjogInVzZXJfMjM1MyIsICJldmVudF90eXBlIjogImNsaWNrIiwgImV2ZW50X3RpbWVzdGFtcCI6ICIyMDI1LTA5LTI3VDE0OjA5OjEzLjA2MDE0MCIsICJpdGVtcyI6IFt7Iml0ZW1faWQiOiAiaXRlbV84NDUiLCAicXVhbnRpdHkiOiAzLCAicHJpY2VfdXNkIjogODMuNzJ9XX0=</td></tr><tr><td>event_57</td><td>1.758982153060159E9</td><td>eyJ1c2VyX2lkIjogInVzZXJfOTIwOSIsICJldmVudF90eXBlIjogImNsaWNrIiwgImV2ZW50X3RpbWVzdGFtcCI6ICIyMDI1LTA5LTI3VDE0OjA5OjEzLjA2MDE1MSIsICJpdGVtcyI6IFt7Iml0ZW1faWQiOiAiaXRlbV8xOTQiLCAicXVhbnRpdHkiOiA1LCAicHJpY2VfdXNkIjogNzYuMX1dfQ==</td></tr><tr><td>event_58</td><td>1.75898215306017E9</td><td>eyJ1c2VyX2lkIjogInVzZXJfMzk4NiIsICJldmVudF90eXBlIjogImNsaWNrIiwgImV2ZW50X3RpbWVzdGFtcCI6ICIyMDI1LTA5LTI3VDE0OjA5OjEzLjA2MDE2MSIsICJpdGVtcyI6IFt7Iml0ZW1faWQiOiAiaXRlbV8xMDMiLCAicXVhbnRpdHkiOiA0LCAicHJpY2VfdXNkIjogNzIuM31dfQ==</td></tr><tr><td>event_59</td><td>1.758982153060189E9</td><td>eyJ1c2VyX2lkIjogInVzZXJfNDU3OSIsICJldmVudF90eXBlIjogInZpZXciLCAiZXZlbnRfdGltZXN0YW1wIjogIjIwMjUtMDktMjdUMTQ6MDk6MTMuMDYwMTcxIiwgIml0ZW1zIjogW3siaXRlbV9pZCI6ICJpdGVtXzk1OSIsICJxdWFudGl0eSI6IDEsICJwcmljZV91c2QiOiA3NS41fSwgeyJpdGVtX2lkIjogIml0ZW1fODIzIiwgInF1YW50aXR5IjogMiwgInByaWNlX3VzZCI6IDcwLjN9LCB7Iml0ZW1faWQiOiAiaXRlbV81MzUiLCAicXVhbnRpdHkiOiA1LCAicHJpY2VfdXNkIjogOTUuNjV9XX0=</td></tr><tr><td>event_60</td><td>1.758982153060204E9</td><td>eyJ1c2VyX2lkIjogInVzZXJfNzM3OSIsICJldmVudF90eXBlIjogInB1cmNoYXNlIiwgImV2ZW50X3RpbWVzdGFtcCI6ICIyMDI1LTA5LTI3VDE0OjA5OjEzLjA2MDE5MSIsICJpdGVtcyI6IFt7Iml0ZW1faWQiOiAiaXRlbV85MDgiLCAicXVhbnRpdHkiOiAyLCAicHJpY2VfdXNkIjogNzguNTJ9LCB7Iml0ZW1faWQiOiAiaXRlbV81ODkiLCAicXVhbnRpdHkiOiA0LCAicHJpY2VfdXNkIjogNTQuMzJ9XX0=</td></tr><tr><td>event_61</td><td>1.758982153060214E9</td><td>eyJ1c2VyX2lkIjogInVzZXJfODU5NCIsICJldmVudF90eXBlIjogInB1cmNoYXNlIiwgImV2ZW50X3RpbWVzdGFtcCI6ICIyMDI1LTA5LTI3VDE0OjA5OjEzLjA2MDIwNSIsICJpdGVtcyI6IFt7Iml0ZW1faWQiOiAiaXRlbV82OTkiLCAicXVhbnRpdHkiOiAxLCAicHJpY2VfdXNkIjogNDAuOTl9XX0=</td></tr><tr><td>event_62</td><td>1.758982153060229E9</td><td>eyJ1c2VyX2lkIjogInVzZXJfNjk3OSIsICJldmVudF90eXBlIjogImNsaWNrIiwgImV2ZW50X3RpbWVzdGFtcCI6ICIyMDI1LTA5LTI3VDE0OjA5OjEzLjA2MDIxNiIsICJpdGVtcyI6IFt7Iml0ZW1faWQiOiAiaXRlbV81ODciLCAicXVhbnRpdHkiOiA0LCAicHJpY2VfdXNkIjogOTYuOTh9LCB7Iml0ZW1faWQiOiAiaXRlbV84MzEiLCAicXVhbnRpdHkiOiA0LCAicHJpY2VfdXNkIjogNzkuMDh9LCB7Iml0ZW1faWQiOiAiaXRlbV8zMjYiLCAicXVhbnRpdHkiOiA0LCAicHJpY2VfdXNkIjogNDguNTN9XX0=</td></tr><tr><td>event_63</td><td>1.758982153060241E9</td><td>eyJ1c2VyX2lkIjogInVzZXJfNjYxNiIsICJldmVudF90eXBlIjogImNsaWNrIiwgImV2ZW50X3RpbWVzdGFtcCI6ICIyMDI1LTA5LTI3VDE0OjA5OjEzLjA2MDIzMSIsICJpdGVtcyI6IFt7Iml0ZW1faWQiOiAiaXRlbV84ODkiLCAicXVhbnRpdHkiOiA1LCAicHJpY2VfdXNkIjogNDMuNH0sIHsiaXRlbV9pZCI6ICJpdGVtXzYxMSIsICJxdWFudGl0eSI6IDEsICJwcmljZV91c2QiOiA3MS45M31dfQ==</td></tr><tr><td>event_64</td><td>1.758982153060257E9</td><td>eyJ1c2VyX2lkIjogInVzZXJfNzI3MyIsICJldmVudF90eXBlIjogImNsaWNrIiwgImV2ZW50X3RpbWVzdGFtcCI6ICIyMDI1LTA5LTI3VDE0OjA5OjEzLjA2MDI0MyIsICJpdGVtcyI6IFt7Iml0ZW1faWQiOiAiaXRlbV8yNjgiLCAicXVhbnRpdHkiOiAzLCAicHJpY2VfdXNkIjogNjguODh9LCB7Iml0ZW1faWQiOiAiaXRlbV84MTIiLCAicXVhbnRpdHkiOiA1LCAicHJpY2VfdXNkIjogODEuOTF9LCB7Iml0ZW1faWQiOiAiaXRlbV84MTMiLCAicXVhbnRpdHkiOiAyLCAicHJpY2VfdXNkIjogODguNzN9XX0=</td></tr><tr><td>event_65</td><td>1.75898215306027E9</td><td>eyJ1c2VyX2lkIjogInVzZXJfMzk0MCIsICJldmVudF90eXBlIjogInZpZXciLCAiZXZlbnRfdGltZXN0YW1wIjogIjIwMjUtMDktMjdUMTQ6MDk6MTMuMDYwMjU5IiwgIml0ZW1zIjogW3siaXRlbV9pZCI6ICJpdGVtXzU3MCIsICJxdWFudGl0eSI6IDEsICJwcmljZV91c2QiOiA1Mi44OX0sIHsiaXRlbV9pZCI6ICJpdGVtXzM3MiIsICJxdWFudGl0eSI6IDQsICJwcmljZV91c2QiOiA5OC45fV19</td></tr><tr><td>event_66</td><td>1.758982153060282E9</td><td>eyJ1c2VyX2lkIjogInVzZXJfNDkwOSIsICJldmVudF90eXBlIjogImNsaWNrIiwgImV2ZW50X3RpbWVzdGFtcCI6ICIyMDI1LTA5LTI3VDE0OjA5OjEzLjA2MDI3MSIsICJpdGVtcyI6IFt7Iml0ZW1faWQiOiAiaXRlbV80MzMiLCAicXVhbnRpdHkiOiAzLCAicHJpY2VfdXNkIjogNzcuODF9LCB7Iml0ZW1faWQiOiAiaXRlbV8xMjMiLCAicXVhbnRpdHkiOiAyLCAicHJpY2VfdXNkIjogNzkuMDh9XX0=</td></tr><tr><td>event_67</td><td>1.758982153060292E9</td><td>eyJ1c2VyX2lkIjogInVzZXJfODYyOCIsICJldmVudF90eXBlIjogInB1cmNoYXNlIiwgImV2ZW50X3RpbWVzdGFtcCI6ICIyMDI1LTA5LTI3VDE0OjA5OjEzLjA2MDI4NCIsICJpdGVtcyI6IFt7Iml0ZW1faWQiOiAiaXRlbV80MTEiLCAicXVhbnRpdHkiOiA0LCAicHJpY2VfdXNkIjogODYuMzl9XX0=</td></tr><tr><td>event_68</td><td>1.758982153060307E9</td><td>eyJ1c2VyX2lkIjogInVzZXJfNDI4MCIsICJldmVudF90eXBlIjogInZpZXciLCAiZXZlbnRfdGltZXN0YW1wIjogIjIwMjUtMDktMjdUMTQ6MDk6MTMuMDYwMjk0IiwgIml0ZW1zIjogW3siaXRlbV9pZCI6ICJpdGVtXzc4MCIsICJxdWFudGl0eSI6IDEsICJwcmljZV91c2QiOiAyMy40NH0sIHsiaXRlbV9pZCI6ICJpdGVtXzgyOCIsICJxdWFudGl0eSI6IDUsICJwcmljZV91c2QiOiAzNi44OH0sIHsiaXRlbV9pZCI6ICJpdGVtXzQ0NyIsICJxdWFudGl0eSI6IDUsICJwcmljZV91c2QiOiAyMC4zNH1dfQ==</td></tr><tr><td>event_69</td><td>1.75898215306032E9</td><td>eyJ1c2VyX2lkIjogInVzZXJfMzgzNiIsICJldmVudF90eXBlIjogInB1cmNoYXNlIiwgImV2ZW50X3RpbWVzdGFtcCI6ICIyMDI1LTA5LTI3VDE0OjA5OjEzLjA2MDMwOSIsICJpdGVtcyI6IFt7Iml0ZW1faWQiOiAiaXRlbV84MDAiLCAicXVhbnRpdHkiOiAzLCAicHJpY2VfdXNkIjogOTcuMzN9LCB7Iml0ZW1faWQiOiAiaXRlbV83MjkiLCAicXVhbnRpdHkiOiAyLCAicHJpY2VfdXNkIjogMTAuNzh9XX0=</td></tr><tr><td>event_70</td><td>1.758982153060329E9</td><td>eyJ1c2VyX2lkIjogInVzZXJfNzg1OCIsICJldmVudF90eXBlIjogImNsaWNrIiwgImV2ZW50X3RpbWVzdGFtcCI6ICIyMDI1LTA5LTI3VDE0OjA5OjEzLjA2MDMyMSIsICJpdGVtcyI6IFt7Iml0ZW1faWQiOiAiaXRlbV81NzUiLCAicXVhbnRpdHkiOiAzLCAicHJpY2VfdXNkIjogNTkuOTZ9XX0=</td></tr><tr><td>event_71</td><td>1.75898215306034E9</td><td>eyJ1c2VyX2lkIjogInVzZXJfODI2MSIsICJldmVudF90eXBlIjogImNsaWNrIiwgImV2ZW50X3RpbWVzdGFtcCI6ICIyMDI1LTA5LTI3VDE0OjA5OjEzLjA2MDMzMSIsICJpdGVtcyI6IFt7Iml0ZW1faWQiOiAiaXRlbV82NjEiLCAicXVhbnRpdHkiOiAyLCAicHJpY2VfdXNkIjogNTEuMjV9XX0=</td></tr><tr><td>event_72</td><td>1.758982153060352E9</td><td>eyJ1c2VyX2lkIjogInVzZXJfOTkwOSIsICJldmVudF90eXBlIjogInZpZXciLCAiZXZlbnRfdGltZXN0YW1wIjogIjIwMjUtMDktMjdUMTQ6MDk6MTMuMDYwMzQxIiwgIml0ZW1zIjogW3siaXRlbV9pZCI6ICJpdGVtXzk4OSIsICJxdWFudGl0eSI6IDMsICJwcmljZV91c2QiOiA5OC43Mn0sIHsiaXRlbV9pZCI6ICJpdGVtXzkxNSIsICJxdWFudGl0eSI6IDMsICJwcmljZV91c2QiOiA1Mi41OH1dfQ==</td></tr><tr><td>event_73</td><td>1.758982153060367E9</td><td>eyJ1c2VyX2lkIjogInVzZXJfMzY4NiIsICJldmVudF90eXBlIjogInB1cmNoYXNlIiwgImV2ZW50X3RpbWVzdGFtcCI6ICIyMDI1LTA5LTI3VDE0OjA5OjEzLjA2MDM1NCIsICJpdGVtcyI6IFt7Iml0ZW1faWQiOiAiaXRlbV81NzkiLCAicXVhbnRpdHkiOiAzLCAicHJpY2VfdXNkIjogODIuMjZ9LCB7Iml0ZW1faWQiOiAiaXRlbV80MzYiLCAicXVhbnRpdHkiOiA0LCAicHJpY2VfdXNkIjogNzguNDV9LCB7Iml0ZW1faWQiOiAiaXRlbV85NDQiLCAicXVhbnRpdHkiOiA0LCAicHJpY2VfdXNkIjogNjcuMH1dfQ==</td></tr><tr><td>event_74</td><td>1.758982153060383E9</td><td>eyJ1c2VyX2lkIjogInVzZXJfNjk0MiIsICJldmVudF90eXBlIjogImNsaWNrIiwgImV2ZW50X3RpbWVzdGFtcCI6ICIyMDI1LTA5LTI3VDE0OjA5OjEzLjA2MDM2OSIsICJpdGVtcyI6IFt7Iml0ZW1faWQiOiAiaXRlbV8zNTUiLCAicXVhbnRpdHkiOiAxLCAicHJpY2VfdXNkIjogMjQuNjJ9LCB7Iml0ZW1faWQiOiAiaXRlbV85NTMiLCAicXVhbnRpdHkiOiA1LCAicHJpY2VfdXNkIjogNTAuMjd9LCB7Iml0ZW1faWQiOiAiaXRlbV85NDAiLCAicXVhbnRpdHkiOiA0LCAicHJpY2VfdXNkIjogNDEuOTZ9XX0=</td></tr><tr><td>event_75</td><td>1.758982153060395E9</td><td>eyJ1c2VyX2lkIjogInVzZXJfMjk5NiIsICJldmVudF90eXBlIjogInB1cmNoYXNlIiwgImV2ZW50X3RpbWVzdGFtcCI6ICIyMDI1LTA5LTI3VDE0OjA5OjEzLjA2MDM4NCIsICJpdGVtcyI6IFt7Iml0ZW1faWQiOiAiaXRlbV83ODkiLCAicXVhbnRpdHkiOiAyLCAicHJpY2VfdXNkIjogODcuNzl9LCB7Iml0ZW1faWQiOiAiaXRlbV85MzgiLCAicXVhbnRpdHkiOiA1LCAicHJpY2VfdXNkIjogNzguMDF9XX0=</td></tr><tr><td>event_76</td><td>1.758982153060407E9</td><td>eyJ1c2VyX2lkIjogInVzZXJfNDYwMyIsICJldmVudF90eXBlIjogImNsaWNrIiwgImV2ZW50X3RpbWVzdGFtcCI6ICIyMDI1LTA5LTI3VDE0OjA5OjEzLjA2MDM5NyIsICJpdGVtcyI6IFt7Iml0ZW1faWQiOiAiaXRlbV83NDMiLCAicXVhbnRpdHkiOiAxLCAicHJpY2VfdXNkIjogNTQuNjZ9LCB7Iml0ZW1faWQiOiAiaXRlbV84OTYiLCAicXVhbnRpdHkiOiA0LCAicHJpY2VfdXNkIjogMzIuNDN9XX0=</td></tr><tr><td>event_77</td><td>1.75898215306042E9</td><td>eyJ1c2VyX2lkIjogInVzZXJfMjEzMSIsICJldmVudF90eXBlIjogInZpZXciLCAiZXZlbnRfdGltZXN0YW1wIjogIjIwMjUtMDktMjdUMTQ6MDk6MTMuMDYwNDA5IiwgIml0ZW1zIjogW3siaXRlbV9pZCI6ICJpdGVtXzUwMyIsICJxdWFudGl0eSI6IDEsICJwcmljZV91c2QiOiA0MS4yOX0sIHsiaXRlbV9pZCI6ICJpdGVtXzk3NyIsICJxdWFudGl0eSI6IDIsICJwcmljZV91c2QiOiA5Ny43Mn1dfQ==</td></tr><tr><td>event_78</td><td>1.758982153060429E9</td><td>eyJ1c2VyX2lkIjogInVzZXJfODQ5NCIsICJldmVudF90eXBlIjogImNsaWNrIiwgImV2ZW50X3RpbWVzdGFtcCI6ICIyMDI1LTA5LTI3VDE0OjA5OjEzLjA2MDQyMiIsICJpdGVtcyI6IFt7Iml0ZW1faWQiOiAiaXRlbV84NjQiLCAicXVhbnRpdHkiOiAzLCAicHJpY2VfdXNkIjogMjYuMjN9XX0=</td></tr><tr><td>event_79</td><td>1.758982153060439E9</td><td>eyJ1c2VyX2lkIjogInVzZXJfNDcwMyIsICJldmVudF90eXBlIjogImNsaWNrIiwgImV2ZW50X3RpbWVzdGFtcCI6ICIyMDI1LTA5LTI3VDE0OjA5OjEzLjA2MDQzMSIsICJpdGVtcyI6IFt7Iml0ZW1faWQiOiAiaXRlbV8yMzAiLCAicXVhbnRpdHkiOiA1LCAicHJpY2VfdXNkIjogOTIuMDJ9XX0=</td></tr><tr><td>event_80</td><td>1.758982153060449E9</td><td>eyJ1c2VyX2lkIjogInVzZXJfNTY4MyIsICJldmVudF90eXBlIjogImNsaWNrIiwgImV2ZW50X3RpbWVzdGFtcCI6ICIyMDI1LTA5LTI3VDE0OjA5OjEzLjA2MDQ0MSIsICJpdGVtcyI6IFt7Iml0ZW1faWQiOiAiaXRlbV8yNDYiLCAicXVhbnRpdHkiOiAzLCAicHJpY2VfdXNkIjogNzIuNzZ9XX0=</td></tr><tr><td>event_81</td><td>1.758982153060461E9</td><td>eyJ1c2VyX2lkIjogInVzZXJfNTYzOCIsICJldmVudF90eXBlIjogInB1cmNoYXNlIiwgImV2ZW50X3RpbWVzdGFtcCI6ICIyMDI1LTA5LTI3VDE0OjA5OjEzLjA2MDQ1MSIsICJpdGVtcyI6IFt7Iml0ZW1faWQiOiAiaXRlbV81NDYiLCAicXVhbnRpdHkiOiA0LCAicHJpY2VfdXNkIjogMzguOTN9LCB7Iml0ZW1faWQiOiAiaXRlbV8xODQiLCAicXVhbnRpdHkiOiAzLCAicHJpY2VfdXNkIjogNTYuODJ9XX0=</td></tr><tr><td>event_82</td><td>1.758982153060476E9</td><td>eyJ1c2VyX2lkIjogInVzZXJfMzk5NSIsICJldmVudF90eXBlIjogInB1cmNoYXNlIiwgImV2ZW50X3RpbWVzdGFtcCI6ICIyMDI1LTA5LTI3VDE0OjA5OjEzLjA2MDQ2MyIsICJpdGVtcyI6IFt7Iml0ZW1faWQiOiAiaXRlbV85NTAiLCAicXVhbnRpdHkiOiAxLCAicHJpY2VfdXNkIjogNzkuNjh9LCB7Iml0ZW1faWQiOiAiaXRlbV8yMzQiLCAicXVhbnRpdHkiOiAyLCAicHJpY2VfdXNkIjogNzYuNjV9LCB7Iml0ZW1faWQiOiAiaXRlbV8xMTMiLCAicXVhbnRpdHkiOiAyLCAicHJpY2VfdXNkIjogNjAuNzN9XX0=</td></tr><tr><td>event_83</td><td>1.758982153060486E9</td><td>eyJ1c2VyX2lkIjogInVzZXJfNzMxNCIsICJldmVudF90eXBlIjogInZpZXciLCAiZXZlbnRfdGltZXN0YW1wIjogIjIwMjUtMDktMjdUMTQ6MDk6MTMuMDYwNDc4IiwgIml0ZW1zIjogW3siaXRlbV9pZCI6ICJpdGVtXzczOSIsICJxdWFudGl0eSI6IDQsICJwcmljZV91c2QiOiA3Mi4yM31dfQ==</td></tr><tr><td>event_84</td><td>1.758982153060504E9</td><td>eyJ1c2VyX2lkIjogInVzZXJfNDM2MSIsICJldmVudF90eXBlIjogInZpZXciLCAiZXZlbnRfdGltZXN0YW1wIjogIjIwMjUtMDktMjdUMTQ6MDk6MTMuMDYwNDg4IiwgIml0ZW1zIjogW3siaXRlbV9pZCI6ICJpdGVtXzY4OCIsICJxdWFudGl0eSI6IDUsICJwcmljZV91c2QiOiA4MC4xfSwgeyJpdGVtX2lkIjogIml0ZW1fMzUwIiwgInF1YW50aXR5IjogNCwgInByaWNlX3VzZCI6IDMzLjA4fV19</td></tr><tr><td>event_85</td><td>1.758982153060528E9</td><td>eyJ1c2VyX2lkIjogInVzZXJfNjQyMiIsICJldmVudF90eXBlIjogInZpZXciLCAiZXZlbnRfdGltZXN0YW1wIjogIjIwMjUtMDktMjdUMTQ6MDk6MTMuMDYwNTA4IiwgIml0ZW1zIjogW3siaXRlbV9pZCI6ICJpdGVtXzc3MCIsICJxdWFudGl0eSI6IDEsICJwcmljZV91c2QiOiAzMi41M30sIHsiaXRlbV9pZCI6ICJpdGVtXzU0NSIsICJxdWFudGl0eSI6IDEsICJwcmljZV91c2QiOiA3MC41Mn0sIHsiaXRlbV9pZCI6ICJpdGVtXzcxMiIsICJxdWFudGl0eSI6IDIsICJwcmljZV91c2QiOiAzOC4xM31dfQ==</td></tr><tr><td>event_86</td><td>1.758982153060544E9</td><td>eyJ1c2VyX2lkIjogInVzZXJfMzU4OSIsICJldmVudF90eXBlIjogImNsaWNrIiwgImV2ZW50X3RpbWVzdGFtcCI6ICIyMDI1LTA5LTI3VDE0OjA5OjEzLjA2MDUzMCIsICJpdGVtcyI6IFt7Iml0ZW1faWQiOiAiaXRlbV8yMDciLCAicXVhbnRpdHkiOiAyLCAicHJpY2VfdXNkIjogNjEuMTV9LCB7Iml0ZW1faWQiOiAiaXRlbV8xMTAiLCAicXVhbnRpdHkiOiA1LCAicHJpY2VfdXNkIjogOTIuMTh9LCB7Iml0ZW1faWQiOiAiaXRlbV82MzQiLCAicXVhbnRpdHkiOiAyLCAicHJpY2VfdXNkIjogMjIuMDV9XX0=</td></tr><tr><td>event_87</td><td>1.758982153060554E9</td><td>eyJ1c2VyX2lkIjogInVzZXJfNzI4NSIsICJldmVudF90eXBlIjogImNsaWNrIiwgImV2ZW50X3RpbWVzdGFtcCI6ICIyMDI1LTA5LTI3VDE0OjA5OjEzLjA2MDU0NiIsICJpdGVtcyI6IFt7Iml0ZW1faWQiOiAiaXRlbV81MTYiLCAicXVhbnRpdHkiOiAyLCAicHJpY2VfdXNkIjogNzIuMzh9XX0=</td></tr><tr><td>event_88</td><td>1.758982153060568E9</td><td>eyJ1c2VyX2lkIjogInVzZXJfMzk1NiIsICJldmVudF90eXBlIjogImNsaWNrIiwgImV2ZW50X3RpbWVzdGFtcCI6ICIyMDI1LTA5LTI3VDE0OjA5OjEzLjA2MDU1NiIsICJpdGVtcyI6IFt7Iml0ZW1faWQiOiAiaXRlbV8yOTgiLCAicXVhbnRpdHkiOiAzLCAicHJpY2VfdXNkIjogMzQuMjN9LCB7Iml0ZW1faWQiOiAiaXRlbV81MzgiLCAicXVhbnRpdHkiOiAzLCAicHJpY2VfdXNkIjogMTQuNTd9XX0=</td></tr><tr><td>event_89</td><td>1.758982153060581E9</td><td>eyJ1c2VyX2lkIjogInVzZXJfMTUxMSIsICJldmVudF90eXBlIjogInB1cmNoYXNlIiwgImV2ZW50X3RpbWVzdGFtcCI6ICIyMDI1LTA5LTI3VDE0OjA5OjEzLjA2MDU3MCIsICJpdGVtcyI6IFt7Iml0ZW1faWQiOiAiaXRlbV81MjAiLCAicXVhbnRpdHkiOiAzLCAicHJpY2VfdXNkIjogNTUuNDV9LCB7Iml0ZW1faWQiOiAiaXRlbV8xNjMiLCAicXVhbnRpdHkiOiA1LCAicHJpY2VfdXNkIjogOTguOTF9XX0=</td></tr><tr><td>event_90</td><td>1.758982153060597E9</td><td>eyJ1c2VyX2lkIjogInVzZXJfNTUwMyIsICJldmVudF90eXBlIjogInB1cmNoYXNlIiwgImV2ZW50X3RpbWVzdGFtcCI6ICIyMDI1LTA5LTI3VDE0OjA5OjEzLjA2MDU4MyIsICJpdGVtcyI6IFt7Iml0ZW1faWQiOiAiaXRlbV8zMjQiLCAicXVhbnRpdHkiOiAyLCAicHJpY2VfdXNkIjogMjUuOTZ9XX0=</td></tr><tr><td>event_91</td><td>1.75898215306061E9</td><td>eyJ1c2VyX2lkIjogInVzZXJfNjQ5NCIsICJldmVudF90eXBlIjogImNsaWNrIiwgImV2ZW50X3RpbWVzdGFtcCI6ICIyMDI1LTA5LTI3VDE0OjA5OjEzLjA2MDU5OSIsICJpdGVtcyI6IFt7Iml0ZW1faWQiOiAiaXRlbV8yMTIiLCAicXVhbnRpdHkiOiAzLCAicHJpY2VfdXNkIjogNDkuNzN9LCB7Iml0ZW1faWQiOiAiaXRlbV8xOTMiLCAicXVhbnRpdHkiOiA0LCAicHJpY2VfdXNkIjogMTAuMDR9XX0=</td></tr><tr><td>event_92</td><td>1.758982153060624E9</td><td>eyJ1c2VyX2lkIjogInVzZXJfOTA3MyIsICJldmVudF90eXBlIjogInB1cmNoYXNlIiwgImV2ZW50X3RpbWVzdGFtcCI6ICIyMDI1LTA5LTI3VDE0OjA5OjEzLjA2MDYxMiIsICJpdGVtcyI6IFt7Iml0ZW1faWQiOiAiaXRlbV82MTMiLCAicXVhbnRpdHkiOiA1LCAicHJpY2VfdXNkIjogNzYuODR9LCB7Iml0ZW1faWQiOiAiaXRlbV85OTYiLCAicXVhbnRpdHkiOiAyLCAicHJpY2VfdXNkIjogOTUuNH1dfQ==</td></tr><tr><td>event_93</td><td>1.758982153060657E9</td><td>eyJ1c2VyX2lkIjogInVzZXJfMzQ5NiIsICJldmVudF90eXBlIjogInZpZXciLCAiZXZlbnRfdGltZXN0YW1wIjogIjIwMjUtMDktMjdUMTQ6MDk6MTMuMDYwNjI3IiwgIml0ZW1zIjogW3siaXRlbV9pZCI6ICJpdGVtXzQyNSIsICJxdWFudGl0eSI6IDUsICJwcmljZV91c2QiOiA4OS45N30sIHsiaXRlbV9pZCI6ICJpdGVtXzkwOCIsICJxdWFudGl0eSI6IDEsICJwcmljZV91c2QiOiA1NS42OH0sIHsiaXRlbV9pZCI6ICJpdGVtXzQ5NiIsICJxdWFudGl0eSI6IDUsICJwcmljZV91c2QiOiA1Ni41M31dfQ==</td></tr><tr><td>event_94</td><td>1.75898215306068E9</td><td>eyJ1c2VyX2lkIjogInVzZXJfNzQ4MCIsICJldmVudF90eXBlIjogInB1cmNoYXNlIiwgImV2ZW50X3RpbWVzdGFtcCI6ICIyMDI1LTA5LTI3VDE0OjA5OjEzLjA2MDY2MCIsICJpdGVtcyI6IFt7Iml0ZW1faWQiOiAiaXRlbV84MzIiLCAicXVhbnRpdHkiOiAxLCAicHJpY2VfdXNkIjogODQuMn0sIHsiaXRlbV9pZCI6ICJpdGVtXzQ0NCIsICJxdWFudGl0eSI6IDQsICJwcmljZV91c2QiOiAyMy43M31dfQ==</td></tr><tr><td>event_95</td><td>1.758982153060699E9</td><td>eyJ1c2VyX2lkIjogInVzZXJfOTkyMiIsICJldmVudF90eXBlIjogInZpZXciLCAiZXZlbnRfdGltZXN0YW1wIjogIjIwMjUtMDktMjdUMTQ6MDk6MTMuMDYwNjg0IiwgIml0ZW1zIjogW3siaXRlbV9pZCI6ICJpdGVtXzE5NiIsICJxdWFudGl0eSI6IDIsICJwcmljZV91c2QiOiA3Mi45MX0sIHsiaXRlbV9pZCI6ICJpdGVtXzE0MSIsICJxdWFudGl0eSI6IDMsICJwcmljZV91c2QiOiA4My43NH1dfQ==</td></tr><tr><td>event_96</td><td>1.758982153060711E9</td><td>eyJ1c2VyX2lkIjogInVzZXJfMTIzMCIsICJldmVudF90eXBlIjogImNsaWNrIiwgImV2ZW50X3RpbWVzdGFtcCI6ICIyMDI1LTA5LTI3VDE0OjA5OjEzLjA2MDcwMSIsICJpdGVtcyI6IFt7Iml0ZW1faWQiOiAiaXRlbV84MzkiLCAicXVhbnRpdHkiOiAzLCAicHJpY2VfdXNkIjogMjEuNjN9LCB7Iml0ZW1faWQiOiAiaXRlbV8zODIiLCAicXVhbnRpdHkiOiA0LCAicHJpY2VfdXNkIjogODQuOTZ9XX0=</td></tr><tr><td>event_97</td><td>1.758982153060727E9</td><td>eyJ1c2VyX2lkIjogInVzZXJfMzE5NSIsICJldmVudF90eXBlIjogImNsaWNrIiwgImV2ZW50X3RpbWVzdGFtcCI6ICIyMDI1LTA5LTI3VDE0OjA5OjEzLjA2MDcxMyIsICJpdGVtcyI6IFt7Iml0ZW1faWQiOiAiaXRlbV81ODAiLCAicXVhbnRpdHkiOiA0LCAicHJpY2VfdXNkIjogNDQuMDN9LCB7Iml0ZW1faWQiOiAiaXRlbV8zMzQiLCAicXVhbnRpdHkiOiA0LCAicHJpY2VfdXNkIjogODcuMTl9LCB7Iml0ZW1faWQiOiAiaXRlbV8zMzEiLCAicXVhbnRpdHkiOiAzLCAicHJpY2VfdXNkIjogNjIuNjJ9XX0=</td></tr><tr><td>event_98</td><td>1.758982153060739E9</td><td>eyJ1c2VyX2lkIjogInVzZXJfOTE3OCIsICJldmVudF90eXBlIjogImNsaWNrIiwgImV2ZW50X3RpbWVzdGFtcCI6ICIyMDI1LTA5LTI3VDE0OjA5OjEzLjA2MDcyOSIsICJpdGVtcyI6IFt7Iml0ZW1faWQiOiAiaXRlbV8zMjMiLCAicXVhbnRpdHkiOiA1LCAicHJpY2VfdXNkIjogMzcuNzZ9LCB7Iml0ZW1faWQiOiAiaXRlbV8zNjQiLCAicXVhbnRpdHkiOiAyLCAicHJpY2VfdXNkIjogOTMuODZ9XX0=</td></tr><tr><td>event_99</td><td>1.758982153060752E9</td><td>eyJ1c2VyX2lkIjogInVzZXJfMTU3NSIsICJldmVudF90eXBlIjogInZpZXciLCAiZXZlbnRfdGltZXN0YW1wIjogIjIwMjUtMDktMjdUMTQ6MDk6MTMuMDYwNzQxIiwgIml0ZW1zIjogW3siaXRlbV9pZCI6ICJpdGVtXzk5MSIsICJxdWFudGl0eSI6IDUsICJwcmljZV91c2QiOiA3MC45OH0sIHsiaXRlbV9pZCI6ICJpdGVtXzE3OCIsICJxdWFudGl0eSI6IDUsICJwcmljZV91c2QiOiA5Ni4wNn1dfQ==</td></tr></tbody></table></div>"
      ]
     },
     "metadata": {
      "application/vnd.databricks.v1+output": {
       "addedWidgets": {},
       "aggData": [],
       "aggError": "",
       "aggOverflow": false,
       "aggSchema": [],
       "aggSeriesLimitReached": false,
       "aggType": "",
       "arguments": {},
       "columnCustomDisplayInfos": {},
       "data": [
        [
         "event_0",
         1.758982153059221E9,
         "eyJ1c2VyX2lkIjogInVzZXJfNDgzNSIsICJldmVudF90eXBlIjogImNsaWNrIiwgImV2ZW50X3RpbWVzdGFtcCI6ICIyMDI1LTA5LTI3VDE0OjA5OjEzLjA1OTE2OSIsICJpdGVtcyI6IFt7Iml0ZW1faWQiOiAiaXRlbV84OTMiLCAicXVhbnRpdHkiOiAzLCAicHJpY2VfdXNkIjogMTguMjl9LCB7Iml0ZW1faWQiOiAiaXRlbV80MjUiLCAicXVhbnRpdHkiOiAyLCAicHJpY2VfdXNkIjogMTkuODV9LCB7Iml0ZW1faWQiOiAiaXRlbV82MzciLCAicXVhbnRpdHkiOiAxLCAicHJpY2VfdXNkIjogNzIuNTN9XX0="
        ],
        [
         "event_1",
         1.758982153059242E9,
         "eyJ1c2VyX2lkIjogInVzZXJfMTMxNSIsICJldmVudF90eXBlIjogInB1cmNoYXNlIiwgImV2ZW50X3RpbWVzdGFtcCI6ICIyMDI1LTA5LTI3VDE0OjA5OjEzLjA1OTIyNiIsICJpdGVtcyI6IFt7Iml0ZW1faWQiOiAiaXRlbV83NjYiLCAicXVhbnRpdHkiOiA0LCAicHJpY2VfdXNkIjogNTMuOTF9XX0="
        ],
        [
         "event_2",
         1.758982153059263E9,
         "eyJ1c2VyX2lkIjogInVzZXJfNDU0NSIsICJldmVudF90eXBlIjogInB1cmNoYXNlIiwgImV2ZW50X3RpbWVzdGFtcCI6ICIyMDI1LTA5LTI3VDE0OjA5OjEzLjA1OTI0NSIsICJpdGVtcyI6IFt7Iml0ZW1faWQiOiAiaXRlbV82MDEiLCAicXVhbnRpdHkiOiAxLCAicHJpY2VfdXNkIjogNDIuNjV9LCB7Iml0ZW1faWQiOiAiaXRlbV82MjQiLCAicXVhbnRpdHkiOiA1LCAicHJpY2VfdXNkIjogMjEuNn0sIHsiaXRlbV9pZCI6ICJpdGVtXzgwMCIsICJxdWFudGl0eSI6IDIsICJwcmljZV91c2QiOiA4NS4xMX1dfQ=="
        ],
        [
         "event_3",
         1.758982153059278E9,
         "eyJ1c2VyX2lkIjogInVzZXJfNDg5NiIsICJldmVudF90eXBlIjogInB1cmNoYXNlIiwgImV2ZW50X3RpbWVzdGFtcCI6ICIyMDI1LTA5LTI3VDE0OjA5OjEzLjA1OTI2NSIsICJpdGVtcyI6IFt7Iml0ZW1faWQiOiAiaXRlbV84MTYiLCAicXVhbnRpdHkiOiA1LCAicHJpY2VfdXNkIjogNTQuODh9LCB7Iml0ZW1faWQiOiAiaXRlbV80ODUiLCAicXVhbnRpdHkiOiAzLCAicHJpY2VfdXNkIjogMjguNTV9XX0="
        ],
        [
         "event_4",
         1.758982153059304E9,
         "eyJ1c2VyX2lkIjogInVzZXJfMjAwOSIsICJldmVudF90eXBlIjogImNsaWNrIiwgImV2ZW50X3RpbWVzdGFtcCI6ICIyMDI1LTA5LTI3VDE0OjA5OjEzLjA1OTI4MCIsICJpdGVtcyI6IFt7Iml0ZW1faWQiOiAiaXRlbV84MTEiLCAicXVhbnRpdHkiOiAxLCAicHJpY2VfdXNkIjogOTcuMjl9LCB7Iml0ZW1faWQiOiAiaXRlbV8xMDciLCAicXVhbnRpdHkiOiA0LCAicHJpY2VfdXNkIjogNTIuMzF9LCB7Iml0ZW1faWQiOiAiaXRlbV8yMDUiLCAicXVhbnRpdHkiOiAyLCAicHJpY2VfdXNkIjogOTIuNTh9XX0="
        ],
        [
         "event_5",
         1.758982153059322E9,
         "eyJ1c2VyX2lkIjogInVzZXJfNjM3MSIsICJldmVudF90eXBlIjogImNsaWNrIiwgImV2ZW50X3RpbWVzdGFtcCI6ICIyMDI1LTA5LTI3VDE0OjA5OjEzLjA1OTMwNyIsICJpdGVtcyI6IFt7Iml0ZW1faWQiOiAiaXRlbV8yNDAiLCAicXVhbnRpdHkiOiAxLCAicHJpY2VfdXNkIjogMTEuMjh9LCB7Iml0ZW1faWQiOiAiaXRlbV8xNzkiLCAicXVhbnRpdHkiOiA1LCAicHJpY2VfdXNkIjogODUuNjZ9LCB7Iml0ZW1faWQiOiAiaXRlbV80NjciLCAicXVhbnRpdHkiOiA0LCAicHJpY2VfdXNkIjogNDIuMTF9XX0="
        ],
        [
         "event_6",
         1.758982153059335E9,
         "eyJ1c2VyX2lkIjogInVzZXJfNDAzNCIsICJldmVudF90eXBlIjogInZpZXciLCAiZXZlbnRfdGltZXN0YW1wIjogIjIwMjUtMDktMjdUMTQ6MDk6MTMuMDU5MzI0IiwgIml0ZW1zIjogW3siaXRlbV9pZCI6ICJpdGVtXzM3NiIsICJxdWFudGl0eSI6IDQsICJwcmljZV91c2QiOiAyMi4yM30sIHsiaXRlbV9pZCI6ICJpdGVtXzg2MSIsICJxdWFudGl0eSI6IDEsICJwcmljZV91c2QiOiAzOS40Mn1dfQ=="
        ],
        [
         "event_7",
         1.758982153059346E9,
         "eyJ1c2VyX2lkIjogInVzZXJfMTA4NSIsICJldmVudF90eXBlIjogInZpZXciLCAiZXZlbnRfdGltZXN0YW1wIjogIjIwMjUtMDktMjdUMTQ6MDk6MTMuMDU5MzM3IiwgIml0ZW1zIjogW3siaXRlbV9pZCI6ICJpdGVtXzYyMCIsICJxdWFudGl0eSI6IDIsICJwcmljZV91c2QiOiAyNC42OH1dfQ=="
        ],
        [
         "event_8",
         1.758982153059356E9,
         "eyJ1c2VyX2lkIjogInVzZXJfNDU3MiIsICJldmVudF90eXBlIjogInZpZXciLCAiZXZlbnRfdGltZXN0YW1wIjogIjIwMjUtMDktMjdUMTQ6MDk6MTMuMDU5MzQ4IiwgIml0ZW1zIjogW3siaXRlbV9pZCI6ICJpdGVtXzkwNiIsICJxdWFudGl0eSI6IDMsICJwcmljZV91c2QiOiA1Ni4yfV19"
        ],
        [
         "event_9",
         1.75898215305937E9,
         "eyJ1c2VyX2lkIjogInVzZXJfOTQ3NyIsICJldmVudF90eXBlIjogInZpZXciLCAiZXZlbnRfdGltZXN0YW1wIjogIjIwMjUtMDktMjdUMTQ6MDk6MTMuMDU5MzU4IiwgIml0ZW1zIjogW3siaXRlbV9pZCI6ICJpdGVtXzgwOSIsICJxdWFudGl0eSI6IDEsICJwcmljZV91c2QiOiA1Mi45fSwgeyJpdGVtX2lkIjogIml0ZW1fNDkzIiwgInF1YW50aXR5IjogNCwgInByaWNlX3VzZCI6IDMyLjY1fV19"
        ],
        [
         "event_10",
         1.758982153059386E9,
         "eyJ1c2VyX2lkIjogInVzZXJfNDg4NCIsICJldmVudF90eXBlIjogInB1cmNoYXNlIiwgImV2ZW50X3RpbWVzdGFtcCI6ICIyMDI1LTA5LTI3VDE0OjA5OjEzLjA1OTM3MiIsICJpdGVtcyI6IFt7Iml0ZW1faWQiOiAiaXRlbV8yNzMiLCAicXVhbnRpdHkiOiAzLCAicHJpY2VfdXNkIjogNDUuNjZ9LCB7Iml0ZW1faWQiOiAiaXRlbV8xNjEiLCAicXVhbnRpdHkiOiAzLCAicHJpY2VfdXNkIjogOTcuNn0sIHsiaXRlbV9pZCI6ICJpdGVtXzk5OSIsICJxdWFudGl0eSI6IDEsICJwcmljZV91c2QiOiA0MS4zNX1dfQ=="
        ],
        [
         "event_11",
         1.758982153059402E9,
         "eyJ1c2VyX2lkIjogInVzZXJfNTM1NiIsICJldmVudF90eXBlIjogImNsaWNrIiwgImV2ZW50X3RpbWVzdGFtcCI6ICIyMDI1LTA5LTI3VDE0OjA5OjEzLjA1OTM4OCIsICJpdGVtcyI6IFt7Iml0ZW1faWQiOiAiaXRlbV85NjciLCAicXVhbnRpdHkiOiAyLCAicHJpY2VfdXNkIjogNzUuMn0sIHsiaXRlbV9pZCI6ICJpdGVtXzQ2MyIsICJxdWFudGl0eSI6IDQsICJwcmljZV91c2QiOiAzOC40OH0sIHsiaXRlbV9pZCI6ICJpdGVtXzQzNSIsICJxdWFudGl0eSI6IDEsICJwcmljZV91c2QiOiA0MC41OX1dfQ=="
        ],
        [
         "event_12",
         1.758982153059415E9,
         "eyJ1c2VyX2lkIjogInVzZXJfNzUxNSIsICJldmVudF90eXBlIjogInZpZXciLCAiZXZlbnRfdGltZXN0YW1wIjogIjIwMjUtMDktMjdUMTQ6MDk6MTMuMDU5NDA0IiwgIml0ZW1zIjogW3siaXRlbV9pZCI6ICJpdGVtXzgwNCIsICJxdWFudGl0eSI6IDIsICJwcmljZV91c2QiOiA3OC43Nn0sIHsiaXRlbV9pZCI6ICJpdGVtXzY0MSIsICJxdWFudGl0eSI6IDQsICJwcmljZV91c2QiOiA2OS4zOX1dfQ=="
        ],
        [
         "event_13",
         1.758982153059426E9,
         "eyJ1c2VyX2lkIjogInVzZXJfODI2NiIsICJldmVudF90eXBlIjogImNsaWNrIiwgImV2ZW50X3RpbWVzdGFtcCI6ICIyMDI1LTA5LTI3VDE0OjA5OjEzLjA1OTQxNyIsICJpdGVtcyI6IFt7Iml0ZW1faWQiOiAiaXRlbV84MzQiLCAicXVhbnRpdHkiOiAxLCAicHJpY2VfdXNkIjogMTAuMzR9XX0="
        ],
        [
         "event_14",
         1.758982153059439E9,
         "eyJ1c2VyX2lkIjogInVzZXJfMTE3OCIsICJldmVudF90eXBlIjogInB1cmNoYXNlIiwgImV2ZW50X3RpbWVzdGFtcCI6ICIyMDI1LTA5LTI3VDE0OjA5OjEzLjA1OTQyOCIsICJpdGVtcyI6IFt7Iml0ZW1faWQiOiAiaXRlbV84NTIiLCAicXVhbnRpdHkiOiA0LCAicHJpY2VfdXNkIjogOTAuNH0sIHsiaXRlbV9pZCI6ICJpdGVtXzI5NCIsICJxdWFudGl0eSI6IDUsICJwcmljZV91c2QiOiA4Ni40fV19"
        ],
        [
         "event_15",
         1.758982153059449E9,
         "eyJ1c2VyX2lkIjogInVzZXJfMjA3MCIsICJldmVudF90eXBlIjogImNsaWNrIiwgImV2ZW50X3RpbWVzdGFtcCI6ICIyMDI1LTA5LTI3VDE0OjA5OjEzLjA1OTQ0MSIsICJpdGVtcyI6IFt7Iml0ZW1faWQiOiAiaXRlbV81MTgiLCAicXVhbnRpdHkiOiA0LCAicHJpY2VfdXNkIjogMTguNjV9XX0="
        ],
        [
         "event_16",
         1.758982153059462E9,
         "eyJ1c2VyX2lkIjogInVzZXJfNjgwNCIsICJldmVudF90eXBlIjogInZpZXciLCAiZXZlbnRfdGltZXN0YW1wIjogIjIwMjUtMDktMjdUMTQ6MDk6MTMuMDU5NDUxIiwgIml0ZW1zIjogW3siaXRlbV9pZCI6ICJpdGVtXzUxNSIsICJxdWFudGl0eSI6IDIsICJwcmljZV91c2QiOiA5My43NX0sIHsiaXRlbV9pZCI6ICJpdGVtXzExOCIsICJxdWFudGl0eSI6IDQsICJwcmljZV91c2QiOiA2NS4yfV19"
        ],
        [
         "event_17",
         1.758982153059478E9,
         "eyJ1c2VyX2lkIjogInVzZXJfMTYxNyIsICJldmVudF90eXBlIjogInZpZXciLCAiZXZlbnRfdGltZXN0YW1wIjogIjIwMjUtMDktMjdUMTQ6MDk6MTMuMDU5NDY0IiwgIml0ZW1zIjogW3siaXRlbV9pZCI6ICJpdGVtXzcxOSIsICJxdWFudGl0eSI6IDMsICJwcmljZV91c2QiOiAzNy4wM30sIHsiaXRlbV9pZCI6ICJpdGVtXzIwNyIsICJxdWFudGl0eSI6IDQsICJwcmljZV91c2QiOiA3NC42OH0sIHsiaXRlbV9pZCI6ICJpdGVtXzQ4OCIsICJxdWFudGl0eSI6IDUsICJwcmljZV91c2QiOiAzNC4xNn1dfQ=="
        ],
        [
         "event_18",
         1.758982153059493E9,
         "eyJ1c2VyX2lkIjogInVzZXJfMzU5MiIsICJldmVudF90eXBlIjogImNsaWNrIiwgImV2ZW50X3RpbWVzdGFtcCI6ICIyMDI1LTA5LTI3VDE0OjA5OjEzLjA1OTQ4MCIsICJpdGVtcyI6IFt7Iml0ZW1faWQiOiAiaXRlbV82MDYiLCAicXVhbnRpdHkiOiAzLCAicHJpY2VfdXNkIjogMzkuOTl9LCB7Iml0ZW1faWQiOiAiaXRlbV84NjEiLCAicXVhbnRpdHkiOiAyLCAicHJpY2VfdXNkIjogNzAuMjF9LCB7Iml0ZW1faWQiOiAiaXRlbV84ODQiLCAicXVhbnRpdHkiOiA1LCAicHJpY2VfdXNkIjogOTAuMjJ9XX0="
        ],
        [
         "event_19",
         1.758982153059504E9,
         "eyJ1c2VyX2lkIjogInVzZXJfNjU1OCIsICJldmVudF90eXBlIjogInB1cmNoYXNlIiwgImV2ZW50X3RpbWVzdGFtcCI6ICIyMDI1LTA5LTI3VDE0OjA5OjEzLjA1OTQ5NSIsICJpdGVtcyI6IFt7Iml0ZW1faWQiOiAiaXRlbV8yNDciLCAicXVhbnRpdHkiOiA0LCAicHJpY2VfdXNkIjogNzMuOH1dfQ=="
        ],
        [
         "event_20",
         1.758982153059519E9,
         "eyJ1c2VyX2lkIjogInVzZXJfODkzMCIsICJldmVudF90eXBlIjogImNsaWNrIiwgImV2ZW50X3RpbWVzdGFtcCI6ICIyMDI1LTA5LTI3VDE0OjA5OjEzLjA1OTUwNSIsICJpdGVtcyI6IFt7Iml0ZW1faWQiOiAiaXRlbV8xMDkiLCAicXVhbnRpdHkiOiA0LCAicHJpY2VfdXNkIjogNDkuMjF9LCB7Iml0ZW1faWQiOiAiaXRlbV81NTgiLCAicXVhbnRpdHkiOiA0LCAicHJpY2VfdXNkIjogNzUuODR9LCB7Iml0ZW1faWQiOiAiaXRlbV84MTgiLCAicXVhbnRpdHkiOiAxLCAicHJpY2VfdXNkIjogODcuMDV9XX0="
        ],
        [
         "event_21",
         1.758982153059538E9,
         "eyJ1c2VyX2lkIjogInVzZXJfNjMwMyIsICJldmVudF90eXBlIjogInZpZXciLCAiZXZlbnRfdGltZXN0YW1wIjogIjIwMjUtMDktMjdUMTQ6MDk6MTMuMDU5NTIxIiwgIml0ZW1zIjogW3siaXRlbV9pZCI6ICJpdGVtXzY5MSIsICJxdWFudGl0eSI6IDQsICJwcmljZV91c2QiOiA4NC43NH0sIHsiaXRlbV9pZCI6ICJpdGVtXzUzMCIsICJxdWFudGl0eSI6IDEsICJwcmljZV91c2QiOiA0MS44NH1dfQ=="
        ],
        [
         "event_22",
         1.758982153059566E9,
         "eyJ1c2VyX2lkIjogInVzZXJfMjI1MyIsICJldmVudF90eXBlIjogInB1cmNoYXNlIiwgImV2ZW50X3RpbWVzdGFtcCI6ICIyMDI1LTA5LTI3VDE0OjA5OjEzLjA1OTU0MiIsICJpdGVtcyI6IFt7Iml0ZW1faWQiOiAiaXRlbV8zMTMiLCAicXVhbnRpdHkiOiAxLCAicHJpY2VfdXNkIjogNjAuMzF9LCB7Iml0ZW1faWQiOiAiaXRlbV80MTYiLCAicXVhbnRpdHkiOiAxLCAicHJpY2VfdXNkIjogMTQuNDR9XX0="
        ],
        [
         "event_23",
         1.758982153059589E9,
         "eyJ1c2VyX2lkIjogInVzZXJfMzM3NyIsICJldmVudF90eXBlIjogInZpZXciLCAiZXZlbnRfdGltZXN0YW1wIjogIjIwMjUtMDktMjdUMTQ6MDk6MTMuMDU5NTY5IiwgIml0ZW1zIjogW3siaXRlbV9pZCI6ICJpdGVtXzg1MyIsICJxdWFudGl0eSI6IDEsICJwcmljZV91c2QiOiAxOS44Nn0sIHsiaXRlbV9pZCI6ICJpdGVtXzg4MyIsICJxdWFudGl0eSI6IDEsICJwcmljZV91c2QiOiAyNS4xfV19"
        ],
        [
         "event_24",
         1.758982153059617E9,
         "eyJ1c2VyX2lkIjogInVzZXJfNjgzMyIsICJldmVudF90eXBlIjogImNsaWNrIiwgImV2ZW50X3RpbWVzdGFtcCI6ICIyMDI1LTA5LTI3VDE0OjA5OjEzLjA1OTU5MiIsICJpdGVtcyI6IFt7Iml0ZW1faWQiOiAiaXRlbV85MzEiLCAicXVhbnRpdHkiOiA0LCAicHJpY2VfdXNkIjogOTkuMTJ9LCB7Iml0ZW1faWQiOiAiaXRlbV82NTkiLCAicXVhbnRpdHkiOiAzLCAicHJpY2VfdXNkIjogNDEuMjF9LCB7Iml0ZW1faWQiOiAiaXRlbV84MjAiLCAicXVhbnRpdHkiOiA1LCAicHJpY2VfdXNkIjogNTUuODl9XX0="
        ],
        [
         "event_25",
         1.758982153059697E9,
         "eyJ1c2VyX2lkIjogInVzZXJfOTI4OSIsICJldmVudF90eXBlIjogImNsaWNrIiwgImV2ZW50X3RpbWVzdGFtcCI6ICIyMDI1LTA5LTI3VDE0OjA5OjEzLjA1OTYyMSIsICJpdGVtcyI6IFt7Iml0ZW1faWQiOiAiaXRlbV81MzAiLCAicXVhbnRpdHkiOiAxLCAicHJpY2VfdXNkIjogOTkuMn0sIHsiaXRlbV9pZCI6ICJpdGVtXzE2OCIsICJxdWFudGl0eSI6IDMsICJwcmljZV91c2QiOiA1NS45NH0sIHsiaXRlbV9pZCI6ICJpdGVtXzM1NSIsICJxdWFudGl0eSI6IDMsICJwcmljZV91c2QiOiA1Ni4xNH1dfQ=="
        ],
        [
         "event_26",
         1.758982153059713E9,
         "eyJ1c2VyX2lkIjogInVzZXJfNTExMyIsICJldmVudF90eXBlIjogInZpZXciLCAiZXZlbnRfdGltZXN0YW1wIjogIjIwMjUtMDktMjdUMTQ6MDk6MTMuMDU5NzAwIiwgIml0ZW1zIjogW3siaXRlbV9pZCI6ICJpdGVtXzMxMCIsICJxdWFudGl0eSI6IDIsICJwcmljZV91c2QiOiA3NC4yNX0sIHsiaXRlbV9pZCI6ICJpdGVtXzY4NCIsICJxdWFudGl0eSI6IDIsICJwcmljZV91c2QiOiA3NS42fV19"
        ],
        [
         "event_27",
         1.758982153059727E9,
         "eyJ1c2VyX2lkIjogInVzZXJfODc4MSIsICJldmVudF90eXBlIjogImNsaWNrIiwgImV2ZW50X3RpbWVzdGFtcCI6ICIyMDI1LTA5LTI3VDE0OjA5OjEzLjA1OTcxNSIsICJpdGVtcyI6IFt7Iml0ZW1faWQiOiAiaXRlbV82NzAiLCAicXVhbnRpdHkiOiA0LCAicHJpY2VfdXNkIjogMjEuNzZ9LCB7Iml0ZW1faWQiOiAiaXRlbV84MzYiLCAicXVhbnRpdHkiOiA1LCAicHJpY2VfdXNkIjogNDguNjN9XX0="
        ],
        [
         "event_28",
         1.758982153059739E9,
         "eyJ1c2VyX2lkIjogInVzZXJfNzcwNyIsICJldmVudF90eXBlIjogInZpZXciLCAiZXZlbnRfdGltZXN0YW1wIjogIjIwMjUtMDktMjdUMTQ6MDk6MTMuMDU5NzI5IiwgIml0ZW1zIjogW3siaXRlbV9pZCI6ICJpdGVtXzkwNCIsICJxdWFudGl0eSI6IDUsICJwcmljZV91c2QiOiAzMy4wN30sIHsiaXRlbV9pZCI6ICJpdGVtXzc5MiIsICJxdWFudGl0eSI6IDIsICJwcmljZV91c2QiOiAyMC4zNX1dfQ=="
        ],
        [
         "event_29",
         1.758982153059752E9,
         "eyJ1c2VyX2lkIjogInVzZXJfNjcxNiIsICJldmVudF90eXBlIjogImNsaWNrIiwgImV2ZW50X3RpbWVzdGFtcCI6ICIyMDI1LTA5LTI3VDE0OjA5OjEzLjA1OTc0MiIsICJpdGVtcyI6IFt7Iml0ZW1faWQiOiAiaXRlbV8xNTciLCAicXVhbnRpdHkiOiA1LCAicHJpY2VfdXNkIjogNjcuNjF9LCB7Iml0ZW1faWQiOiAiaXRlbV8zMzAiLCAicXVhbnRpdHkiOiAyLCAicHJpY2VfdXNkIjogODkuNDR9XX0="
        ],
        [
         "event_30",
         1.758982153059765E9,
         "eyJ1c2VyX2lkIjogInVzZXJfOTczMiIsICJldmVudF90eXBlIjogInB1cmNoYXNlIiwgImV2ZW50X3RpbWVzdGFtcCI6ICIyMDI1LTA5LTI3VDE0OjA5OjEzLjA1OTc1NCIsICJpdGVtcyI6IFt7Iml0ZW1faWQiOiAiaXRlbV80OTEiLCAicXVhbnRpdHkiOiAyLCAicHJpY2VfdXNkIjogMzYuMjN9LCB7Iml0ZW1faWQiOiAiaXRlbV80NTQiLCAicXVhbnRpdHkiOiAyLCAicHJpY2VfdXNkIjogODUuNzZ9XX0="
        ],
        [
         "event_31",
         1.758982153059781E9,
         "eyJ1c2VyX2lkIjogInVzZXJfNTQ1OCIsICJldmVudF90eXBlIjogInB1cmNoYXNlIiwgImV2ZW50X3RpbWVzdGFtcCI6ICIyMDI1LTA5LTI3VDE0OjA5OjEzLjA1OTc2NyIsICJpdGVtcyI6IFt7Iml0ZW1faWQiOiAiaXRlbV84NjciLCAicXVhbnRpdHkiOiAxLCAicHJpY2VfdXNkIjogODguOTR9LCB7Iml0ZW1faWQiOiAiaXRlbV80OTciLCAicXVhbnRpdHkiOiAyLCAicHJpY2VfdXNkIjogNDYuMTF9LCB7Iml0ZW1faWQiOiAiaXRlbV84NDgiLCAicXVhbnRpdHkiOiAxLCAicHJpY2VfdXNkIjogMzcuMDN9XX0="
        ],
        [
         "event_32",
         1.758982153059797E9,
         "eyJ1c2VyX2lkIjogInVzZXJfNTI3MSIsICJldmVudF90eXBlIjogImNsaWNrIiwgImV2ZW50X3RpbWVzdGFtcCI6ICIyMDI1LTA5LTI3VDE0OjA5OjEzLjA1OTc4MyIsICJpdGVtcyI6IFt7Iml0ZW1faWQiOiAiaXRlbV85NzIiLCAicXVhbnRpdHkiOiA1LCAicHJpY2VfdXNkIjogNTEuNDZ9LCB7Iml0ZW1faWQiOiAiaXRlbV83NTgiLCAicXVhbnRpdHkiOiA1LCAicHJpY2VfdXNkIjogMTkuODF9LCB7Iml0ZW1faWQiOiAiaXRlbV8zMDQiLCAicXVhbnRpdHkiOiAxLCAicHJpY2VfdXNkIjogNDkuNDJ9XX0="
        ],
        [
         "event_33",
         1.75898215305981E9,
         "eyJ1c2VyX2lkIjogInVzZXJfMTg3NCIsICJldmVudF90eXBlIjogInB1cmNoYXNlIiwgImV2ZW50X3RpbWVzdGFtcCI6ICIyMDI1LTA5LTI3VDE0OjA5OjEzLjA1OTc5OSIsICJpdGVtcyI6IFt7Iml0ZW1faWQiOiAiaXRlbV8zOTgiLCAicXVhbnRpdHkiOiA1LCAicHJpY2VfdXNkIjogNTkuNDV9XX0="
        ],
        [
         "event_34",
         1.758982153059833E9,
         "eyJ1c2VyX2lkIjogInVzZXJfODIyOSIsICJldmVudF90eXBlIjogImNsaWNrIiwgImV2ZW50X3RpbWVzdGFtcCI6ICIyMDI1LTA5LTI3VDE0OjA5OjEzLjA1OTgxNCIsICJpdGVtcyI6IFt7Iml0ZW1faWQiOiAiaXRlbV8yMzgiLCAicXVhbnRpdHkiOiA1LCAicHJpY2VfdXNkIjogMjAuNTR9LCB7Iml0ZW1faWQiOiAiaXRlbV8yNDAiLCAicXVhbnRpdHkiOiAzLCAicHJpY2VfdXNkIjogMzYuMjl9XX0="
        ],
        [
         "event_35",
         1.758982153059861E9,
         "eyJ1c2VyX2lkIjogInVzZXJfNDcyNCIsICJldmVudF90eXBlIjogInB1cmNoYXNlIiwgImV2ZW50X3RpbWVzdGFtcCI6ICIyMDI1LTA5LTI3VDE0OjA5OjEzLjA1OTgzNSIsICJpdGVtcyI6IFt7Iml0ZW1faWQiOiAiaXRlbV81NDciLCAicXVhbnRpdHkiOiAxLCAicHJpY2VfdXNkIjogNDQuMTl9LCB7Iml0ZW1faWQiOiAiaXRlbV80MzYiLCAicXVhbnRpdHkiOiAzLCAicHJpY2VfdXNkIjogNzMuNH1dfQ=="
        ],
        [
         "event_36",
         1.758982153059875E9,
         "eyJ1c2VyX2lkIjogInVzZXJfNDUzMyIsICJldmVudF90eXBlIjogInZpZXciLCAiZXZlbnRfdGltZXN0YW1wIjogIjIwMjUtMDktMjdUMTQ6MDk6MTMuMDU5ODY0IiwgIml0ZW1zIjogW3siaXRlbV9pZCI6ICJpdGVtXzI0NSIsICJxdWFudGl0eSI6IDMsICJwcmljZV91c2QiOiA0NC42NH1dfQ=="
        ],
        [
         "event_37",
         1.758982153059886E9,
         "eyJ1c2VyX2lkIjogInVzZXJfMTU5MiIsICJldmVudF90eXBlIjogInB1cmNoYXNlIiwgImV2ZW50X3RpbWVzdGFtcCI6ICIyMDI1LTA5LTI3VDE0OjA5OjEzLjA1OTg3NyIsICJpdGVtcyI6IFt7Iml0ZW1faWQiOiAiaXRlbV80NjEiLCAicXVhbnRpdHkiOiAyLCAicHJpY2VfdXNkIjogNTQuNTN9XX0="
        ],
        [
         "event_38",
         1.758982153059896E9,
         "eyJ1c2VyX2lkIjogInVzZXJfODIwMCIsICJldmVudF90eXBlIjogImNsaWNrIiwgImV2ZW50X3RpbWVzdGFtcCI6ICIyMDI1LTA5LTI3VDE0OjA5OjEzLjA1OTg4OCIsICJpdGVtcyI6IFt7Iml0ZW1faWQiOiAiaXRlbV80ODEiLCAicXVhbnRpdHkiOiAyLCAicHJpY2VfdXNkIjogNTYuMTF9XX0="
        ],
        [
         "event_39",
         1.758982153059913E9,
         "eyJ1c2VyX2lkIjogInVzZXJfNzM3OCIsICJldmVudF90eXBlIjogInZpZXciLCAiZXZlbnRfdGltZXN0YW1wIjogIjIwMjUtMDktMjdUMTQ6MDk6MTMuMDU5ODk4IiwgIml0ZW1zIjogW3siaXRlbV9pZCI6ICJpdGVtXzQ1NCIsICJxdWFudGl0eSI6IDUsICJwcmljZV91c2QiOiA1Ni4yNH0sIHsiaXRlbV9pZCI6ICJpdGVtXzE1NyIsICJxdWFudGl0eSI6IDEsICJwcmljZV91c2QiOiA0MS41Nn0sIHsiaXRlbV9pZCI6ICJpdGVtXzU3MCIsICJxdWFudGl0eSI6IDQsICJwcmljZV91c2QiOiA0OC4wMX1dfQ=="
        ],
        [
         "event_40",
         1.758982153059929E9,
         "eyJ1c2VyX2lkIjogInVzZXJfMTcyMSIsICJldmVudF90eXBlIjogInB1cmNoYXNlIiwgImV2ZW50X3RpbWVzdGFtcCI6ICIyMDI1LTA5LTI3VDE0OjA5OjEzLjA1OTkxNSIsICJpdGVtcyI6IFt7Iml0ZW1faWQiOiAiaXRlbV84NTIiLCAicXVhbnRpdHkiOiA0LCAicHJpY2VfdXNkIjogNjcuNzd9LCB7Iml0ZW1faWQiOiAiaXRlbV8xMDQiLCAicXVhbnRpdHkiOiAyLCAicHJpY2VfdXNkIjogNjYuMjR9LCB7Iml0ZW1faWQiOiAiaXRlbV82MTEiLCAicXVhbnRpdHkiOiAxLCAicHJpY2VfdXNkIjogMTUuNTR9XX0="
        ],
        [
         "event_41",
         1.758982153059939E9,
         "eyJ1c2VyX2lkIjogInVzZXJfMjE0MyIsICJldmVudF90eXBlIjogImNsaWNrIiwgImV2ZW50X3RpbWVzdGFtcCI6ICIyMDI1LTA5LTI3VDE0OjA5OjEzLjA1OTkzMSIsICJpdGVtcyI6IFt7Iml0ZW1faWQiOiAiaXRlbV80MjEiLCAicXVhbnRpdHkiOiA1LCAicHJpY2VfdXNkIjogNjkuNjJ9XX0="
        ],
        [
         "event_42",
         1.758982153059955E9,
         "eyJ1c2VyX2lkIjogInVzZXJfNTc0MSIsICJldmVudF90eXBlIjogInB1cmNoYXNlIiwgImV2ZW50X3RpbWVzdGFtcCI6ICIyMDI1LTA5LTI3VDE0OjA5OjEzLjA1OTk0MSIsICJpdGVtcyI6IFt7Iml0ZW1faWQiOiAiaXRlbV8zMDMiLCAicXVhbnRpdHkiOiA1LCAicHJpY2VfdXNkIjogOTYuMDJ9LCB7Iml0ZW1faWQiOiAiaXRlbV8zMTMiLCAicXVhbnRpdHkiOiA0LCAicHJpY2VfdXNkIjogNDQuNDd9LCB7Iml0ZW1faWQiOiAiaXRlbV81NzAiLCAicXVhbnRpdHkiOiA0LCAicHJpY2VfdXNkIjogMjYuNjV9XX0="
        ],
        [
         "event_43",
         1.758982153059965E9,
         "eyJ1c2VyX2lkIjogInVzZXJfMjA1MyIsICJldmVudF90eXBlIjogInB1cmNoYXNlIiwgImV2ZW50X3RpbWVzdGFtcCI6ICIyMDI1LTA5LTI3VDE0OjA5OjEzLjA1OTk1NyIsICJpdGVtcyI6IFt7Iml0ZW1faWQiOiAiaXRlbV84NjEiLCAicXVhbnRpdHkiOiAzLCAicHJpY2VfdXNkIjogNzAuNTV9XX0="
        ],
        [
         "event_44",
         1.758982153059978E9,
         "eyJ1c2VyX2lkIjogInVzZXJfMzY4MiIsICJldmVudF90eXBlIjogInB1cmNoYXNlIiwgImV2ZW50X3RpbWVzdGFtcCI6ICIyMDI1LTA5LTI3VDE0OjA5OjEzLjA1OTk2NyIsICJpdGVtcyI6IFt7Iml0ZW1faWQiOiAiaXRlbV85MjkiLCAicXVhbnRpdHkiOiA0LCAicHJpY2VfdXNkIjogMzAuNX0sIHsiaXRlbV9pZCI6ICJpdGVtXzUzMyIsICJxdWFudGl0eSI6IDEsICJwcmljZV91c2QiOiA0OS4yMX1dfQ=="
        ],
        [
         "event_45",
         1.75898215305999E9,
         "eyJ1c2VyX2lkIjogInVzZXJfNzg3NSIsICJldmVudF90eXBlIjogInZpZXciLCAiZXZlbnRfdGltZXN0YW1wIjogIjIwMjUtMDktMjdUMTQ6MDk6MTMuMDU5OTc5IiwgIml0ZW1zIjogW3siaXRlbV9pZCI6ICJpdGVtXzczMSIsICJxdWFudGl0eSI6IDIsICJwcmljZV91c2QiOiA3NS42OX0sIHsiaXRlbV9pZCI6ICJpdGVtXzI1OCIsICJxdWFudGl0eSI6IDUsICJwcmljZV91c2QiOiA0MS40N31dfQ=="
        ],
        [
         "event_46",
         1.75898215306E9,
         "eyJ1c2VyX2lkIjogInVzZXJfMjIzMSIsICJldmVudF90eXBlIjogInB1cmNoYXNlIiwgImV2ZW50X3RpbWVzdGFtcCI6ICIyMDI1LTA5LTI3VDE0OjA5OjEzLjA1OTk5MiIsICJpdGVtcyI6IFt7Iml0ZW1faWQiOiAiaXRlbV84NTEiLCAicXVhbnRpdHkiOiAyLCAicHJpY2VfdXNkIjogMTIuOTJ9XX0="
        ],
        [
         "event_47",
         1.758982153060011E9,
         "eyJ1c2VyX2lkIjogInVzZXJfMjY5NSIsICJldmVudF90eXBlIjogInB1cmNoYXNlIiwgImV2ZW50X3RpbWVzdGFtcCI6ICIyMDI1LTA5LTI3VDE0OjA5OjEzLjA2MDAwMiIsICJpdGVtcyI6IFt7Iml0ZW1faWQiOiAiaXRlbV83NTEiLCAicXVhbnRpdHkiOiAyLCAicHJpY2VfdXNkIjogMjcuNzN9XX0="
        ],
        [
         "event_48",
         1.758982153060026E9,
         "eyJ1c2VyX2lkIjogInVzZXJfMTc1NSIsICJldmVudF90eXBlIjogInB1cmNoYXNlIiwgImV2ZW50X3RpbWVzdGFtcCI6ICIyMDI1LTA5LTI3VDE0OjA5OjEzLjA2MDAxMiIsICJpdGVtcyI6IFt7Iml0ZW1faWQiOiAiaXRlbV8xODkiLCAicXVhbnRpdHkiOiAzLCAicHJpY2VfdXNkIjogMTQuOTF9LCB7Iml0ZW1faWQiOiAiaXRlbV8zMDEiLCAicXVhbnRpdHkiOiA1LCAicHJpY2VfdXNkIjogODYuMzV9LCB7Iml0ZW1faWQiOiAiaXRlbV82MDMiLCAicXVhbnRpdHkiOiAxLCAicHJpY2VfdXNkIjogNzAuNTh9XX0="
        ],
        [
         "event_49",
         1.758982153060047E9,
         "eyJ1c2VyX2lkIjogInVzZXJfNDM3MyIsICJldmVudF90eXBlIjogImNsaWNrIiwgImV2ZW50X3RpbWVzdGFtcCI6ICIyMDI1LTA5LTI3VDE0OjA5OjEzLjA2MDAyOCIsICJpdGVtcyI6IFt7Iml0ZW1faWQiOiAiaXRlbV83NTgiLCAicXVhbnRpdHkiOiAzLCAicHJpY2VfdXNkIjogNDQuODZ9LCB7Iml0ZW1faWQiOiAiaXRlbV85NzciLCAicXVhbnRpdHkiOiA0LCAicHJpY2VfdXNkIjogMTMuNTd9XX0="
        ],
        [
         "event_50",
         1.758982153060063E9,
         "eyJ1c2VyX2lkIjogInVzZXJfNzEzMSIsICJldmVudF90eXBlIjogInB1cmNoYXNlIiwgImV2ZW50X3RpbWVzdGFtcCI6ICIyMDI1LTA5LTI3VDE0OjA5OjEzLjA2MDA1MCIsICJpdGVtcyI6IFt7Iml0ZW1faWQiOiAiaXRlbV8xODUiLCAicXVhbnRpdHkiOiAyLCAicHJpY2VfdXNkIjogNTkuMTd9XX0="
        ],
        [
         "event_51",
         1.758982153060079E9,
         "eyJ1c2VyX2lkIjogInVzZXJfNzUwNSIsICJldmVudF90eXBlIjogInZpZXciLCAiZXZlbnRfdGltZXN0YW1wIjogIjIwMjUtMDktMjdUMTQ6MDk6MTMuMDYwMDY2IiwgIml0ZW1zIjogW3siaXRlbV9pZCI6ICJpdGVtXzk4MCIsICJxdWFudGl0eSI6IDMsICJwcmljZV91c2QiOiA0OC4zOX1dfQ=="
        ],
        [
         "event_52",
         1.75898215306009E9,
         "eyJ1c2VyX2lkIjogInVzZXJfNjQxOCIsICJldmVudF90eXBlIjogInZpZXciLCAiZXZlbnRfdGltZXN0YW1wIjogIjIwMjUtMDktMjdUMTQ6MDk6MTMuMDYwMDgxIiwgIml0ZW1zIjogW3siaXRlbV9pZCI6ICJpdGVtXzcxMCIsICJxdWFudGl0eSI6IDEsICJwcmljZV91c2QiOiAyNi4xOX1dfQ=="
        ],
        [
         "event_53",
         1.758982153060106E9,
         "eyJ1c2VyX2lkIjogInVzZXJfOTQ4NiIsICJldmVudF90eXBlIjogInB1cmNoYXNlIiwgImV2ZW50X3RpbWVzdGFtcCI6ICIyMDI1LTA5LTI3VDE0OjA5OjEzLjA2MDA5MiIsICJpdGVtcyI6IFt7Iml0ZW1faWQiOiAiaXRlbV80MzMiLCAicXVhbnRpdHkiOiA1LCAicHJpY2VfdXNkIjogMzUuMzF9LCB7Iml0ZW1faWQiOiAiaXRlbV82ODEiLCAicXVhbnRpdHkiOiAyLCAicHJpY2VfdXNkIjogOTcuMzJ9LCB7Iml0ZW1faWQiOiAiaXRlbV8zMjYiLCAicXVhbnRpdHkiOiA1LCAicHJpY2VfdXNkIjogMzAuMzJ9XX0="
        ],
        [
         "event_54",
         1.758982153060122E9,
         "eyJ1c2VyX2lkIjogInVzZXJfNTA5MCIsICJldmVudF90eXBlIjogInB1cmNoYXNlIiwgImV2ZW50X3RpbWVzdGFtcCI6ICIyMDI1LTA5LTI3VDE0OjA5OjEzLjA2MDEwOSIsICJpdGVtcyI6IFt7Iml0ZW1faWQiOiAiaXRlbV8xMDYiLCAicXVhbnRpdHkiOiAyLCAicHJpY2VfdXNkIjogMjYuMDV9LCB7Iml0ZW1faWQiOiAiaXRlbV8xMjMiLCAicXVhbnRpdHkiOiAxLCAicHJpY2VfdXNkIjogNjcuNjR9LCB7Iml0ZW1faWQiOiAiaXRlbV83MzgiLCAicXVhbnRpdHkiOiAyLCAicHJpY2VfdXNkIjogMTMuMH1dfQ=="
        ],
        [
         "event_55",
         1.758982153060138E9,
         "eyJ1c2VyX2lkIjogInVzZXJfNTQ0NCIsICJldmVudF90eXBlIjogInZpZXciLCAiZXZlbnRfdGltZXN0YW1wIjogIjIwMjUtMDktMjdUMTQ6MDk6MTMuMDYwMTI0IiwgIml0ZW1zIjogW3siaXRlbV9pZCI6ICJpdGVtXzIyNiIsICJxdWFudGl0eSI6IDIsICJwcmljZV91c2QiOiAxMi42M30sIHsiaXRlbV9pZCI6ICJpdGVtXzMzMCIsICJxdWFudGl0eSI6IDEsICJwcmljZV91c2QiOiA5NC4zNn0sIHsiaXRlbV9pZCI6ICJpdGVtXzY1MiIsICJxdWFudGl0eSI6IDUsICJwcmljZV91c2QiOiA0Mi42fV19"
        ],
        [
         "event_56",
         1.758982153060149E9,
         "eyJ1c2VyX2lkIjogInVzZXJfMjM1MyIsICJldmVudF90eXBlIjogImNsaWNrIiwgImV2ZW50X3RpbWVzdGFtcCI6ICIyMDI1LTA5LTI3VDE0OjA5OjEzLjA2MDE0MCIsICJpdGVtcyI6IFt7Iml0ZW1faWQiOiAiaXRlbV84NDUiLCAicXVhbnRpdHkiOiAzLCAicHJpY2VfdXNkIjogODMuNzJ9XX0="
        ],
        [
         "event_57",
         1.758982153060159E9,
         "eyJ1c2VyX2lkIjogInVzZXJfOTIwOSIsICJldmVudF90eXBlIjogImNsaWNrIiwgImV2ZW50X3RpbWVzdGFtcCI6ICIyMDI1LTA5LTI3VDE0OjA5OjEzLjA2MDE1MSIsICJpdGVtcyI6IFt7Iml0ZW1faWQiOiAiaXRlbV8xOTQiLCAicXVhbnRpdHkiOiA1LCAicHJpY2VfdXNkIjogNzYuMX1dfQ=="
        ],
        [
         "event_58",
         1.75898215306017E9,
         "eyJ1c2VyX2lkIjogInVzZXJfMzk4NiIsICJldmVudF90eXBlIjogImNsaWNrIiwgImV2ZW50X3RpbWVzdGFtcCI6ICIyMDI1LTA5LTI3VDE0OjA5OjEzLjA2MDE2MSIsICJpdGVtcyI6IFt7Iml0ZW1faWQiOiAiaXRlbV8xMDMiLCAicXVhbnRpdHkiOiA0LCAicHJpY2VfdXNkIjogNzIuM31dfQ=="
        ],
        [
         "event_59",
         1.758982153060189E9,
         "eyJ1c2VyX2lkIjogInVzZXJfNDU3OSIsICJldmVudF90eXBlIjogInZpZXciLCAiZXZlbnRfdGltZXN0YW1wIjogIjIwMjUtMDktMjdUMTQ6MDk6MTMuMDYwMTcxIiwgIml0ZW1zIjogW3siaXRlbV9pZCI6ICJpdGVtXzk1OSIsICJxdWFudGl0eSI6IDEsICJwcmljZV91c2QiOiA3NS41fSwgeyJpdGVtX2lkIjogIml0ZW1fODIzIiwgInF1YW50aXR5IjogMiwgInByaWNlX3VzZCI6IDcwLjN9LCB7Iml0ZW1faWQiOiAiaXRlbV81MzUiLCAicXVhbnRpdHkiOiA1LCAicHJpY2VfdXNkIjogOTUuNjV9XX0="
        ],
        [
         "event_60",
         1.758982153060204E9,
         "eyJ1c2VyX2lkIjogInVzZXJfNzM3OSIsICJldmVudF90eXBlIjogInB1cmNoYXNlIiwgImV2ZW50X3RpbWVzdGFtcCI6ICIyMDI1LTA5LTI3VDE0OjA5OjEzLjA2MDE5MSIsICJpdGVtcyI6IFt7Iml0ZW1faWQiOiAiaXRlbV85MDgiLCAicXVhbnRpdHkiOiAyLCAicHJpY2VfdXNkIjogNzguNTJ9LCB7Iml0ZW1faWQiOiAiaXRlbV81ODkiLCAicXVhbnRpdHkiOiA0LCAicHJpY2VfdXNkIjogNTQuMzJ9XX0="
        ],
        [
         "event_61",
         1.758982153060214E9,
         "eyJ1c2VyX2lkIjogInVzZXJfODU5NCIsICJldmVudF90eXBlIjogInB1cmNoYXNlIiwgImV2ZW50X3RpbWVzdGFtcCI6ICIyMDI1LTA5LTI3VDE0OjA5OjEzLjA2MDIwNSIsICJpdGVtcyI6IFt7Iml0ZW1faWQiOiAiaXRlbV82OTkiLCAicXVhbnRpdHkiOiAxLCAicHJpY2VfdXNkIjogNDAuOTl9XX0="
        ],
        [
         "event_62",
         1.758982153060229E9,
         "eyJ1c2VyX2lkIjogInVzZXJfNjk3OSIsICJldmVudF90eXBlIjogImNsaWNrIiwgImV2ZW50X3RpbWVzdGFtcCI6ICIyMDI1LTA5LTI3VDE0OjA5OjEzLjA2MDIxNiIsICJpdGVtcyI6IFt7Iml0ZW1faWQiOiAiaXRlbV81ODciLCAicXVhbnRpdHkiOiA0LCAicHJpY2VfdXNkIjogOTYuOTh9LCB7Iml0ZW1faWQiOiAiaXRlbV84MzEiLCAicXVhbnRpdHkiOiA0LCAicHJpY2VfdXNkIjogNzkuMDh9LCB7Iml0ZW1faWQiOiAiaXRlbV8zMjYiLCAicXVhbnRpdHkiOiA0LCAicHJpY2VfdXNkIjogNDguNTN9XX0="
        ],
        [
         "event_63",
         1.758982153060241E9,
         "eyJ1c2VyX2lkIjogInVzZXJfNjYxNiIsICJldmVudF90eXBlIjogImNsaWNrIiwgImV2ZW50X3RpbWVzdGFtcCI6ICIyMDI1LTA5LTI3VDE0OjA5OjEzLjA2MDIzMSIsICJpdGVtcyI6IFt7Iml0ZW1faWQiOiAiaXRlbV84ODkiLCAicXVhbnRpdHkiOiA1LCAicHJpY2VfdXNkIjogNDMuNH0sIHsiaXRlbV9pZCI6ICJpdGVtXzYxMSIsICJxdWFudGl0eSI6IDEsICJwcmljZV91c2QiOiA3MS45M31dfQ=="
        ],
        [
         "event_64",
         1.758982153060257E9,
         "eyJ1c2VyX2lkIjogInVzZXJfNzI3MyIsICJldmVudF90eXBlIjogImNsaWNrIiwgImV2ZW50X3RpbWVzdGFtcCI6ICIyMDI1LTA5LTI3VDE0OjA5OjEzLjA2MDI0MyIsICJpdGVtcyI6IFt7Iml0ZW1faWQiOiAiaXRlbV8yNjgiLCAicXVhbnRpdHkiOiAzLCAicHJpY2VfdXNkIjogNjguODh9LCB7Iml0ZW1faWQiOiAiaXRlbV84MTIiLCAicXVhbnRpdHkiOiA1LCAicHJpY2VfdXNkIjogODEuOTF9LCB7Iml0ZW1faWQiOiAiaXRlbV84MTMiLCAicXVhbnRpdHkiOiAyLCAicHJpY2VfdXNkIjogODguNzN9XX0="
        ],
        [
         "event_65",
         1.75898215306027E9,
         "eyJ1c2VyX2lkIjogInVzZXJfMzk0MCIsICJldmVudF90eXBlIjogInZpZXciLCAiZXZlbnRfdGltZXN0YW1wIjogIjIwMjUtMDktMjdUMTQ6MDk6MTMuMDYwMjU5IiwgIml0ZW1zIjogW3siaXRlbV9pZCI6ICJpdGVtXzU3MCIsICJxdWFudGl0eSI6IDEsICJwcmljZV91c2QiOiA1Mi44OX0sIHsiaXRlbV9pZCI6ICJpdGVtXzM3MiIsICJxdWFudGl0eSI6IDQsICJwcmljZV91c2QiOiA5OC45fV19"
        ],
        [
         "event_66",
         1.758982153060282E9,
         "eyJ1c2VyX2lkIjogInVzZXJfNDkwOSIsICJldmVudF90eXBlIjogImNsaWNrIiwgImV2ZW50X3RpbWVzdGFtcCI6ICIyMDI1LTA5LTI3VDE0OjA5OjEzLjA2MDI3MSIsICJpdGVtcyI6IFt7Iml0ZW1faWQiOiAiaXRlbV80MzMiLCAicXVhbnRpdHkiOiAzLCAicHJpY2VfdXNkIjogNzcuODF9LCB7Iml0ZW1faWQiOiAiaXRlbV8xMjMiLCAicXVhbnRpdHkiOiAyLCAicHJpY2VfdXNkIjogNzkuMDh9XX0="
        ],
        [
         "event_67",
         1.758982153060292E9,
         "eyJ1c2VyX2lkIjogInVzZXJfODYyOCIsICJldmVudF90eXBlIjogInB1cmNoYXNlIiwgImV2ZW50X3RpbWVzdGFtcCI6ICIyMDI1LTA5LTI3VDE0OjA5OjEzLjA2MDI4NCIsICJpdGVtcyI6IFt7Iml0ZW1faWQiOiAiaXRlbV80MTEiLCAicXVhbnRpdHkiOiA0LCAicHJpY2VfdXNkIjogODYuMzl9XX0="
        ],
        [
         "event_68",
         1.758982153060307E9,
         "eyJ1c2VyX2lkIjogInVzZXJfNDI4MCIsICJldmVudF90eXBlIjogInZpZXciLCAiZXZlbnRfdGltZXN0YW1wIjogIjIwMjUtMDktMjdUMTQ6MDk6MTMuMDYwMjk0IiwgIml0ZW1zIjogW3siaXRlbV9pZCI6ICJpdGVtXzc4MCIsICJxdWFudGl0eSI6IDEsICJwcmljZV91c2QiOiAyMy40NH0sIHsiaXRlbV9pZCI6ICJpdGVtXzgyOCIsICJxdWFudGl0eSI6IDUsICJwcmljZV91c2QiOiAzNi44OH0sIHsiaXRlbV9pZCI6ICJpdGVtXzQ0NyIsICJxdWFudGl0eSI6IDUsICJwcmljZV91c2QiOiAyMC4zNH1dfQ=="
        ],
        [
         "event_69",
         1.75898215306032E9,
         "eyJ1c2VyX2lkIjogInVzZXJfMzgzNiIsICJldmVudF90eXBlIjogInB1cmNoYXNlIiwgImV2ZW50X3RpbWVzdGFtcCI6ICIyMDI1LTA5LTI3VDE0OjA5OjEzLjA2MDMwOSIsICJpdGVtcyI6IFt7Iml0ZW1faWQiOiAiaXRlbV84MDAiLCAicXVhbnRpdHkiOiAzLCAicHJpY2VfdXNkIjogOTcuMzN9LCB7Iml0ZW1faWQiOiAiaXRlbV83MjkiLCAicXVhbnRpdHkiOiAyLCAicHJpY2VfdXNkIjogMTAuNzh9XX0="
        ],
        [
         "event_70",
         1.758982153060329E9,
         "eyJ1c2VyX2lkIjogInVzZXJfNzg1OCIsICJldmVudF90eXBlIjogImNsaWNrIiwgImV2ZW50X3RpbWVzdGFtcCI6ICIyMDI1LTA5LTI3VDE0OjA5OjEzLjA2MDMyMSIsICJpdGVtcyI6IFt7Iml0ZW1faWQiOiAiaXRlbV81NzUiLCAicXVhbnRpdHkiOiAzLCAicHJpY2VfdXNkIjogNTkuOTZ9XX0="
        ],
        [
         "event_71",
         1.75898215306034E9,
         "eyJ1c2VyX2lkIjogInVzZXJfODI2MSIsICJldmVudF90eXBlIjogImNsaWNrIiwgImV2ZW50X3RpbWVzdGFtcCI6ICIyMDI1LTA5LTI3VDE0OjA5OjEzLjA2MDMzMSIsICJpdGVtcyI6IFt7Iml0ZW1faWQiOiAiaXRlbV82NjEiLCAicXVhbnRpdHkiOiAyLCAicHJpY2VfdXNkIjogNTEuMjV9XX0="
        ],
        [
         "event_72",
         1.758982153060352E9,
         "eyJ1c2VyX2lkIjogInVzZXJfOTkwOSIsICJldmVudF90eXBlIjogInZpZXciLCAiZXZlbnRfdGltZXN0YW1wIjogIjIwMjUtMDktMjdUMTQ6MDk6MTMuMDYwMzQxIiwgIml0ZW1zIjogW3siaXRlbV9pZCI6ICJpdGVtXzk4OSIsICJxdWFudGl0eSI6IDMsICJwcmljZV91c2QiOiA5OC43Mn0sIHsiaXRlbV9pZCI6ICJpdGVtXzkxNSIsICJxdWFudGl0eSI6IDMsICJwcmljZV91c2QiOiA1Mi41OH1dfQ=="
        ],
        [
         "event_73",
         1.758982153060367E9,
         "eyJ1c2VyX2lkIjogInVzZXJfMzY4NiIsICJldmVudF90eXBlIjogInB1cmNoYXNlIiwgImV2ZW50X3RpbWVzdGFtcCI6ICIyMDI1LTA5LTI3VDE0OjA5OjEzLjA2MDM1NCIsICJpdGVtcyI6IFt7Iml0ZW1faWQiOiAiaXRlbV81NzkiLCAicXVhbnRpdHkiOiAzLCAicHJpY2VfdXNkIjogODIuMjZ9LCB7Iml0ZW1faWQiOiAiaXRlbV80MzYiLCAicXVhbnRpdHkiOiA0LCAicHJpY2VfdXNkIjogNzguNDV9LCB7Iml0ZW1faWQiOiAiaXRlbV85NDQiLCAicXVhbnRpdHkiOiA0LCAicHJpY2VfdXNkIjogNjcuMH1dfQ=="
        ],
        [
         "event_74",
         1.758982153060383E9,
         "eyJ1c2VyX2lkIjogInVzZXJfNjk0MiIsICJldmVudF90eXBlIjogImNsaWNrIiwgImV2ZW50X3RpbWVzdGFtcCI6ICIyMDI1LTA5LTI3VDE0OjA5OjEzLjA2MDM2OSIsICJpdGVtcyI6IFt7Iml0ZW1faWQiOiAiaXRlbV8zNTUiLCAicXVhbnRpdHkiOiAxLCAicHJpY2VfdXNkIjogMjQuNjJ9LCB7Iml0ZW1faWQiOiAiaXRlbV85NTMiLCAicXVhbnRpdHkiOiA1LCAicHJpY2VfdXNkIjogNTAuMjd9LCB7Iml0ZW1faWQiOiAiaXRlbV85NDAiLCAicXVhbnRpdHkiOiA0LCAicHJpY2VfdXNkIjogNDEuOTZ9XX0="
        ],
        [
         "event_75",
         1.758982153060395E9,
         "eyJ1c2VyX2lkIjogInVzZXJfMjk5NiIsICJldmVudF90eXBlIjogInB1cmNoYXNlIiwgImV2ZW50X3RpbWVzdGFtcCI6ICIyMDI1LTA5LTI3VDE0OjA5OjEzLjA2MDM4NCIsICJpdGVtcyI6IFt7Iml0ZW1faWQiOiAiaXRlbV83ODkiLCAicXVhbnRpdHkiOiAyLCAicHJpY2VfdXNkIjogODcuNzl9LCB7Iml0ZW1faWQiOiAiaXRlbV85MzgiLCAicXVhbnRpdHkiOiA1LCAicHJpY2VfdXNkIjogNzguMDF9XX0="
        ],
        [
         "event_76",
         1.758982153060407E9,
         "eyJ1c2VyX2lkIjogInVzZXJfNDYwMyIsICJldmVudF90eXBlIjogImNsaWNrIiwgImV2ZW50X3RpbWVzdGFtcCI6ICIyMDI1LTA5LTI3VDE0OjA5OjEzLjA2MDM5NyIsICJpdGVtcyI6IFt7Iml0ZW1faWQiOiAiaXRlbV83NDMiLCAicXVhbnRpdHkiOiAxLCAicHJpY2VfdXNkIjogNTQuNjZ9LCB7Iml0ZW1faWQiOiAiaXRlbV84OTYiLCAicXVhbnRpdHkiOiA0LCAicHJpY2VfdXNkIjogMzIuNDN9XX0="
        ],
        [
         "event_77",
         1.75898215306042E9,
         "eyJ1c2VyX2lkIjogInVzZXJfMjEzMSIsICJldmVudF90eXBlIjogInZpZXciLCAiZXZlbnRfdGltZXN0YW1wIjogIjIwMjUtMDktMjdUMTQ6MDk6MTMuMDYwNDA5IiwgIml0ZW1zIjogW3siaXRlbV9pZCI6ICJpdGVtXzUwMyIsICJxdWFudGl0eSI6IDEsICJwcmljZV91c2QiOiA0MS4yOX0sIHsiaXRlbV9pZCI6ICJpdGVtXzk3NyIsICJxdWFudGl0eSI6IDIsICJwcmljZV91c2QiOiA5Ny43Mn1dfQ=="
        ],
        [
         "event_78",
         1.758982153060429E9,
         "eyJ1c2VyX2lkIjogInVzZXJfODQ5NCIsICJldmVudF90eXBlIjogImNsaWNrIiwgImV2ZW50X3RpbWVzdGFtcCI6ICIyMDI1LTA5LTI3VDE0OjA5OjEzLjA2MDQyMiIsICJpdGVtcyI6IFt7Iml0ZW1faWQiOiAiaXRlbV84NjQiLCAicXVhbnRpdHkiOiAzLCAicHJpY2VfdXNkIjogMjYuMjN9XX0="
        ],
        [
         "event_79",
         1.758982153060439E9,
         "eyJ1c2VyX2lkIjogInVzZXJfNDcwMyIsICJldmVudF90eXBlIjogImNsaWNrIiwgImV2ZW50X3RpbWVzdGFtcCI6ICIyMDI1LTA5LTI3VDE0OjA5OjEzLjA2MDQzMSIsICJpdGVtcyI6IFt7Iml0ZW1faWQiOiAiaXRlbV8yMzAiLCAicXVhbnRpdHkiOiA1LCAicHJpY2VfdXNkIjogOTIuMDJ9XX0="
        ],
        [
         "event_80",
         1.758982153060449E9,
         "eyJ1c2VyX2lkIjogInVzZXJfNTY4MyIsICJldmVudF90eXBlIjogImNsaWNrIiwgImV2ZW50X3RpbWVzdGFtcCI6ICIyMDI1LTA5LTI3VDE0OjA5OjEzLjA2MDQ0MSIsICJpdGVtcyI6IFt7Iml0ZW1faWQiOiAiaXRlbV8yNDYiLCAicXVhbnRpdHkiOiAzLCAicHJpY2VfdXNkIjogNzIuNzZ9XX0="
        ],
        [
         "event_81",
         1.758982153060461E9,
         "eyJ1c2VyX2lkIjogInVzZXJfNTYzOCIsICJldmVudF90eXBlIjogInB1cmNoYXNlIiwgImV2ZW50X3RpbWVzdGFtcCI6ICIyMDI1LTA5LTI3VDE0OjA5OjEzLjA2MDQ1MSIsICJpdGVtcyI6IFt7Iml0ZW1faWQiOiAiaXRlbV81NDYiLCAicXVhbnRpdHkiOiA0LCAicHJpY2VfdXNkIjogMzguOTN9LCB7Iml0ZW1faWQiOiAiaXRlbV8xODQiLCAicXVhbnRpdHkiOiAzLCAicHJpY2VfdXNkIjogNTYuODJ9XX0="
        ],
        [
         "event_82",
         1.758982153060476E9,
         "eyJ1c2VyX2lkIjogInVzZXJfMzk5NSIsICJldmVudF90eXBlIjogInB1cmNoYXNlIiwgImV2ZW50X3RpbWVzdGFtcCI6ICIyMDI1LTA5LTI3VDE0OjA5OjEzLjA2MDQ2MyIsICJpdGVtcyI6IFt7Iml0ZW1faWQiOiAiaXRlbV85NTAiLCAicXVhbnRpdHkiOiAxLCAicHJpY2VfdXNkIjogNzkuNjh9LCB7Iml0ZW1faWQiOiAiaXRlbV8yMzQiLCAicXVhbnRpdHkiOiAyLCAicHJpY2VfdXNkIjogNzYuNjV9LCB7Iml0ZW1faWQiOiAiaXRlbV8xMTMiLCAicXVhbnRpdHkiOiAyLCAicHJpY2VfdXNkIjogNjAuNzN9XX0="
        ],
        [
         "event_83",
         1.758982153060486E9,
         "eyJ1c2VyX2lkIjogInVzZXJfNzMxNCIsICJldmVudF90eXBlIjogInZpZXciLCAiZXZlbnRfdGltZXN0YW1wIjogIjIwMjUtMDktMjdUMTQ6MDk6MTMuMDYwNDc4IiwgIml0ZW1zIjogW3siaXRlbV9pZCI6ICJpdGVtXzczOSIsICJxdWFudGl0eSI6IDQsICJwcmljZV91c2QiOiA3Mi4yM31dfQ=="
        ],
        [
         "event_84",
         1.758982153060504E9,
         "eyJ1c2VyX2lkIjogInVzZXJfNDM2MSIsICJldmVudF90eXBlIjogInZpZXciLCAiZXZlbnRfdGltZXN0YW1wIjogIjIwMjUtMDktMjdUMTQ6MDk6MTMuMDYwNDg4IiwgIml0ZW1zIjogW3siaXRlbV9pZCI6ICJpdGVtXzY4OCIsICJxdWFudGl0eSI6IDUsICJwcmljZV91c2QiOiA4MC4xfSwgeyJpdGVtX2lkIjogIml0ZW1fMzUwIiwgInF1YW50aXR5IjogNCwgInByaWNlX3VzZCI6IDMzLjA4fV19"
        ],
        [
         "event_85",
         1.758982153060528E9,
         "eyJ1c2VyX2lkIjogInVzZXJfNjQyMiIsICJldmVudF90eXBlIjogInZpZXciLCAiZXZlbnRfdGltZXN0YW1wIjogIjIwMjUtMDktMjdUMTQ6MDk6MTMuMDYwNTA4IiwgIml0ZW1zIjogW3siaXRlbV9pZCI6ICJpdGVtXzc3MCIsICJxdWFudGl0eSI6IDEsICJwcmljZV91c2QiOiAzMi41M30sIHsiaXRlbV9pZCI6ICJpdGVtXzU0NSIsICJxdWFudGl0eSI6IDEsICJwcmljZV91c2QiOiA3MC41Mn0sIHsiaXRlbV9pZCI6ICJpdGVtXzcxMiIsICJxdWFudGl0eSI6IDIsICJwcmljZV91c2QiOiAzOC4xM31dfQ=="
        ],
        [
         "event_86",
         1.758982153060544E9,
         "eyJ1c2VyX2lkIjogInVzZXJfMzU4OSIsICJldmVudF90eXBlIjogImNsaWNrIiwgImV2ZW50X3RpbWVzdGFtcCI6ICIyMDI1LTA5LTI3VDE0OjA5OjEzLjA2MDUzMCIsICJpdGVtcyI6IFt7Iml0ZW1faWQiOiAiaXRlbV8yMDciLCAicXVhbnRpdHkiOiAyLCAicHJpY2VfdXNkIjogNjEuMTV9LCB7Iml0ZW1faWQiOiAiaXRlbV8xMTAiLCAicXVhbnRpdHkiOiA1LCAicHJpY2VfdXNkIjogOTIuMTh9LCB7Iml0ZW1faWQiOiAiaXRlbV82MzQiLCAicXVhbnRpdHkiOiAyLCAicHJpY2VfdXNkIjogMjIuMDV9XX0="
        ],
        [
         "event_87",
         1.758982153060554E9,
         "eyJ1c2VyX2lkIjogInVzZXJfNzI4NSIsICJldmVudF90eXBlIjogImNsaWNrIiwgImV2ZW50X3RpbWVzdGFtcCI6ICIyMDI1LTA5LTI3VDE0OjA5OjEzLjA2MDU0NiIsICJpdGVtcyI6IFt7Iml0ZW1faWQiOiAiaXRlbV81MTYiLCAicXVhbnRpdHkiOiAyLCAicHJpY2VfdXNkIjogNzIuMzh9XX0="
        ],
        [
         "event_88",
         1.758982153060568E9,
         "eyJ1c2VyX2lkIjogInVzZXJfMzk1NiIsICJldmVudF90eXBlIjogImNsaWNrIiwgImV2ZW50X3RpbWVzdGFtcCI6ICIyMDI1LTA5LTI3VDE0OjA5OjEzLjA2MDU1NiIsICJpdGVtcyI6IFt7Iml0ZW1faWQiOiAiaXRlbV8yOTgiLCAicXVhbnRpdHkiOiAzLCAicHJpY2VfdXNkIjogMzQuMjN9LCB7Iml0ZW1faWQiOiAiaXRlbV81MzgiLCAicXVhbnRpdHkiOiAzLCAicHJpY2VfdXNkIjogMTQuNTd9XX0="
        ],
        [
         "event_89",
         1.758982153060581E9,
         "eyJ1c2VyX2lkIjogInVzZXJfMTUxMSIsICJldmVudF90eXBlIjogInB1cmNoYXNlIiwgImV2ZW50X3RpbWVzdGFtcCI6ICIyMDI1LTA5LTI3VDE0OjA5OjEzLjA2MDU3MCIsICJpdGVtcyI6IFt7Iml0ZW1faWQiOiAiaXRlbV81MjAiLCAicXVhbnRpdHkiOiAzLCAicHJpY2VfdXNkIjogNTUuNDV9LCB7Iml0ZW1faWQiOiAiaXRlbV8xNjMiLCAicXVhbnRpdHkiOiA1LCAicHJpY2VfdXNkIjogOTguOTF9XX0="
        ],
        [
         "event_90",
         1.758982153060597E9,
         "eyJ1c2VyX2lkIjogInVzZXJfNTUwMyIsICJldmVudF90eXBlIjogInB1cmNoYXNlIiwgImV2ZW50X3RpbWVzdGFtcCI6ICIyMDI1LTA5LTI3VDE0OjA5OjEzLjA2MDU4MyIsICJpdGVtcyI6IFt7Iml0ZW1faWQiOiAiaXRlbV8zMjQiLCAicXVhbnRpdHkiOiAyLCAicHJpY2VfdXNkIjogMjUuOTZ9XX0="
        ],
        [
         "event_91",
         1.75898215306061E9,
         "eyJ1c2VyX2lkIjogInVzZXJfNjQ5NCIsICJldmVudF90eXBlIjogImNsaWNrIiwgImV2ZW50X3RpbWVzdGFtcCI6ICIyMDI1LTA5LTI3VDE0OjA5OjEzLjA2MDU5OSIsICJpdGVtcyI6IFt7Iml0ZW1faWQiOiAiaXRlbV8yMTIiLCAicXVhbnRpdHkiOiAzLCAicHJpY2VfdXNkIjogNDkuNzN9LCB7Iml0ZW1faWQiOiAiaXRlbV8xOTMiLCAicXVhbnRpdHkiOiA0LCAicHJpY2VfdXNkIjogMTAuMDR9XX0="
        ],
        [
         "event_92",
         1.758982153060624E9,
         "eyJ1c2VyX2lkIjogInVzZXJfOTA3MyIsICJldmVudF90eXBlIjogInB1cmNoYXNlIiwgImV2ZW50X3RpbWVzdGFtcCI6ICIyMDI1LTA5LTI3VDE0OjA5OjEzLjA2MDYxMiIsICJpdGVtcyI6IFt7Iml0ZW1faWQiOiAiaXRlbV82MTMiLCAicXVhbnRpdHkiOiA1LCAicHJpY2VfdXNkIjogNzYuODR9LCB7Iml0ZW1faWQiOiAiaXRlbV85OTYiLCAicXVhbnRpdHkiOiAyLCAicHJpY2VfdXNkIjogOTUuNH1dfQ=="
        ],
        [
         "event_93",
         1.758982153060657E9,
         "eyJ1c2VyX2lkIjogInVzZXJfMzQ5NiIsICJldmVudF90eXBlIjogInZpZXciLCAiZXZlbnRfdGltZXN0YW1wIjogIjIwMjUtMDktMjdUMTQ6MDk6MTMuMDYwNjI3IiwgIml0ZW1zIjogW3siaXRlbV9pZCI6ICJpdGVtXzQyNSIsICJxdWFudGl0eSI6IDUsICJwcmljZV91c2QiOiA4OS45N30sIHsiaXRlbV9pZCI6ICJpdGVtXzkwOCIsICJxdWFudGl0eSI6IDEsICJwcmljZV91c2QiOiA1NS42OH0sIHsiaXRlbV9pZCI6ICJpdGVtXzQ5NiIsICJxdWFudGl0eSI6IDUsICJwcmljZV91c2QiOiA1Ni41M31dfQ=="
        ],
        [
         "event_94",
         1.75898215306068E9,
         "eyJ1c2VyX2lkIjogInVzZXJfNzQ4MCIsICJldmVudF90eXBlIjogInB1cmNoYXNlIiwgImV2ZW50X3RpbWVzdGFtcCI6ICIyMDI1LTA5LTI3VDE0OjA5OjEzLjA2MDY2MCIsICJpdGVtcyI6IFt7Iml0ZW1faWQiOiAiaXRlbV84MzIiLCAicXVhbnRpdHkiOiAxLCAicHJpY2VfdXNkIjogODQuMn0sIHsiaXRlbV9pZCI6ICJpdGVtXzQ0NCIsICJxdWFudGl0eSI6IDQsICJwcmljZV91c2QiOiAyMy43M31dfQ=="
        ],
        [
         "event_95",
         1.758982153060699E9,
         "eyJ1c2VyX2lkIjogInVzZXJfOTkyMiIsICJldmVudF90eXBlIjogInZpZXciLCAiZXZlbnRfdGltZXN0YW1wIjogIjIwMjUtMDktMjdUMTQ6MDk6MTMuMDYwNjg0IiwgIml0ZW1zIjogW3siaXRlbV9pZCI6ICJpdGVtXzE5NiIsICJxdWFudGl0eSI6IDIsICJwcmljZV91c2QiOiA3Mi45MX0sIHsiaXRlbV9pZCI6ICJpdGVtXzE0MSIsICJxdWFudGl0eSI6IDMsICJwcmljZV91c2QiOiA4My43NH1dfQ=="
        ],
        [
         "event_96",
         1.758982153060711E9,
         "eyJ1c2VyX2lkIjogInVzZXJfMTIzMCIsICJldmVudF90eXBlIjogImNsaWNrIiwgImV2ZW50X3RpbWVzdGFtcCI6ICIyMDI1LTA5LTI3VDE0OjA5OjEzLjA2MDcwMSIsICJpdGVtcyI6IFt7Iml0ZW1faWQiOiAiaXRlbV84MzkiLCAicXVhbnRpdHkiOiAzLCAicHJpY2VfdXNkIjogMjEuNjN9LCB7Iml0ZW1faWQiOiAiaXRlbV8zODIiLCAicXVhbnRpdHkiOiA0LCAicHJpY2VfdXNkIjogODQuOTZ9XX0="
        ],
        [
         "event_97",
         1.758982153060727E9,
         "eyJ1c2VyX2lkIjogInVzZXJfMzE5NSIsICJldmVudF90eXBlIjogImNsaWNrIiwgImV2ZW50X3RpbWVzdGFtcCI6ICIyMDI1LTA5LTI3VDE0OjA5OjEzLjA2MDcxMyIsICJpdGVtcyI6IFt7Iml0ZW1faWQiOiAiaXRlbV81ODAiLCAicXVhbnRpdHkiOiA0LCAicHJpY2VfdXNkIjogNDQuMDN9LCB7Iml0ZW1faWQiOiAiaXRlbV8zMzQiLCAicXVhbnRpdHkiOiA0LCAicHJpY2VfdXNkIjogODcuMTl9LCB7Iml0ZW1faWQiOiAiaXRlbV8zMzEiLCAicXVhbnRpdHkiOiAzLCAicHJpY2VfdXNkIjogNjIuNjJ9XX0="
        ],
        [
         "event_98",
         1.758982153060739E9,
         "eyJ1c2VyX2lkIjogInVzZXJfOTE3OCIsICJldmVudF90eXBlIjogImNsaWNrIiwgImV2ZW50X3RpbWVzdGFtcCI6ICIyMDI1LTA5LTI3VDE0OjA5OjEzLjA2MDcyOSIsICJpdGVtcyI6IFt7Iml0ZW1faWQiOiAiaXRlbV8zMjMiLCAicXVhbnRpdHkiOiA1LCAicHJpY2VfdXNkIjogMzcuNzZ9LCB7Iml0ZW1faWQiOiAiaXRlbV8zNjQiLCAicXVhbnRpdHkiOiAyLCAicHJpY2VfdXNkIjogOTMuODZ9XX0="
        ],
        [
         "event_99",
         1.758982153060752E9,
         "eyJ1c2VyX2lkIjogInVzZXJfMTU3NSIsICJldmVudF90eXBlIjogInZpZXciLCAiZXZlbnRfdGltZXN0YW1wIjogIjIwMjUtMDktMjdUMTQ6MDk6MTMuMDYwNzQxIiwgIml0ZW1zIjogW3siaXRlbV9pZCI6ICJpdGVtXzk5MSIsICJxdWFudGl0eSI6IDUsICJwcmljZV91c2QiOiA3MC45OH0sIHsiaXRlbV9pZCI6ICJpdGVtXzE3OCIsICJxdWFudGl0eSI6IDUsICJwcmljZV91c2QiOiA5Ni4wNn1dfQ=="
        ]
       ],
       "datasetInfos": [],
       "dbfsResultPath": null,
       "isJsonSchema": true,
       "metadata": {},
       "overflow": false,
       "plotOptions": {
        "customPlotOptions": {},
        "displayType": "table",
        "pivotAggregation": null,
        "pivotColumns": null,
        "xColumns": null,
        "yColumns": null
       },
       "removedWidgets": [],
       "schema": [
        {
         "metadata": "{}",
         "name": "key",
         "type": "\"string\""
        },
        {
         "metadata": "{}",
         "name": "timestamp",
         "type": "\"double\""
        },
        {
         "metadata": "{}",
         "name": "value",
         "type": "\"string\""
        }
       ],
       "type": "table"
      }
     },
     "output_type": "display_data"
    }
   ],
   "source": [
    "%python\n",
    "spark.sql(f'''\n",
    "          SELECT * \n",
    "          FROM json.`{DA.paths.working_dir}/json_demo_files/lab_kafka_events.json`\n",
    "          ''').display()"
   ]
  },
  {
   "cell_type": "markdown",
   "metadata": {
    "application/vnd.databricks.v1+cell": {
     "cellMetadata": {},
     "inputWidgets": {},
     "nuid": "cc8a9572-5b6f-43dc-a41f-be24ad8d5138",
     "showTitle": false,
     "tableResultSettingsMap": {},
     "title": ""
    }
   },
   "source": [
    "### B2. Create the Raw Bronze Table\n",
    "\n",
    "Inspect and run the code below to ingest the raw JSON file `/Volumes/dbacademy/ops/your-labuser-name/json_demo_files/lab_kafka_events.json` and create the **lab7_lab_kafka_events_raw** table.\n",
    "\n",
    "Notice the following:\n",
    "- The **value** column is decoded.\n",
    "- The **decoded_value** column was created and returns the decoded column as a JSON-formatted string.\n"
   ]
  },
  {
   "cell_type": "code",
   "execution_count": 0,
   "metadata": {
    "application/vnd.databricks.v1+cell": {
     "cellMetadata": {
      "byteLimit": 2048000,
      "rowLimit": 10000
     },
     "inputWidgets": {},
     "nuid": "fc1aa523-0550-44e2-a86d-f05016542321",
     "showTitle": false,
     "tableResultSettingsMap": {},
     "title": ""
    }
   },
   "outputs": [
    {
     "output_type": "display_data",
     "data": {
      "text/html": [
       "<style scoped>\n",
       "  .table-result-container {\n",
       "    max-height: 300px;\n",
       "    overflow: auto;\n",
       "  }\n",
       "  table, th, td {\n",
       "    border: 1px solid black;\n",
       "    border-collapse: collapse;\n",
       "  }\n",
       "  th, td {\n",
       "    padding: 5px;\n",
       "  }\n",
       "  th {\n",
       "    text-align: left;\n",
       "  }\n",
       "</style><div class='table-result-container'><table class='table-result'><thead style='background-color: white'><tr><th>key</th><th>timestamp</th><th>value</th><th>_rescued_data</th><th>decoded_value</th></tr></thead><tbody><tr><td>event_0</td><td>1.758982153059221E9</td><td>eyJ1c2VyX2lkIjogInVzZXJfNDgzNSIsICJldmVudF90eXBlIjogImNsaWNrIiwgImV2ZW50X3RpbWVzdGFtcCI6ICIyMDI1LTA5LTI3VDE0OjA5OjEzLjA1OTE2OSIsICJpdGVtcyI6IFt7Iml0ZW1faWQiOiAiaXRlbV84OTMiLCAicXVhbnRpdHkiOiAzLCAicHJpY2VfdXNkIjogMTguMjl9LCB7Iml0ZW1faWQiOiAiaXRlbV80MjUiLCAicXVhbnRpdHkiOiAyLCAicHJpY2VfdXNkIjogMTkuODV9LCB7Iml0ZW1faWQiOiAiaXRlbV82MzciLCAicXVhbnRpdHkiOiAxLCAicHJpY2VfdXNkIjogNzIuNTN9XX0=</td><td>null</td><td>{\"user_id\": \"user_4835\", \"event_type\": \"click\", \"event_timestamp\": \"2025-09-27T14:09:13.059169\", \"items\": [{\"item_id\": \"item_893\", \"quantity\": 3, \"price_usd\": 18.29}, {\"item_id\": \"item_425\", \"quantity\": 2, \"price_usd\": 19.85}, {\"item_id\": \"item_637\", \"quantity\": 1, \"price_usd\": 72.53}]}</td></tr><tr><td>event_1</td><td>1.758982153059242E9</td><td>eyJ1c2VyX2lkIjogInVzZXJfMTMxNSIsICJldmVudF90eXBlIjogInB1cmNoYXNlIiwgImV2ZW50X3RpbWVzdGFtcCI6ICIyMDI1LTA5LTI3VDE0OjA5OjEzLjA1OTIyNiIsICJpdGVtcyI6IFt7Iml0ZW1faWQiOiAiaXRlbV83NjYiLCAicXVhbnRpdHkiOiA0LCAicHJpY2VfdXNkIjogNTMuOTF9XX0=</td><td>null</td><td>{\"user_id\": \"user_1315\", \"event_type\": \"purchase\", \"event_timestamp\": \"2025-09-27T14:09:13.059226\", \"items\": [{\"item_id\": \"item_766\", \"quantity\": 4, \"price_usd\": 53.91}]}</td></tr><tr><td>event_2</td><td>1.758982153059263E9</td><td>eyJ1c2VyX2lkIjogInVzZXJfNDU0NSIsICJldmVudF90eXBlIjogInB1cmNoYXNlIiwgImV2ZW50X3RpbWVzdGFtcCI6ICIyMDI1LTA5LTI3VDE0OjA5OjEzLjA1OTI0NSIsICJpdGVtcyI6IFt7Iml0ZW1faWQiOiAiaXRlbV82MDEiLCAicXVhbnRpdHkiOiAxLCAicHJpY2VfdXNkIjogNDIuNjV9LCB7Iml0ZW1faWQiOiAiaXRlbV82MjQiLCAicXVhbnRpdHkiOiA1LCAicHJpY2VfdXNkIjogMjEuNn0sIHsiaXRlbV9pZCI6ICJpdGVtXzgwMCIsICJxdWFudGl0eSI6IDIsICJwcmljZV91c2QiOiA4NS4xMX1dfQ==</td><td>null</td><td>{\"user_id\": \"user_4545\", \"event_type\": \"purchase\", \"event_timestamp\": \"2025-09-27T14:09:13.059245\", \"items\": [{\"item_id\": \"item_601\", \"quantity\": 1, \"price_usd\": 42.65}, {\"item_id\": \"item_624\", \"quantity\": 5, \"price_usd\": 21.6}, {\"item_id\": \"item_800\", \"quantity\": 2, \"price_usd\": 85.11}]}</td></tr><tr><td>event_3</td><td>1.758982153059278E9</td><td>eyJ1c2VyX2lkIjogInVzZXJfNDg5NiIsICJldmVudF90eXBlIjogInB1cmNoYXNlIiwgImV2ZW50X3RpbWVzdGFtcCI6ICIyMDI1LTA5LTI3VDE0OjA5OjEzLjA1OTI2NSIsICJpdGVtcyI6IFt7Iml0ZW1faWQiOiAiaXRlbV84MTYiLCAicXVhbnRpdHkiOiA1LCAicHJpY2VfdXNkIjogNTQuODh9LCB7Iml0ZW1faWQiOiAiaXRlbV80ODUiLCAicXVhbnRpdHkiOiAzLCAicHJpY2VfdXNkIjogMjguNTV9XX0=</td><td>null</td><td>{\"user_id\": \"user_4896\", \"event_type\": \"purchase\", \"event_timestamp\": \"2025-09-27T14:09:13.059265\", \"items\": [{\"item_id\": \"item_816\", \"quantity\": 5, \"price_usd\": 54.88}, {\"item_id\": \"item_485\", \"quantity\": 3, \"price_usd\": 28.55}]}</td></tr><tr><td>event_4</td><td>1.758982153059304E9</td><td>eyJ1c2VyX2lkIjogInVzZXJfMjAwOSIsICJldmVudF90eXBlIjogImNsaWNrIiwgImV2ZW50X3RpbWVzdGFtcCI6ICIyMDI1LTA5LTI3VDE0OjA5OjEzLjA1OTI4MCIsICJpdGVtcyI6IFt7Iml0ZW1faWQiOiAiaXRlbV84MTEiLCAicXVhbnRpdHkiOiAxLCAicHJpY2VfdXNkIjogOTcuMjl9LCB7Iml0ZW1faWQiOiAiaXRlbV8xMDciLCAicXVhbnRpdHkiOiA0LCAicHJpY2VfdXNkIjogNTIuMzF9LCB7Iml0ZW1faWQiOiAiaXRlbV8yMDUiLCAicXVhbnRpdHkiOiAyLCAicHJpY2VfdXNkIjogOTIuNTh9XX0=</td><td>null</td><td>{\"user_id\": \"user_2009\", \"event_type\": \"click\", \"event_timestamp\": \"2025-09-27T14:09:13.059280\", \"items\": [{\"item_id\": \"item_811\", \"quantity\": 1, \"price_usd\": 97.29}, {\"item_id\": \"item_107\", \"quantity\": 4, \"price_usd\": 52.31}, {\"item_id\": \"item_205\", \"quantity\": 2, \"price_usd\": 92.58}]}</td></tr><tr><td>event_5</td><td>1.758982153059322E9</td><td>eyJ1c2VyX2lkIjogInVzZXJfNjM3MSIsICJldmVudF90eXBlIjogImNsaWNrIiwgImV2ZW50X3RpbWVzdGFtcCI6ICIyMDI1LTA5LTI3VDE0OjA5OjEzLjA1OTMwNyIsICJpdGVtcyI6IFt7Iml0ZW1faWQiOiAiaXRlbV8yNDAiLCAicXVhbnRpdHkiOiAxLCAicHJpY2VfdXNkIjogMTEuMjh9LCB7Iml0ZW1faWQiOiAiaXRlbV8xNzkiLCAicXVhbnRpdHkiOiA1LCAicHJpY2VfdXNkIjogODUuNjZ9LCB7Iml0ZW1faWQiOiAiaXRlbV80NjciLCAicXVhbnRpdHkiOiA0LCAicHJpY2VfdXNkIjogNDIuMTF9XX0=</td><td>null</td><td>{\"user_id\": \"user_6371\", \"event_type\": \"click\", \"event_timestamp\": \"2025-09-27T14:09:13.059307\", \"items\": [{\"item_id\": \"item_240\", \"quantity\": 1, \"price_usd\": 11.28}, {\"item_id\": \"item_179\", \"quantity\": 5, \"price_usd\": 85.66}, {\"item_id\": \"item_467\", \"quantity\": 4, \"price_usd\": 42.11}]}</td></tr><tr><td>event_6</td><td>1.758982153059335E9</td><td>eyJ1c2VyX2lkIjogInVzZXJfNDAzNCIsICJldmVudF90eXBlIjogInZpZXciLCAiZXZlbnRfdGltZXN0YW1wIjogIjIwMjUtMDktMjdUMTQ6MDk6MTMuMDU5MzI0IiwgIml0ZW1zIjogW3siaXRlbV9pZCI6ICJpdGVtXzM3NiIsICJxdWFudGl0eSI6IDQsICJwcmljZV91c2QiOiAyMi4yM30sIHsiaXRlbV9pZCI6ICJpdGVtXzg2MSIsICJxdWFudGl0eSI6IDEsICJwcmljZV91c2QiOiAzOS40Mn1dfQ==</td><td>null</td><td>{\"user_id\": \"user_4034\", \"event_type\": \"view\", \"event_timestamp\": \"2025-09-27T14:09:13.059324\", \"items\": [{\"item_id\": \"item_376\", \"quantity\": 4, \"price_usd\": 22.23}, {\"item_id\": \"item_861\", \"quantity\": 1, \"price_usd\": 39.42}]}</td></tr><tr><td>event_7</td><td>1.758982153059346E9</td><td>eyJ1c2VyX2lkIjogInVzZXJfMTA4NSIsICJldmVudF90eXBlIjogInZpZXciLCAiZXZlbnRfdGltZXN0YW1wIjogIjIwMjUtMDktMjdUMTQ6MDk6MTMuMDU5MzM3IiwgIml0ZW1zIjogW3siaXRlbV9pZCI6ICJpdGVtXzYyMCIsICJxdWFudGl0eSI6IDIsICJwcmljZV91c2QiOiAyNC42OH1dfQ==</td><td>null</td><td>{\"user_id\": \"user_1085\", \"event_type\": \"view\", \"event_timestamp\": \"2025-09-27T14:09:13.059337\", \"items\": [{\"item_id\": \"item_620\", \"quantity\": 2, \"price_usd\": 24.68}]}</td></tr><tr><td>event_8</td><td>1.758982153059356E9</td><td>eyJ1c2VyX2lkIjogInVzZXJfNDU3MiIsICJldmVudF90eXBlIjogInZpZXciLCAiZXZlbnRfdGltZXN0YW1wIjogIjIwMjUtMDktMjdUMTQ6MDk6MTMuMDU5MzQ4IiwgIml0ZW1zIjogW3siaXRlbV9pZCI6ICJpdGVtXzkwNiIsICJxdWFudGl0eSI6IDMsICJwcmljZV91c2QiOiA1Ni4yfV19</td><td>null</td><td>{\"user_id\": \"user_4572\", \"event_type\": \"view\", \"event_timestamp\": \"2025-09-27T14:09:13.059348\", \"items\": [{\"item_id\": \"item_906\", \"quantity\": 3, \"price_usd\": 56.2}]}</td></tr><tr><td>event_9</td><td>1.75898215305937E9</td><td>eyJ1c2VyX2lkIjogInVzZXJfOTQ3NyIsICJldmVudF90eXBlIjogInZpZXciLCAiZXZlbnRfdGltZXN0YW1wIjogIjIwMjUtMDktMjdUMTQ6MDk6MTMuMDU5MzU4IiwgIml0ZW1zIjogW3siaXRlbV9pZCI6ICJpdGVtXzgwOSIsICJxdWFudGl0eSI6IDEsICJwcmljZV91c2QiOiA1Mi45fSwgeyJpdGVtX2lkIjogIml0ZW1fNDkzIiwgInF1YW50aXR5IjogNCwgInByaWNlX3VzZCI6IDMyLjY1fV19</td><td>null</td><td>{\"user_id\": \"user_9477\", \"event_type\": \"view\", \"event_timestamp\": \"2025-09-27T14:09:13.059358\", \"items\": [{\"item_id\": \"item_809\", \"quantity\": 1, \"price_usd\": 52.9}, {\"item_id\": \"item_493\", \"quantity\": 4, \"price_usd\": 32.65}]}</td></tr><tr><td>event_10</td><td>1.758982153059386E9</td><td>eyJ1c2VyX2lkIjogInVzZXJfNDg4NCIsICJldmVudF90eXBlIjogInB1cmNoYXNlIiwgImV2ZW50X3RpbWVzdGFtcCI6ICIyMDI1LTA5LTI3VDE0OjA5OjEzLjA1OTM3MiIsICJpdGVtcyI6IFt7Iml0ZW1faWQiOiAiaXRlbV8yNzMiLCAicXVhbnRpdHkiOiAzLCAicHJpY2VfdXNkIjogNDUuNjZ9LCB7Iml0ZW1faWQiOiAiaXRlbV8xNjEiLCAicXVhbnRpdHkiOiAzLCAicHJpY2VfdXNkIjogOTcuNn0sIHsiaXRlbV9pZCI6ICJpdGVtXzk5OSIsICJxdWFudGl0eSI6IDEsICJwcmljZV91c2QiOiA0MS4zNX1dfQ==</td><td>null</td><td>{\"user_id\": \"user_4884\", \"event_type\": \"purchase\", \"event_timestamp\": \"2025-09-27T14:09:13.059372\", \"items\": [{\"item_id\": \"item_273\", \"quantity\": 3, \"price_usd\": 45.66}, {\"item_id\": \"item_161\", \"quantity\": 3, \"price_usd\": 97.6}, {\"item_id\": \"item_999\", \"quantity\": 1, \"price_usd\": 41.35}]}</td></tr><tr><td>event_11</td><td>1.758982153059402E9</td><td>eyJ1c2VyX2lkIjogInVzZXJfNTM1NiIsICJldmVudF90eXBlIjogImNsaWNrIiwgImV2ZW50X3RpbWVzdGFtcCI6ICIyMDI1LTA5LTI3VDE0OjA5OjEzLjA1OTM4OCIsICJpdGVtcyI6IFt7Iml0ZW1faWQiOiAiaXRlbV85NjciLCAicXVhbnRpdHkiOiAyLCAicHJpY2VfdXNkIjogNzUuMn0sIHsiaXRlbV9pZCI6ICJpdGVtXzQ2MyIsICJxdWFudGl0eSI6IDQsICJwcmljZV91c2QiOiAzOC40OH0sIHsiaXRlbV9pZCI6ICJpdGVtXzQzNSIsICJxdWFudGl0eSI6IDEsICJwcmljZV91c2QiOiA0MC41OX1dfQ==</td><td>null</td><td>{\"user_id\": \"user_5356\", \"event_type\": \"click\", \"event_timestamp\": \"2025-09-27T14:09:13.059388\", \"items\": [{\"item_id\": \"item_967\", \"quantity\": 2, \"price_usd\": 75.2}, {\"item_id\": \"item_463\", \"quantity\": 4, \"price_usd\": 38.48}, {\"item_id\": \"item_435\", \"quantity\": 1, \"price_usd\": 40.59}]}</td></tr><tr><td>event_12</td><td>1.758982153059415E9</td><td>eyJ1c2VyX2lkIjogInVzZXJfNzUxNSIsICJldmVudF90eXBlIjogInZpZXciLCAiZXZlbnRfdGltZXN0YW1wIjogIjIwMjUtMDktMjdUMTQ6MDk6MTMuMDU5NDA0IiwgIml0ZW1zIjogW3siaXRlbV9pZCI6ICJpdGVtXzgwNCIsICJxdWFudGl0eSI6IDIsICJwcmljZV91c2QiOiA3OC43Nn0sIHsiaXRlbV9pZCI6ICJpdGVtXzY0MSIsICJxdWFudGl0eSI6IDQsICJwcmljZV91c2QiOiA2OS4zOX1dfQ==</td><td>null</td><td>{\"user_id\": \"user_7515\", \"event_type\": \"view\", \"event_timestamp\": \"2025-09-27T14:09:13.059404\", \"items\": [{\"item_id\": \"item_804\", \"quantity\": 2, \"price_usd\": 78.76}, {\"item_id\": \"item_641\", \"quantity\": 4, \"price_usd\": 69.39}]}</td></tr><tr><td>event_13</td><td>1.758982153059426E9</td><td>eyJ1c2VyX2lkIjogInVzZXJfODI2NiIsICJldmVudF90eXBlIjogImNsaWNrIiwgImV2ZW50X3RpbWVzdGFtcCI6ICIyMDI1LTA5LTI3VDE0OjA5OjEzLjA1OTQxNyIsICJpdGVtcyI6IFt7Iml0ZW1faWQiOiAiaXRlbV84MzQiLCAicXVhbnRpdHkiOiAxLCAicHJpY2VfdXNkIjogMTAuMzR9XX0=</td><td>null</td><td>{\"user_id\": \"user_8266\", \"event_type\": \"click\", \"event_timestamp\": \"2025-09-27T14:09:13.059417\", \"items\": [{\"item_id\": \"item_834\", \"quantity\": 1, \"price_usd\": 10.34}]}</td></tr><tr><td>event_14</td><td>1.758982153059439E9</td><td>eyJ1c2VyX2lkIjogInVzZXJfMTE3OCIsICJldmVudF90eXBlIjogInB1cmNoYXNlIiwgImV2ZW50X3RpbWVzdGFtcCI6ICIyMDI1LTA5LTI3VDE0OjA5OjEzLjA1OTQyOCIsICJpdGVtcyI6IFt7Iml0ZW1faWQiOiAiaXRlbV84NTIiLCAicXVhbnRpdHkiOiA0LCAicHJpY2VfdXNkIjogOTAuNH0sIHsiaXRlbV9pZCI6ICJpdGVtXzI5NCIsICJxdWFudGl0eSI6IDUsICJwcmljZV91c2QiOiA4Ni40fV19</td><td>null</td><td>{\"user_id\": \"user_1178\", \"event_type\": \"purchase\", \"event_timestamp\": \"2025-09-27T14:09:13.059428\", \"items\": [{\"item_id\": \"item_852\", \"quantity\": 4, \"price_usd\": 90.4}, {\"item_id\": \"item_294\", \"quantity\": 5, \"price_usd\": 86.4}]}</td></tr><tr><td>event_15</td><td>1.758982153059449E9</td><td>eyJ1c2VyX2lkIjogInVzZXJfMjA3MCIsICJldmVudF90eXBlIjogImNsaWNrIiwgImV2ZW50X3RpbWVzdGFtcCI6ICIyMDI1LTA5LTI3VDE0OjA5OjEzLjA1OTQ0MSIsICJpdGVtcyI6IFt7Iml0ZW1faWQiOiAiaXRlbV81MTgiLCAicXVhbnRpdHkiOiA0LCAicHJpY2VfdXNkIjogMTguNjV9XX0=</td><td>null</td><td>{\"user_id\": \"user_2070\", \"event_type\": \"click\", \"event_timestamp\": \"2025-09-27T14:09:13.059441\", \"items\": [{\"item_id\": \"item_518\", \"quantity\": 4, \"price_usd\": 18.65}]}</td></tr><tr><td>event_16</td><td>1.758982153059462E9</td><td>eyJ1c2VyX2lkIjogInVzZXJfNjgwNCIsICJldmVudF90eXBlIjogInZpZXciLCAiZXZlbnRfdGltZXN0YW1wIjogIjIwMjUtMDktMjdUMTQ6MDk6MTMuMDU5NDUxIiwgIml0ZW1zIjogW3siaXRlbV9pZCI6ICJpdGVtXzUxNSIsICJxdWFudGl0eSI6IDIsICJwcmljZV91c2QiOiA5My43NX0sIHsiaXRlbV9pZCI6ICJpdGVtXzExOCIsICJxdWFudGl0eSI6IDQsICJwcmljZV91c2QiOiA2NS4yfV19</td><td>null</td><td>{\"user_id\": \"user_6804\", \"event_type\": \"view\", \"event_timestamp\": \"2025-09-27T14:09:13.059451\", \"items\": [{\"item_id\": \"item_515\", \"quantity\": 2, \"price_usd\": 93.75}, {\"item_id\": \"item_118\", \"quantity\": 4, \"price_usd\": 65.2}]}</td></tr><tr><td>event_17</td><td>1.758982153059478E9</td><td>eyJ1c2VyX2lkIjogInVzZXJfMTYxNyIsICJldmVudF90eXBlIjogInZpZXciLCAiZXZlbnRfdGltZXN0YW1wIjogIjIwMjUtMDktMjdUMTQ6MDk6MTMuMDU5NDY0IiwgIml0ZW1zIjogW3siaXRlbV9pZCI6ICJpdGVtXzcxOSIsICJxdWFudGl0eSI6IDMsICJwcmljZV91c2QiOiAzNy4wM30sIHsiaXRlbV9pZCI6ICJpdGVtXzIwNyIsICJxdWFudGl0eSI6IDQsICJwcmljZV91c2QiOiA3NC42OH0sIHsiaXRlbV9pZCI6ICJpdGVtXzQ4OCIsICJxdWFudGl0eSI6IDUsICJwcmljZV91c2QiOiAzNC4xNn1dfQ==</td><td>null</td><td>{\"user_id\": \"user_1617\", \"event_type\": \"view\", \"event_timestamp\": \"2025-09-27T14:09:13.059464\", \"items\": [{\"item_id\": \"item_719\", \"quantity\": 3, \"price_usd\": 37.03}, {\"item_id\": \"item_207\", \"quantity\": 4, \"price_usd\": 74.68}, {\"item_id\": \"item_488\", \"quantity\": 5, \"price_usd\": 34.16}]}</td></tr><tr><td>event_18</td><td>1.758982153059493E9</td><td>eyJ1c2VyX2lkIjogInVzZXJfMzU5MiIsICJldmVudF90eXBlIjogImNsaWNrIiwgImV2ZW50X3RpbWVzdGFtcCI6ICIyMDI1LTA5LTI3VDE0OjA5OjEzLjA1OTQ4MCIsICJpdGVtcyI6IFt7Iml0ZW1faWQiOiAiaXRlbV82MDYiLCAicXVhbnRpdHkiOiAzLCAicHJpY2VfdXNkIjogMzkuOTl9LCB7Iml0ZW1faWQiOiAiaXRlbV84NjEiLCAicXVhbnRpdHkiOiAyLCAicHJpY2VfdXNkIjogNzAuMjF9LCB7Iml0ZW1faWQiOiAiaXRlbV84ODQiLCAicXVhbnRpdHkiOiA1LCAicHJpY2VfdXNkIjogOTAuMjJ9XX0=</td><td>null</td><td>{\"user_id\": \"user_3592\", \"event_type\": \"click\", \"event_timestamp\": \"2025-09-27T14:09:13.059480\", \"items\": [{\"item_id\": \"item_606\", \"quantity\": 3, \"price_usd\": 39.99}, {\"item_id\": \"item_861\", \"quantity\": 2, \"price_usd\": 70.21}, {\"item_id\": \"item_884\", \"quantity\": 5, \"price_usd\": 90.22}]}</td></tr><tr><td>event_19</td><td>1.758982153059504E9</td><td>eyJ1c2VyX2lkIjogInVzZXJfNjU1OCIsICJldmVudF90eXBlIjogInB1cmNoYXNlIiwgImV2ZW50X3RpbWVzdGFtcCI6ICIyMDI1LTA5LTI3VDE0OjA5OjEzLjA1OTQ5NSIsICJpdGVtcyI6IFt7Iml0ZW1faWQiOiAiaXRlbV8yNDciLCAicXVhbnRpdHkiOiA0LCAicHJpY2VfdXNkIjogNzMuOH1dfQ==</td><td>null</td><td>{\"user_id\": \"user_6558\", \"event_type\": \"purchase\", \"event_timestamp\": \"2025-09-27T14:09:13.059495\", \"items\": [{\"item_id\": \"item_247\", \"quantity\": 4, \"price_usd\": 73.8}]}</td></tr><tr><td>event_20</td><td>1.758982153059519E9</td><td>eyJ1c2VyX2lkIjogInVzZXJfODkzMCIsICJldmVudF90eXBlIjogImNsaWNrIiwgImV2ZW50X3RpbWVzdGFtcCI6ICIyMDI1LTA5LTI3VDE0OjA5OjEzLjA1OTUwNSIsICJpdGVtcyI6IFt7Iml0ZW1faWQiOiAiaXRlbV8xMDkiLCAicXVhbnRpdHkiOiA0LCAicHJpY2VfdXNkIjogNDkuMjF9LCB7Iml0ZW1faWQiOiAiaXRlbV81NTgiLCAicXVhbnRpdHkiOiA0LCAicHJpY2VfdXNkIjogNzUuODR9LCB7Iml0ZW1faWQiOiAiaXRlbV84MTgiLCAicXVhbnRpdHkiOiAxLCAicHJpY2VfdXNkIjogODcuMDV9XX0=</td><td>null</td><td>{\"user_id\": \"user_8930\", \"event_type\": \"click\", \"event_timestamp\": \"2025-09-27T14:09:13.059505\", \"items\": [{\"item_id\": \"item_109\", \"quantity\": 4, \"price_usd\": 49.21}, {\"item_id\": \"item_558\", \"quantity\": 4, \"price_usd\": 75.84}, {\"item_id\": \"item_818\", \"quantity\": 1, \"price_usd\": 87.05}]}</td></tr><tr><td>event_21</td><td>1.758982153059538E9</td><td>eyJ1c2VyX2lkIjogInVzZXJfNjMwMyIsICJldmVudF90eXBlIjogInZpZXciLCAiZXZlbnRfdGltZXN0YW1wIjogIjIwMjUtMDktMjdUMTQ6MDk6MTMuMDU5NTIxIiwgIml0ZW1zIjogW3siaXRlbV9pZCI6ICJpdGVtXzY5MSIsICJxdWFudGl0eSI6IDQsICJwcmljZV91c2QiOiA4NC43NH0sIHsiaXRlbV9pZCI6ICJpdGVtXzUzMCIsICJxdWFudGl0eSI6IDEsICJwcmljZV91c2QiOiA0MS44NH1dfQ==</td><td>null</td><td>{\"user_id\": \"user_6303\", \"event_type\": \"view\", \"event_timestamp\": \"2025-09-27T14:09:13.059521\", \"items\": [{\"item_id\": \"item_691\", \"quantity\": 4, \"price_usd\": 84.74}, {\"item_id\": \"item_530\", \"quantity\": 1, \"price_usd\": 41.84}]}</td></tr><tr><td>event_22</td><td>1.758982153059566E9</td><td>eyJ1c2VyX2lkIjogInVzZXJfMjI1MyIsICJldmVudF90eXBlIjogInB1cmNoYXNlIiwgImV2ZW50X3RpbWVzdGFtcCI6ICIyMDI1LTA5LTI3VDE0OjA5OjEzLjA1OTU0MiIsICJpdGVtcyI6IFt7Iml0ZW1faWQiOiAiaXRlbV8zMTMiLCAicXVhbnRpdHkiOiAxLCAicHJpY2VfdXNkIjogNjAuMzF9LCB7Iml0ZW1faWQiOiAiaXRlbV80MTYiLCAicXVhbnRpdHkiOiAxLCAicHJpY2VfdXNkIjogMTQuNDR9XX0=</td><td>null</td><td>{\"user_id\": \"user_2253\", \"event_type\": \"purchase\", \"event_timestamp\": \"2025-09-27T14:09:13.059542\", \"items\": [{\"item_id\": \"item_313\", \"quantity\": 1, \"price_usd\": 60.31}, {\"item_id\": \"item_416\", \"quantity\": 1, \"price_usd\": 14.44}]}</td></tr><tr><td>event_23</td><td>1.758982153059589E9</td><td>eyJ1c2VyX2lkIjogInVzZXJfMzM3NyIsICJldmVudF90eXBlIjogInZpZXciLCAiZXZlbnRfdGltZXN0YW1wIjogIjIwMjUtMDktMjdUMTQ6MDk6MTMuMDU5NTY5IiwgIml0ZW1zIjogW3siaXRlbV9pZCI6ICJpdGVtXzg1MyIsICJxdWFudGl0eSI6IDEsICJwcmljZV91c2QiOiAxOS44Nn0sIHsiaXRlbV9pZCI6ICJpdGVtXzg4MyIsICJxdWFudGl0eSI6IDEsICJwcmljZV91c2QiOiAyNS4xfV19</td><td>null</td><td>{\"user_id\": \"user_3377\", \"event_type\": \"view\", \"event_timestamp\": \"2025-09-27T14:09:13.059569\", \"items\": [{\"item_id\": \"item_853\", \"quantity\": 1, \"price_usd\": 19.86}, {\"item_id\": \"item_883\", \"quantity\": 1, \"price_usd\": 25.1}]}</td></tr><tr><td>event_24</td><td>1.758982153059617E9</td><td>eyJ1c2VyX2lkIjogInVzZXJfNjgzMyIsICJldmVudF90eXBlIjogImNsaWNrIiwgImV2ZW50X3RpbWVzdGFtcCI6ICIyMDI1LTA5LTI3VDE0OjA5OjEzLjA1OTU5MiIsICJpdGVtcyI6IFt7Iml0ZW1faWQiOiAiaXRlbV85MzEiLCAicXVhbnRpdHkiOiA0LCAicHJpY2VfdXNkIjogOTkuMTJ9LCB7Iml0ZW1faWQiOiAiaXRlbV82NTkiLCAicXVhbnRpdHkiOiAzLCAicHJpY2VfdXNkIjogNDEuMjF9LCB7Iml0ZW1faWQiOiAiaXRlbV84MjAiLCAicXVhbnRpdHkiOiA1LCAicHJpY2VfdXNkIjogNTUuODl9XX0=</td><td>null</td><td>{\"user_id\": \"user_6833\", \"event_type\": \"click\", \"event_timestamp\": \"2025-09-27T14:09:13.059592\", \"items\": [{\"item_id\": \"item_931\", \"quantity\": 4, \"price_usd\": 99.12}, {\"item_id\": \"item_659\", \"quantity\": 3, \"price_usd\": 41.21}, {\"item_id\": \"item_820\", \"quantity\": 5, \"price_usd\": 55.89}]}</td></tr><tr><td>event_25</td><td>1.758982153059697E9</td><td>eyJ1c2VyX2lkIjogInVzZXJfOTI4OSIsICJldmVudF90eXBlIjogImNsaWNrIiwgImV2ZW50X3RpbWVzdGFtcCI6ICIyMDI1LTA5LTI3VDE0OjA5OjEzLjA1OTYyMSIsICJpdGVtcyI6IFt7Iml0ZW1faWQiOiAiaXRlbV81MzAiLCAicXVhbnRpdHkiOiAxLCAicHJpY2VfdXNkIjogOTkuMn0sIHsiaXRlbV9pZCI6ICJpdGVtXzE2OCIsICJxdWFudGl0eSI6IDMsICJwcmljZV91c2QiOiA1NS45NH0sIHsiaXRlbV9pZCI6ICJpdGVtXzM1NSIsICJxdWFudGl0eSI6IDMsICJwcmljZV91c2QiOiA1Ni4xNH1dfQ==</td><td>null</td><td>{\"user_id\": \"user_9289\", \"event_type\": \"click\", \"event_timestamp\": \"2025-09-27T14:09:13.059621\", \"items\": [{\"item_id\": \"item_530\", \"quantity\": 1, \"price_usd\": 99.2}, {\"item_id\": \"item_168\", \"quantity\": 3, \"price_usd\": 55.94}, {\"item_id\": \"item_355\", \"quantity\": 3, \"price_usd\": 56.14}]}</td></tr><tr><td>event_26</td><td>1.758982153059713E9</td><td>eyJ1c2VyX2lkIjogInVzZXJfNTExMyIsICJldmVudF90eXBlIjogInZpZXciLCAiZXZlbnRfdGltZXN0YW1wIjogIjIwMjUtMDktMjdUMTQ6MDk6MTMuMDU5NzAwIiwgIml0ZW1zIjogW3siaXRlbV9pZCI6ICJpdGVtXzMxMCIsICJxdWFudGl0eSI6IDIsICJwcmljZV91c2QiOiA3NC4yNX0sIHsiaXRlbV9pZCI6ICJpdGVtXzY4NCIsICJxdWFudGl0eSI6IDIsICJwcmljZV91c2QiOiA3NS42fV19</td><td>null</td><td>{\"user_id\": \"user_5113\", \"event_type\": \"view\", \"event_timestamp\": \"2025-09-27T14:09:13.059700\", \"items\": [{\"item_id\": \"item_310\", \"quantity\": 2, \"price_usd\": 74.25}, {\"item_id\": \"item_684\", \"quantity\": 2, \"price_usd\": 75.6}]}</td></tr><tr><td>event_27</td><td>1.758982153059727E9</td><td>eyJ1c2VyX2lkIjogInVzZXJfODc4MSIsICJldmVudF90eXBlIjogImNsaWNrIiwgImV2ZW50X3RpbWVzdGFtcCI6ICIyMDI1LTA5LTI3VDE0OjA5OjEzLjA1OTcxNSIsICJpdGVtcyI6IFt7Iml0ZW1faWQiOiAiaXRlbV82NzAiLCAicXVhbnRpdHkiOiA0LCAicHJpY2VfdXNkIjogMjEuNzZ9LCB7Iml0ZW1faWQiOiAiaXRlbV84MzYiLCAicXVhbnRpdHkiOiA1LCAicHJpY2VfdXNkIjogNDguNjN9XX0=</td><td>null</td><td>{\"user_id\": \"user_8781\", \"event_type\": \"click\", \"event_timestamp\": \"2025-09-27T14:09:13.059715\", \"items\": [{\"item_id\": \"item_670\", \"quantity\": 4, \"price_usd\": 21.76}, {\"item_id\": \"item_836\", \"quantity\": 5, \"price_usd\": 48.63}]}</td></tr><tr><td>event_28</td><td>1.758982153059739E9</td><td>eyJ1c2VyX2lkIjogInVzZXJfNzcwNyIsICJldmVudF90eXBlIjogInZpZXciLCAiZXZlbnRfdGltZXN0YW1wIjogIjIwMjUtMDktMjdUMTQ6MDk6MTMuMDU5NzI5IiwgIml0ZW1zIjogW3siaXRlbV9pZCI6ICJpdGVtXzkwNCIsICJxdWFudGl0eSI6IDUsICJwcmljZV91c2QiOiAzMy4wN30sIHsiaXRlbV9pZCI6ICJpdGVtXzc5MiIsICJxdWFudGl0eSI6IDIsICJwcmljZV91c2QiOiAyMC4zNX1dfQ==</td><td>null</td><td>{\"user_id\": \"user_7707\", \"event_type\": \"view\", \"event_timestamp\": \"2025-09-27T14:09:13.059729\", \"items\": [{\"item_id\": \"item_904\", \"quantity\": 5, \"price_usd\": 33.07}, {\"item_id\": \"item_792\", \"quantity\": 2, \"price_usd\": 20.35}]}</td></tr><tr><td>event_29</td><td>1.758982153059752E9</td><td>eyJ1c2VyX2lkIjogInVzZXJfNjcxNiIsICJldmVudF90eXBlIjogImNsaWNrIiwgImV2ZW50X3RpbWVzdGFtcCI6ICIyMDI1LTA5LTI3VDE0OjA5OjEzLjA1OTc0MiIsICJpdGVtcyI6IFt7Iml0ZW1faWQiOiAiaXRlbV8xNTciLCAicXVhbnRpdHkiOiA1LCAicHJpY2VfdXNkIjogNjcuNjF9LCB7Iml0ZW1faWQiOiAiaXRlbV8zMzAiLCAicXVhbnRpdHkiOiAyLCAicHJpY2VfdXNkIjogODkuNDR9XX0=</td><td>null</td><td>{\"user_id\": \"user_6716\", \"event_type\": \"click\", \"event_timestamp\": \"2025-09-27T14:09:13.059742\", \"items\": [{\"item_id\": \"item_157\", \"quantity\": 5, \"price_usd\": 67.61}, {\"item_id\": \"item_330\", \"quantity\": 2, \"price_usd\": 89.44}]}</td></tr><tr><td>event_30</td><td>1.758982153059765E9</td><td>eyJ1c2VyX2lkIjogInVzZXJfOTczMiIsICJldmVudF90eXBlIjogInB1cmNoYXNlIiwgImV2ZW50X3RpbWVzdGFtcCI6ICIyMDI1LTA5LTI3VDE0OjA5OjEzLjA1OTc1NCIsICJpdGVtcyI6IFt7Iml0ZW1faWQiOiAiaXRlbV80OTEiLCAicXVhbnRpdHkiOiAyLCAicHJpY2VfdXNkIjogMzYuMjN9LCB7Iml0ZW1faWQiOiAiaXRlbV80NTQiLCAicXVhbnRpdHkiOiAyLCAicHJpY2VfdXNkIjogODUuNzZ9XX0=</td><td>null</td><td>{\"user_id\": \"user_9732\", \"event_type\": \"purchase\", \"event_timestamp\": \"2025-09-27T14:09:13.059754\", \"items\": [{\"item_id\": \"item_491\", \"quantity\": 2, \"price_usd\": 36.23}, {\"item_id\": \"item_454\", \"quantity\": 2, \"price_usd\": 85.76}]}</td></tr><tr><td>event_31</td><td>1.758982153059781E9</td><td>eyJ1c2VyX2lkIjogInVzZXJfNTQ1OCIsICJldmVudF90eXBlIjogInB1cmNoYXNlIiwgImV2ZW50X3RpbWVzdGFtcCI6ICIyMDI1LTA5LTI3VDE0OjA5OjEzLjA1OTc2NyIsICJpdGVtcyI6IFt7Iml0ZW1faWQiOiAiaXRlbV84NjciLCAicXVhbnRpdHkiOiAxLCAicHJpY2VfdXNkIjogODguOTR9LCB7Iml0ZW1faWQiOiAiaXRlbV80OTciLCAicXVhbnRpdHkiOiAyLCAicHJpY2VfdXNkIjogNDYuMTF9LCB7Iml0ZW1faWQiOiAiaXRlbV84NDgiLCAicXVhbnRpdHkiOiAxLCAicHJpY2VfdXNkIjogMzcuMDN9XX0=</td><td>null</td><td>{\"user_id\": \"user_5458\", \"event_type\": \"purchase\", \"event_timestamp\": \"2025-09-27T14:09:13.059767\", \"items\": [{\"item_id\": \"item_867\", \"quantity\": 1, \"price_usd\": 88.94}, {\"item_id\": \"item_497\", \"quantity\": 2, \"price_usd\": 46.11}, {\"item_id\": \"item_848\", \"quantity\": 1, \"price_usd\": 37.03}]}</td></tr><tr><td>event_32</td><td>1.758982153059797E9</td><td>eyJ1c2VyX2lkIjogInVzZXJfNTI3MSIsICJldmVudF90eXBlIjogImNsaWNrIiwgImV2ZW50X3RpbWVzdGFtcCI6ICIyMDI1LTA5LTI3VDE0OjA5OjEzLjA1OTc4MyIsICJpdGVtcyI6IFt7Iml0ZW1faWQiOiAiaXRlbV85NzIiLCAicXVhbnRpdHkiOiA1LCAicHJpY2VfdXNkIjogNTEuNDZ9LCB7Iml0ZW1faWQiOiAiaXRlbV83NTgiLCAicXVhbnRpdHkiOiA1LCAicHJpY2VfdXNkIjogMTkuODF9LCB7Iml0ZW1faWQiOiAiaXRlbV8zMDQiLCAicXVhbnRpdHkiOiAxLCAicHJpY2VfdXNkIjogNDkuNDJ9XX0=</td><td>null</td><td>{\"user_id\": \"user_5271\", \"event_type\": \"click\", \"event_timestamp\": \"2025-09-27T14:09:13.059783\", \"items\": [{\"item_id\": \"item_972\", \"quantity\": 5, \"price_usd\": 51.46}, {\"item_id\": \"item_758\", \"quantity\": 5, \"price_usd\": 19.81}, {\"item_id\": \"item_304\", \"quantity\": 1, \"price_usd\": 49.42}]}</td></tr><tr><td>event_33</td><td>1.75898215305981E9</td><td>eyJ1c2VyX2lkIjogInVzZXJfMTg3NCIsICJldmVudF90eXBlIjogInB1cmNoYXNlIiwgImV2ZW50X3RpbWVzdGFtcCI6ICIyMDI1LTA5LTI3VDE0OjA5OjEzLjA1OTc5OSIsICJpdGVtcyI6IFt7Iml0ZW1faWQiOiAiaXRlbV8zOTgiLCAicXVhbnRpdHkiOiA1LCAicHJpY2VfdXNkIjogNTkuNDV9XX0=</td><td>null</td><td>{\"user_id\": \"user_1874\", \"event_type\": \"purchase\", \"event_timestamp\": \"2025-09-27T14:09:13.059799\", \"items\": [{\"item_id\": \"item_398\", \"quantity\": 5, \"price_usd\": 59.45}]}</td></tr><tr><td>event_34</td><td>1.758982153059833E9</td><td>eyJ1c2VyX2lkIjogInVzZXJfODIyOSIsICJldmVudF90eXBlIjogImNsaWNrIiwgImV2ZW50X3RpbWVzdGFtcCI6ICIyMDI1LTA5LTI3VDE0OjA5OjEzLjA1OTgxNCIsICJpdGVtcyI6IFt7Iml0ZW1faWQiOiAiaXRlbV8yMzgiLCAicXVhbnRpdHkiOiA1LCAicHJpY2VfdXNkIjogMjAuNTR9LCB7Iml0ZW1faWQiOiAiaXRlbV8yNDAiLCAicXVhbnRpdHkiOiAzLCAicHJpY2VfdXNkIjogMzYuMjl9XX0=</td><td>null</td><td>{\"user_id\": \"user_8229\", \"event_type\": \"click\", \"event_timestamp\": \"2025-09-27T14:09:13.059814\", \"items\": [{\"item_id\": \"item_238\", \"quantity\": 5, \"price_usd\": 20.54}, {\"item_id\": \"item_240\", \"quantity\": 3, \"price_usd\": 36.29}]}</td></tr><tr><td>event_35</td><td>1.758982153059861E9</td><td>eyJ1c2VyX2lkIjogInVzZXJfNDcyNCIsICJldmVudF90eXBlIjogInB1cmNoYXNlIiwgImV2ZW50X3RpbWVzdGFtcCI6ICIyMDI1LTA5LTI3VDE0OjA5OjEzLjA1OTgzNSIsICJpdGVtcyI6IFt7Iml0ZW1faWQiOiAiaXRlbV81NDciLCAicXVhbnRpdHkiOiAxLCAicHJpY2VfdXNkIjogNDQuMTl9LCB7Iml0ZW1faWQiOiAiaXRlbV80MzYiLCAicXVhbnRpdHkiOiAzLCAicHJpY2VfdXNkIjogNzMuNH1dfQ==</td><td>null</td><td>{\"user_id\": \"user_4724\", \"event_type\": \"purchase\", \"event_timestamp\": \"2025-09-27T14:09:13.059835\", \"items\": [{\"item_id\": \"item_547\", \"quantity\": 1, \"price_usd\": 44.19}, {\"item_id\": \"item_436\", \"quantity\": 3, \"price_usd\": 73.4}]}</td></tr><tr><td>event_36</td><td>1.758982153059875E9</td><td>eyJ1c2VyX2lkIjogInVzZXJfNDUzMyIsICJldmVudF90eXBlIjogInZpZXciLCAiZXZlbnRfdGltZXN0YW1wIjogIjIwMjUtMDktMjdUMTQ6MDk6MTMuMDU5ODY0IiwgIml0ZW1zIjogW3siaXRlbV9pZCI6ICJpdGVtXzI0NSIsICJxdWFudGl0eSI6IDMsICJwcmljZV91c2QiOiA0NC42NH1dfQ==</td><td>null</td><td>{\"user_id\": \"user_4533\", \"event_type\": \"view\", \"event_timestamp\": \"2025-09-27T14:09:13.059864\", \"items\": [{\"item_id\": \"item_245\", \"quantity\": 3, \"price_usd\": 44.64}]}</td></tr><tr><td>event_37</td><td>1.758982153059886E9</td><td>eyJ1c2VyX2lkIjogInVzZXJfMTU5MiIsICJldmVudF90eXBlIjogInB1cmNoYXNlIiwgImV2ZW50X3RpbWVzdGFtcCI6ICIyMDI1LTA5LTI3VDE0OjA5OjEzLjA1OTg3NyIsICJpdGVtcyI6IFt7Iml0ZW1faWQiOiAiaXRlbV80NjEiLCAicXVhbnRpdHkiOiAyLCAicHJpY2VfdXNkIjogNTQuNTN9XX0=</td><td>null</td><td>{\"user_id\": \"user_1592\", \"event_type\": \"purchase\", \"event_timestamp\": \"2025-09-27T14:09:13.059877\", \"items\": [{\"item_id\": \"item_461\", \"quantity\": 2, \"price_usd\": 54.53}]}</td></tr><tr><td>event_38</td><td>1.758982153059896E9</td><td>eyJ1c2VyX2lkIjogInVzZXJfODIwMCIsICJldmVudF90eXBlIjogImNsaWNrIiwgImV2ZW50X3RpbWVzdGFtcCI6ICIyMDI1LTA5LTI3VDE0OjA5OjEzLjA1OTg4OCIsICJpdGVtcyI6IFt7Iml0ZW1faWQiOiAiaXRlbV80ODEiLCAicXVhbnRpdHkiOiAyLCAicHJpY2VfdXNkIjogNTYuMTF9XX0=</td><td>null</td><td>{\"user_id\": \"user_8200\", \"event_type\": \"click\", \"event_timestamp\": \"2025-09-27T14:09:13.059888\", \"items\": [{\"item_id\": \"item_481\", \"quantity\": 2, \"price_usd\": 56.11}]}</td></tr><tr><td>event_39</td><td>1.758982153059913E9</td><td>eyJ1c2VyX2lkIjogInVzZXJfNzM3OCIsICJldmVudF90eXBlIjogInZpZXciLCAiZXZlbnRfdGltZXN0YW1wIjogIjIwMjUtMDktMjdUMTQ6MDk6MTMuMDU5ODk4IiwgIml0ZW1zIjogW3siaXRlbV9pZCI6ICJpdGVtXzQ1NCIsICJxdWFudGl0eSI6IDUsICJwcmljZV91c2QiOiA1Ni4yNH0sIHsiaXRlbV9pZCI6ICJpdGVtXzE1NyIsICJxdWFudGl0eSI6IDEsICJwcmljZV91c2QiOiA0MS41Nn0sIHsiaXRlbV9pZCI6ICJpdGVtXzU3MCIsICJxdWFudGl0eSI6IDQsICJwcmljZV91c2QiOiA0OC4wMX1dfQ==</td><td>null</td><td>{\"user_id\": \"user_7378\", \"event_type\": \"view\", \"event_timestamp\": \"2025-09-27T14:09:13.059898\", \"items\": [{\"item_id\": \"item_454\", \"quantity\": 5, \"price_usd\": 56.24}, {\"item_id\": \"item_157\", \"quantity\": 1, \"price_usd\": 41.56}, {\"item_id\": \"item_570\", \"quantity\": 4, \"price_usd\": 48.01}]}</td></tr><tr><td>event_40</td><td>1.758982153059929E9</td><td>eyJ1c2VyX2lkIjogInVzZXJfMTcyMSIsICJldmVudF90eXBlIjogInB1cmNoYXNlIiwgImV2ZW50X3RpbWVzdGFtcCI6ICIyMDI1LTA5LTI3VDE0OjA5OjEzLjA1OTkxNSIsICJpdGVtcyI6IFt7Iml0ZW1faWQiOiAiaXRlbV84NTIiLCAicXVhbnRpdHkiOiA0LCAicHJpY2VfdXNkIjogNjcuNzd9LCB7Iml0ZW1faWQiOiAiaXRlbV8xMDQiLCAicXVhbnRpdHkiOiAyLCAicHJpY2VfdXNkIjogNjYuMjR9LCB7Iml0ZW1faWQiOiAiaXRlbV82MTEiLCAicXVhbnRpdHkiOiAxLCAicHJpY2VfdXNkIjogMTUuNTR9XX0=</td><td>null</td><td>{\"user_id\": \"user_1721\", \"event_type\": \"purchase\", \"event_timestamp\": \"2025-09-27T14:09:13.059915\", \"items\": [{\"item_id\": \"item_852\", \"quantity\": 4, \"price_usd\": 67.77}, {\"item_id\": \"item_104\", \"quantity\": 2, \"price_usd\": 66.24}, {\"item_id\": \"item_611\", \"quantity\": 1, \"price_usd\": 15.54}]}</td></tr><tr><td>event_41</td><td>1.758982153059939E9</td><td>eyJ1c2VyX2lkIjogInVzZXJfMjE0MyIsICJldmVudF90eXBlIjogImNsaWNrIiwgImV2ZW50X3RpbWVzdGFtcCI6ICIyMDI1LTA5LTI3VDE0OjA5OjEzLjA1OTkzMSIsICJpdGVtcyI6IFt7Iml0ZW1faWQiOiAiaXRlbV80MjEiLCAicXVhbnRpdHkiOiA1LCAicHJpY2VfdXNkIjogNjkuNjJ9XX0=</td><td>null</td><td>{\"user_id\": \"user_2143\", \"event_type\": \"click\", \"event_timestamp\": \"2025-09-27T14:09:13.059931\", \"items\": [{\"item_id\": \"item_421\", \"quantity\": 5, \"price_usd\": 69.62}]}</td></tr><tr><td>event_42</td><td>1.758982153059955E9</td><td>eyJ1c2VyX2lkIjogInVzZXJfNTc0MSIsICJldmVudF90eXBlIjogInB1cmNoYXNlIiwgImV2ZW50X3RpbWVzdGFtcCI6ICIyMDI1LTA5LTI3VDE0OjA5OjEzLjA1OTk0MSIsICJpdGVtcyI6IFt7Iml0ZW1faWQiOiAiaXRlbV8zMDMiLCAicXVhbnRpdHkiOiA1LCAicHJpY2VfdXNkIjogOTYuMDJ9LCB7Iml0ZW1faWQiOiAiaXRlbV8zMTMiLCAicXVhbnRpdHkiOiA0LCAicHJpY2VfdXNkIjogNDQuNDd9LCB7Iml0ZW1faWQiOiAiaXRlbV81NzAiLCAicXVhbnRpdHkiOiA0LCAicHJpY2VfdXNkIjogMjYuNjV9XX0=</td><td>null</td><td>{\"user_id\": \"user_5741\", \"event_type\": \"purchase\", \"event_timestamp\": \"2025-09-27T14:09:13.059941\", \"items\": [{\"item_id\": \"item_303\", \"quantity\": 5, \"price_usd\": 96.02}, {\"item_id\": \"item_313\", \"quantity\": 4, \"price_usd\": 44.47}, {\"item_id\": \"item_570\", \"quantity\": 4, \"price_usd\": 26.65}]}</td></tr><tr><td>event_43</td><td>1.758982153059965E9</td><td>eyJ1c2VyX2lkIjogInVzZXJfMjA1MyIsICJldmVudF90eXBlIjogInB1cmNoYXNlIiwgImV2ZW50X3RpbWVzdGFtcCI6ICIyMDI1LTA5LTI3VDE0OjA5OjEzLjA1OTk1NyIsICJpdGVtcyI6IFt7Iml0ZW1faWQiOiAiaXRlbV84NjEiLCAicXVhbnRpdHkiOiAzLCAicHJpY2VfdXNkIjogNzAuNTV9XX0=</td><td>null</td><td>{\"user_id\": \"user_2053\", \"event_type\": \"purchase\", \"event_timestamp\": \"2025-09-27T14:09:13.059957\", \"items\": [{\"item_id\": \"item_861\", \"quantity\": 3, \"price_usd\": 70.55}]}</td></tr><tr><td>event_44</td><td>1.758982153059978E9</td><td>eyJ1c2VyX2lkIjogInVzZXJfMzY4MiIsICJldmVudF90eXBlIjogInB1cmNoYXNlIiwgImV2ZW50X3RpbWVzdGFtcCI6ICIyMDI1LTA5LTI3VDE0OjA5OjEzLjA1OTk2NyIsICJpdGVtcyI6IFt7Iml0ZW1faWQiOiAiaXRlbV85MjkiLCAicXVhbnRpdHkiOiA0LCAicHJpY2VfdXNkIjogMzAuNX0sIHsiaXRlbV9pZCI6ICJpdGVtXzUzMyIsICJxdWFudGl0eSI6IDEsICJwcmljZV91c2QiOiA0OS4yMX1dfQ==</td><td>null</td><td>{\"user_id\": \"user_3682\", \"event_type\": \"purchase\", \"event_timestamp\": \"2025-09-27T14:09:13.059967\", \"items\": [{\"item_id\": \"item_929\", \"quantity\": 4, \"price_usd\": 30.5}, {\"item_id\": \"item_533\", \"quantity\": 1, \"price_usd\": 49.21}]}</td></tr><tr><td>event_45</td><td>1.75898215305999E9</td><td>eyJ1c2VyX2lkIjogInVzZXJfNzg3NSIsICJldmVudF90eXBlIjogInZpZXciLCAiZXZlbnRfdGltZXN0YW1wIjogIjIwMjUtMDktMjdUMTQ6MDk6MTMuMDU5OTc5IiwgIml0ZW1zIjogW3siaXRlbV9pZCI6ICJpdGVtXzczMSIsICJxdWFudGl0eSI6IDIsICJwcmljZV91c2QiOiA3NS42OX0sIHsiaXRlbV9pZCI6ICJpdGVtXzI1OCIsICJxdWFudGl0eSI6IDUsICJwcmljZV91c2QiOiA0MS40N31dfQ==</td><td>null</td><td>{\"user_id\": \"user_7875\", \"event_type\": \"view\", \"event_timestamp\": \"2025-09-27T14:09:13.059979\", \"items\": [{\"item_id\": \"item_731\", \"quantity\": 2, \"price_usd\": 75.69}, {\"item_id\": \"item_258\", \"quantity\": 5, \"price_usd\": 41.47}]}</td></tr><tr><td>event_46</td><td>1.75898215306E9</td><td>eyJ1c2VyX2lkIjogInVzZXJfMjIzMSIsICJldmVudF90eXBlIjogInB1cmNoYXNlIiwgImV2ZW50X3RpbWVzdGFtcCI6ICIyMDI1LTA5LTI3VDE0OjA5OjEzLjA1OTk5MiIsICJpdGVtcyI6IFt7Iml0ZW1faWQiOiAiaXRlbV84NTEiLCAicXVhbnRpdHkiOiAyLCAicHJpY2VfdXNkIjogMTIuOTJ9XX0=</td><td>null</td><td>{\"user_id\": \"user_2231\", \"event_type\": \"purchase\", \"event_timestamp\": \"2025-09-27T14:09:13.059992\", \"items\": [{\"item_id\": \"item_851\", \"quantity\": 2, \"price_usd\": 12.92}]}</td></tr><tr><td>event_47</td><td>1.758982153060011E9</td><td>eyJ1c2VyX2lkIjogInVzZXJfMjY5NSIsICJldmVudF90eXBlIjogInB1cmNoYXNlIiwgImV2ZW50X3RpbWVzdGFtcCI6ICIyMDI1LTA5LTI3VDE0OjA5OjEzLjA2MDAwMiIsICJpdGVtcyI6IFt7Iml0ZW1faWQiOiAiaXRlbV83NTEiLCAicXVhbnRpdHkiOiAyLCAicHJpY2VfdXNkIjogMjcuNzN9XX0=</td><td>null</td><td>{\"user_id\": \"user_2695\", \"event_type\": \"purchase\", \"event_timestamp\": \"2025-09-27T14:09:13.060002\", \"items\": [{\"item_id\": \"item_751\", \"quantity\": 2, \"price_usd\": 27.73}]}</td></tr><tr><td>event_48</td><td>1.758982153060026E9</td><td>eyJ1c2VyX2lkIjogInVzZXJfMTc1NSIsICJldmVudF90eXBlIjogInB1cmNoYXNlIiwgImV2ZW50X3RpbWVzdGFtcCI6ICIyMDI1LTA5LTI3VDE0OjA5OjEzLjA2MDAxMiIsICJpdGVtcyI6IFt7Iml0ZW1faWQiOiAiaXRlbV8xODkiLCAicXVhbnRpdHkiOiAzLCAicHJpY2VfdXNkIjogMTQuOTF9LCB7Iml0ZW1faWQiOiAiaXRlbV8zMDEiLCAicXVhbnRpdHkiOiA1LCAicHJpY2VfdXNkIjogODYuMzV9LCB7Iml0ZW1faWQiOiAiaXRlbV82MDMiLCAicXVhbnRpdHkiOiAxLCAicHJpY2VfdXNkIjogNzAuNTh9XX0=</td><td>null</td><td>{\"user_id\": \"user_1755\", \"event_type\": \"purchase\", \"event_timestamp\": \"2025-09-27T14:09:13.060012\", \"items\": [{\"item_id\": \"item_189\", \"quantity\": 3, \"price_usd\": 14.91}, {\"item_id\": \"item_301\", \"quantity\": 5, \"price_usd\": 86.35}, {\"item_id\": \"item_603\", \"quantity\": 1, \"price_usd\": 70.58}]}</td></tr><tr><td>event_49</td><td>1.758982153060047E9</td><td>eyJ1c2VyX2lkIjogInVzZXJfNDM3MyIsICJldmVudF90eXBlIjogImNsaWNrIiwgImV2ZW50X3RpbWVzdGFtcCI6ICIyMDI1LTA5LTI3VDE0OjA5OjEzLjA2MDAyOCIsICJpdGVtcyI6IFt7Iml0ZW1faWQiOiAiaXRlbV83NTgiLCAicXVhbnRpdHkiOiAzLCAicHJpY2VfdXNkIjogNDQuODZ9LCB7Iml0ZW1faWQiOiAiaXRlbV85NzciLCAicXVhbnRpdHkiOiA0LCAicHJpY2VfdXNkIjogMTMuNTd9XX0=</td><td>null</td><td>{\"user_id\": \"user_4373\", \"event_type\": \"click\", \"event_timestamp\": \"2025-09-27T14:09:13.060028\", \"items\": [{\"item_id\": \"item_758\", \"quantity\": 3, \"price_usd\": 44.86}, {\"item_id\": \"item_977\", \"quantity\": 4, \"price_usd\": 13.57}]}</td></tr><tr><td>event_50</td><td>1.758982153060063E9</td><td>eyJ1c2VyX2lkIjogInVzZXJfNzEzMSIsICJldmVudF90eXBlIjogInB1cmNoYXNlIiwgImV2ZW50X3RpbWVzdGFtcCI6ICIyMDI1LTA5LTI3VDE0OjA5OjEzLjA2MDA1MCIsICJpdGVtcyI6IFt7Iml0ZW1faWQiOiAiaXRlbV8xODUiLCAicXVhbnRpdHkiOiAyLCAicHJpY2VfdXNkIjogNTkuMTd9XX0=</td><td>null</td><td>{\"user_id\": \"user_7131\", \"event_type\": \"purchase\", \"event_timestamp\": \"2025-09-27T14:09:13.060050\", \"items\": [{\"item_id\": \"item_185\", \"quantity\": 2, \"price_usd\": 59.17}]}</td></tr><tr><td>event_51</td><td>1.758982153060079E9</td><td>eyJ1c2VyX2lkIjogInVzZXJfNzUwNSIsICJldmVudF90eXBlIjogInZpZXciLCAiZXZlbnRfdGltZXN0YW1wIjogIjIwMjUtMDktMjdUMTQ6MDk6MTMuMDYwMDY2IiwgIml0ZW1zIjogW3siaXRlbV9pZCI6ICJpdGVtXzk4MCIsICJxdWFudGl0eSI6IDMsICJwcmljZV91c2QiOiA0OC4zOX1dfQ==</td><td>null</td><td>{\"user_id\": \"user_7505\", \"event_type\": \"view\", \"event_timestamp\": \"2025-09-27T14:09:13.060066\", \"items\": [{\"item_id\": \"item_980\", \"quantity\": 3, \"price_usd\": 48.39}]}</td></tr><tr><td>event_52</td><td>1.75898215306009E9</td><td>eyJ1c2VyX2lkIjogInVzZXJfNjQxOCIsICJldmVudF90eXBlIjogInZpZXciLCAiZXZlbnRfdGltZXN0YW1wIjogIjIwMjUtMDktMjdUMTQ6MDk6MTMuMDYwMDgxIiwgIml0ZW1zIjogW3siaXRlbV9pZCI6ICJpdGVtXzcxMCIsICJxdWFudGl0eSI6IDEsICJwcmljZV91c2QiOiAyNi4xOX1dfQ==</td><td>null</td><td>{\"user_id\": \"user_6418\", \"event_type\": \"view\", \"event_timestamp\": \"2025-09-27T14:09:13.060081\", \"items\": [{\"item_id\": \"item_710\", \"quantity\": 1, \"price_usd\": 26.19}]}</td></tr><tr><td>event_53</td><td>1.758982153060106E9</td><td>eyJ1c2VyX2lkIjogInVzZXJfOTQ4NiIsICJldmVudF90eXBlIjogInB1cmNoYXNlIiwgImV2ZW50X3RpbWVzdGFtcCI6ICIyMDI1LTA5LTI3VDE0OjA5OjEzLjA2MDA5MiIsICJpdGVtcyI6IFt7Iml0ZW1faWQiOiAiaXRlbV80MzMiLCAicXVhbnRpdHkiOiA1LCAicHJpY2VfdXNkIjogMzUuMzF9LCB7Iml0ZW1faWQiOiAiaXRlbV82ODEiLCAicXVhbnRpdHkiOiAyLCAicHJpY2VfdXNkIjogOTcuMzJ9LCB7Iml0ZW1faWQiOiAiaXRlbV8zMjYiLCAicXVhbnRpdHkiOiA1LCAicHJpY2VfdXNkIjogMzAuMzJ9XX0=</td><td>null</td><td>{\"user_id\": \"user_9486\", \"event_type\": \"purchase\", \"event_timestamp\": \"2025-09-27T14:09:13.060092\", \"items\": [{\"item_id\": \"item_433\", \"quantity\": 5, \"price_usd\": 35.31}, {\"item_id\": \"item_681\", \"quantity\": 2, \"price_usd\": 97.32}, {\"item_id\": \"item_326\", \"quantity\": 5, \"price_usd\": 30.32}]}</td></tr><tr><td>event_54</td><td>1.758982153060122E9</td><td>eyJ1c2VyX2lkIjogInVzZXJfNTA5MCIsICJldmVudF90eXBlIjogInB1cmNoYXNlIiwgImV2ZW50X3RpbWVzdGFtcCI6ICIyMDI1LTA5LTI3VDE0OjA5OjEzLjA2MDEwOSIsICJpdGVtcyI6IFt7Iml0ZW1faWQiOiAiaXRlbV8xMDYiLCAicXVhbnRpdHkiOiAyLCAicHJpY2VfdXNkIjogMjYuMDV9LCB7Iml0ZW1faWQiOiAiaXRlbV8xMjMiLCAicXVhbnRpdHkiOiAxLCAicHJpY2VfdXNkIjogNjcuNjR9LCB7Iml0ZW1faWQiOiAiaXRlbV83MzgiLCAicXVhbnRpdHkiOiAyLCAicHJpY2VfdXNkIjogMTMuMH1dfQ==</td><td>null</td><td>{\"user_id\": \"user_5090\", \"event_type\": \"purchase\", \"event_timestamp\": \"2025-09-27T14:09:13.060109\", \"items\": [{\"item_id\": \"item_106\", \"quantity\": 2, \"price_usd\": 26.05}, {\"item_id\": \"item_123\", \"quantity\": 1, \"price_usd\": 67.64}, {\"item_id\": \"item_738\", \"quantity\": 2, \"price_usd\": 13.0}]}</td></tr><tr><td>event_55</td><td>1.758982153060138E9</td><td>eyJ1c2VyX2lkIjogInVzZXJfNTQ0NCIsICJldmVudF90eXBlIjogInZpZXciLCAiZXZlbnRfdGltZXN0YW1wIjogIjIwMjUtMDktMjdUMTQ6MDk6MTMuMDYwMTI0IiwgIml0ZW1zIjogW3siaXRlbV9pZCI6ICJpdGVtXzIyNiIsICJxdWFudGl0eSI6IDIsICJwcmljZV91c2QiOiAxMi42M30sIHsiaXRlbV9pZCI6ICJpdGVtXzMzMCIsICJxdWFudGl0eSI6IDEsICJwcmljZV91c2QiOiA5NC4zNn0sIHsiaXRlbV9pZCI6ICJpdGVtXzY1MiIsICJxdWFudGl0eSI6IDUsICJwcmljZV91c2QiOiA0Mi42fV19</td><td>null</td><td>{\"user_id\": \"user_5444\", \"event_type\": \"view\", \"event_timestamp\": \"2025-09-27T14:09:13.060124\", \"items\": [{\"item_id\": \"item_226\", \"quantity\": 2, \"price_usd\": 12.63}, {\"item_id\": \"item_330\", \"quantity\": 1, \"price_usd\": 94.36}, {\"item_id\": \"item_652\", \"quantity\": 5, \"price_usd\": 42.6}]}</td></tr><tr><td>event_56</td><td>1.758982153060149E9</td><td>eyJ1c2VyX2lkIjogInVzZXJfMjM1MyIsICJldmVudF90eXBlIjogImNsaWNrIiwgImV2ZW50X3RpbWVzdGFtcCI6ICIyMDI1LTA5LTI3VDE0OjA5OjEzLjA2MDE0MCIsICJpdGVtcyI6IFt7Iml0ZW1faWQiOiAiaXRlbV84NDUiLCAicXVhbnRpdHkiOiAzLCAicHJpY2VfdXNkIjogODMuNzJ9XX0=</td><td>null</td><td>{\"user_id\": \"user_2353\", \"event_type\": \"click\", \"event_timestamp\": \"2025-09-27T14:09:13.060140\", \"items\": [{\"item_id\": \"item_845\", \"quantity\": 3, \"price_usd\": 83.72}]}</td></tr><tr><td>event_57</td><td>1.758982153060159E9</td><td>eyJ1c2VyX2lkIjogInVzZXJfOTIwOSIsICJldmVudF90eXBlIjogImNsaWNrIiwgImV2ZW50X3RpbWVzdGFtcCI6ICIyMDI1LTA5LTI3VDE0OjA5OjEzLjA2MDE1MSIsICJpdGVtcyI6IFt7Iml0ZW1faWQiOiAiaXRlbV8xOTQiLCAicXVhbnRpdHkiOiA1LCAicHJpY2VfdXNkIjogNzYuMX1dfQ==</td><td>null</td><td>{\"user_id\": \"user_9209\", \"event_type\": \"click\", \"event_timestamp\": \"2025-09-27T14:09:13.060151\", \"items\": [{\"item_id\": \"item_194\", \"quantity\": 5, \"price_usd\": 76.1}]}</td></tr><tr><td>event_58</td><td>1.75898215306017E9</td><td>eyJ1c2VyX2lkIjogInVzZXJfMzk4NiIsICJldmVudF90eXBlIjogImNsaWNrIiwgImV2ZW50X3RpbWVzdGFtcCI6ICIyMDI1LTA5LTI3VDE0OjA5OjEzLjA2MDE2MSIsICJpdGVtcyI6IFt7Iml0ZW1faWQiOiAiaXRlbV8xMDMiLCAicXVhbnRpdHkiOiA0LCAicHJpY2VfdXNkIjogNzIuM31dfQ==</td><td>null</td><td>{\"user_id\": \"user_3986\", \"event_type\": \"click\", \"event_timestamp\": \"2025-09-27T14:09:13.060161\", \"items\": [{\"item_id\": \"item_103\", \"quantity\": 4, \"price_usd\": 72.3}]}</td></tr><tr><td>event_59</td><td>1.758982153060189E9</td><td>eyJ1c2VyX2lkIjogInVzZXJfNDU3OSIsICJldmVudF90eXBlIjogInZpZXciLCAiZXZlbnRfdGltZXN0YW1wIjogIjIwMjUtMDktMjdUMTQ6MDk6MTMuMDYwMTcxIiwgIml0ZW1zIjogW3siaXRlbV9pZCI6ICJpdGVtXzk1OSIsICJxdWFudGl0eSI6IDEsICJwcmljZV91c2QiOiA3NS41fSwgeyJpdGVtX2lkIjogIml0ZW1fODIzIiwgInF1YW50aXR5IjogMiwgInByaWNlX3VzZCI6IDcwLjN9LCB7Iml0ZW1faWQiOiAiaXRlbV81MzUiLCAicXVhbnRpdHkiOiA1LCAicHJpY2VfdXNkIjogOTUuNjV9XX0=</td><td>null</td><td>{\"user_id\": \"user_4579\", \"event_type\": \"view\", \"event_timestamp\": \"2025-09-27T14:09:13.060171\", \"items\": [{\"item_id\": \"item_959\", \"quantity\": 1, \"price_usd\": 75.5}, {\"item_id\": \"item_823\", \"quantity\": 2, \"price_usd\": 70.3}, {\"item_id\": \"item_535\", \"quantity\": 5, \"price_usd\": 95.65}]}</td></tr><tr><td>event_60</td><td>1.758982153060204E9</td><td>eyJ1c2VyX2lkIjogInVzZXJfNzM3OSIsICJldmVudF90eXBlIjogInB1cmNoYXNlIiwgImV2ZW50X3RpbWVzdGFtcCI6ICIyMDI1LTA5LTI3VDE0OjA5OjEzLjA2MDE5MSIsICJpdGVtcyI6IFt7Iml0ZW1faWQiOiAiaXRlbV85MDgiLCAicXVhbnRpdHkiOiAyLCAicHJpY2VfdXNkIjogNzguNTJ9LCB7Iml0ZW1faWQiOiAiaXRlbV81ODkiLCAicXVhbnRpdHkiOiA0LCAicHJpY2VfdXNkIjogNTQuMzJ9XX0=</td><td>null</td><td>{\"user_id\": \"user_7379\", \"event_type\": \"purchase\", \"event_timestamp\": \"2025-09-27T14:09:13.060191\", \"items\": [{\"item_id\": \"item_908\", \"quantity\": 2, \"price_usd\": 78.52}, {\"item_id\": \"item_589\", \"quantity\": 4, \"price_usd\": 54.32}]}</td></tr><tr><td>event_61</td><td>1.758982153060214E9</td><td>eyJ1c2VyX2lkIjogInVzZXJfODU5NCIsICJldmVudF90eXBlIjogInB1cmNoYXNlIiwgImV2ZW50X3RpbWVzdGFtcCI6ICIyMDI1LTA5LTI3VDE0OjA5OjEzLjA2MDIwNSIsICJpdGVtcyI6IFt7Iml0ZW1faWQiOiAiaXRlbV82OTkiLCAicXVhbnRpdHkiOiAxLCAicHJpY2VfdXNkIjogNDAuOTl9XX0=</td><td>null</td><td>{\"user_id\": \"user_8594\", \"event_type\": \"purchase\", \"event_timestamp\": \"2025-09-27T14:09:13.060205\", \"items\": [{\"item_id\": \"item_699\", \"quantity\": 1, \"price_usd\": 40.99}]}</td></tr><tr><td>event_62</td><td>1.758982153060229E9</td><td>eyJ1c2VyX2lkIjogInVzZXJfNjk3OSIsICJldmVudF90eXBlIjogImNsaWNrIiwgImV2ZW50X3RpbWVzdGFtcCI6ICIyMDI1LTA5LTI3VDE0OjA5OjEzLjA2MDIxNiIsICJpdGVtcyI6IFt7Iml0ZW1faWQiOiAiaXRlbV81ODciLCAicXVhbnRpdHkiOiA0LCAicHJpY2VfdXNkIjogOTYuOTh9LCB7Iml0ZW1faWQiOiAiaXRlbV84MzEiLCAicXVhbnRpdHkiOiA0LCAicHJpY2VfdXNkIjogNzkuMDh9LCB7Iml0ZW1faWQiOiAiaXRlbV8zMjYiLCAicXVhbnRpdHkiOiA0LCAicHJpY2VfdXNkIjogNDguNTN9XX0=</td><td>null</td><td>{\"user_id\": \"user_6979\", \"event_type\": \"click\", \"event_timestamp\": \"2025-09-27T14:09:13.060216\", \"items\": [{\"item_id\": \"item_587\", \"quantity\": 4, \"price_usd\": 96.98}, {\"item_id\": \"item_831\", \"quantity\": 4, \"price_usd\": 79.08}, {\"item_id\": \"item_326\", \"quantity\": 4, \"price_usd\": 48.53}]}</td></tr><tr><td>event_63</td><td>1.758982153060241E9</td><td>eyJ1c2VyX2lkIjogInVzZXJfNjYxNiIsICJldmVudF90eXBlIjogImNsaWNrIiwgImV2ZW50X3RpbWVzdGFtcCI6ICIyMDI1LTA5LTI3VDE0OjA5OjEzLjA2MDIzMSIsICJpdGVtcyI6IFt7Iml0ZW1faWQiOiAiaXRlbV84ODkiLCAicXVhbnRpdHkiOiA1LCAicHJpY2VfdXNkIjogNDMuNH0sIHsiaXRlbV9pZCI6ICJpdGVtXzYxMSIsICJxdWFudGl0eSI6IDEsICJwcmljZV91c2QiOiA3MS45M31dfQ==</td><td>null</td><td>{\"user_id\": \"user_6616\", \"event_type\": \"click\", \"event_timestamp\": \"2025-09-27T14:09:13.060231\", \"items\": [{\"item_id\": \"item_889\", \"quantity\": 5, \"price_usd\": 43.4}, {\"item_id\": \"item_611\", \"quantity\": 1, \"price_usd\": 71.93}]}</td></tr><tr><td>event_64</td><td>1.758982153060257E9</td><td>eyJ1c2VyX2lkIjogInVzZXJfNzI3MyIsICJldmVudF90eXBlIjogImNsaWNrIiwgImV2ZW50X3RpbWVzdGFtcCI6ICIyMDI1LTA5LTI3VDE0OjA5OjEzLjA2MDI0MyIsICJpdGVtcyI6IFt7Iml0ZW1faWQiOiAiaXRlbV8yNjgiLCAicXVhbnRpdHkiOiAzLCAicHJpY2VfdXNkIjogNjguODh9LCB7Iml0ZW1faWQiOiAiaXRlbV84MTIiLCAicXVhbnRpdHkiOiA1LCAicHJpY2VfdXNkIjogODEuOTF9LCB7Iml0ZW1faWQiOiAiaXRlbV84MTMiLCAicXVhbnRpdHkiOiAyLCAicHJpY2VfdXNkIjogODguNzN9XX0=</td><td>null</td><td>{\"user_id\": \"user_7273\", \"event_type\": \"click\", \"event_timestamp\": \"2025-09-27T14:09:13.060243\", \"items\": [{\"item_id\": \"item_268\", \"quantity\": 3, \"price_usd\": 68.88}, {\"item_id\": \"item_812\", \"quantity\": 5, \"price_usd\": 81.91}, {\"item_id\": \"item_813\", \"quantity\": 2, \"price_usd\": 88.73}]}</td></tr><tr><td>event_65</td><td>1.75898215306027E9</td><td>eyJ1c2VyX2lkIjogInVzZXJfMzk0MCIsICJldmVudF90eXBlIjogInZpZXciLCAiZXZlbnRfdGltZXN0YW1wIjogIjIwMjUtMDktMjdUMTQ6MDk6MTMuMDYwMjU5IiwgIml0ZW1zIjogW3siaXRlbV9pZCI6ICJpdGVtXzU3MCIsICJxdWFudGl0eSI6IDEsICJwcmljZV91c2QiOiA1Mi44OX0sIHsiaXRlbV9pZCI6ICJpdGVtXzM3MiIsICJxdWFudGl0eSI6IDQsICJwcmljZV91c2QiOiA5OC45fV19</td><td>null</td><td>{\"user_id\": \"user_3940\", \"event_type\": \"view\", \"event_timestamp\": \"2025-09-27T14:09:13.060259\", \"items\": [{\"item_id\": \"item_570\", \"quantity\": 1, \"price_usd\": 52.89}, {\"item_id\": \"item_372\", \"quantity\": 4, \"price_usd\": 98.9}]}</td></tr><tr><td>event_66</td><td>1.758982153060282E9</td><td>eyJ1c2VyX2lkIjogInVzZXJfNDkwOSIsICJldmVudF90eXBlIjogImNsaWNrIiwgImV2ZW50X3RpbWVzdGFtcCI6ICIyMDI1LTA5LTI3VDE0OjA5OjEzLjA2MDI3MSIsICJpdGVtcyI6IFt7Iml0ZW1faWQiOiAiaXRlbV80MzMiLCAicXVhbnRpdHkiOiAzLCAicHJpY2VfdXNkIjogNzcuODF9LCB7Iml0ZW1faWQiOiAiaXRlbV8xMjMiLCAicXVhbnRpdHkiOiAyLCAicHJpY2VfdXNkIjogNzkuMDh9XX0=</td><td>null</td><td>{\"user_id\": \"user_4909\", \"event_type\": \"click\", \"event_timestamp\": \"2025-09-27T14:09:13.060271\", \"items\": [{\"item_id\": \"item_433\", \"quantity\": 3, \"price_usd\": 77.81}, {\"item_id\": \"item_123\", \"quantity\": 2, \"price_usd\": 79.08}]}</td></tr><tr><td>event_67</td><td>1.758982153060292E9</td><td>eyJ1c2VyX2lkIjogInVzZXJfODYyOCIsICJldmVudF90eXBlIjogInB1cmNoYXNlIiwgImV2ZW50X3RpbWVzdGFtcCI6ICIyMDI1LTA5LTI3VDE0OjA5OjEzLjA2MDI4NCIsICJpdGVtcyI6IFt7Iml0ZW1faWQiOiAiaXRlbV80MTEiLCAicXVhbnRpdHkiOiA0LCAicHJpY2VfdXNkIjogODYuMzl9XX0=</td><td>null</td><td>{\"user_id\": \"user_8628\", \"event_type\": \"purchase\", \"event_timestamp\": \"2025-09-27T14:09:13.060284\", \"items\": [{\"item_id\": \"item_411\", \"quantity\": 4, \"price_usd\": 86.39}]}</td></tr><tr><td>event_68</td><td>1.758982153060307E9</td><td>eyJ1c2VyX2lkIjogInVzZXJfNDI4MCIsICJldmVudF90eXBlIjogInZpZXciLCAiZXZlbnRfdGltZXN0YW1wIjogIjIwMjUtMDktMjdUMTQ6MDk6MTMuMDYwMjk0IiwgIml0ZW1zIjogW3siaXRlbV9pZCI6ICJpdGVtXzc4MCIsICJxdWFudGl0eSI6IDEsICJwcmljZV91c2QiOiAyMy40NH0sIHsiaXRlbV9pZCI6ICJpdGVtXzgyOCIsICJxdWFudGl0eSI6IDUsICJwcmljZV91c2QiOiAzNi44OH0sIHsiaXRlbV9pZCI6ICJpdGVtXzQ0NyIsICJxdWFudGl0eSI6IDUsICJwcmljZV91c2QiOiAyMC4zNH1dfQ==</td><td>null</td><td>{\"user_id\": \"user_4280\", \"event_type\": \"view\", \"event_timestamp\": \"2025-09-27T14:09:13.060294\", \"items\": [{\"item_id\": \"item_780\", \"quantity\": 1, \"price_usd\": 23.44}, {\"item_id\": \"item_828\", \"quantity\": 5, \"price_usd\": 36.88}, {\"item_id\": \"item_447\", \"quantity\": 5, \"price_usd\": 20.34}]}</td></tr><tr><td>event_69</td><td>1.75898215306032E9</td><td>eyJ1c2VyX2lkIjogInVzZXJfMzgzNiIsICJldmVudF90eXBlIjogInB1cmNoYXNlIiwgImV2ZW50X3RpbWVzdGFtcCI6ICIyMDI1LTA5LTI3VDE0OjA5OjEzLjA2MDMwOSIsICJpdGVtcyI6IFt7Iml0ZW1faWQiOiAiaXRlbV84MDAiLCAicXVhbnRpdHkiOiAzLCAicHJpY2VfdXNkIjogOTcuMzN9LCB7Iml0ZW1faWQiOiAiaXRlbV83MjkiLCAicXVhbnRpdHkiOiAyLCAicHJpY2VfdXNkIjogMTAuNzh9XX0=</td><td>null</td><td>{\"user_id\": \"user_3836\", \"event_type\": \"purchase\", \"event_timestamp\": \"2025-09-27T14:09:13.060309\", \"items\": [{\"item_id\": \"item_800\", \"quantity\": 3, \"price_usd\": 97.33}, {\"item_id\": \"item_729\", \"quantity\": 2, \"price_usd\": 10.78}]}</td></tr><tr><td>event_70</td><td>1.758982153060329E9</td><td>eyJ1c2VyX2lkIjogInVzZXJfNzg1OCIsICJldmVudF90eXBlIjogImNsaWNrIiwgImV2ZW50X3RpbWVzdGFtcCI6ICIyMDI1LTA5LTI3VDE0OjA5OjEzLjA2MDMyMSIsICJpdGVtcyI6IFt7Iml0ZW1faWQiOiAiaXRlbV81NzUiLCAicXVhbnRpdHkiOiAzLCAicHJpY2VfdXNkIjogNTkuOTZ9XX0=</td><td>null</td><td>{\"user_id\": \"user_7858\", \"event_type\": \"click\", \"event_timestamp\": \"2025-09-27T14:09:13.060321\", \"items\": [{\"item_id\": \"item_575\", \"quantity\": 3, \"price_usd\": 59.96}]}</td></tr><tr><td>event_71</td><td>1.75898215306034E9</td><td>eyJ1c2VyX2lkIjogInVzZXJfODI2MSIsICJldmVudF90eXBlIjogImNsaWNrIiwgImV2ZW50X3RpbWVzdGFtcCI6ICIyMDI1LTA5LTI3VDE0OjA5OjEzLjA2MDMzMSIsICJpdGVtcyI6IFt7Iml0ZW1faWQiOiAiaXRlbV82NjEiLCAicXVhbnRpdHkiOiAyLCAicHJpY2VfdXNkIjogNTEuMjV9XX0=</td><td>null</td><td>{\"user_id\": \"user_8261\", \"event_type\": \"click\", \"event_timestamp\": \"2025-09-27T14:09:13.060331\", \"items\": [{\"item_id\": \"item_661\", \"quantity\": 2, \"price_usd\": 51.25}]}</td></tr><tr><td>event_72</td><td>1.758982153060352E9</td><td>eyJ1c2VyX2lkIjogInVzZXJfOTkwOSIsICJldmVudF90eXBlIjogInZpZXciLCAiZXZlbnRfdGltZXN0YW1wIjogIjIwMjUtMDktMjdUMTQ6MDk6MTMuMDYwMzQxIiwgIml0ZW1zIjogW3siaXRlbV9pZCI6ICJpdGVtXzk4OSIsICJxdWFudGl0eSI6IDMsICJwcmljZV91c2QiOiA5OC43Mn0sIHsiaXRlbV9pZCI6ICJpdGVtXzkxNSIsICJxdWFudGl0eSI6IDMsICJwcmljZV91c2QiOiA1Mi41OH1dfQ==</td><td>null</td><td>{\"user_id\": \"user_9909\", \"event_type\": \"view\", \"event_timestamp\": \"2025-09-27T14:09:13.060341\", \"items\": [{\"item_id\": \"item_989\", \"quantity\": 3, \"price_usd\": 98.72}, {\"item_id\": \"item_915\", \"quantity\": 3, \"price_usd\": 52.58}]}</td></tr><tr><td>event_73</td><td>1.758982153060367E9</td><td>eyJ1c2VyX2lkIjogInVzZXJfMzY4NiIsICJldmVudF90eXBlIjogInB1cmNoYXNlIiwgImV2ZW50X3RpbWVzdGFtcCI6ICIyMDI1LTA5LTI3VDE0OjA5OjEzLjA2MDM1NCIsICJpdGVtcyI6IFt7Iml0ZW1faWQiOiAiaXRlbV81NzkiLCAicXVhbnRpdHkiOiAzLCAicHJpY2VfdXNkIjogODIuMjZ9LCB7Iml0ZW1faWQiOiAiaXRlbV80MzYiLCAicXVhbnRpdHkiOiA0LCAicHJpY2VfdXNkIjogNzguNDV9LCB7Iml0ZW1faWQiOiAiaXRlbV85NDQiLCAicXVhbnRpdHkiOiA0LCAicHJpY2VfdXNkIjogNjcuMH1dfQ==</td><td>null</td><td>{\"user_id\": \"user_3686\", \"event_type\": \"purchase\", \"event_timestamp\": \"2025-09-27T14:09:13.060354\", \"items\": [{\"item_id\": \"item_579\", \"quantity\": 3, \"price_usd\": 82.26}, {\"item_id\": \"item_436\", \"quantity\": 4, \"price_usd\": 78.45}, {\"item_id\": \"item_944\", \"quantity\": 4, \"price_usd\": 67.0}]}</td></tr><tr><td>event_74</td><td>1.758982153060383E9</td><td>eyJ1c2VyX2lkIjogInVzZXJfNjk0MiIsICJldmVudF90eXBlIjogImNsaWNrIiwgImV2ZW50X3RpbWVzdGFtcCI6ICIyMDI1LTA5LTI3VDE0OjA5OjEzLjA2MDM2OSIsICJpdGVtcyI6IFt7Iml0ZW1faWQiOiAiaXRlbV8zNTUiLCAicXVhbnRpdHkiOiAxLCAicHJpY2VfdXNkIjogMjQuNjJ9LCB7Iml0ZW1faWQiOiAiaXRlbV85NTMiLCAicXVhbnRpdHkiOiA1LCAicHJpY2VfdXNkIjogNTAuMjd9LCB7Iml0ZW1faWQiOiAiaXRlbV85NDAiLCAicXVhbnRpdHkiOiA0LCAicHJpY2VfdXNkIjogNDEuOTZ9XX0=</td><td>null</td><td>{\"user_id\": \"user_6942\", \"event_type\": \"click\", \"event_timestamp\": \"2025-09-27T14:09:13.060369\", \"items\": [{\"item_id\": \"item_355\", \"quantity\": 1, \"price_usd\": 24.62}, {\"item_id\": \"item_953\", \"quantity\": 5, \"price_usd\": 50.27}, {\"item_id\": \"item_940\", \"quantity\": 4, \"price_usd\": 41.96}]}</td></tr><tr><td>event_75</td><td>1.758982153060395E9</td><td>eyJ1c2VyX2lkIjogInVzZXJfMjk5NiIsICJldmVudF90eXBlIjogInB1cmNoYXNlIiwgImV2ZW50X3RpbWVzdGFtcCI6ICIyMDI1LTA5LTI3VDE0OjA5OjEzLjA2MDM4NCIsICJpdGVtcyI6IFt7Iml0ZW1faWQiOiAiaXRlbV83ODkiLCAicXVhbnRpdHkiOiAyLCAicHJpY2VfdXNkIjogODcuNzl9LCB7Iml0ZW1faWQiOiAiaXRlbV85MzgiLCAicXVhbnRpdHkiOiA1LCAicHJpY2VfdXNkIjogNzguMDF9XX0=</td><td>null</td><td>{\"user_id\": \"user_2996\", \"event_type\": \"purchase\", \"event_timestamp\": \"2025-09-27T14:09:13.060384\", \"items\": [{\"item_id\": \"item_789\", \"quantity\": 2, \"price_usd\": 87.79}, {\"item_id\": \"item_938\", \"quantity\": 5, \"price_usd\": 78.01}]}</td></tr><tr><td>event_76</td><td>1.758982153060407E9</td><td>eyJ1c2VyX2lkIjogInVzZXJfNDYwMyIsICJldmVudF90eXBlIjogImNsaWNrIiwgImV2ZW50X3RpbWVzdGFtcCI6ICIyMDI1LTA5LTI3VDE0OjA5OjEzLjA2MDM5NyIsICJpdGVtcyI6IFt7Iml0ZW1faWQiOiAiaXRlbV83NDMiLCAicXVhbnRpdHkiOiAxLCAicHJpY2VfdXNkIjogNTQuNjZ9LCB7Iml0ZW1faWQiOiAiaXRlbV84OTYiLCAicXVhbnRpdHkiOiA0LCAicHJpY2VfdXNkIjogMzIuNDN9XX0=</td><td>null</td><td>{\"user_id\": \"user_4603\", \"event_type\": \"click\", \"event_timestamp\": \"2025-09-27T14:09:13.060397\", \"items\": [{\"item_id\": \"item_743\", \"quantity\": 1, \"price_usd\": 54.66}, {\"item_id\": \"item_896\", \"quantity\": 4, \"price_usd\": 32.43}]}</td></tr><tr><td>event_77</td><td>1.75898215306042E9</td><td>eyJ1c2VyX2lkIjogInVzZXJfMjEzMSIsICJldmVudF90eXBlIjogInZpZXciLCAiZXZlbnRfdGltZXN0YW1wIjogIjIwMjUtMDktMjdUMTQ6MDk6MTMuMDYwNDA5IiwgIml0ZW1zIjogW3siaXRlbV9pZCI6ICJpdGVtXzUwMyIsICJxdWFudGl0eSI6IDEsICJwcmljZV91c2QiOiA0MS4yOX0sIHsiaXRlbV9pZCI6ICJpdGVtXzk3NyIsICJxdWFudGl0eSI6IDIsICJwcmljZV91c2QiOiA5Ny43Mn1dfQ==</td><td>null</td><td>{\"user_id\": \"user_2131\", \"event_type\": \"view\", \"event_timestamp\": \"2025-09-27T14:09:13.060409\", \"items\": [{\"item_id\": \"item_503\", \"quantity\": 1, \"price_usd\": 41.29}, {\"item_id\": \"item_977\", \"quantity\": 2, \"price_usd\": 97.72}]}</td></tr><tr><td>event_78</td><td>1.758982153060429E9</td><td>eyJ1c2VyX2lkIjogInVzZXJfODQ5NCIsICJldmVudF90eXBlIjogImNsaWNrIiwgImV2ZW50X3RpbWVzdGFtcCI6ICIyMDI1LTA5LTI3VDE0OjA5OjEzLjA2MDQyMiIsICJpdGVtcyI6IFt7Iml0ZW1faWQiOiAiaXRlbV84NjQiLCAicXVhbnRpdHkiOiAzLCAicHJpY2VfdXNkIjogMjYuMjN9XX0=</td><td>null</td><td>{\"user_id\": \"user_8494\", \"event_type\": \"click\", \"event_timestamp\": \"2025-09-27T14:09:13.060422\", \"items\": [{\"item_id\": \"item_864\", \"quantity\": 3, \"price_usd\": 26.23}]}</td></tr><tr><td>event_79</td><td>1.758982153060439E9</td><td>eyJ1c2VyX2lkIjogInVzZXJfNDcwMyIsICJldmVudF90eXBlIjogImNsaWNrIiwgImV2ZW50X3RpbWVzdGFtcCI6ICIyMDI1LTA5LTI3VDE0OjA5OjEzLjA2MDQzMSIsICJpdGVtcyI6IFt7Iml0ZW1faWQiOiAiaXRlbV8yMzAiLCAicXVhbnRpdHkiOiA1LCAicHJpY2VfdXNkIjogOTIuMDJ9XX0=</td><td>null</td><td>{\"user_id\": \"user_4703\", \"event_type\": \"click\", \"event_timestamp\": \"2025-09-27T14:09:13.060431\", \"items\": [{\"item_id\": \"item_230\", \"quantity\": 5, \"price_usd\": 92.02}]}</td></tr><tr><td>event_80</td><td>1.758982153060449E9</td><td>eyJ1c2VyX2lkIjogInVzZXJfNTY4MyIsICJldmVudF90eXBlIjogImNsaWNrIiwgImV2ZW50X3RpbWVzdGFtcCI6ICIyMDI1LTA5LTI3VDE0OjA5OjEzLjA2MDQ0MSIsICJpdGVtcyI6IFt7Iml0ZW1faWQiOiAiaXRlbV8yNDYiLCAicXVhbnRpdHkiOiAzLCAicHJpY2VfdXNkIjogNzIuNzZ9XX0=</td><td>null</td><td>{\"user_id\": \"user_5683\", \"event_type\": \"click\", \"event_timestamp\": \"2025-09-27T14:09:13.060441\", \"items\": [{\"item_id\": \"item_246\", \"quantity\": 3, \"price_usd\": 72.76}]}</td></tr><tr><td>event_81</td><td>1.758982153060461E9</td><td>eyJ1c2VyX2lkIjogInVzZXJfNTYzOCIsICJldmVudF90eXBlIjogInB1cmNoYXNlIiwgImV2ZW50X3RpbWVzdGFtcCI6ICIyMDI1LTA5LTI3VDE0OjA5OjEzLjA2MDQ1MSIsICJpdGVtcyI6IFt7Iml0ZW1faWQiOiAiaXRlbV81NDYiLCAicXVhbnRpdHkiOiA0LCAicHJpY2VfdXNkIjogMzguOTN9LCB7Iml0ZW1faWQiOiAiaXRlbV8xODQiLCAicXVhbnRpdHkiOiAzLCAicHJpY2VfdXNkIjogNTYuODJ9XX0=</td><td>null</td><td>{\"user_id\": \"user_5638\", \"event_type\": \"purchase\", \"event_timestamp\": \"2025-09-27T14:09:13.060451\", \"items\": [{\"item_id\": \"item_546\", \"quantity\": 4, \"price_usd\": 38.93}, {\"item_id\": \"item_184\", \"quantity\": 3, \"price_usd\": 56.82}]}</td></tr><tr><td>event_82</td><td>1.758982153060476E9</td><td>eyJ1c2VyX2lkIjogInVzZXJfMzk5NSIsICJldmVudF90eXBlIjogInB1cmNoYXNlIiwgImV2ZW50X3RpbWVzdGFtcCI6ICIyMDI1LTA5LTI3VDE0OjA5OjEzLjA2MDQ2MyIsICJpdGVtcyI6IFt7Iml0ZW1faWQiOiAiaXRlbV85NTAiLCAicXVhbnRpdHkiOiAxLCAicHJpY2VfdXNkIjogNzkuNjh9LCB7Iml0ZW1faWQiOiAiaXRlbV8yMzQiLCAicXVhbnRpdHkiOiAyLCAicHJpY2VfdXNkIjogNzYuNjV9LCB7Iml0ZW1faWQiOiAiaXRlbV8xMTMiLCAicXVhbnRpdHkiOiAyLCAicHJpY2VfdXNkIjogNjAuNzN9XX0=</td><td>null</td><td>{\"user_id\": \"user_3995\", \"event_type\": \"purchase\", \"event_timestamp\": \"2025-09-27T14:09:13.060463\", \"items\": [{\"item_id\": \"item_950\", \"quantity\": 1, \"price_usd\": 79.68}, {\"item_id\": \"item_234\", \"quantity\": 2, \"price_usd\": 76.65}, {\"item_id\": \"item_113\", \"quantity\": 2, \"price_usd\": 60.73}]}</td></tr><tr><td>event_83</td><td>1.758982153060486E9</td><td>eyJ1c2VyX2lkIjogInVzZXJfNzMxNCIsICJldmVudF90eXBlIjogInZpZXciLCAiZXZlbnRfdGltZXN0YW1wIjogIjIwMjUtMDktMjdUMTQ6MDk6MTMuMDYwNDc4IiwgIml0ZW1zIjogW3siaXRlbV9pZCI6ICJpdGVtXzczOSIsICJxdWFudGl0eSI6IDQsICJwcmljZV91c2QiOiA3Mi4yM31dfQ==</td><td>null</td><td>{\"user_id\": \"user_7314\", \"event_type\": \"view\", \"event_timestamp\": \"2025-09-27T14:09:13.060478\", \"items\": [{\"item_id\": \"item_739\", \"quantity\": 4, \"price_usd\": 72.23}]}</td></tr><tr><td>event_84</td><td>1.758982153060504E9</td><td>eyJ1c2VyX2lkIjogInVzZXJfNDM2MSIsICJldmVudF90eXBlIjogInZpZXciLCAiZXZlbnRfdGltZXN0YW1wIjogIjIwMjUtMDktMjdUMTQ6MDk6MTMuMDYwNDg4IiwgIml0ZW1zIjogW3siaXRlbV9pZCI6ICJpdGVtXzY4OCIsICJxdWFudGl0eSI6IDUsICJwcmljZV91c2QiOiA4MC4xfSwgeyJpdGVtX2lkIjogIml0ZW1fMzUwIiwgInF1YW50aXR5IjogNCwgInByaWNlX3VzZCI6IDMzLjA4fV19</td><td>null</td><td>{\"user_id\": \"user_4361\", \"event_type\": \"view\", \"event_timestamp\": \"2025-09-27T14:09:13.060488\", \"items\": [{\"item_id\": \"item_688\", \"quantity\": 5, \"price_usd\": 80.1}, {\"item_id\": \"item_350\", \"quantity\": 4, \"price_usd\": 33.08}]}</td></tr><tr><td>event_85</td><td>1.758982153060528E9</td><td>eyJ1c2VyX2lkIjogInVzZXJfNjQyMiIsICJldmVudF90eXBlIjogInZpZXciLCAiZXZlbnRfdGltZXN0YW1wIjogIjIwMjUtMDktMjdUMTQ6MDk6MTMuMDYwNTA4IiwgIml0ZW1zIjogW3siaXRlbV9pZCI6ICJpdGVtXzc3MCIsICJxdWFudGl0eSI6IDEsICJwcmljZV91c2QiOiAzMi41M30sIHsiaXRlbV9pZCI6ICJpdGVtXzU0NSIsICJxdWFudGl0eSI6IDEsICJwcmljZV91c2QiOiA3MC41Mn0sIHsiaXRlbV9pZCI6ICJpdGVtXzcxMiIsICJxdWFudGl0eSI6IDIsICJwcmljZV91c2QiOiAzOC4xM31dfQ==</td><td>null</td><td>{\"user_id\": \"user_6422\", \"event_type\": \"view\", \"event_timestamp\": \"2025-09-27T14:09:13.060508\", \"items\": [{\"item_id\": \"item_770\", \"quantity\": 1, \"price_usd\": 32.53}, {\"item_id\": \"item_545\", \"quantity\": 1, \"price_usd\": 70.52}, {\"item_id\": \"item_712\", \"quantity\": 2, \"price_usd\": 38.13}]}</td></tr><tr><td>event_86</td><td>1.758982153060544E9</td><td>eyJ1c2VyX2lkIjogInVzZXJfMzU4OSIsICJldmVudF90eXBlIjogImNsaWNrIiwgImV2ZW50X3RpbWVzdGFtcCI6ICIyMDI1LTA5LTI3VDE0OjA5OjEzLjA2MDUzMCIsICJpdGVtcyI6IFt7Iml0ZW1faWQiOiAiaXRlbV8yMDciLCAicXVhbnRpdHkiOiAyLCAicHJpY2VfdXNkIjogNjEuMTV9LCB7Iml0ZW1faWQiOiAiaXRlbV8xMTAiLCAicXVhbnRpdHkiOiA1LCAicHJpY2VfdXNkIjogOTIuMTh9LCB7Iml0ZW1faWQiOiAiaXRlbV82MzQiLCAicXVhbnRpdHkiOiAyLCAicHJpY2VfdXNkIjogMjIuMDV9XX0=</td><td>null</td><td>{\"user_id\": \"user_3589\", \"event_type\": \"click\", \"event_timestamp\": \"2025-09-27T14:09:13.060530\", \"items\": [{\"item_id\": \"item_207\", \"quantity\": 2, \"price_usd\": 61.15}, {\"item_id\": \"item_110\", \"quantity\": 5, \"price_usd\": 92.18}, {\"item_id\": \"item_634\", \"quantity\": 2, \"price_usd\": 22.05}]}</td></tr><tr><td>event_87</td><td>1.758982153060554E9</td><td>eyJ1c2VyX2lkIjogInVzZXJfNzI4NSIsICJldmVudF90eXBlIjogImNsaWNrIiwgImV2ZW50X3RpbWVzdGFtcCI6ICIyMDI1LTA5LTI3VDE0OjA5OjEzLjA2MDU0NiIsICJpdGVtcyI6IFt7Iml0ZW1faWQiOiAiaXRlbV81MTYiLCAicXVhbnRpdHkiOiAyLCAicHJpY2VfdXNkIjogNzIuMzh9XX0=</td><td>null</td><td>{\"user_id\": \"user_7285\", \"event_type\": \"click\", \"event_timestamp\": \"2025-09-27T14:09:13.060546\", \"items\": [{\"item_id\": \"item_516\", \"quantity\": 2, \"price_usd\": 72.38}]}</td></tr><tr><td>event_88</td><td>1.758982153060568E9</td><td>eyJ1c2VyX2lkIjogInVzZXJfMzk1NiIsICJldmVudF90eXBlIjogImNsaWNrIiwgImV2ZW50X3RpbWVzdGFtcCI6ICIyMDI1LTA5LTI3VDE0OjA5OjEzLjA2MDU1NiIsICJpdGVtcyI6IFt7Iml0ZW1faWQiOiAiaXRlbV8yOTgiLCAicXVhbnRpdHkiOiAzLCAicHJpY2VfdXNkIjogMzQuMjN9LCB7Iml0ZW1faWQiOiAiaXRlbV81MzgiLCAicXVhbnRpdHkiOiAzLCAicHJpY2VfdXNkIjogMTQuNTd9XX0=</td><td>null</td><td>{\"user_id\": \"user_3956\", \"event_type\": \"click\", \"event_timestamp\": \"2025-09-27T14:09:13.060556\", \"items\": [{\"item_id\": \"item_298\", \"quantity\": 3, \"price_usd\": 34.23}, {\"item_id\": \"item_538\", \"quantity\": 3, \"price_usd\": 14.57}]}</td></tr><tr><td>event_89</td><td>1.758982153060581E9</td><td>eyJ1c2VyX2lkIjogInVzZXJfMTUxMSIsICJldmVudF90eXBlIjogInB1cmNoYXNlIiwgImV2ZW50X3RpbWVzdGFtcCI6ICIyMDI1LTA5LTI3VDE0OjA5OjEzLjA2MDU3MCIsICJpdGVtcyI6IFt7Iml0ZW1faWQiOiAiaXRlbV81MjAiLCAicXVhbnRpdHkiOiAzLCAicHJpY2VfdXNkIjogNTUuNDV9LCB7Iml0ZW1faWQiOiAiaXRlbV8xNjMiLCAicXVhbnRpdHkiOiA1LCAicHJpY2VfdXNkIjogOTguOTF9XX0=</td><td>null</td><td>{\"user_id\": \"user_1511\", \"event_type\": \"purchase\", \"event_timestamp\": \"2025-09-27T14:09:13.060570\", \"items\": [{\"item_id\": \"item_520\", \"quantity\": 3, \"price_usd\": 55.45}, {\"item_id\": \"item_163\", \"quantity\": 5, \"price_usd\": 98.91}]}</td></tr><tr><td>event_90</td><td>1.758982153060597E9</td><td>eyJ1c2VyX2lkIjogInVzZXJfNTUwMyIsICJldmVudF90eXBlIjogInB1cmNoYXNlIiwgImV2ZW50X3RpbWVzdGFtcCI6ICIyMDI1LTA5LTI3VDE0OjA5OjEzLjA2MDU4MyIsICJpdGVtcyI6IFt7Iml0ZW1faWQiOiAiaXRlbV8zMjQiLCAicXVhbnRpdHkiOiAyLCAicHJpY2VfdXNkIjogMjUuOTZ9XX0=</td><td>null</td><td>{\"user_id\": \"user_5503\", \"event_type\": \"purchase\", \"event_timestamp\": \"2025-09-27T14:09:13.060583\", \"items\": [{\"item_id\": \"item_324\", \"quantity\": 2, \"price_usd\": 25.96}]}</td></tr><tr><td>event_91</td><td>1.75898215306061E9</td><td>eyJ1c2VyX2lkIjogInVzZXJfNjQ5NCIsICJldmVudF90eXBlIjogImNsaWNrIiwgImV2ZW50X3RpbWVzdGFtcCI6ICIyMDI1LTA5LTI3VDE0OjA5OjEzLjA2MDU5OSIsICJpdGVtcyI6IFt7Iml0ZW1faWQiOiAiaXRlbV8yMTIiLCAicXVhbnRpdHkiOiAzLCAicHJpY2VfdXNkIjogNDkuNzN9LCB7Iml0ZW1faWQiOiAiaXRlbV8xOTMiLCAicXVhbnRpdHkiOiA0LCAicHJpY2VfdXNkIjogMTAuMDR9XX0=</td><td>null</td><td>{\"user_id\": \"user_6494\", \"event_type\": \"click\", \"event_timestamp\": \"2025-09-27T14:09:13.060599\", \"items\": [{\"item_id\": \"item_212\", \"quantity\": 3, \"price_usd\": 49.73}, {\"item_id\": \"item_193\", \"quantity\": 4, \"price_usd\": 10.04}]}</td></tr><tr><td>event_92</td><td>1.758982153060624E9</td><td>eyJ1c2VyX2lkIjogInVzZXJfOTA3MyIsICJldmVudF90eXBlIjogInB1cmNoYXNlIiwgImV2ZW50X3RpbWVzdGFtcCI6ICIyMDI1LTA5LTI3VDE0OjA5OjEzLjA2MDYxMiIsICJpdGVtcyI6IFt7Iml0ZW1faWQiOiAiaXRlbV82MTMiLCAicXVhbnRpdHkiOiA1LCAicHJpY2VfdXNkIjogNzYuODR9LCB7Iml0ZW1faWQiOiAiaXRlbV85OTYiLCAicXVhbnRpdHkiOiAyLCAicHJpY2VfdXNkIjogOTUuNH1dfQ==</td><td>null</td><td>{\"user_id\": \"user_9073\", \"event_type\": \"purchase\", \"event_timestamp\": \"2025-09-27T14:09:13.060612\", \"items\": [{\"item_id\": \"item_613\", \"quantity\": 5, \"price_usd\": 76.84}, {\"item_id\": \"item_996\", \"quantity\": 2, \"price_usd\": 95.4}]}</td></tr><tr><td>event_93</td><td>1.758982153060657E9</td><td>eyJ1c2VyX2lkIjogInVzZXJfMzQ5NiIsICJldmVudF90eXBlIjogInZpZXciLCAiZXZlbnRfdGltZXN0YW1wIjogIjIwMjUtMDktMjdUMTQ6MDk6MTMuMDYwNjI3IiwgIml0ZW1zIjogW3siaXRlbV9pZCI6ICJpdGVtXzQyNSIsICJxdWFudGl0eSI6IDUsICJwcmljZV91c2QiOiA4OS45N30sIHsiaXRlbV9pZCI6ICJpdGVtXzkwOCIsICJxdWFudGl0eSI6IDEsICJwcmljZV91c2QiOiA1NS42OH0sIHsiaXRlbV9pZCI6ICJpdGVtXzQ5NiIsICJxdWFudGl0eSI6IDUsICJwcmljZV91c2QiOiA1Ni41M31dfQ==</td><td>null</td><td>{\"user_id\": \"user_3496\", \"event_type\": \"view\", \"event_timestamp\": \"2025-09-27T14:09:13.060627\", \"items\": [{\"item_id\": \"item_425\", \"quantity\": 5, \"price_usd\": 89.97}, {\"item_id\": \"item_908\", \"quantity\": 1, \"price_usd\": 55.68}, {\"item_id\": \"item_496\", \"quantity\": 5, \"price_usd\": 56.53}]}</td></tr><tr><td>event_94</td><td>1.75898215306068E9</td><td>eyJ1c2VyX2lkIjogInVzZXJfNzQ4MCIsICJldmVudF90eXBlIjogInB1cmNoYXNlIiwgImV2ZW50X3RpbWVzdGFtcCI6ICIyMDI1LTA5LTI3VDE0OjA5OjEzLjA2MDY2MCIsICJpdGVtcyI6IFt7Iml0ZW1faWQiOiAiaXRlbV84MzIiLCAicXVhbnRpdHkiOiAxLCAicHJpY2VfdXNkIjogODQuMn0sIHsiaXRlbV9pZCI6ICJpdGVtXzQ0NCIsICJxdWFudGl0eSI6IDQsICJwcmljZV91c2QiOiAyMy43M31dfQ==</td><td>null</td><td>{\"user_id\": \"user_7480\", \"event_type\": \"purchase\", \"event_timestamp\": \"2025-09-27T14:09:13.060660\", \"items\": [{\"item_id\": \"item_832\", \"quantity\": 1, \"price_usd\": 84.2}, {\"item_id\": \"item_444\", \"quantity\": 4, \"price_usd\": 23.73}]}</td></tr><tr><td>event_95</td><td>1.758982153060699E9</td><td>eyJ1c2VyX2lkIjogInVzZXJfOTkyMiIsICJldmVudF90eXBlIjogInZpZXciLCAiZXZlbnRfdGltZXN0YW1wIjogIjIwMjUtMDktMjdUMTQ6MDk6MTMuMDYwNjg0IiwgIml0ZW1zIjogW3siaXRlbV9pZCI6ICJpdGVtXzE5NiIsICJxdWFudGl0eSI6IDIsICJwcmljZV91c2QiOiA3Mi45MX0sIHsiaXRlbV9pZCI6ICJpdGVtXzE0MSIsICJxdWFudGl0eSI6IDMsICJwcmljZV91c2QiOiA4My43NH1dfQ==</td><td>null</td><td>{\"user_id\": \"user_9922\", \"event_type\": \"view\", \"event_timestamp\": \"2025-09-27T14:09:13.060684\", \"items\": [{\"item_id\": \"item_196\", \"quantity\": 2, \"price_usd\": 72.91}, {\"item_id\": \"item_141\", \"quantity\": 3, \"price_usd\": 83.74}]}</td></tr><tr><td>event_96</td><td>1.758982153060711E9</td><td>eyJ1c2VyX2lkIjogInVzZXJfMTIzMCIsICJldmVudF90eXBlIjogImNsaWNrIiwgImV2ZW50X3RpbWVzdGFtcCI6ICIyMDI1LTA5LTI3VDE0OjA5OjEzLjA2MDcwMSIsICJpdGVtcyI6IFt7Iml0ZW1faWQiOiAiaXRlbV84MzkiLCAicXVhbnRpdHkiOiAzLCAicHJpY2VfdXNkIjogMjEuNjN9LCB7Iml0ZW1faWQiOiAiaXRlbV8zODIiLCAicXVhbnRpdHkiOiA0LCAicHJpY2VfdXNkIjogODQuOTZ9XX0=</td><td>null</td><td>{\"user_id\": \"user_1230\", \"event_type\": \"click\", \"event_timestamp\": \"2025-09-27T14:09:13.060701\", \"items\": [{\"item_id\": \"item_839\", \"quantity\": 3, \"price_usd\": 21.63}, {\"item_id\": \"item_382\", \"quantity\": 4, \"price_usd\": 84.96}]}</td></tr><tr><td>event_97</td><td>1.758982153060727E9</td><td>eyJ1c2VyX2lkIjogInVzZXJfMzE5NSIsICJldmVudF90eXBlIjogImNsaWNrIiwgImV2ZW50X3RpbWVzdGFtcCI6ICIyMDI1LTA5LTI3VDE0OjA5OjEzLjA2MDcxMyIsICJpdGVtcyI6IFt7Iml0ZW1faWQiOiAiaXRlbV81ODAiLCAicXVhbnRpdHkiOiA0LCAicHJpY2VfdXNkIjogNDQuMDN9LCB7Iml0ZW1faWQiOiAiaXRlbV8zMzQiLCAicXVhbnRpdHkiOiA0LCAicHJpY2VfdXNkIjogODcuMTl9LCB7Iml0ZW1faWQiOiAiaXRlbV8zMzEiLCAicXVhbnRpdHkiOiAzLCAicHJpY2VfdXNkIjogNjIuNjJ9XX0=</td><td>null</td><td>{\"user_id\": \"user_3195\", \"event_type\": \"click\", \"event_timestamp\": \"2025-09-27T14:09:13.060713\", \"items\": [{\"item_id\": \"item_580\", \"quantity\": 4, \"price_usd\": 44.03}, {\"item_id\": \"item_334\", \"quantity\": 4, \"price_usd\": 87.19}, {\"item_id\": \"item_331\", \"quantity\": 3, \"price_usd\": 62.62}]}</td></tr><tr><td>event_98</td><td>1.758982153060739E9</td><td>eyJ1c2VyX2lkIjogInVzZXJfOTE3OCIsICJldmVudF90eXBlIjogImNsaWNrIiwgImV2ZW50X3RpbWVzdGFtcCI6ICIyMDI1LTA5LTI3VDE0OjA5OjEzLjA2MDcyOSIsICJpdGVtcyI6IFt7Iml0ZW1faWQiOiAiaXRlbV8zMjMiLCAicXVhbnRpdHkiOiA1LCAicHJpY2VfdXNkIjogMzcuNzZ9LCB7Iml0ZW1faWQiOiAiaXRlbV8zNjQiLCAicXVhbnRpdHkiOiAyLCAicHJpY2VfdXNkIjogOTMuODZ9XX0=</td><td>null</td><td>{\"user_id\": \"user_9178\", \"event_type\": \"click\", \"event_timestamp\": \"2025-09-27T14:09:13.060729\", \"items\": [{\"item_id\": \"item_323\", \"quantity\": 5, \"price_usd\": 37.76}, {\"item_id\": \"item_364\", \"quantity\": 2, \"price_usd\": 93.86}]}</td></tr><tr><td>event_99</td><td>1.758982153060752E9</td><td>eyJ1c2VyX2lkIjogInVzZXJfMTU3NSIsICJldmVudF90eXBlIjogInZpZXciLCAiZXZlbnRfdGltZXN0YW1wIjogIjIwMjUtMDktMjdUMTQ6MDk6MTMuMDYwNzQxIiwgIml0ZW1zIjogW3siaXRlbV9pZCI6ICJpdGVtXzk5MSIsICJxdWFudGl0eSI6IDUsICJwcmljZV91c2QiOiA3MC45OH0sIHsiaXRlbV9pZCI6ICJpdGVtXzE3OCIsICJxdWFudGl0eSI6IDUsICJwcmljZV91c2QiOiA5Ni4wNn1dfQ==</td><td>null</td><td>{\"user_id\": \"user_1575\", \"event_type\": \"view\", \"event_timestamp\": \"2025-09-27T14:09:13.060741\", \"items\": [{\"item_id\": \"item_991\", \"quantity\": 5, \"price_usd\": 70.98}, {\"item_id\": \"item_178\", \"quantity\": 5, \"price_usd\": 96.06}]}</td></tr></tbody></table></div>"
      ]
     },
     "metadata": {
      "application/vnd.databricks.v1+output": {
       "addedWidgets": {},
       "aggData": [],
       "aggError": "",
       "aggOverflow": false,
       "aggSchema": [],
       "aggSeriesLimitReached": false,
       "aggType": "",
       "arguments": {},
       "columnCustomDisplayInfos": {},
       "data": [
        [
         "event_0",
         1.758982153059221E9,
         "eyJ1c2VyX2lkIjogInVzZXJfNDgzNSIsICJldmVudF90eXBlIjogImNsaWNrIiwgImV2ZW50X3RpbWVzdGFtcCI6ICIyMDI1LTA5LTI3VDE0OjA5OjEzLjA1OTE2OSIsICJpdGVtcyI6IFt7Iml0ZW1faWQiOiAiaXRlbV84OTMiLCAicXVhbnRpdHkiOiAzLCAicHJpY2VfdXNkIjogMTguMjl9LCB7Iml0ZW1faWQiOiAiaXRlbV80MjUiLCAicXVhbnRpdHkiOiAyLCAicHJpY2VfdXNkIjogMTkuODV9LCB7Iml0ZW1faWQiOiAiaXRlbV82MzciLCAicXVhbnRpdHkiOiAxLCAicHJpY2VfdXNkIjogNzIuNTN9XX0=",
         null,
         "{\"user_id\": \"user_4835\", \"event_type\": \"click\", \"event_timestamp\": \"2025-09-27T14:09:13.059169\", \"items\": [{\"item_id\": \"item_893\", \"quantity\": 3, \"price_usd\": 18.29}, {\"item_id\": \"item_425\", \"quantity\": 2, \"price_usd\": 19.85}, {\"item_id\": \"item_637\", \"quantity\": 1, \"price_usd\": 72.53}]}"
        ],
        [
         "event_1",
         1.758982153059242E9,
         "eyJ1c2VyX2lkIjogInVzZXJfMTMxNSIsICJldmVudF90eXBlIjogInB1cmNoYXNlIiwgImV2ZW50X3RpbWVzdGFtcCI6ICIyMDI1LTA5LTI3VDE0OjA5OjEzLjA1OTIyNiIsICJpdGVtcyI6IFt7Iml0ZW1faWQiOiAiaXRlbV83NjYiLCAicXVhbnRpdHkiOiA0LCAicHJpY2VfdXNkIjogNTMuOTF9XX0=",
         null,
         "{\"user_id\": \"user_1315\", \"event_type\": \"purchase\", \"event_timestamp\": \"2025-09-27T14:09:13.059226\", \"items\": [{\"item_id\": \"item_766\", \"quantity\": 4, \"price_usd\": 53.91}]}"
        ],
        [
         "event_2",
         1.758982153059263E9,
         "eyJ1c2VyX2lkIjogInVzZXJfNDU0NSIsICJldmVudF90eXBlIjogInB1cmNoYXNlIiwgImV2ZW50X3RpbWVzdGFtcCI6ICIyMDI1LTA5LTI3VDE0OjA5OjEzLjA1OTI0NSIsICJpdGVtcyI6IFt7Iml0ZW1faWQiOiAiaXRlbV82MDEiLCAicXVhbnRpdHkiOiAxLCAicHJpY2VfdXNkIjogNDIuNjV9LCB7Iml0ZW1faWQiOiAiaXRlbV82MjQiLCAicXVhbnRpdHkiOiA1LCAicHJpY2VfdXNkIjogMjEuNn0sIHsiaXRlbV9pZCI6ICJpdGVtXzgwMCIsICJxdWFudGl0eSI6IDIsICJwcmljZV91c2QiOiA4NS4xMX1dfQ==",
         null,
         "{\"user_id\": \"user_4545\", \"event_type\": \"purchase\", \"event_timestamp\": \"2025-09-27T14:09:13.059245\", \"items\": [{\"item_id\": \"item_601\", \"quantity\": 1, \"price_usd\": 42.65}, {\"item_id\": \"item_624\", \"quantity\": 5, \"price_usd\": 21.6}, {\"item_id\": \"item_800\", \"quantity\": 2, \"price_usd\": 85.11}]}"
        ],
        [
         "event_3",
         1.758982153059278E9,
         "eyJ1c2VyX2lkIjogInVzZXJfNDg5NiIsICJldmVudF90eXBlIjogInB1cmNoYXNlIiwgImV2ZW50X3RpbWVzdGFtcCI6ICIyMDI1LTA5LTI3VDE0OjA5OjEzLjA1OTI2NSIsICJpdGVtcyI6IFt7Iml0ZW1faWQiOiAiaXRlbV84MTYiLCAicXVhbnRpdHkiOiA1LCAicHJpY2VfdXNkIjogNTQuODh9LCB7Iml0ZW1faWQiOiAiaXRlbV80ODUiLCAicXVhbnRpdHkiOiAzLCAicHJpY2VfdXNkIjogMjguNTV9XX0=",
         null,
         "{\"user_id\": \"user_4896\", \"event_type\": \"purchase\", \"event_timestamp\": \"2025-09-27T14:09:13.059265\", \"items\": [{\"item_id\": \"item_816\", \"quantity\": 5, \"price_usd\": 54.88}, {\"item_id\": \"item_485\", \"quantity\": 3, \"price_usd\": 28.55}]}"
        ],
        [
         "event_4",
         1.758982153059304E9,
         "eyJ1c2VyX2lkIjogInVzZXJfMjAwOSIsICJldmVudF90eXBlIjogImNsaWNrIiwgImV2ZW50X3RpbWVzdGFtcCI6ICIyMDI1LTA5LTI3VDE0OjA5OjEzLjA1OTI4MCIsICJpdGVtcyI6IFt7Iml0ZW1faWQiOiAiaXRlbV84MTEiLCAicXVhbnRpdHkiOiAxLCAicHJpY2VfdXNkIjogOTcuMjl9LCB7Iml0ZW1faWQiOiAiaXRlbV8xMDciLCAicXVhbnRpdHkiOiA0LCAicHJpY2VfdXNkIjogNTIuMzF9LCB7Iml0ZW1faWQiOiAiaXRlbV8yMDUiLCAicXVhbnRpdHkiOiAyLCAicHJpY2VfdXNkIjogOTIuNTh9XX0=",
         null,
         "{\"user_id\": \"user_2009\", \"event_type\": \"click\", \"event_timestamp\": \"2025-09-27T14:09:13.059280\", \"items\": [{\"item_id\": \"item_811\", \"quantity\": 1, \"price_usd\": 97.29}, {\"item_id\": \"item_107\", \"quantity\": 4, \"price_usd\": 52.31}, {\"item_id\": \"item_205\", \"quantity\": 2, \"price_usd\": 92.58}]}"
        ],
        [
         "event_5",
         1.758982153059322E9,
         "eyJ1c2VyX2lkIjogInVzZXJfNjM3MSIsICJldmVudF90eXBlIjogImNsaWNrIiwgImV2ZW50X3RpbWVzdGFtcCI6ICIyMDI1LTA5LTI3VDE0OjA5OjEzLjA1OTMwNyIsICJpdGVtcyI6IFt7Iml0ZW1faWQiOiAiaXRlbV8yNDAiLCAicXVhbnRpdHkiOiAxLCAicHJpY2VfdXNkIjogMTEuMjh9LCB7Iml0ZW1faWQiOiAiaXRlbV8xNzkiLCAicXVhbnRpdHkiOiA1LCAicHJpY2VfdXNkIjogODUuNjZ9LCB7Iml0ZW1faWQiOiAiaXRlbV80NjciLCAicXVhbnRpdHkiOiA0LCAicHJpY2VfdXNkIjogNDIuMTF9XX0=",
         null,
         "{\"user_id\": \"user_6371\", \"event_type\": \"click\", \"event_timestamp\": \"2025-09-27T14:09:13.059307\", \"items\": [{\"item_id\": \"item_240\", \"quantity\": 1, \"price_usd\": 11.28}, {\"item_id\": \"item_179\", \"quantity\": 5, \"price_usd\": 85.66}, {\"item_id\": \"item_467\", \"quantity\": 4, \"price_usd\": 42.11}]}"
        ],
        [
         "event_6",
         1.758982153059335E9,
         "eyJ1c2VyX2lkIjogInVzZXJfNDAzNCIsICJldmVudF90eXBlIjogInZpZXciLCAiZXZlbnRfdGltZXN0YW1wIjogIjIwMjUtMDktMjdUMTQ6MDk6MTMuMDU5MzI0IiwgIml0ZW1zIjogW3siaXRlbV9pZCI6ICJpdGVtXzM3NiIsICJxdWFudGl0eSI6IDQsICJwcmljZV91c2QiOiAyMi4yM30sIHsiaXRlbV9pZCI6ICJpdGVtXzg2MSIsICJxdWFudGl0eSI6IDEsICJwcmljZV91c2QiOiAzOS40Mn1dfQ==",
         null,
         "{\"user_id\": \"user_4034\", \"event_type\": \"view\", \"event_timestamp\": \"2025-09-27T14:09:13.059324\", \"items\": [{\"item_id\": \"item_376\", \"quantity\": 4, \"price_usd\": 22.23}, {\"item_id\": \"item_861\", \"quantity\": 1, \"price_usd\": 39.42}]}"
        ],
        [
         "event_7",
         1.758982153059346E9,
         "eyJ1c2VyX2lkIjogInVzZXJfMTA4NSIsICJldmVudF90eXBlIjogInZpZXciLCAiZXZlbnRfdGltZXN0YW1wIjogIjIwMjUtMDktMjdUMTQ6MDk6MTMuMDU5MzM3IiwgIml0ZW1zIjogW3siaXRlbV9pZCI6ICJpdGVtXzYyMCIsICJxdWFudGl0eSI6IDIsICJwcmljZV91c2QiOiAyNC42OH1dfQ==",
         null,
         "{\"user_id\": \"user_1085\", \"event_type\": \"view\", \"event_timestamp\": \"2025-09-27T14:09:13.059337\", \"items\": [{\"item_id\": \"item_620\", \"quantity\": 2, \"price_usd\": 24.68}]}"
        ],
        [
         "event_8",
         1.758982153059356E9,
         "eyJ1c2VyX2lkIjogInVzZXJfNDU3MiIsICJldmVudF90eXBlIjogInZpZXciLCAiZXZlbnRfdGltZXN0YW1wIjogIjIwMjUtMDktMjdUMTQ6MDk6MTMuMDU5MzQ4IiwgIml0ZW1zIjogW3siaXRlbV9pZCI6ICJpdGVtXzkwNiIsICJxdWFudGl0eSI6IDMsICJwcmljZV91c2QiOiA1Ni4yfV19",
         null,
         "{\"user_id\": \"user_4572\", \"event_type\": \"view\", \"event_timestamp\": \"2025-09-27T14:09:13.059348\", \"items\": [{\"item_id\": \"item_906\", \"quantity\": 3, \"price_usd\": 56.2}]}"
        ],
        [
         "event_9",
         1.75898215305937E9,
         "eyJ1c2VyX2lkIjogInVzZXJfOTQ3NyIsICJldmVudF90eXBlIjogInZpZXciLCAiZXZlbnRfdGltZXN0YW1wIjogIjIwMjUtMDktMjdUMTQ6MDk6MTMuMDU5MzU4IiwgIml0ZW1zIjogW3siaXRlbV9pZCI6ICJpdGVtXzgwOSIsICJxdWFudGl0eSI6IDEsICJwcmljZV91c2QiOiA1Mi45fSwgeyJpdGVtX2lkIjogIml0ZW1fNDkzIiwgInF1YW50aXR5IjogNCwgInByaWNlX3VzZCI6IDMyLjY1fV19",
         null,
         "{\"user_id\": \"user_9477\", \"event_type\": \"view\", \"event_timestamp\": \"2025-09-27T14:09:13.059358\", \"items\": [{\"item_id\": \"item_809\", \"quantity\": 1, \"price_usd\": 52.9}, {\"item_id\": \"item_493\", \"quantity\": 4, \"price_usd\": 32.65}]}"
        ],
        [
         "event_10",
         1.758982153059386E9,
         "eyJ1c2VyX2lkIjogInVzZXJfNDg4NCIsICJldmVudF90eXBlIjogInB1cmNoYXNlIiwgImV2ZW50X3RpbWVzdGFtcCI6ICIyMDI1LTA5LTI3VDE0OjA5OjEzLjA1OTM3MiIsICJpdGVtcyI6IFt7Iml0ZW1faWQiOiAiaXRlbV8yNzMiLCAicXVhbnRpdHkiOiAzLCAicHJpY2VfdXNkIjogNDUuNjZ9LCB7Iml0ZW1faWQiOiAiaXRlbV8xNjEiLCAicXVhbnRpdHkiOiAzLCAicHJpY2VfdXNkIjogOTcuNn0sIHsiaXRlbV9pZCI6ICJpdGVtXzk5OSIsICJxdWFudGl0eSI6IDEsICJwcmljZV91c2QiOiA0MS4zNX1dfQ==",
         null,
         "{\"user_id\": \"user_4884\", \"event_type\": \"purchase\", \"event_timestamp\": \"2025-09-27T14:09:13.059372\", \"items\": [{\"item_id\": \"item_273\", \"quantity\": 3, \"price_usd\": 45.66}, {\"item_id\": \"item_161\", \"quantity\": 3, \"price_usd\": 97.6}, {\"item_id\": \"item_999\", \"quantity\": 1, \"price_usd\": 41.35}]}"
        ],
        [
         "event_11",
         1.758982153059402E9,
         "eyJ1c2VyX2lkIjogInVzZXJfNTM1NiIsICJldmVudF90eXBlIjogImNsaWNrIiwgImV2ZW50X3RpbWVzdGFtcCI6ICIyMDI1LTA5LTI3VDE0OjA5OjEzLjA1OTM4OCIsICJpdGVtcyI6IFt7Iml0ZW1faWQiOiAiaXRlbV85NjciLCAicXVhbnRpdHkiOiAyLCAicHJpY2VfdXNkIjogNzUuMn0sIHsiaXRlbV9pZCI6ICJpdGVtXzQ2MyIsICJxdWFudGl0eSI6IDQsICJwcmljZV91c2QiOiAzOC40OH0sIHsiaXRlbV9pZCI6ICJpdGVtXzQzNSIsICJxdWFudGl0eSI6IDEsICJwcmljZV91c2QiOiA0MC41OX1dfQ==",
         null,
         "{\"user_id\": \"user_5356\", \"event_type\": \"click\", \"event_timestamp\": \"2025-09-27T14:09:13.059388\", \"items\": [{\"item_id\": \"item_967\", \"quantity\": 2, \"price_usd\": 75.2}, {\"item_id\": \"item_463\", \"quantity\": 4, \"price_usd\": 38.48}, {\"item_id\": \"item_435\", \"quantity\": 1, \"price_usd\": 40.59}]}"
        ],
        [
         "event_12",
         1.758982153059415E9,
         "eyJ1c2VyX2lkIjogInVzZXJfNzUxNSIsICJldmVudF90eXBlIjogInZpZXciLCAiZXZlbnRfdGltZXN0YW1wIjogIjIwMjUtMDktMjdUMTQ6MDk6MTMuMDU5NDA0IiwgIml0ZW1zIjogW3siaXRlbV9pZCI6ICJpdGVtXzgwNCIsICJxdWFudGl0eSI6IDIsICJwcmljZV91c2QiOiA3OC43Nn0sIHsiaXRlbV9pZCI6ICJpdGVtXzY0MSIsICJxdWFudGl0eSI6IDQsICJwcmljZV91c2QiOiA2OS4zOX1dfQ==",
         null,
         "{\"user_id\": \"user_7515\", \"event_type\": \"view\", \"event_timestamp\": \"2025-09-27T14:09:13.059404\", \"items\": [{\"item_id\": \"item_804\", \"quantity\": 2, \"price_usd\": 78.76}, {\"item_id\": \"item_641\", \"quantity\": 4, \"price_usd\": 69.39}]}"
        ],
        [
         "event_13",
         1.758982153059426E9,
         "eyJ1c2VyX2lkIjogInVzZXJfODI2NiIsICJldmVudF90eXBlIjogImNsaWNrIiwgImV2ZW50X3RpbWVzdGFtcCI6ICIyMDI1LTA5LTI3VDE0OjA5OjEzLjA1OTQxNyIsICJpdGVtcyI6IFt7Iml0ZW1faWQiOiAiaXRlbV84MzQiLCAicXVhbnRpdHkiOiAxLCAicHJpY2VfdXNkIjogMTAuMzR9XX0=",
         null,
         "{\"user_id\": \"user_8266\", \"event_type\": \"click\", \"event_timestamp\": \"2025-09-27T14:09:13.059417\", \"items\": [{\"item_id\": \"item_834\", \"quantity\": 1, \"price_usd\": 10.34}]}"
        ],
        [
         "event_14",
         1.758982153059439E9,
         "eyJ1c2VyX2lkIjogInVzZXJfMTE3OCIsICJldmVudF90eXBlIjogInB1cmNoYXNlIiwgImV2ZW50X3RpbWVzdGFtcCI6ICIyMDI1LTA5LTI3VDE0OjA5OjEzLjA1OTQyOCIsICJpdGVtcyI6IFt7Iml0ZW1faWQiOiAiaXRlbV84NTIiLCAicXVhbnRpdHkiOiA0LCAicHJpY2VfdXNkIjogOTAuNH0sIHsiaXRlbV9pZCI6ICJpdGVtXzI5NCIsICJxdWFudGl0eSI6IDUsICJwcmljZV91c2QiOiA4Ni40fV19",
         null,
         "{\"user_id\": \"user_1178\", \"event_type\": \"purchase\", \"event_timestamp\": \"2025-09-27T14:09:13.059428\", \"items\": [{\"item_id\": \"item_852\", \"quantity\": 4, \"price_usd\": 90.4}, {\"item_id\": \"item_294\", \"quantity\": 5, \"price_usd\": 86.4}]}"
        ],
        [
         "event_15",
         1.758982153059449E9,
         "eyJ1c2VyX2lkIjogInVzZXJfMjA3MCIsICJldmVudF90eXBlIjogImNsaWNrIiwgImV2ZW50X3RpbWVzdGFtcCI6ICIyMDI1LTA5LTI3VDE0OjA5OjEzLjA1OTQ0MSIsICJpdGVtcyI6IFt7Iml0ZW1faWQiOiAiaXRlbV81MTgiLCAicXVhbnRpdHkiOiA0LCAicHJpY2VfdXNkIjogMTguNjV9XX0=",
         null,
         "{\"user_id\": \"user_2070\", \"event_type\": \"click\", \"event_timestamp\": \"2025-09-27T14:09:13.059441\", \"items\": [{\"item_id\": \"item_518\", \"quantity\": 4, \"price_usd\": 18.65}]}"
        ],
        [
         "event_16",
         1.758982153059462E9,
         "eyJ1c2VyX2lkIjogInVzZXJfNjgwNCIsICJldmVudF90eXBlIjogInZpZXciLCAiZXZlbnRfdGltZXN0YW1wIjogIjIwMjUtMDktMjdUMTQ6MDk6MTMuMDU5NDUxIiwgIml0ZW1zIjogW3siaXRlbV9pZCI6ICJpdGVtXzUxNSIsICJxdWFudGl0eSI6IDIsICJwcmljZV91c2QiOiA5My43NX0sIHsiaXRlbV9pZCI6ICJpdGVtXzExOCIsICJxdWFudGl0eSI6IDQsICJwcmljZV91c2QiOiA2NS4yfV19",
         null,
         "{\"user_id\": \"user_6804\", \"event_type\": \"view\", \"event_timestamp\": \"2025-09-27T14:09:13.059451\", \"items\": [{\"item_id\": \"item_515\", \"quantity\": 2, \"price_usd\": 93.75}, {\"item_id\": \"item_118\", \"quantity\": 4, \"price_usd\": 65.2}]}"
        ],
        [
         "event_17",
         1.758982153059478E9,
         "eyJ1c2VyX2lkIjogInVzZXJfMTYxNyIsICJldmVudF90eXBlIjogInZpZXciLCAiZXZlbnRfdGltZXN0YW1wIjogIjIwMjUtMDktMjdUMTQ6MDk6MTMuMDU5NDY0IiwgIml0ZW1zIjogW3siaXRlbV9pZCI6ICJpdGVtXzcxOSIsICJxdWFudGl0eSI6IDMsICJwcmljZV91c2QiOiAzNy4wM30sIHsiaXRlbV9pZCI6ICJpdGVtXzIwNyIsICJxdWFudGl0eSI6IDQsICJwcmljZV91c2QiOiA3NC42OH0sIHsiaXRlbV9pZCI6ICJpdGVtXzQ4OCIsICJxdWFudGl0eSI6IDUsICJwcmljZV91c2QiOiAzNC4xNn1dfQ==",
         null,
         "{\"user_id\": \"user_1617\", \"event_type\": \"view\", \"event_timestamp\": \"2025-09-27T14:09:13.059464\", \"items\": [{\"item_id\": \"item_719\", \"quantity\": 3, \"price_usd\": 37.03}, {\"item_id\": \"item_207\", \"quantity\": 4, \"price_usd\": 74.68}, {\"item_id\": \"item_488\", \"quantity\": 5, \"price_usd\": 34.16}]}"
        ],
        [
         "event_18",
         1.758982153059493E9,
         "eyJ1c2VyX2lkIjogInVzZXJfMzU5MiIsICJldmVudF90eXBlIjogImNsaWNrIiwgImV2ZW50X3RpbWVzdGFtcCI6ICIyMDI1LTA5LTI3VDE0OjA5OjEzLjA1OTQ4MCIsICJpdGVtcyI6IFt7Iml0ZW1faWQiOiAiaXRlbV82MDYiLCAicXVhbnRpdHkiOiAzLCAicHJpY2VfdXNkIjogMzkuOTl9LCB7Iml0ZW1faWQiOiAiaXRlbV84NjEiLCAicXVhbnRpdHkiOiAyLCAicHJpY2VfdXNkIjogNzAuMjF9LCB7Iml0ZW1faWQiOiAiaXRlbV84ODQiLCAicXVhbnRpdHkiOiA1LCAicHJpY2VfdXNkIjogOTAuMjJ9XX0=",
         null,
         "{\"user_id\": \"user_3592\", \"event_type\": \"click\", \"event_timestamp\": \"2025-09-27T14:09:13.059480\", \"items\": [{\"item_id\": \"item_606\", \"quantity\": 3, \"price_usd\": 39.99}, {\"item_id\": \"item_861\", \"quantity\": 2, \"price_usd\": 70.21}, {\"item_id\": \"item_884\", \"quantity\": 5, \"price_usd\": 90.22}]}"
        ],
        [
         "event_19",
         1.758982153059504E9,
         "eyJ1c2VyX2lkIjogInVzZXJfNjU1OCIsICJldmVudF90eXBlIjogInB1cmNoYXNlIiwgImV2ZW50X3RpbWVzdGFtcCI6ICIyMDI1LTA5LTI3VDE0OjA5OjEzLjA1OTQ5NSIsICJpdGVtcyI6IFt7Iml0ZW1faWQiOiAiaXRlbV8yNDciLCAicXVhbnRpdHkiOiA0LCAicHJpY2VfdXNkIjogNzMuOH1dfQ==",
         null,
         "{\"user_id\": \"user_6558\", \"event_type\": \"purchase\", \"event_timestamp\": \"2025-09-27T14:09:13.059495\", \"items\": [{\"item_id\": \"item_247\", \"quantity\": 4, \"price_usd\": 73.8}]}"
        ],
        [
         "event_20",
         1.758982153059519E9,
         "eyJ1c2VyX2lkIjogInVzZXJfODkzMCIsICJldmVudF90eXBlIjogImNsaWNrIiwgImV2ZW50X3RpbWVzdGFtcCI6ICIyMDI1LTA5LTI3VDE0OjA5OjEzLjA1OTUwNSIsICJpdGVtcyI6IFt7Iml0ZW1faWQiOiAiaXRlbV8xMDkiLCAicXVhbnRpdHkiOiA0LCAicHJpY2VfdXNkIjogNDkuMjF9LCB7Iml0ZW1faWQiOiAiaXRlbV81NTgiLCAicXVhbnRpdHkiOiA0LCAicHJpY2VfdXNkIjogNzUuODR9LCB7Iml0ZW1faWQiOiAiaXRlbV84MTgiLCAicXVhbnRpdHkiOiAxLCAicHJpY2VfdXNkIjogODcuMDV9XX0=",
         null,
         "{\"user_id\": \"user_8930\", \"event_type\": \"click\", \"event_timestamp\": \"2025-09-27T14:09:13.059505\", \"items\": [{\"item_id\": \"item_109\", \"quantity\": 4, \"price_usd\": 49.21}, {\"item_id\": \"item_558\", \"quantity\": 4, \"price_usd\": 75.84}, {\"item_id\": \"item_818\", \"quantity\": 1, \"price_usd\": 87.05}]}"
        ],
        [
         "event_21",
         1.758982153059538E9,
         "eyJ1c2VyX2lkIjogInVzZXJfNjMwMyIsICJldmVudF90eXBlIjogInZpZXciLCAiZXZlbnRfdGltZXN0YW1wIjogIjIwMjUtMDktMjdUMTQ6MDk6MTMuMDU5NTIxIiwgIml0ZW1zIjogW3siaXRlbV9pZCI6ICJpdGVtXzY5MSIsICJxdWFudGl0eSI6IDQsICJwcmljZV91c2QiOiA4NC43NH0sIHsiaXRlbV9pZCI6ICJpdGVtXzUzMCIsICJxdWFudGl0eSI6IDEsICJwcmljZV91c2QiOiA0MS44NH1dfQ==",
         null,
         "{\"user_id\": \"user_6303\", \"event_type\": \"view\", \"event_timestamp\": \"2025-09-27T14:09:13.059521\", \"items\": [{\"item_id\": \"item_691\", \"quantity\": 4, \"price_usd\": 84.74}, {\"item_id\": \"item_530\", \"quantity\": 1, \"price_usd\": 41.84}]}"
        ],
        [
         "event_22",
         1.758982153059566E9,
         "eyJ1c2VyX2lkIjogInVzZXJfMjI1MyIsICJldmVudF90eXBlIjogInB1cmNoYXNlIiwgImV2ZW50X3RpbWVzdGFtcCI6ICIyMDI1LTA5LTI3VDE0OjA5OjEzLjA1OTU0MiIsICJpdGVtcyI6IFt7Iml0ZW1faWQiOiAiaXRlbV8zMTMiLCAicXVhbnRpdHkiOiAxLCAicHJpY2VfdXNkIjogNjAuMzF9LCB7Iml0ZW1faWQiOiAiaXRlbV80MTYiLCAicXVhbnRpdHkiOiAxLCAicHJpY2VfdXNkIjogMTQuNDR9XX0=",
         null,
         "{\"user_id\": \"user_2253\", \"event_type\": \"purchase\", \"event_timestamp\": \"2025-09-27T14:09:13.059542\", \"items\": [{\"item_id\": \"item_313\", \"quantity\": 1, \"price_usd\": 60.31}, {\"item_id\": \"item_416\", \"quantity\": 1, \"price_usd\": 14.44}]}"
        ],
        [
         "event_23",
         1.758982153059589E9,
         "eyJ1c2VyX2lkIjogInVzZXJfMzM3NyIsICJldmVudF90eXBlIjogInZpZXciLCAiZXZlbnRfdGltZXN0YW1wIjogIjIwMjUtMDktMjdUMTQ6MDk6MTMuMDU5NTY5IiwgIml0ZW1zIjogW3siaXRlbV9pZCI6ICJpdGVtXzg1MyIsICJxdWFudGl0eSI6IDEsICJwcmljZV91c2QiOiAxOS44Nn0sIHsiaXRlbV9pZCI6ICJpdGVtXzg4MyIsICJxdWFudGl0eSI6IDEsICJwcmljZV91c2QiOiAyNS4xfV19",
         null,
         "{\"user_id\": \"user_3377\", \"event_type\": \"view\", \"event_timestamp\": \"2025-09-27T14:09:13.059569\", \"items\": [{\"item_id\": \"item_853\", \"quantity\": 1, \"price_usd\": 19.86}, {\"item_id\": \"item_883\", \"quantity\": 1, \"price_usd\": 25.1}]}"
        ],
        [
         "event_24",
         1.758982153059617E9,
         "eyJ1c2VyX2lkIjogInVzZXJfNjgzMyIsICJldmVudF90eXBlIjogImNsaWNrIiwgImV2ZW50X3RpbWVzdGFtcCI6ICIyMDI1LTA5LTI3VDE0OjA5OjEzLjA1OTU5MiIsICJpdGVtcyI6IFt7Iml0ZW1faWQiOiAiaXRlbV85MzEiLCAicXVhbnRpdHkiOiA0LCAicHJpY2VfdXNkIjogOTkuMTJ9LCB7Iml0ZW1faWQiOiAiaXRlbV82NTkiLCAicXVhbnRpdHkiOiAzLCAicHJpY2VfdXNkIjogNDEuMjF9LCB7Iml0ZW1faWQiOiAiaXRlbV84MjAiLCAicXVhbnRpdHkiOiA1LCAicHJpY2VfdXNkIjogNTUuODl9XX0=",
         null,
         "{\"user_id\": \"user_6833\", \"event_type\": \"click\", \"event_timestamp\": \"2025-09-27T14:09:13.059592\", \"items\": [{\"item_id\": \"item_931\", \"quantity\": 4, \"price_usd\": 99.12}, {\"item_id\": \"item_659\", \"quantity\": 3, \"price_usd\": 41.21}, {\"item_id\": \"item_820\", \"quantity\": 5, \"price_usd\": 55.89}]}"
        ],
        [
         "event_25",
         1.758982153059697E9,
         "eyJ1c2VyX2lkIjogInVzZXJfOTI4OSIsICJldmVudF90eXBlIjogImNsaWNrIiwgImV2ZW50X3RpbWVzdGFtcCI6ICIyMDI1LTA5LTI3VDE0OjA5OjEzLjA1OTYyMSIsICJpdGVtcyI6IFt7Iml0ZW1faWQiOiAiaXRlbV81MzAiLCAicXVhbnRpdHkiOiAxLCAicHJpY2VfdXNkIjogOTkuMn0sIHsiaXRlbV9pZCI6ICJpdGVtXzE2OCIsICJxdWFudGl0eSI6IDMsICJwcmljZV91c2QiOiA1NS45NH0sIHsiaXRlbV9pZCI6ICJpdGVtXzM1NSIsICJxdWFudGl0eSI6IDMsICJwcmljZV91c2QiOiA1Ni4xNH1dfQ==",
         null,
         "{\"user_id\": \"user_9289\", \"event_type\": \"click\", \"event_timestamp\": \"2025-09-27T14:09:13.059621\", \"items\": [{\"item_id\": \"item_530\", \"quantity\": 1, \"price_usd\": 99.2}, {\"item_id\": \"item_168\", \"quantity\": 3, \"price_usd\": 55.94}, {\"item_id\": \"item_355\", \"quantity\": 3, \"price_usd\": 56.14}]}"
        ],
        [
         "event_26",
         1.758982153059713E9,
         "eyJ1c2VyX2lkIjogInVzZXJfNTExMyIsICJldmVudF90eXBlIjogInZpZXciLCAiZXZlbnRfdGltZXN0YW1wIjogIjIwMjUtMDktMjdUMTQ6MDk6MTMuMDU5NzAwIiwgIml0ZW1zIjogW3siaXRlbV9pZCI6ICJpdGVtXzMxMCIsICJxdWFudGl0eSI6IDIsICJwcmljZV91c2QiOiA3NC4yNX0sIHsiaXRlbV9pZCI6ICJpdGVtXzY4NCIsICJxdWFudGl0eSI6IDIsICJwcmljZV91c2QiOiA3NS42fV19",
         null,
         "{\"user_id\": \"user_5113\", \"event_type\": \"view\", \"event_timestamp\": \"2025-09-27T14:09:13.059700\", \"items\": [{\"item_id\": \"item_310\", \"quantity\": 2, \"price_usd\": 74.25}, {\"item_id\": \"item_684\", \"quantity\": 2, \"price_usd\": 75.6}]}"
        ],
        [
         "event_27",
         1.758982153059727E9,
         "eyJ1c2VyX2lkIjogInVzZXJfODc4MSIsICJldmVudF90eXBlIjogImNsaWNrIiwgImV2ZW50X3RpbWVzdGFtcCI6ICIyMDI1LTA5LTI3VDE0OjA5OjEzLjA1OTcxNSIsICJpdGVtcyI6IFt7Iml0ZW1faWQiOiAiaXRlbV82NzAiLCAicXVhbnRpdHkiOiA0LCAicHJpY2VfdXNkIjogMjEuNzZ9LCB7Iml0ZW1faWQiOiAiaXRlbV84MzYiLCAicXVhbnRpdHkiOiA1LCAicHJpY2VfdXNkIjogNDguNjN9XX0=",
         null,
         "{\"user_id\": \"user_8781\", \"event_type\": \"click\", \"event_timestamp\": \"2025-09-27T14:09:13.059715\", \"items\": [{\"item_id\": \"item_670\", \"quantity\": 4, \"price_usd\": 21.76}, {\"item_id\": \"item_836\", \"quantity\": 5, \"price_usd\": 48.63}]}"
        ],
        [
         "event_28",
         1.758982153059739E9,
         "eyJ1c2VyX2lkIjogInVzZXJfNzcwNyIsICJldmVudF90eXBlIjogInZpZXciLCAiZXZlbnRfdGltZXN0YW1wIjogIjIwMjUtMDktMjdUMTQ6MDk6MTMuMDU5NzI5IiwgIml0ZW1zIjogW3siaXRlbV9pZCI6ICJpdGVtXzkwNCIsICJxdWFudGl0eSI6IDUsICJwcmljZV91c2QiOiAzMy4wN30sIHsiaXRlbV9pZCI6ICJpdGVtXzc5MiIsICJxdWFudGl0eSI6IDIsICJwcmljZV91c2QiOiAyMC4zNX1dfQ==",
         null,
         "{\"user_id\": \"user_7707\", \"event_type\": \"view\", \"event_timestamp\": \"2025-09-27T14:09:13.059729\", \"items\": [{\"item_id\": \"item_904\", \"quantity\": 5, \"price_usd\": 33.07}, {\"item_id\": \"item_792\", \"quantity\": 2, \"price_usd\": 20.35}]}"
        ],
        [
         "event_29",
         1.758982153059752E9,
         "eyJ1c2VyX2lkIjogInVzZXJfNjcxNiIsICJldmVudF90eXBlIjogImNsaWNrIiwgImV2ZW50X3RpbWVzdGFtcCI6ICIyMDI1LTA5LTI3VDE0OjA5OjEzLjA1OTc0MiIsICJpdGVtcyI6IFt7Iml0ZW1faWQiOiAiaXRlbV8xNTciLCAicXVhbnRpdHkiOiA1LCAicHJpY2VfdXNkIjogNjcuNjF9LCB7Iml0ZW1faWQiOiAiaXRlbV8zMzAiLCAicXVhbnRpdHkiOiAyLCAicHJpY2VfdXNkIjogODkuNDR9XX0=",
         null,
         "{\"user_id\": \"user_6716\", \"event_type\": \"click\", \"event_timestamp\": \"2025-09-27T14:09:13.059742\", \"items\": [{\"item_id\": \"item_157\", \"quantity\": 5, \"price_usd\": 67.61}, {\"item_id\": \"item_330\", \"quantity\": 2, \"price_usd\": 89.44}]}"
        ],
        [
         "event_30",
         1.758982153059765E9,
         "eyJ1c2VyX2lkIjogInVzZXJfOTczMiIsICJldmVudF90eXBlIjogInB1cmNoYXNlIiwgImV2ZW50X3RpbWVzdGFtcCI6ICIyMDI1LTA5LTI3VDE0OjA5OjEzLjA1OTc1NCIsICJpdGVtcyI6IFt7Iml0ZW1faWQiOiAiaXRlbV80OTEiLCAicXVhbnRpdHkiOiAyLCAicHJpY2VfdXNkIjogMzYuMjN9LCB7Iml0ZW1faWQiOiAiaXRlbV80NTQiLCAicXVhbnRpdHkiOiAyLCAicHJpY2VfdXNkIjogODUuNzZ9XX0=",
         null,
         "{\"user_id\": \"user_9732\", \"event_type\": \"purchase\", \"event_timestamp\": \"2025-09-27T14:09:13.059754\", \"items\": [{\"item_id\": \"item_491\", \"quantity\": 2, \"price_usd\": 36.23}, {\"item_id\": \"item_454\", \"quantity\": 2, \"price_usd\": 85.76}]}"
        ],
        [
         "event_31",
         1.758982153059781E9,
         "eyJ1c2VyX2lkIjogInVzZXJfNTQ1OCIsICJldmVudF90eXBlIjogInB1cmNoYXNlIiwgImV2ZW50X3RpbWVzdGFtcCI6ICIyMDI1LTA5LTI3VDE0OjA5OjEzLjA1OTc2NyIsICJpdGVtcyI6IFt7Iml0ZW1faWQiOiAiaXRlbV84NjciLCAicXVhbnRpdHkiOiAxLCAicHJpY2VfdXNkIjogODguOTR9LCB7Iml0ZW1faWQiOiAiaXRlbV80OTciLCAicXVhbnRpdHkiOiAyLCAicHJpY2VfdXNkIjogNDYuMTF9LCB7Iml0ZW1faWQiOiAiaXRlbV84NDgiLCAicXVhbnRpdHkiOiAxLCAicHJpY2VfdXNkIjogMzcuMDN9XX0=",
         null,
         "{\"user_id\": \"user_5458\", \"event_type\": \"purchase\", \"event_timestamp\": \"2025-09-27T14:09:13.059767\", \"items\": [{\"item_id\": \"item_867\", \"quantity\": 1, \"price_usd\": 88.94}, {\"item_id\": \"item_497\", \"quantity\": 2, \"price_usd\": 46.11}, {\"item_id\": \"item_848\", \"quantity\": 1, \"price_usd\": 37.03}]}"
        ],
        [
         "event_32",
         1.758982153059797E9,
         "eyJ1c2VyX2lkIjogInVzZXJfNTI3MSIsICJldmVudF90eXBlIjogImNsaWNrIiwgImV2ZW50X3RpbWVzdGFtcCI6ICIyMDI1LTA5LTI3VDE0OjA5OjEzLjA1OTc4MyIsICJpdGVtcyI6IFt7Iml0ZW1faWQiOiAiaXRlbV85NzIiLCAicXVhbnRpdHkiOiA1LCAicHJpY2VfdXNkIjogNTEuNDZ9LCB7Iml0ZW1faWQiOiAiaXRlbV83NTgiLCAicXVhbnRpdHkiOiA1LCAicHJpY2VfdXNkIjogMTkuODF9LCB7Iml0ZW1faWQiOiAiaXRlbV8zMDQiLCAicXVhbnRpdHkiOiAxLCAicHJpY2VfdXNkIjogNDkuNDJ9XX0=",
         null,
         "{\"user_id\": \"user_5271\", \"event_type\": \"click\", \"event_timestamp\": \"2025-09-27T14:09:13.059783\", \"items\": [{\"item_id\": \"item_972\", \"quantity\": 5, \"price_usd\": 51.46}, {\"item_id\": \"item_758\", \"quantity\": 5, \"price_usd\": 19.81}, {\"item_id\": \"item_304\", \"quantity\": 1, \"price_usd\": 49.42}]}"
        ],
        [
         "event_33",
         1.75898215305981E9,
         "eyJ1c2VyX2lkIjogInVzZXJfMTg3NCIsICJldmVudF90eXBlIjogInB1cmNoYXNlIiwgImV2ZW50X3RpbWVzdGFtcCI6ICIyMDI1LTA5LTI3VDE0OjA5OjEzLjA1OTc5OSIsICJpdGVtcyI6IFt7Iml0ZW1faWQiOiAiaXRlbV8zOTgiLCAicXVhbnRpdHkiOiA1LCAicHJpY2VfdXNkIjogNTkuNDV9XX0=",
         null,
         "{\"user_id\": \"user_1874\", \"event_type\": \"purchase\", \"event_timestamp\": \"2025-09-27T14:09:13.059799\", \"items\": [{\"item_id\": \"item_398\", \"quantity\": 5, \"price_usd\": 59.45}]}"
        ],
        [
         "event_34",
         1.758982153059833E9,
         "eyJ1c2VyX2lkIjogInVzZXJfODIyOSIsICJldmVudF90eXBlIjogImNsaWNrIiwgImV2ZW50X3RpbWVzdGFtcCI6ICIyMDI1LTA5LTI3VDE0OjA5OjEzLjA1OTgxNCIsICJpdGVtcyI6IFt7Iml0ZW1faWQiOiAiaXRlbV8yMzgiLCAicXVhbnRpdHkiOiA1LCAicHJpY2VfdXNkIjogMjAuNTR9LCB7Iml0ZW1faWQiOiAiaXRlbV8yNDAiLCAicXVhbnRpdHkiOiAzLCAicHJpY2VfdXNkIjogMzYuMjl9XX0=",
         null,
         "{\"user_id\": \"user_8229\", \"event_type\": \"click\", \"event_timestamp\": \"2025-09-27T14:09:13.059814\", \"items\": [{\"item_id\": \"item_238\", \"quantity\": 5, \"price_usd\": 20.54}, {\"item_id\": \"item_240\", \"quantity\": 3, \"price_usd\": 36.29}]}"
        ],
        [
         "event_35",
         1.758982153059861E9,
         "eyJ1c2VyX2lkIjogInVzZXJfNDcyNCIsICJldmVudF90eXBlIjogInB1cmNoYXNlIiwgImV2ZW50X3RpbWVzdGFtcCI6ICIyMDI1LTA5LTI3VDE0OjA5OjEzLjA1OTgzNSIsICJpdGVtcyI6IFt7Iml0ZW1faWQiOiAiaXRlbV81NDciLCAicXVhbnRpdHkiOiAxLCAicHJpY2VfdXNkIjogNDQuMTl9LCB7Iml0ZW1faWQiOiAiaXRlbV80MzYiLCAicXVhbnRpdHkiOiAzLCAicHJpY2VfdXNkIjogNzMuNH1dfQ==",
         null,
         "{\"user_id\": \"user_4724\", \"event_type\": \"purchase\", \"event_timestamp\": \"2025-09-27T14:09:13.059835\", \"items\": [{\"item_id\": \"item_547\", \"quantity\": 1, \"price_usd\": 44.19}, {\"item_id\": \"item_436\", \"quantity\": 3, \"price_usd\": 73.4}]}"
        ],
        [
         "event_36",
         1.758982153059875E9,
         "eyJ1c2VyX2lkIjogInVzZXJfNDUzMyIsICJldmVudF90eXBlIjogInZpZXciLCAiZXZlbnRfdGltZXN0YW1wIjogIjIwMjUtMDktMjdUMTQ6MDk6MTMuMDU5ODY0IiwgIml0ZW1zIjogW3siaXRlbV9pZCI6ICJpdGVtXzI0NSIsICJxdWFudGl0eSI6IDMsICJwcmljZV91c2QiOiA0NC42NH1dfQ==",
         null,
         "{\"user_id\": \"user_4533\", \"event_type\": \"view\", \"event_timestamp\": \"2025-09-27T14:09:13.059864\", \"items\": [{\"item_id\": \"item_245\", \"quantity\": 3, \"price_usd\": 44.64}]}"
        ],
        [
         "event_37",
         1.758982153059886E9,
         "eyJ1c2VyX2lkIjogInVzZXJfMTU5MiIsICJldmVudF90eXBlIjogInB1cmNoYXNlIiwgImV2ZW50X3RpbWVzdGFtcCI6ICIyMDI1LTA5LTI3VDE0OjA5OjEzLjA1OTg3NyIsICJpdGVtcyI6IFt7Iml0ZW1faWQiOiAiaXRlbV80NjEiLCAicXVhbnRpdHkiOiAyLCAicHJpY2VfdXNkIjogNTQuNTN9XX0=",
         null,
         "{\"user_id\": \"user_1592\", \"event_type\": \"purchase\", \"event_timestamp\": \"2025-09-27T14:09:13.059877\", \"items\": [{\"item_id\": \"item_461\", \"quantity\": 2, \"price_usd\": 54.53}]}"
        ],
        [
         "event_38",
         1.758982153059896E9,
         "eyJ1c2VyX2lkIjogInVzZXJfODIwMCIsICJldmVudF90eXBlIjogImNsaWNrIiwgImV2ZW50X3RpbWVzdGFtcCI6ICIyMDI1LTA5LTI3VDE0OjA5OjEzLjA1OTg4OCIsICJpdGVtcyI6IFt7Iml0ZW1faWQiOiAiaXRlbV80ODEiLCAicXVhbnRpdHkiOiAyLCAicHJpY2VfdXNkIjogNTYuMTF9XX0=",
         null,
         "{\"user_id\": \"user_8200\", \"event_type\": \"click\", \"event_timestamp\": \"2025-09-27T14:09:13.059888\", \"items\": [{\"item_id\": \"item_481\", \"quantity\": 2, \"price_usd\": 56.11}]}"
        ],
        [
         "event_39",
         1.758982153059913E9,
         "eyJ1c2VyX2lkIjogInVzZXJfNzM3OCIsICJldmVudF90eXBlIjogInZpZXciLCAiZXZlbnRfdGltZXN0YW1wIjogIjIwMjUtMDktMjdUMTQ6MDk6MTMuMDU5ODk4IiwgIml0ZW1zIjogW3siaXRlbV9pZCI6ICJpdGVtXzQ1NCIsICJxdWFudGl0eSI6IDUsICJwcmljZV91c2QiOiA1Ni4yNH0sIHsiaXRlbV9pZCI6ICJpdGVtXzE1NyIsICJxdWFudGl0eSI6IDEsICJwcmljZV91c2QiOiA0MS41Nn0sIHsiaXRlbV9pZCI6ICJpdGVtXzU3MCIsICJxdWFudGl0eSI6IDQsICJwcmljZV91c2QiOiA0OC4wMX1dfQ==",
         null,
         "{\"user_id\": \"user_7378\", \"event_type\": \"view\", \"event_timestamp\": \"2025-09-27T14:09:13.059898\", \"items\": [{\"item_id\": \"item_454\", \"quantity\": 5, \"price_usd\": 56.24}, {\"item_id\": \"item_157\", \"quantity\": 1, \"price_usd\": 41.56}, {\"item_id\": \"item_570\", \"quantity\": 4, \"price_usd\": 48.01}]}"
        ],
        [
         "event_40",
         1.758982153059929E9,
         "eyJ1c2VyX2lkIjogInVzZXJfMTcyMSIsICJldmVudF90eXBlIjogInB1cmNoYXNlIiwgImV2ZW50X3RpbWVzdGFtcCI6ICIyMDI1LTA5LTI3VDE0OjA5OjEzLjA1OTkxNSIsICJpdGVtcyI6IFt7Iml0ZW1faWQiOiAiaXRlbV84NTIiLCAicXVhbnRpdHkiOiA0LCAicHJpY2VfdXNkIjogNjcuNzd9LCB7Iml0ZW1faWQiOiAiaXRlbV8xMDQiLCAicXVhbnRpdHkiOiAyLCAicHJpY2VfdXNkIjogNjYuMjR9LCB7Iml0ZW1faWQiOiAiaXRlbV82MTEiLCAicXVhbnRpdHkiOiAxLCAicHJpY2VfdXNkIjogMTUuNTR9XX0=",
         null,
         "{\"user_id\": \"user_1721\", \"event_type\": \"purchase\", \"event_timestamp\": \"2025-09-27T14:09:13.059915\", \"items\": [{\"item_id\": \"item_852\", \"quantity\": 4, \"price_usd\": 67.77}, {\"item_id\": \"item_104\", \"quantity\": 2, \"price_usd\": 66.24}, {\"item_id\": \"item_611\", \"quantity\": 1, \"price_usd\": 15.54}]}"
        ],
        [
         "event_41",
         1.758982153059939E9,
         "eyJ1c2VyX2lkIjogInVzZXJfMjE0MyIsICJldmVudF90eXBlIjogImNsaWNrIiwgImV2ZW50X3RpbWVzdGFtcCI6ICIyMDI1LTA5LTI3VDE0OjA5OjEzLjA1OTkzMSIsICJpdGVtcyI6IFt7Iml0ZW1faWQiOiAiaXRlbV80MjEiLCAicXVhbnRpdHkiOiA1LCAicHJpY2VfdXNkIjogNjkuNjJ9XX0=",
         null,
         "{\"user_id\": \"user_2143\", \"event_type\": \"click\", \"event_timestamp\": \"2025-09-27T14:09:13.059931\", \"items\": [{\"item_id\": \"item_421\", \"quantity\": 5, \"price_usd\": 69.62}]}"
        ],
        [
         "event_42",
         1.758982153059955E9,
         "eyJ1c2VyX2lkIjogInVzZXJfNTc0MSIsICJldmVudF90eXBlIjogInB1cmNoYXNlIiwgImV2ZW50X3RpbWVzdGFtcCI6ICIyMDI1LTA5LTI3VDE0OjA5OjEzLjA1OTk0MSIsICJpdGVtcyI6IFt7Iml0ZW1faWQiOiAiaXRlbV8zMDMiLCAicXVhbnRpdHkiOiA1LCAicHJpY2VfdXNkIjogOTYuMDJ9LCB7Iml0ZW1faWQiOiAiaXRlbV8zMTMiLCAicXVhbnRpdHkiOiA0LCAicHJpY2VfdXNkIjogNDQuNDd9LCB7Iml0ZW1faWQiOiAiaXRlbV81NzAiLCAicXVhbnRpdHkiOiA0LCAicHJpY2VfdXNkIjogMjYuNjV9XX0=",
         null,
         "{\"user_id\": \"user_5741\", \"event_type\": \"purchase\", \"event_timestamp\": \"2025-09-27T14:09:13.059941\", \"items\": [{\"item_id\": \"item_303\", \"quantity\": 5, \"price_usd\": 96.02}, {\"item_id\": \"item_313\", \"quantity\": 4, \"price_usd\": 44.47}, {\"item_id\": \"item_570\", \"quantity\": 4, \"price_usd\": 26.65}]}"
        ],
        [
         "event_43",
         1.758982153059965E9,
         "eyJ1c2VyX2lkIjogInVzZXJfMjA1MyIsICJldmVudF90eXBlIjogInB1cmNoYXNlIiwgImV2ZW50X3RpbWVzdGFtcCI6ICIyMDI1LTA5LTI3VDE0OjA5OjEzLjA1OTk1NyIsICJpdGVtcyI6IFt7Iml0ZW1faWQiOiAiaXRlbV84NjEiLCAicXVhbnRpdHkiOiAzLCAicHJpY2VfdXNkIjogNzAuNTV9XX0=",
         null,
         "{\"user_id\": \"user_2053\", \"event_type\": \"purchase\", \"event_timestamp\": \"2025-09-27T14:09:13.059957\", \"items\": [{\"item_id\": \"item_861\", \"quantity\": 3, \"price_usd\": 70.55}]}"
        ],
        [
         "event_44",
         1.758982153059978E9,
         "eyJ1c2VyX2lkIjogInVzZXJfMzY4MiIsICJldmVudF90eXBlIjogInB1cmNoYXNlIiwgImV2ZW50X3RpbWVzdGFtcCI6ICIyMDI1LTA5LTI3VDE0OjA5OjEzLjA1OTk2NyIsICJpdGVtcyI6IFt7Iml0ZW1faWQiOiAiaXRlbV85MjkiLCAicXVhbnRpdHkiOiA0LCAicHJpY2VfdXNkIjogMzAuNX0sIHsiaXRlbV9pZCI6ICJpdGVtXzUzMyIsICJxdWFudGl0eSI6IDEsICJwcmljZV91c2QiOiA0OS4yMX1dfQ==",
         null,
         "{\"user_id\": \"user_3682\", \"event_type\": \"purchase\", \"event_timestamp\": \"2025-09-27T14:09:13.059967\", \"items\": [{\"item_id\": \"item_929\", \"quantity\": 4, \"price_usd\": 30.5}, {\"item_id\": \"item_533\", \"quantity\": 1, \"price_usd\": 49.21}]}"
        ],
        [
         "event_45",
         1.75898215305999E9,
         "eyJ1c2VyX2lkIjogInVzZXJfNzg3NSIsICJldmVudF90eXBlIjogInZpZXciLCAiZXZlbnRfdGltZXN0YW1wIjogIjIwMjUtMDktMjdUMTQ6MDk6MTMuMDU5OTc5IiwgIml0ZW1zIjogW3siaXRlbV9pZCI6ICJpdGVtXzczMSIsICJxdWFudGl0eSI6IDIsICJwcmljZV91c2QiOiA3NS42OX0sIHsiaXRlbV9pZCI6ICJpdGVtXzI1OCIsICJxdWFudGl0eSI6IDUsICJwcmljZV91c2QiOiA0MS40N31dfQ==",
         null,
         "{\"user_id\": \"user_7875\", \"event_type\": \"view\", \"event_timestamp\": \"2025-09-27T14:09:13.059979\", \"items\": [{\"item_id\": \"item_731\", \"quantity\": 2, \"price_usd\": 75.69}, {\"item_id\": \"item_258\", \"quantity\": 5, \"price_usd\": 41.47}]}"
        ],
        [
         "event_46",
         1.75898215306E9,
         "eyJ1c2VyX2lkIjogInVzZXJfMjIzMSIsICJldmVudF90eXBlIjogInB1cmNoYXNlIiwgImV2ZW50X3RpbWVzdGFtcCI6ICIyMDI1LTA5LTI3VDE0OjA5OjEzLjA1OTk5MiIsICJpdGVtcyI6IFt7Iml0ZW1faWQiOiAiaXRlbV84NTEiLCAicXVhbnRpdHkiOiAyLCAicHJpY2VfdXNkIjogMTIuOTJ9XX0=",
         null,
         "{\"user_id\": \"user_2231\", \"event_type\": \"purchase\", \"event_timestamp\": \"2025-09-27T14:09:13.059992\", \"items\": [{\"item_id\": \"item_851\", \"quantity\": 2, \"price_usd\": 12.92}]}"
        ],
        [
         "event_47",
         1.758982153060011E9,
         "eyJ1c2VyX2lkIjogInVzZXJfMjY5NSIsICJldmVudF90eXBlIjogInB1cmNoYXNlIiwgImV2ZW50X3RpbWVzdGFtcCI6ICIyMDI1LTA5LTI3VDE0OjA5OjEzLjA2MDAwMiIsICJpdGVtcyI6IFt7Iml0ZW1faWQiOiAiaXRlbV83NTEiLCAicXVhbnRpdHkiOiAyLCAicHJpY2VfdXNkIjogMjcuNzN9XX0=",
         null,
         "{\"user_id\": \"user_2695\", \"event_type\": \"purchase\", \"event_timestamp\": \"2025-09-27T14:09:13.060002\", \"items\": [{\"item_id\": \"item_751\", \"quantity\": 2, \"price_usd\": 27.73}]}"
        ],
        [
         "event_48",
         1.758982153060026E9,
         "eyJ1c2VyX2lkIjogInVzZXJfMTc1NSIsICJldmVudF90eXBlIjogInB1cmNoYXNlIiwgImV2ZW50X3RpbWVzdGFtcCI6ICIyMDI1LTA5LTI3VDE0OjA5OjEzLjA2MDAxMiIsICJpdGVtcyI6IFt7Iml0ZW1faWQiOiAiaXRlbV8xODkiLCAicXVhbnRpdHkiOiAzLCAicHJpY2VfdXNkIjogMTQuOTF9LCB7Iml0ZW1faWQiOiAiaXRlbV8zMDEiLCAicXVhbnRpdHkiOiA1LCAicHJpY2VfdXNkIjogODYuMzV9LCB7Iml0ZW1faWQiOiAiaXRlbV82MDMiLCAicXVhbnRpdHkiOiAxLCAicHJpY2VfdXNkIjogNzAuNTh9XX0=",
         null,
         "{\"user_id\": \"user_1755\", \"event_type\": \"purchase\", \"event_timestamp\": \"2025-09-27T14:09:13.060012\", \"items\": [{\"item_id\": \"item_189\", \"quantity\": 3, \"price_usd\": 14.91}, {\"item_id\": \"item_301\", \"quantity\": 5, \"price_usd\": 86.35}, {\"item_id\": \"item_603\", \"quantity\": 1, \"price_usd\": 70.58}]}"
        ],
        [
         "event_49",
         1.758982153060047E9,
         "eyJ1c2VyX2lkIjogInVzZXJfNDM3MyIsICJldmVudF90eXBlIjogImNsaWNrIiwgImV2ZW50X3RpbWVzdGFtcCI6ICIyMDI1LTA5LTI3VDE0OjA5OjEzLjA2MDAyOCIsICJpdGVtcyI6IFt7Iml0ZW1faWQiOiAiaXRlbV83NTgiLCAicXVhbnRpdHkiOiAzLCAicHJpY2VfdXNkIjogNDQuODZ9LCB7Iml0ZW1faWQiOiAiaXRlbV85NzciLCAicXVhbnRpdHkiOiA0LCAicHJpY2VfdXNkIjogMTMuNTd9XX0=",
         null,
         "{\"user_id\": \"user_4373\", \"event_type\": \"click\", \"event_timestamp\": \"2025-09-27T14:09:13.060028\", \"items\": [{\"item_id\": \"item_758\", \"quantity\": 3, \"price_usd\": 44.86}, {\"item_id\": \"item_977\", \"quantity\": 4, \"price_usd\": 13.57}]}"
        ],
        [
         "event_50",
         1.758982153060063E9,
         "eyJ1c2VyX2lkIjogInVzZXJfNzEzMSIsICJldmVudF90eXBlIjogInB1cmNoYXNlIiwgImV2ZW50X3RpbWVzdGFtcCI6ICIyMDI1LTA5LTI3VDE0OjA5OjEzLjA2MDA1MCIsICJpdGVtcyI6IFt7Iml0ZW1faWQiOiAiaXRlbV8xODUiLCAicXVhbnRpdHkiOiAyLCAicHJpY2VfdXNkIjogNTkuMTd9XX0=",
         null,
         "{\"user_id\": \"user_7131\", \"event_type\": \"purchase\", \"event_timestamp\": \"2025-09-27T14:09:13.060050\", \"items\": [{\"item_id\": \"item_185\", \"quantity\": 2, \"price_usd\": 59.17}]}"
        ],
        [
         "event_51",
         1.758982153060079E9,
         "eyJ1c2VyX2lkIjogInVzZXJfNzUwNSIsICJldmVudF90eXBlIjogInZpZXciLCAiZXZlbnRfdGltZXN0YW1wIjogIjIwMjUtMDktMjdUMTQ6MDk6MTMuMDYwMDY2IiwgIml0ZW1zIjogW3siaXRlbV9pZCI6ICJpdGVtXzk4MCIsICJxdWFudGl0eSI6IDMsICJwcmljZV91c2QiOiA0OC4zOX1dfQ==",
         null,
         "{\"user_id\": \"user_7505\", \"event_type\": \"view\", \"event_timestamp\": \"2025-09-27T14:09:13.060066\", \"items\": [{\"item_id\": \"item_980\", \"quantity\": 3, \"price_usd\": 48.39}]}"
        ],
        [
         "event_52",
         1.75898215306009E9,
         "eyJ1c2VyX2lkIjogInVzZXJfNjQxOCIsICJldmVudF90eXBlIjogInZpZXciLCAiZXZlbnRfdGltZXN0YW1wIjogIjIwMjUtMDktMjdUMTQ6MDk6MTMuMDYwMDgxIiwgIml0ZW1zIjogW3siaXRlbV9pZCI6ICJpdGVtXzcxMCIsICJxdWFudGl0eSI6IDEsICJwcmljZV91c2QiOiAyNi4xOX1dfQ==",
         null,
         "{\"user_id\": \"user_6418\", \"event_type\": \"view\", \"event_timestamp\": \"2025-09-27T14:09:13.060081\", \"items\": [{\"item_id\": \"item_710\", \"quantity\": 1, \"price_usd\": 26.19}]}"
        ],
        [
         "event_53",
         1.758982153060106E9,
         "eyJ1c2VyX2lkIjogInVzZXJfOTQ4NiIsICJldmVudF90eXBlIjogInB1cmNoYXNlIiwgImV2ZW50X3RpbWVzdGFtcCI6ICIyMDI1LTA5LTI3VDE0OjA5OjEzLjA2MDA5MiIsICJpdGVtcyI6IFt7Iml0ZW1faWQiOiAiaXRlbV80MzMiLCAicXVhbnRpdHkiOiA1LCAicHJpY2VfdXNkIjogMzUuMzF9LCB7Iml0ZW1faWQiOiAiaXRlbV82ODEiLCAicXVhbnRpdHkiOiAyLCAicHJpY2VfdXNkIjogOTcuMzJ9LCB7Iml0ZW1faWQiOiAiaXRlbV8zMjYiLCAicXVhbnRpdHkiOiA1LCAicHJpY2VfdXNkIjogMzAuMzJ9XX0=",
         null,
         "{\"user_id\": \"user_9486\", \"event_type\": \"purchase\", \"event_timestamp\": \"2025-09-27T14:09:13.060092\", \"items\": [{\"item_id\": \"item_433\", \"quantity\": 5, \"price_usd\": 35.31}, {\"item_id\": \"item_681\", \"quantity\": 2, \"price_usd\": 97.32}, {\"item_id\": \"item_326\", \"quantity\": 5, \"price_usd\": 30.32}]}"
        ],
        [
         "event_54",
         1.758982153060122E9,
         "eyJ1c2VyX2lkIjogInVzZXJfNTA5MCIsICJldmVudF90eXBlIjogInB1cmNoYXNlIiwgImV2ZW50X3RpbWVzdGFtcCI6ICIyMDI1LTA5LTI3VDE0OjA5OjEzLjA2MDEwOSIsICJpdGVtcyI6IFt7Iml0ZW1faWQiOiAiaXRlbV8xMDYiLCAicXVhbnRpdHkiOiAyLCAicHJpY2VfdXNkIjogMjYuMDV9LCB7Iml0ZW1faWQiOiAiaXRlbV8xMjMiLCAicXVhbnRpdHkiOiAxLCAicHJpY2VfdXNkIjogNjcuNjR9LCB7Iml0ZW1faWQiOiAiaXRlbV83MzgiLCAicXVhbnRpdHkiOiAyLCAicHJpY2VfdXNkIjogMTMuMH1dfQ==",
         null,
         "{\"user_id\": \"user_5090\", \"event_type\": \"purchase\", \"event_timestamp\": \"2025-09-27T14:09:13.060109\", \"items\": [{\"item_id\": \"item_106\", \"quantity\": 2, \"price_usd\": 26.05}, {\"item_id\": \"item_123\", \"quantity\": 1, \"price_usd\": 67.64}, {\"item_id\": \"item_738\", \"quantity\": 2, \"price_usd\": 13.0}]}"
        ],
        [
         "event_55",
         1.758982153060138E9,
         "eyJ1c2VyX2lkIjogInVzZXJfNTQ0NCIsICJldmVudF90eXBlIjogInZpZXciLCAiZXZlbnRfdGltZXN0YW1wIjogIjIwMjUtMDktMjdUMTQ6MDk6MTMuMDYwMTI0IiwgIml0ZW1zIjogW3siaXRlbV9pZCI6ICJpdGVtXzIyNiIsICJxdWFudGl0eSI6IDIsICJwcmljZV91c2QiOiAxMi42M30sIHsiaXRlbV9pZCI6ICJpdGVtXzMzMCIsICJxdWFudGl0eSI6IDEsICJwcmljZV91c2QiOiA5NC4zNn0sIHsiaXRlbV9pZCI6ICJpdGVtXzY1MiIsICJxdWFudGl0eSI6IDUsICJwcmljZV91c2QiOiA0Mi42fV19",
         null,
         "{\"user_id\": \"user_5444\", \"event_type\": \"view\", \"event_timestamp\": \"2025-09-27T14:09:13.060124\", \"items\": [{\"item_id\": \"item_226\", \"quantity\": 2, \"price_usd\": 12.63}, {\"item_id\": \"item_330\", \"quantity\": 1, \"price_usd\": 94.36}, {\"item_id\": \"item_652\", \"quantity\": 5, \"price_usd\": 42.6}]}"
        ],
        [
         "event_56",
         1.758982153060149E9,
         "eyJ1c2VyX2lkIjogInVzZXJfMjM1MyIsICJldmVudF90eXBlIjogImNsaWNrIiwgImV2ZW50X3RpbWVzdGFtcCI6ICIyMDI1LTA5LTI3VDE0OjA5OjEzLjA2MDE0MCIsICJpdGVtcyI6IFt7Iml0ZW1faWQiOiAiaXRlbV84NDUiLCAicXVhbnRpdHkiOiAzLCAicHJpY2VfdXNkIjogODMuNzJ9XX0=",
         null,
         "{\"user_id\": \"user_2353\", \"event_type\": \"click\", \"event_timestamp\": \"2025-09-27T14:09:13.060140\", \"items\": [{\"item_id\": \"item_845\", \"quantity\": 3, \"price_usd\": 83.72}]}"
        ],
        [
         "event_57",
         1.758982153060159E9,
         "eyJ1c2VyX2lkIjogInVzZXJfOTIwOSIsICJldmVudF90eXBlIjogImNsaWNrIiwgImV2ZW50X3RpbWVzdGFtcCI6ICIyMDI1LTA5LTI3VDE0OjA5OjEzLjA2MDE1MSIsICJpdGVtcyI6IFt7Iml0ZW1faWQiOiAiaXRlbV8xOTQiLCAicXVhbnRpdHkiOiA1LCAicHJpY2VfdXNkIjogNzYuMX1dfQ==",
         null,
         "{\"user_id\": \"user_9209\", \"event_type\": \"click\", \"event_timestamp\": \"2025-09-27T14:09:13.060151\", \"items\": [{\"item_id\": \"item_194\", \"quantity\": 5, \"price_usd\": 76.1}]}"
        ],
        [
         "event_58",
         1.75898215306017E9,
         "eyJ1c2VyX2lkIjogInVzZXJfMzk4NiIsICJldmVudF90eXBlIjogImNsaWNrIiwgImV2ZW50X3RpbWVzdGFtcCI6ICIyMDI1LTA5LTI3VDE0OjA5OjEzLjA2MDE2MSIsICJpdGVtcyI6IFt7Iml0ZW1faWQiOiAiaXRlbV8xMDMiLCAicXVhbnRpdHkiOiA0LCAicHJpY2VfdXNkIjogNzIuM31dfQ==",
         null,
         "{\"user_id\": \"user_3986\", \"event_type\": \"click\", \"event_timestamp\": \"2025-09-27T14:09:13.060161\", \"items\": [{\"item_id\": \"item_103\", \"quantity\": 4, \"price_usd\": 72.3}]}"
        ],
        [
         "event_59",
         1.758982153060189E9,
         "eyJ1c2VyX2lkIjogInVzZXJfNDU3OSIsICJldmVudF90eXBlIjogInZpZXciLCAiZXZlbnRfdGltZXN0YW1wIjogIjIwMjUtMDktMjdUMTQ6MDk6MTMuMDYwMTcxIiwgIml0ZW1zIjogW3siaXRlbV9pZCI6ICJpdGVtXzk1OSIsICJxdWFudGl0eSI6IDEsICJwcmljZV91c2QiOiA3NS41fSwgeyJpdGVtX2lkIjogIml0ZW1fODIzIiwgInF1YW50aXR5IjogMiwgInByaWNlX3VzZCI6IDcwLjN9LCB7Iml0ZW1faWQiOiAiaXRlbV81MzUiLCAicXVhbnRpdHkiOiA1LCAicHJpY2VfdXNkIjogOTUuNjV9XX0=",
         null,
         "{\"user_id\": \"user_4579\", \"event_type\": \"view\", \"event_timestamp\": \"2025-09-27T14:09:13.060171\", \"items\": [{\"item_id\": \"item_959\", \"quantity\": 1, \"price_usd\": 75.5}, {\"item_id\": \"item_823\", \"quantity\": 2, \"price_usd\": 70.3}, {\"item_id\": \"item_535\", \"quantity\": 5, \"price_usd\": 95.65}]}"
        ],
        [
         "event_60",
         1.758982153060204E9,
         "eyJ1c2VyX2lkIjogInVzZXJfNzM3OSIsICJldmVudF90eXBlIjogInB1cmNoYXNlIiwgImV2ZW50X3RpbWVzdGFtcCI6ICIyMDI1LTA5LTI3VDE0OjA5OjEzLjA2MDE5MSIsICJpdGVtcyI6IFt7Iml0ZW1faWQiOiAiaXRlbV85MDgiLCAicXVhbnRpdHkiOiAyLCAicHJpY2VfdXNkIjogNzguNTJ9LCB7Iml0ZW1faWQiOiAiaXRlbV81ODkiLCAicXVhbnRpdHkiOiA0LCAicHJpY2VfdXNkIjogNTQuMzJ9XX0=",
         null,
         "{\"user_id\": \"user_7379\", \"event_type\": \"purchase\", \"event_timestamp\": \"2025-09-27T14:09:13.060191\", \"items\": [{\"item_id\": \"item_908\", \"quantity\": 2, \"price_usd\": 78.52}, {\"item_id\": \"item_589\", \"quantity\": 4, \"price_usd\": 54.32}]}"
        ],
        [
         "event_61",
         1.758982153060214E9,
         "eyJ1c2VyX2lkIjogInVzZXJfODU5NCIsICJldmVudF90eXBlIjogInB1cmNoYXNlIiwgImV2ZW50X3RpbWVzdGFtcCI6ICIyMDI1LTA5LTI3VDE0OjA5OjEzLjA2MDIwNSIsICJpdGVtcyI6IFt7Iml0ZW1faWQiOiAiaXRlbV82OTkiLCAicXVhbnRpdHkiOiAxLCAicHJpY2VfdXNkIjogNDAuOTl9XX0=",
         null,
         "{\"user_id\": \"user_8594\", \"event_type\": \"purchase\", \"event_timestamp\": \"2025-09-27T14:09:13.060205\", \"items\": [{\"item_id\": \"item_699\", \"quantity\": 1, \"price_usd\": 40.99}]}"
        ],
        [
         "event_62",
         1.758982153060229E9,
         "eyJ1c2VyX2lkIjogInVzZXJfNjk3OSIsICJldmVudF90eXBlIjogImNsaWNrIiwgImV2ZW50X3RpbWVzdGFtcCI6ICIyMDI1LTA5LTI3VDE0OjA5OjEzLjA2MDIxNiIsICJpdGVtcyI6IFt7Iml0ZW1faWQiOiAiaXRlbV81ODciLCAicXVhbnRpdHkiOiA0LCAicHJpY2VfdXNkIjogOTYuOTh9LCB7Iml0ZW1faWQiOiAiaXRlbV84MzEiLCAicXVhbnRpdHkiOiA0LCAicHJpY2VfdXNkIjogNzkuMDh9LCB7Iml0ZW1faWQiOiAiaXRlbV8zMjYiLCAicXVhbnRpdHkiOiA0LCAicHJpY2VfdXNkIjogNDguNTN9XX0=",
         null,
         "{\"user_id\": \"user_6979\", \"event_type\": \"click\", \"event_timestamp\": \"2025-09-27T14:09:13.060216\", \"items\": [{\"item_id\": \"item_587\", \"quantity\": 4, \"price_usd\": 96.98}, {\"item_id\": \"item_831\", \"quantity\": 4, \"price_usd\": 79.08}, {\"item_id\": \"item_326\", \"quantity\": 4, \"price_usd\": 48.53}]}"
        ],
        [
         "event_63",
         1.758982153060241E9,
         "eyJ1c2VyX2lkIjogInVzZXJfNjYxNiIsICJldmVudF90eXBlIjogImNsaWNrIiwgImV2ZW50X3RpbWVzdGFtcCI6ICIyMDI1LTA5LTI3VDE0OjA5OjEzLjA2MDIzMSIsICJpdGVtcyI6IFt7Iml0ZW1faWQiOiAiaXRlbV84ODkiLCAicXVhbnRpdHkiOiA1LCAicHJpY2VfdXNkIjogNDMuNH0sIHsiaXRlbV9pZCI6ICJpdGVtXzYxMSIsICJxdWFudGl0eSI6IDEsICJwcmljZV91c2QiOiA3MS45M31dfQ==",
         null,
         "{\"user_id\": \"user_6616\", \"event_type\": \"click\", \"event_timestamp\": \"2025-09-27T14:09:13.060231\", \"items\": [{\"item_id\": \"item_889\", \"quantity\": 5, \"price_usd\": 43.4}, {\"item_id\": \"item_611\", \"quantity\": 1, \"price_usd\": 71.93}]}"
        ],
        [
         "event_64",
         1.758982153060257E9,
         "eyJ1c2VyX2lkIjogInVzZXJfNzI3MyIsICJldmVudF90eXBlIjogImNsaWNrIiwgImV2ZW50X3RpbWVzdGFtcCI6ICIyMDI1LTA5LTI3VDE0OjA5OjEzLjA2MDI0MyIsICJpdGVtcyI6IFt7Iml0ZW1faWQiOiAiaXRlbV8yNjgiLCAicXVhbnRpdHkiOiAzLCAicHJpY2VfdXNkIjogNjguODh9LCB7Iml0ZW1faWQiOiAiaXRlbV84MTIiLCAicXVhbnRpdHkiOiA1LCAicHJpY2VfdXNkIjogODEuOTF9LCB7Iml0ZW1faWQiOiAiaXRlbV84MTMiLCAicXVhbnRpdHkiOiAyLCAicHJpY2VfdXNkIjogODguNzN9XX0=",
         null,
         "{\"user_id\": \"user_7273\", \"event_type\": \"click\", \"event_timestamp\": \"2025-09-27T14:09:13.060243\", \"items\": [{\"item_id\": \"item_268\", \"quantity\": 3, \"price_usd\": 68.88}, {\"item_id\": \"item_812\", \"quantity\": 5, \"price_usd\": 81.91}, {\"item_id\": \"item_813\", \"quantity\": 2, \"price_usd\": 88.73}]}"
        ],
        [
         "event_65",
         1.75898215306027E9,
         "eyJ1c2VyX2lkIjogInVzZXJfMzk0MCIsICJldmVudF90eXBlIjogInZpZXciLCAiZXZlbnRfdGltZXN0YW1wIjogIjIwMjUtMDktMjdUMTQ6MDk6MTMuMDYwMjU5IiwgIml0ZW1zIjogW3siaXRlbV9pZCI6ICJpdGVtXzU3MCIsICJxdWFudGl0eSI6IDEsICJwcmljZV91c2QiOiA1Mi44OX0sIHsiaXRlbV9pZCI6ICJpdGVtXzM3MiIsICJxdWFudGl0eSI6IDQsICJwcmljZV91c2QiOiA5OC45fV19",
         null,
         "{\"user_id\": \"user_3940\", \"event_type\": \"view\", \"event_timestamp\": \"2025-09-27T14:09:13.060259\", \"items\": [{\"item_id\": \"item_570\", \"quantity\": 1, \"price_usd\": 52.89}, {\"item_id\": \"item_372\", \"quantity\": 4, \"price_usd\": 98.9}]}"
        ],
        [
         "event_66",
         1.758982153060282E9,
         "eyJ1c2VyX2lkIjogInVzZXJfNDkwOSIsICJldmVudF90eXBlIjogImNsaWNrIiwgImV2ZW50X3RpbWVzdGFtcCI6ICIyMDI1LTA5LTI3VDE0OjA5OjEzLjA2MDI3MSIsICJpdGVtcyI6IFt7Iml0ZW1faWQiOiAiaXRlbV80MzMiLCAicXVhbnRpdHkiOiAzLCAicHJpY2VfdXNkIjogNzcuODF9LCB7Iml0ZW1faWQiOiAiaXRlbV8xMjMiLCAicXVhbnRpdHkiOiAyLCAicHJpY2VfdXNkIjogNzkuMDh9XX0=",
         null,
         "{\"user_id\": \"user_4909\", \"event_type\": \"click\", \"event_timestamp\": \"2025-09-27T14:09:13.060271\", \"items\": [{\"item_id\": \"item_433\", \"quantity\": 3, \"price_usd\": 77.81}, {\"item_id\": \"item_123\", \"quantity\": 2, \"price_usd\": 79.08}]}"
        ],
        [
         "event_67",
         1.758982153060292E9,
         "eyJ1c2VyX2lkIjogInVzZXJfODYyOCIsICJldmVudF90eXBlIjogInB1cmNoYXNlIiwgImV2ZW50X3RpbWVzdGFtcCI6ICIyMDI1LTA5LTI3VDE0OjA5OjEzLjA2MDI4NCIsICJpdGVtcyI6IFt7Iml0ZW1faWQiOiAiaXRlbV80MTEiLCAicXVhbnRpdHkiOiA0LCAicHJpY2VfdXNkIjogODYuMzl9XX0=",
         null,
         "{\"user_id\": \"user_8628\", \"event_type\": \"purchase\", \"event_timestamp\": \"2025-09-27T14:09:13.060284\", \"items\": [{\"item_id\": \"item_411\", \"quantity\": 4, \"price_usd\": 86.39}]}"
        ],
        [
         "event_68",
         1.758982153060307E9,
         "eyJ1c2VyX2lkIjogInVzZXJfNDI4MCIsICJldmVudF90eXBlIjogInZpZXciLCAiZXZlbnRfdGltZXN0YW1wIjogIjIwMjUtMDktMjdUMTQ6MDk6MTMuMDYwMjk0IiwgIml0ZW1zIjogW3siaXRlbV9pZCI6ICJpdGVtXzc4MCIsICJxdWFudGl0eSI6IDEsICJwcmljZV91c2QiOiAyMy40NH0sIHsiaXRlbV9pZCI6ICJpdGVtXzgyOCIsICJxdWFudGl0eSI6IDUsICJwcmljZV91c2QiOiAzNi44OH0sIHsiaXRlbV9pZCI6ICJpdGVtXzQ0NyIsICJxdWFudGl0eSI6IDUsICJwcmljZV91c2QiOiAyMC4zNH1dfQ==",
         null,
         "{\"user_id\": \"user_4280\", \"event_type\": \"view\", \"event_timestamp\": \"2025-09-27T14:09:13.060294\", \"items\": [{\"item_id\": \"item_780\", \"quantity\": 1, \"price_usd\": 23.44}, {\"item_id\": \"item_828\", \"quantity\": 5, \"price_usd\": 36.88}, {\"item_id\": \"item_447\", \"quantity\": 5, \"price_usd\": 20.34}]}"
        ],
        [
         "event_69",
         1.75898215306032E9,
         "eyJ1c2VyX2lkIjogInVzZXJfMzgzNiIsICJldmVudF90eXBlIjogInB1cmNoYXNlIiwgImV2ZW50X3RpbWVzdGFtcCI6ICIyMDI1LTA5LTI3VDE0OjA5OjEzLjA2MDMwOSIsICJpdGVtcyI6IFt7Iml0ZW1faWQiOiAiaXRlbV84MDAiLCAicXVhbnRpdHkiOiAzLCAicHJpY2VfdXNkIjogOTcuMzN9LCB7Iml0ZW1faWQiOiAiaXRlbV83MjkiLCAicXVhbnRpdHkiOiAyLCAicHJpY2VfdXNkIjogMTAuNzh9XX0=",
         null,
         "{\"user_id\": \"user_3836\", \"event_type\": \"purchase\", \"event_timestamp\": \"2025-09-27T14:09:13.060309\", \"items\": [{\"item_id\": \"item_800\", \"quantity\": 3, \"price_usd\": 97.33}, {\"item_id\": \"item_729\", \"quantity\": 2, \"price_usd\": 10.78}]}"
        ],
        [
         "event_70",
         1.758982153060329E9,
         "eyJ1c2VyX2lkIjogInVzZXJfNzg1OCIsICJldmVudF90eXBlIjogImNsaWNrIiwgImV2ZW50X3RpbWVzdGFtcCI6ICIyMDI1LTA5LTI3VDE0OjA5OjEzLjA2MDMyMSIsICJpdGVtcyI6IFt7Iml0ZW1faWQiOiAiaXRlbV81NzUiLCAicXVhbnRpdHkiOiAzLCAicHJpY2VfdXNkIjogNTkuOTZ9XX0=",
         null,
         "{\"user_id\": \"user_7858\", \"event_type\": \"click\", \"event_timestamp\": \"2025-09-27T14:09:13.060321\", \"items\": [{\"item_id\": \"item_575\", \"quantity\": 3, \"price_usd\": 59.96}]}"
        ],
        [
         "event_71",
         1.75898215306034E9,
         "eyJ1c2VyX2lkIjogInVzZXJfODI2MSIsICJldmVudF90eXBlIjogImNsaWNrIiwgImV2ZW50X3RpbWVzdGFtcCI6ICIyMDI1LTA5LTI3VDE0OjA5OjEzLjA2MDMzMSIsICJpdGVtcyI6IFt7Iml0ZW1faWQiOiAiaXRlbV82NjEiLCAicXVhbnRpdHkiOiAyLCAicHJpY2VfdXNkIjogNTEuMjV9XX0=",
         null,
         "{\"user_id\": \"user_8261\", \"event_type\": \"click\", \"event_timestamp\": \"2025-09-27T14:09:13.060331\", \"items\": [{\"item_id\": \"item_661\", \"quantity\": 2, \"price_usd\": 51.25}]}"
        ],
        [
         "event_72",
         1.758982153060352E9,
         "eyJ1c2VyX2lkIjogInVzZXJfOTkwOSIsICJldmVudF90eXBlIjogInZpZXciLCAiZXZlbnRfdGltZXN0YW1wIjogIjIwMjUtMDktMjdUMTQ6MDk6MTMuMDYwMzQxIiwgIml0ZW1zIjogW3siaXRlbV9pZCI6ICJpdGVtXzk4OSIsICJxdWFudGl0eSI6IDMsICJwcmljZV91c2QiOiA5OC43Mn0sIHsiaXRlbV9pZCI6ICJpdGVtXzkxNSIsICJxdWFudGl0eSI6IDMsICJwcmljZV91c2QiOiA1Mi41OH1dfQ==",
         null,
         "{\"user_id\": \"user_9909\", \"event_type\": \"view\", \"event_timestamp\": \"2025-09-27T14:09:13.060341\", \"items\": [{\"item_id\": \"item_989\", \"quantity\": 3, \"price_usd\": 98.72}, {\"item_id\": \"item_915\", \"quantity\": 3, \"price_usd\": 52.58}]}"
        ],
        [
         "event_73",
         1.758982153060367E9,
         "eyJ1c2VyX2lkIjogInVzZXJfMzY4NiIsICJldmVudF90eXBlIjogInB1cmNoYXNlIiwgImV2ZW50X3RpbWVzdGFtcCI6ICIyMDI1LTA5LTI3VDE0OjA5OjEzLjA2MDM1NCIsICJpdGVtcyI6IFt7Iml0ZW1faWQiOiAiaXRlbV81NzkiLCAicXVhbnRpdHkiOiAzLCAicHJpY2VfdXNkIjogODIuMjZ9LCB7Iml0ZW1faWQiOiAiaXRlbV80MzYiLCAicXVhbnRpdHkiOiA0LCAicHJpY2VfdXNkIjogNzguNDV9LCB7Iml0ZW1faWQiOiAiaXRlbV85NDQiLCAicXVhbnRpdHkiOiA0LCAicHJpY2VfdXNkIjogNjcuMH1dfQ==",
         null,
         "{\"user_id\": \"user_3686\", \"event_type\": \"purchase\", \"event_timestamp\": \"2025-09-27T14:09:13.060354\", \"items\": [{\"item_id\": \"item_579\", \"quantity\": 3, \"price_usd\": 82.26}, {\"item_id\": \"item_436\", \"quantity\": 4, \"price_usd\": 78.45}, {\"item_id\": \"item_944\", \"quantity\": 4, \"price_usd\": 67.0}]}"
        ],
        [
         "event_74",
         1.758982153060383E9,
         "eyJ1c2VyX2lkIjogInVzZXJfNjk0MiIsICJldmVudF90eXBlIjogImNsaWNrIiwgImV2ZW50X3RpbWVzdGFtcCI6ICIyMDI1LTA5LTI3VDE0OjA5OjEzLjA2MDM2OSIsICJpdGVtcyI6IFt7Iml0ZW1faWQiOiAiaXRlbV8zNTUiLCAicXVhbnRpdHkiOiAxLCAicHJpY2VfdXNkIjogMjQuNjJ9LCB7Iml0ZW1faWQiOiAiaXRlbV85NTMiLCAicXVhbnRpdHkiOiA1LCAicHJpY2VfdXNkIjogNTAuMjd9LCB7Iml0ZW1faWQiOiAiaXRlbV85NDAiLCAicXVhbnRpdHkiOiA0LCAicHJpY2VfdXNkIjogNDEuOTZ9XX0=",
         null,
         "{\"user_id\": \"user_6942\", \"event_type\": \"click\", \"event_timestamp\": \"2025-09-27T14:09:13.060369\", \"items\": [{\"item_id\": \"item_355\", \"quantity\": 1, \"price_usd\": 24.62}, {\"item_id\": \"item_953\", \"quantity\": 5, \"price_usd\": 50.27}, {\"item_id\": \"item_940\", \"quantity\": 4, \"price_usd\": 41.96}]}"
        ],
        [
         "event_75",
         1.758982153060395E9,
         "eyJ1c2VyX2lkIjogInVzZXJfMjk5NiIsICJldmVudF90eXBlIjogInB1cmNoYXNlIiwgImV2ZW50X3RpbWVzdGFtcCI6ICIyMDI1LTA5LTI3VDE0OjA5OjEzLjA2MDM4NCIsICJpdGVtcyI6IFt7Iml0ZW1faWQiOiAiaXRlbV83ODkiLCAicXVhbnRpdHkiOiAyLCAicHJpY2VfdXNkIjogODcuNzl9LCB7Iml0ZW1faWQiOiAiaXRlbV85MzgiLCAicXVhbnRpdHkiOiA1LCAicHJpY2VfdXNkIjogNzguMDF9XX0=",
         null,
         "{\"user_id\": \"user_2996\", \"event_type\": \"purchase\", \"event_timestamp\": \"2025-09-27T14:09:13.060384\", \"items\": [{\"item_id\": \"item_789\", \"quantity\": 2, \"price_usd\": 87.79}, {\"item_id\": \"item_938\", \"quantity\": 5, \"price_usd\": 78.01}]}"
        ],
        [
         "event_76",
         1.758982153060407E9,
         "eyJ1c2VyX2lkIjogInVzZXJfNDYwMyIsICJldmVudF90eXBlIjogImNsaWNrIiwgImV2ZW50X3RpbWVzdGFtcCI6ICIyMDI1LTA5LTI3VDE0OjA5OjEzLjA2MDM5NyIsICJpdGVtcyI6IFt7Iml0ZW1faWQiOiAiaXRlbV83NDMiLCAicXVhbnRpdHkiOiAxLCAicHJpY2VfdXNkIjogNTQuNjZ9LCB7Iml0ZW1faWQiOiAiaXRlbV84OTYiLCAicXVhbnRpdHkiOiA0LCAicHJpY2VfdXNkIjogMzIuNDN9XX0=",
         null,
         "{\"user_id\": \"user_4603\", \"event_type\": \"click\", \"event_timestamp\": \"2025-09-27T14:09:13.060397\", \"items\": [{\"item_id\": \"item_743\", \"quantity\": 1, \"price_usd\": 54.66}, {\"item_id\": \"item_896\", \"quantity\": 4, \"price_usd\": 32.43}]}"
        ],
        [
         "event_77",
         1.75898215306042E9,
         "eyJ1c2VyX2lkIjogInVzZXJfMjEzMSIsICJldmVudF90eXBlIjogInZpZXciLCAiZXZlbnRfdGltZXN0YW1wIjogIjIwMjUtMDktMjdUMTQ6MDk6MTMuMDYwNDA5IiwgIml0ZW1zIjogW3siaXRlbV9pZCI6ICJpdGVtXzUwMyIsICJxdWFudGl0eSI6IDEsICJwcmljZV91c2QiOiA0MS4yOX0sIHsiaXRlbV9pZCI6ICJpdGVtXzk3NyIsICJxdWFudGl0eSI6IDIsICJwcmljZV91c2QiOiA5Ny43Mn1dfQ==",
         null,
         "{\"user_id\": \"user_2131\", \"event_type\": \"view\", \"event_timestamp\": \"2025-09-27T14:09:13.060409\", \"items\": [{\"item_id\": \"item_503\", \"quantity\": 1, \"price_usd\": 41.29}, {\"item_id\": \"item_977\", \"quantity\": 2, \"price_usd\": 97.72}]}"
        ],
        [
         "event_78",
         1.758982153060429E9,
         "eyJ1c2VyX2lkIjogInVzZXJfODQ5NCIsICJldmVudF90eXBlIjogImNsaWNrIiwgImV2ZW50X3RpbWVzdGFtcCI6ICIyMDI1LTA5LTI3VDE0OjA5OjEzLjA2MDQyMiIsICJpdGVtcyI6IFt7Iml0ZW1faWQiOiAiaXRlbV84NjQiLCAicXVhbnRpdHkiOiAzLCAicHJpY2VfdXNkIjogMjYuMjN9XX0=",
         null,
         "{\"user_id\": \"user_8494\", \"event_type\": \"click\", \"event_timestamp\": \"2025-09-27T14:09:13.060422\", \"items\": [{\"item_id\": \"item_864\", \"quantity\": 3, \"price_usd\": 26.23}]}"
        ],
        [
         "event_79",
         1.758982153060439E9,
         "eyJ1c2VyX2lkIjogInVzZXJfNDcwMyIsICJldmVudF90eXBlIjogImNsaWNrIiwgImV2ZW50X3RpbWVzdGFtcCI6ICIyMDI1LTA5LTI3VDE0OjA5OjEzLjA2MDQzMSIsICJpdGVtcyI6IFt7Iml0ZW1faWQiOiAiaXRlbV8yMzAiLCAicXVhbnRpdHkiOiA1LCAicHJpY2VfdXNkIjogOTIuMDJ9XX0=",
         null,
         "{\"user_id\": \"user_4703\", \"event_type\": \"click\", \"event_timestamp\": \"2025-09-27T14:09:13.060431\", \"items\": [{\"item_id\": \"item_230\", \"quantity\": 5, \"price_usd\": 92.02}]}"
        ],
        [
         "event_80",
         1.758982153060449E9,
         "eyJ1c2VyX2lkIjogInVzZXJfNTY4MyIsICJldmVudF90eXBlIjogImNsaWNrIiwgImV2ZW50X3RpbWVzdGFtcCI6ICIyMDI1LTA5LTI3VDE0OjA5OjEzLjA2MDQ0MSIsICJpdGVtcyI6IFt7Iml0ZW1faWQiOiAiaXRlbV8yNDYiLCAicXVhbnRpdHkiOiAzLCAicHJpY2VfdXNkIjogNzIuNzZ9XX0=",
         null,
         "{\"user_id\": \"user_5683\", \"event_type\": \"click\", \"event_timestamp\": \"2025-09-27T14:09:13.060441\", \"items\": [{\"item_id\": \"item_246\", \"quantity\": 3, \"price_usd\": 72.76}]}"
        ],
        [
         "event_81",
         1.758982153060461E9,
         "eyJ1c2VyX2lkIjogInVzZXJfNTYzOCIsICJldmVudF90eXBlIjogInB1cmNoYXNlIiwgImV2ZW50X3RpbWVzdGFtcCI6ICIyMDI1LTA5LTI3VDE0OjA5OjEzLjA2MDQ1MSIsICJpdGVtcyI6IFt7Iml0ZW1faWQiOiAiaXRlbV81NDYiLCAicXVhbnRpdHkiOiA0LCAicHJpY2VfdXNkIjogMzguOTN9LCB7Iml0ZW1faWQiOiAiaXRlbV8xODQiLCAicXVhbnRpdHkiOiAzLCAicHJpY2VfdXNkIjogNTYuODJ9XX0=",
         null,
         "{\"user_id\": \"user_5638\", \"event_type\": \"purchase\", \"event_timestamp\": \"2025-09-27T14:09:13.060451\", \"items\": [{\"item_id\": \"item_546\", \"quantity\": 4, \"price_usd\": 38.93}, {\"item_id\": \"item_184\", \"quantity\": 3, \"price_usd\": 56.82}]}"
        ],
        [
         "event_82",
         1.758982153060476E9,
         "eyJ1c2VyX2lkIjogInVzZXJfMzk5NSIsICJldmVudF90eXBlIjogInB1cmNoYXNlIiwgImV2ZW50X3RpbWVzdGFtcCI6ICIyMDI1LTA5LTI3VDE0OjA5OjEzLjA2MDQ2MyIsICJpdGVtcyI6IFt7Iml0ZW1faWQiOiAiaXRlbV85NTAiLCAicXVhbnRpdHkiOiAxLCAicHJpY2VfdXNkIjogNzkuNjh9LCB7Iml0ZW1faWQiOiAiaXRlbV8yMzQiLCAicXVhbnRpdHkiOiAyLCAicHJpY2VfdXNkIjogNzYuNjV9LCB7Iml0ZW1faWQiOiAiaXRlbV8xMTMiLCAicXVhbnRpdHkiOiAyLCAicHJpY2VfdXNkIjogNjAuNzN9XX0=",
         null,
         "{\"user_id\": \"user_3995\", \"event_type\": \"purchase\", \"event_timestamp\": \"2025-09-27T14:09:13.060463\", \"items\": [{\"item_id\": \"item_950\", \"quantity\": 1, \"price_usd\": 79.68}, {\"item_id\": \"item_234\", \"quantity\": 2, \"price_usd\": 76.65}, {\"item_id\": \"item_113\", \"quantity\": 2, \"price_usd\": 60.73}]}"
        ],
        [
         "event_83",
         1.758982153060486E9,
         "eyJ1c2VyX2lkIjogInVzZXJfNzMxNCIsICJldmVudF90eXBlIjogInZpZXciLCAiZXZlbnRfdGltZXN0YW1wIjogIjIwMjUtMDktMjdUMTQ6MDk6MTMuMDYwNDc4IiwgIml0ZW1zIjogW3siaXRlbV9pZCI6ICJpdGVtXzczOSIsICJxdWFudGl0eSI6IDQsICJwcmljZV91c2QiOiA3Mi4yM31dfQ==",
         null,
         "{\"user_id\": \"user_7314\", \"event_type\": \"view\", \"event_timestamp\": \"2025-09-27T14:09:13.060478\", \"items\": [{\"item_id\": \"item_739\", \"quantity\": 4, \"price_usd\": 72.23}]}"
        ],
        [
         "event_84",
         1.758982153060504E9,
         "eyJ1c2VyX2lkIjogInVzZXJfNDM2MSIsICJldmVudF90eXBlIjogInZpZXciLCAiZXZlbnRfdGltZXN0YW1wIjogIjIwMjUtMDktMjdUMTQ6MDk6MTMuMDYwNDg4IiwgIml0ZW1zIjogW3siaXRlbV9pZCI6ICJpdGVtXzY4OCIsICJxdWFudGl0eSI6IDUsICJwcmljZV91c2QiOiA4MC4xfSwgeyJpdGVtX2lkIjogIml0ZW1fMzUwIiwgInF1YW50aXR5IjogNCwgInByaWNlX3VzZCI6IDMzLjA4fV19",
         null,
         "{\"user_id\": \"user_4361\", \"event_type\": \"view\", \"event_timestamp\": \"2025-09-27T14:09:13.060488\", \"items\": [{\"item_id\": \"item_688\", \"quantity\": 5, \"price_usd\": 80.1}, {\"item_id\": \"item_350\", \"quantity\": 4, \"price_usd\": 33.08}]}"
        ],
        [
         "event_85",
         1.758982153060528E9,
         "eyJ1c2VyX2lkIjogInVzZXJfNjQyMiIsICJldmVudF90eXBlIjogInZpZXciLCAiZXZlbnRfdGltZXN0YW1wIjogIjIwMjUtMDktMjdUMTQ6MDk6MTMuMDYwNTA4IiwgIml0ZW1zIjogW3siaXRlbV9pZCI6ICJpdGVtXzc3MCIsICJxdWFudGl0eSI6IDEsICJwcmljZV91c2QiOiAzMi41M30sIHsiaXRlbV9pZCI6ICJpdGVtXzU0NSIsICJxdWFudGl0eSI6IDEsICJwcmljZV91c2QiOiA3MC41Mn0sIHsiaXRlbV9pZCI6ICJpdGVtXzcxMiIsICJxdWFudGl0eSI6IDIsICJwcmljZV91c2QiOiAzOC4xM31dfQ==",
         null,
         "{\"user_id\": \"user_6422\", \"event_type\": \"view\", \"event_timestamp\": \"2025-09-27T14:09:13.060508\", \"items\": [{\"item_id\": \"item_770\", \"quantity\": 1, \"price_usd\": 32.53}, {\"item_id\": \"item_545\", \"quantity\": 1, \"price_usd\": 70.52}, {\"item_id\": \"item_712\", \"quantity\": 2, \"price_usd\": 38.13}]}"
        ],
        [
         "event_86",
         1.758982153060544E9,
         "eyJ1c2VyX2lkIjogInVzZXJfMzU4OSIsICJldmVudF90eXBlIjogImNsaWNrIiwgImV2ZW50X3RpbWVzdGFtcCI6ICIyMDI1LTA5LTI3VDE0OjA5OjEzLjA2MDUzMCIsICJpdGVtcyI6IFt7Iml0ZW1faWQiOiAiaXRlbV8yMDciLCAicXVhbnRpdHkiOiAyLCAicHJpY2VfdXNkIjogNjEuMTV9LCB7Iml0ZW1faWQiOiAiaXRlbV8xMTAiLCAicXVhbnRpdHkiOiA1LCAicHJpY2VfdXNkIjogOTIuMTh9LCB7Iml0ZW1faWQiOiAiaXRlbV82MzQiLCAicXVhbnRpdHkiOiAyLCAicHJpY2VfdXNkIjogMjIuMDV9XX0=",
         null,
         "{\"user_id\": \"user_3589\", \"event_type\": \"click\", \"event_timestamp\": \"2025-09-27T14:09:13.060530\", \"items\": [{\"item_id\": \"item_207\", \"quantity\": 2, \"price_usd\": 61.15}, {\"item_id\": \"item_110\", \"quantity\": 5, \"price_usd\": 92.18}, {\"item_id\": \"item_634\", \"quantity\": 2, \"price_usd\": 22.05}]}"
        ],
        [
         "event_87",
         1.758982153060554E9,
         "eyJ1c2VyX2lkIjogInVzZXJfNzI4NSIsICJldmVudF90eXBlIjogImNsaWNrIiwgImV2ZW50X3RpbWVzdGFtcCI6ICIyMDI1LTA5LTI3VDE0OjA5OjEzLjA2MDU0NiIsICJpdGVtcyI6IFt7Iml0ZW1faWQiOiAiaXRlbV81MTYiLCAicXVhbnRpdHkiOiAyLCAicHJpY2VfdXNkIjogNzIuMzh9XX0=",
         null,
         "{\"user_id\": \"user_7285\", \"event_type\": \"click\", \"event_timestamp\": \"2025-09-27T14:09:13.060546\", \"items\": [{\"item_id\": \"item_516\", \"quantity\": 2, \"price_usd\": 72.38}]}"
        ],
        [
         "event_88",
         1.758982153060568E9,
         "eyJ1c2VyX2lkIjogInVzZXJfMzk1NiIsICJldmVudF90eXBlIjogImNsaWNrIiwgImV2ZW50X3RpbWVzdGFtcCI6ICIyMDI1LTA5LTI3VDE0OjA5OjEzLjA2MDU1NiIsICJpdGVtcyI6IFt7Iml0ZW1faWQiOiAiaXRlbV8yOTgiLCAicXVhbnRpdHkiOiAzLCAicHJpY2VfdXNkIjogMzQuMjN9LCB7Iml0ZW1faWQiOiAiaXRlbV81MzgiLCAicXVhbnRpdHkiOiAzLCAicHJpY2VfdXNkIjogMTQuNTd9XX0=",
         null,
         "{\"user_id\": \"user_3956\", \"event_type\": \"click\", \"event_timestamp\": \"2025-09-27T14:09:13.060556\", \"items\": [{\"item_id\": \"item_298\", \"quantity\": 3, \"price_usd\": 34.23}, {\"item_id\": \"item_538\", \"quantity\": 3, \"price_usd\": 14.57}]}"
        ],
        [
         "event_89",
         1.758982153060581E9,
         "eyJ1c2VyX2lkIjogInVzZXJfMTUxMSIsICJldmVudF90eXBlIjogInB1cmNoYXNlIiwgImV2ZW50X3RpbWVzdGFtcCI6ICIyMDI1LTA5LTI3VDE0OjA5OjEzLjA2MDU3MCIsICJpdGVtcyI6IFt7Iml0ZW1faWQiOiAiaXRlbV81MjAiLCAicXVhbnRpdHkiOiAzLCAicHJpY2VfdXNkIjogNTUuNDV9LCB7Iml0ZW1faWQiOiAiaXRlbV8xNjMiLCAicXVhbnRpdHkiOiA1LCAicHJpY2VfdXNkIjogOTguOTF9XX0=",
         null,
         "{\"user_id\": \"user_1511\", \"event_type\": \"purchase\", \"event_timestamp\": \"2025-09-27T14:09:13.060570\", \"items\": [{\"item_id\": \"item_520\", \"quantity\": 3, \"price_usd\": 55.45}, {\"item_id\": \"item_163\", \"quantity\": 5, \"price_usd\": 98.91}]}"
        ],
        [
         "event_90",
         1.758982153060597E9,
         "eyJ1c2VyX2lkIjogInVzZXJfNTUwMyIsICJldmVudF90eXBlIjogInB1cmNoYXNlIiwgImV2ZW50X3RpbWVzdGFtcCI6ICIyMDI1LTA5LTI3VDE0OjA5OjEzLjA2MDU4MyIsICJpdGVtcyI6IFt7Iml0ZW1faWQiOiAiaXRlbV8zMjQiLCAicXVhbnRpdHkiOiAyLCAicHJpY2VfdXNkIjogMjUuOTZ9XX0=",
         null,
         "{\"user_id\": \"user_5503\", \"event_type\": \"purchase\", \"event_timestamp\": \"2025-09-27T14:09:13.060583\", \"items\": [{\"item_id\": \"item_324\", \"quantity\": 2, \"price_usd\": 25.96}]}"
        ],
        [
         "event_91",
         1.75898215306061E9,
         "eyJ1c2VyX2lkIjogInVzZXJfNjQ5NCIsICJldmVudF90eXBlIjogImNsaWNrIiwgImV2ZW50X3RpbWVzdGFtcCI6ICIyMDI1LTA5LTI3VDE0OjA5OjEzLjA2MDU5OSIsICJpdGVtcyI6IFt7Iml0ZW1faWQiOiAiaXRlbV8yMTIiLCAicXVhbnRpdHkiOiAzLCAicHJpY2VfdXNkIjogNDkuNzN9LCB7Iml0ZW1faWQiOiAiaXRlbV8xOTMiLCAicXVhbnRpdHkiOiA0LCAicHJpY2VfdXNkIjogMTAuMDR9XX0=",
         null,
         "{\"user_id\": \"user_6494\", \"event_type\": \"click\", \"event_timestamp\": \"2025-09-27T14:09:13.060599\", \"items\": [{\"item_id\": \"item_212\", \"quantity\": 3, \"price_usd\": 49.73}, {\"item_id\": \"item_193\", \"quantity\": 4, \"price_usd\": 10.04}]}"
        ],
        [
         "event_92",
         1.758982153060624E9,
         "eyJ1c2VyX2lkIjogInVzZXJfOTA3MyIsICJldmVudF90eXBlIjogInB1cmNoYXNlIiwgImV2ZW50X3RpbWVzdGFtcCI6ICIyMDI1LTA5LTI3VDE0OjA5OjEzLjA2MDYxMiIsICJpdGVtcyI6IFt7Iml0ZW1faWQiOiAiaXRlbV82MTMiLCAicXVhbnRpdHkiOiA1LCAicHJpY2VfdXNkIjogNzYuODR9LCB7Iml0ZW1faWQiOiAiaXRlbV85OTYiLCAicXVhbnRpdHkiOiAyLCAicHJpY2VfdXNkIjogOTUuNH1dfQ==",
         null,
         "{\"user_id\": \"user_9073\", \"event_type\": \"purchase\", \"event_timestamp\": \"2025-09-27T14:09:13.060612\", \"items\": [{\"item_id\": \"item_613\", \"quantity\": 5, \"price_usd\": 76.84}, {\"item_id\": \"item_996\", \"quantity\": 2, \"price_usd\": 95.4}]}"
        ],
        [
         "event_93",
         1.758982153060657E9,
         "eyJ1c2VyX2lkIjogInVzZXJfMzQ5NiIsICJldmVudF90eXBlIjogInZpZXciLCAiZXZlbnRfdGltZXN0YW1wIjogIjIwMjUtMDktMjdUMTQ6MDk6MTMuMDYwNjI3IiwgIml0ZW1zIjogW3siaXRlbV9pZCI6ICJpdGVtXzQyNSIsICJxdWFudGl0eSI6IDUsICJwcmljZV91c2QiOiA4OS45N30sIHsiaXRlbV9pZCI6ICJpdGVtXzkwOCIsICJxdWFudGl0eSI6IDEsICJwcmljZV91c2QiOiA1NS42OH0sIHsiaXRlbV9pZCI6ICJpdGVtXzQ5NiIsICJxdWFudGl0eSI6IDUsICJwcmljZV91c2QiOiA1Ni41M31dfQ==",
         null,
         "{\"user_id\": \"user_3496\", \"event_type\": \"view\", \"event_timestamp\": \"2025-09-27T14:09:13.060627\", \"items\": [{\"item_id\": \"item_425\", \"quantity\": 5, \"price_usd\": 89.97}, {\"item_id\": \"item_908\", \"quantity\": 1, \"price_usd\": 55.68}, {\"item_id\": \"item_496\", \"quantity\": 5, \"price_usd\": 56.53}]}"
        ],
        [
         "event_94",
         1.75898215306068E9,
         "eyJ1c2VyX2lkIjogInVzZXJfNzQ4MCIsICJldmVudF90eXBlIjogInB1cmNoYXNlIiwgImV2ZW50X3RpbWVzdGFtcCI6ICIyMDI1LTA5LTI3VDE0OjA5OjEzLjA2MDY2MCIsICJpdGVtcyI6IFt7Iml0ZW1faWQiOiAiaXRlbV84MzIiLCAicXVhbnRpdHkiOiAxLCAicHJpY2VfdXNkIjogODQuMn0sIHsiaXRlbV9pZCI6ICJpdGVtXzQ0NCIsICJxdWFudGl0eSI6IDQsICJwcmljZV91c2QiOiAyMy43M31dfQ==",
         null,
         "{\"user_id\": \"user_7480\", \"event_type\": \"purchase\", \"event_timestamp\": \"2025-09-27T14:09:13.060660\", \"items\": [{\"item_id\": \"item_832\", \"quantity\": 1, \"price_usd\": 84.2}, {\"item_id\": \"item_444\", \"quantity\": 4, \"price_usd\": 23.73}]}"
        ],
        [
         "event_95",
         1.758982153060699E9,
         "eyJ1c2VyX2lkIjogInVzZXJfOTkyMiIsICJldmVudF90eXBlIjogInZpZXciLCAiZXZlbnRfdGltZXN0YW1wIjogIjIwMjUtMDktMjdUMTQ6MDk6MTMuMDYwNjg0IiwgIml0ZW1zIjogW3siaXRlbV9pZCI6ICJpdGVtXzE5NiIsICJxdWFudGl0eSI6IDIsICJwcmljZV91c2QiOiA3Mi45MX0sIHsiaXRlbV9pZCI6ICJpdGVtXzE0MSIsICJxdWFudGl0eSI6IDMsICJwcmljZV91c2QiOiA4My43NH1dfQ==",
         null,
         "{\"user_id\": \"user_9922\", \"event_type\": \"view\", \"event_timestamp\": \"2025-09-27T14:09:13.060684\", \"items\": [{\"item_id\": \"item_196\", \"quantity\": 2, \"price_usd\": 72.91}, {\"item_id\": \"item_141\", \"quantity\": 3, \"price_usd\": 83.74}]}"
        ],
        [
         "event_96",
         1.758982153060711E9,
         "eyJ1c2VyX2lkIjogInVzZXJfMTIzMCIsICJldmVudF90eXBlIjogImNsaWNrIiwgImV2ZW50X3RpbWVzdGFtcCI6ICIyMDI1LTA5LTI3VDE0OjA5OjEzLjA2MDcwMSIsICJpdGVtcyI6IFt7Iml0ZW1faWQiOiAiaXRlbV84MzkiLCAicXVhbnRpdHkiOiAzLCAicHJpY2VfdXNkIjogMjEuNjN9LCB7Iml0ZW1faWQiOiAiaXRlbV8zODIiLCAicXVhbnRpdHkiOiA0LCAicHJpY2VfdXNkIjogODQuOTZ9XX0=",
         null,
         "{\"user_id\": \"user_1230\", \"event_type\": \"click\", \"event_timestamp\": \"2025-09-27T14:09:13.060701\", \"items\": [{\"item_id\": \"item_839\", \"quantity\": 3, \"price_usd\": 21.63}, {\"item_id\": \"item_382\", \"quantity\": 4, \"price_usd\": 84.96}]}"
        ],
        [
         "event_97",
         1.758982153060727E9,
         "eyJ1c2VyX2lkIjogInVzZXJfMzE5NSIsICJldmVudF90eXBlIjogImNsaWNrIiwgImV2ZW50X3RpbWVzdGFtcCI6ICIyMDI1LTA5LTI3VDE0OjA5OjEzLjA2MDcxMyIsICJpdGVtcyI6IFt7Iml0ZW1faWQiOiAiaXRlbV81ODAiLCAicXVhbnRpdHkiOiA0LCAicHJpY2VfdXNkIjogNDQuMDN9LCB7Iml0ZW1faWQiOiAiaXRlbV8zMzQiLCAicXVhbnRpdHkiOiA0LCAicHJpY2VfdXNkIjogODcuMTl9LCB7Iml0ZW1faWQiOiAiaXRlbV8zMzEiLCAicXVhbnRpdHkiOiAzLCAicHJpY2VfdXNkIjogNjIuNjJ9XX0=",
         null,
         "{\"user_id\": \"user_3195\", \"event_type\": \"click\", \"event_timestamp\": \"2025-09-27T14:09:13.060713\", \"items\": [{\"item_id\": \"item_580\", \"quantity\": 4, \"price_usd\": 44.03}, {\"item_id\": \"item_334\", \"quantity\": 4, \"price_usd\": 87.19}, {\"item_id\": \"item_331\", \"quantity\": 3, \"price_usd\": 62.62}]}"
        ],
        [
         "event_98",
         1.758982153060739E9,
         "eyJ1c2VyX2lkIjogInVzZXJfOTE3OCIsICJldmVudF90eXBlIjogImNsaWNrIiwgImV2ZW50X3RpbWVzdGFtcCI6ICIyMDI1LTA5LTI3VDE0OjA5OjEzLjA2MDcyOSIsICJpdGVtcyI6IFt7Iml0ZW1faWQiOiAiaXRlbV8zMjMiLCAicXVhbnRpdHkiOiA1LCAicHJpY2VfdXNkIjogMzcuNzZ9LCB7Iml0ZW1faWQiOiAiaXRlbV8zNjQiLCAicXVhbnRpdHkiOiAyLCAicHJpY2VfdXNkIjogOTMuODZ9XX0=",
         null,
         "{\"user_id\": \"user_9178\", \"event_type\": \"click\", \"event_timestamp\": \"2025-09-27T14:09:13.060729\", \"items\": [{\"item_id\": \"item_323\", \"quantity\": 5, \"price_usd\": 37.76}, {\"item_id\": \"item_364\", \"quantity\": 2, \"price_usd\": 93.86}]}"
        ],
        [
         "event_99",
         1.758982153060752E9,
         "eyJ1c2VyX2lkIjogInVzZXJfMTU3NSIsICJldmVudF90eXBlIjogInZpZXciLCAiZXZlbnRfdGltZXN0YW1wIjogIjIwMjUtMDktMjdUMTQ6MDk6MTMuMDYwNzQxIiwgIml0ZW1zIjogW3siaXRlbV9pZCI6ICJpdGVtXzk5MSIsICJxdWFudGl0eSI6IDUsICJwcmljZV91c2QiOiA3MC45OH0sIHsiaXRlbV9pZCI6ICJpdGVtXzE3OCIsICJxdWFudGl0eSI6IDUsICJwcmljZV91c2QiOiA5Ni4wNn1dfQ==",
         null,
         "{\"user_id\": \"user_1575\", \"event_type\": \"view\", \"event_timestamp\": \"2025-09-27T14:09:13.060741\", \"items\": [{\"item_id\": \"item_991\", \"quantity\": 5, \"price_usd\": 70.98}, {\"item_id\": \"item_178\", \"quantity\": 5, \"price_usd\": 96.06}]}"
        ]
       ],
       "datasetInfos": [],
       "dbfsResultPath": null,
       "isJsonSchema": true,
       "metadata": {},
       "overflow": false,
       "plotOptions": {
        "customPlotOptions": {},
        "displayType": "table",
        "pivotAggregation": null,
        "pivotColumns": null,
        "xColumns": null,
        "yColumns": null
       },
       "removedWidgets": [],
       "schema": [
        {
         "metadata": "{}",
         "name": "key",
         "type": "\"string\""
        },
        {
         "metadata": "{}",
         "name": "timestamp",
         "type": "\"double\""
        },
        {
         "metadata": "{}",
         "name": "value",
         "type": "\"string\""
        },
        {
         "metadata": "{}",
         "name": "_rescued_data",
         "type": "\"string\""
        },
        {
         "metadata": "{}",
         "name": "decoded_value",
         "type": "\"string\""
        }
       ],
       "type": "table"
      }
     },
     "output_type": "display_data"
    }
   ],
   "source": [
    "CREATE OR REPLACE TABLE lab7_lab_kafka_events_raw\n",
    "AS\n",
    "SELECT \n",
    "  *,\n",
    "  cast(unbase64(value) as STRING) as decoded_value\n",
    "FROM read_files(\n",
    "        DA.paths_working_dir || '/json_demo_files/lab_kafka_events.json',\n",
    "        format => \"json\", \n",
    "        schema => '''\n",
    "          key STRING, \n",
    "          timestamp DOUBLE, \n",
    "          value STRING\n",
    "        ''',\n",
    "        rescueddatacolumn => '_rescued_data'\n",
    "      );\n",
    "\n",
    "-- View the table\n",
    "SELECT *\n",
    "FROM lab7_lab_kafka_events_raw;"
   ]
  },
  {
   "cell_type": "markdown",
   "metadata": {
    "application/vnd.databricks.v1+cell": {
     "cellMetadata": {},
     "inputWidgets": {},
     "nuid": "c8787099-53a3-408a-93a2-f53e06ddc5cf",
     "showTitle": false,
     "tableResultSettingsMap": {},
     "title": ""
    }
   },
   "source": [
    "### B3. Create the Flattened Bronze Table"
   ]
  },
  {
   "cell_type": "markdown",
   "metadata": {
    "application/vnd.databricks.v1+cell": {
     "cellMetadata": {},
     "inputWidgets": {},
     "nuid": "dcc6c496-f800-43fd-90f9-580e1d122d83",
     "showTitle": false,
     "tableResultSettingsMap": {},
     "title": ""
    }
   },
   "source": [
    "1. Your goal is to flatten the JSON formatted string column **decoded_value** from the table **lab7_lab_kafka_events_raw** to create a new table named **lab7_lab_kafka_events_flattened** for downstream processing. The table should contain the following columns:\n",
    "    - **key**\n",
    "    - **timestamp**\n",
    "    - **user_id**\n",
    "    - **event_type**\n",
    "    - **event_timestamp**\n",
    "    - **items**\n",
    "\n",
    "    You can use whichever technique you prefer:\n",
    "\n",
    "    - Parse the JSON formatted string (easiest) to flatten\n",
    "      - [Query JSON strings](https://docs.databricks.com/aws/en/semi-structured/json):\n",
    "\n",
    "    - Convert the JSON formatted string as a VARIANT and flatten\n",
    "      - [parse_json function](https://docs.databricks.com/gcp/en/sql/language-manual/functions/parse_json)\n",
    "\n",
    "    - Convert the JSON formatted string to a STRUCT and flatten\n",
    "      - [schema_of_json function](https://docs.databricks.com/aws/en/sql/language-manual/functions/schema_of_json)\n",
    "      - [from_json function](https://docs.databricks.com/gcp/en/sql/language-manual/functions/from_json)\n",
    "\n",
    "**NOTE:** View the lab solution notebook to view the solutions for each."
   ]
  },
  {
   "cell_type": "markdown",
   "metadata": {
    "application/vnd.databricks.v1+cell": {
     "cellMetadata": {},
     "inputWidgets": {},
     "nuid": "11867afb-1e66-48ec-81d1-b421e6a2e543",
     "showTitle": false,
     "tableResultSettingsMap": {},
     "title": ""
    }
   },
   "source": [
    "2. To begin, run the code below to view the final solution table **lab7_lab_kafka_events_flattened_solution**. This will give you an idea of what your final table should look like.\n",
    "\n",
    "  **NOTE**: Depending on your solution, the data types of the columns may vary slightly.  \n",
    "\n",
    "\n",
    "##### Optional Challenge\n",
    "\n",
    "  As a challenge, after flattening the table, try converting the data types accordingly. Depending on your skill set, you may not convert all columns to the correct data types within the allotted time.\n",
    "\n",
    "  - **key** STRING\n",
    "  - **timestamp** DOUBLE\n",
    "  - **user_id** STRING\n",
    "  - **event_type** STRING\n",
    "  - **event_timestamp** TIMESTAMP\n",
    "  - **items** (STRUCT or VARIANT) depending on the method you used."
   ]
  },
  {
   "cell_type": "code",
   "execution_count": 0,
   "metadata": {
    "application/vnd.databricks.v1+cell": {
     "cellMetadata": {},
     "inputWidgets": {},
     "nuid": "0f55e299-cd81-410b-88c5-b1249b911d09",
     "showTitle": false,
     "tableResultSettingsMap": {},
     "title": ""
    }
   },
   "outputs": [],
   "source": [
    "SELECT *\n",
    "FROM lab7_lab_kafka_events_flattened_solution"
   ]
  },
  {
   "cell_type": "markdown",
   "metadata": {
    "application/vnd.databricks.v1+cell": {
     "cellMetadata": {},
     "inputWidgets": {},
     "nuid": "7e17ce71-1d86-4f25-bf8e-a62664cc1f96",
     "showTitle": false,
     "tableResultSettingsMap": {},
     "title": ""
    }
   },
   "source": [
    "3. Write the query in the cell below to read the **lab_kafka_events_raw** table and create the flattened table **lab7_lab_kafka_events_flattened** following the requirements from above."
   ]
  },
  {
   "cell_type": "code",
   "execution_count": 0,
   "metadata": {
    "application/vnd.databricks.v1+cell": {
     "cellMetadata": {},
     "inputWidgets": {},
     "nuid": "83506553-3134-4246-bdb7-b257c126114f",
     "showTitle": false,
     "tableResultSettingsMap": {},
     "title": ""
    }
   },
   "outputs": [],
   "source": [
    "<FILL-IN>"
   ]
  },
  {
   "cell_type": "code",
   "execution_count": 0,
   "metadata": {
    "application/vnd.databricks.v1+cell": {
     "cellMetadata": {},
     "inputWidgets": {},
     "nuid": "40dc9e4e-d4a6-44b3-b321-674dbcd627f0",
     "showTitle": false,
     "tableResultSettingsMap": {},
     "title": ""
    }
   },
   "outputs": [],
   "source": [
    "<FILL-IN>"
   ]
  },
  {
   "cell_type": "code",
   "execution_count": 0,
   "metadata": {
    "application/vnd.databricks.v1+cell": {
     "cellMetadata": {},
     "inputWidgets": {},
     "nuid": "1ea78382-d67d-4128-be61-66808ab2d08e",
     "showTitle": false,
     "tableResultSettingsMap": {},
     "title": ""
    }
   },
   "outputs": [],
   "source": [
    "<FILL-IN>"
   ]
  },
  {
   "cell_type": "markdown",
   "metadata": {
    "application/vnd.databricks.v1+cell": {
     "cellMetadata": {},
     "inputWidgets": {},
     "nuid": "ee3ab109-fed0-4a93-a1ed-95fd9c54a8c1",
     "showTitle": false,
     "tableResultSettingsMap": {},
     "title": ""
    }
   },
   "source": [
    "\n",
    "&copy; 2025 Databricks, Inc. All rights reserved. Apache, Apache Spark, Spark, the Spark Logo, Apache Iceberg, Iceberg, and the Apache Iceberg logo are trademarks of the <a href=\"https://www.apache.org/\" target=\"blank\">Apache Software Foundation</a>.<br/>\n",
    "<br/><a href=\"https://databricks.com/privacy-policy\" target=\"blank\">Privacy Policy</a> | \n",
    "<a href=\"https://databricks.com/terms-of-use\" target=\"blank\">Terms of Use</a> | \n",
    "<a href=\"https://help.databricks.com/\" target=\"blank\">Support</a>"
   ]
  }
 ],
 "metadata": {
  "application/vnd.databricks.v1+notebook": {
   "computePreferences": null,
   "dashboards": [],
   "environmentMetadata": null,
   "inputWidgetPreferences": null,
   "language": "sql",
   "notebookMetadata": {
    "mostRecentlyExecutedCommandWithImplicitDF": {
     "commandId": 1413133777274296,
     "dataframes": [
      "_sqldf"
     ]
    },
    "pythonIndentUnit": 4
   },
   "notebookName": "07L - Creating Bronze Tables from JSON Files",
   "widgets": {}
  },
  "language_info": {
   "name": "sql"
  }
 },
 "nbformat": 4,
 "nbformat_minor": 0
}