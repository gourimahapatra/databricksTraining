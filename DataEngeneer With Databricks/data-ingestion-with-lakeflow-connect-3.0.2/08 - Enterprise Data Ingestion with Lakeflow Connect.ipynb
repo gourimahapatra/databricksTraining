{
 "cells": [
  {
   "cell_type": "markdown",
   "metadata": {
    "application/vnd.databricks.v1+cell": {
     "cellMetadata": {},
     "inputWidgets": {},
     "nuid": "0e6d162f-ef1d-4442-b718-bcfdc8fb8661",
     "showTitle": false,
     "tableResultSettingsMap": {},
     "title": ""
    }
   },
   "source": [
    "\n",
    "<div style=\"text-align: center; line-height: 0; padding-top: 9px;\">\n",
    "  <img src=\"https://databricks.com/wp-content/uploads/2018/03/db-academy-rgb-1200px.png\" alt=\"Databricks Learning\">\n",
    "</div>\n"
   ]
  },
  {
   "cell_type": "markdown",
   "metadata": {
    "application/vnd.databricks.v1+cell": {
     "cellMetadata": {},
     "inputWidgets": {},
     "nuid": "bbeb2b5d-75ea-4874-9e96-81df99ef8aa3",
     "showTitle": false,
     "tableResultSettingsMap": {},
     "title": ""
    }
   },
   "source": [
    "# 8 - Enterprise Data Ingestion with LakeFlow Connect\n",
    "\n",
    "In this demonstration, you will be introduced to **LakeFlow Connect** managed connectors for external enterprise sources. An easy-to-use tool for bringing data from various systems such as databases (e.g., SQL Server), applications (e.g., Salesforce, Workday), and file storage services (e.g., SharePoint) into the lakehouse. \n",
    "\n",
    "It is designed to handle data efficiently and automatically improve performance.\n",
    "\n",
    "### Learning Objectives\n",
    "\n",
    "By the end of the demonstration, you should be able to:\n",
    "\n",
    "- Explore the available Databricks managed connectors to ingest data through LakeFlow Connect.\n",
    "- View how to ingest data using Partner connect.\n",
    "- Add a Database connector and configure an ingestion pipeline demonstration:\n",
    "  - Choose which data you want to ingest and synchronize to Databricks\n",
    "  - Synchronize the data pipeline to Unity Catalog (catalog and schema)"
   ]
  },
  {
   "cell_type": "markdown",
   "metadata": {
    "application/vnd.databricks.v1+cell": {
     "cellMetadata": {},
     "inputWidgets": {},
     "nuid": "68ac4085-c908-4a76-b922-f423693d38e7",
     "showTitle": false,
     "tableResultSettingsMap": {},
     "title": ""
    }
   },
   "source": [
    "1. Complete the following to view the Lakeflow Connect documentation:\n",
    "\n",
    "   a. Go to the [Databricks documentation](https://docs.databricks.com/aws/en/) page.\n",
    "\n",
    "   b. In the left navigation bar, expand **Data Engineering**.\n",
    "\n",
    "   c. Expand **Lakeflow Connect** to view the available documentation for data ingestion with Lakeflow Connect.\n",
    "\n",
    "   d. Expand **Managed Connectors** to access information about Databricks-managed connectors.\n",
    "\n",
    "**NOTE:** Please note that the documentation directions may change during an update."
   ]
  },
  {
   "cell_type": "markdown",
   "metadata": {
    "application/vnd.databricks.v1+cell": {
     "cellMetadata": {},
     "inputWidgets": {},
     "nuid": "09d1977b-53b0-4a35-b1ff-82c4cc19d280",
     "showTitle": false,
     "tableResultSettingsMap": {},
     "title": ""
    }
   },
   "source": [
    "2. Complete the following to explore the available **Data Ingestion** capabilities in Databricks:\n",
    "\n",
    "   a. On the left main navigation bar, right-click on **Data Ingestion** and select **Open in a New Tab**.\n",
    "\n",
    "   b. Under **Databricks Connectors**, you'll see various Databricks-managed connectors provided by LakeFlow Connect.\n",
    "\n",
    "   c. Under the **Files** section, you can:\n",
    "   \n",
    "   - **Create or modify tables**\n",
    "\n",
    "   - **Upload files to a volume**\n",
    "\n",
    "   - **Create a table from Amazon S3**\n",
    "   \n",
    "   - Drag and drop files when using the options to create/modify tables or upload files to a volume.\n",
    "\n",
    "   d. Under **Fivetran Connectors**, you can search for specific data source connections using a partner.\n",
    "\n",
    "   e. Click on any connector to view details.\n",
    "\n",
    "   f. You can also upload files directly to **DBFS** for backward compatibility, though Databricks recommends uploading to Unity Catalog moving forward."
   ]
  },
  {
   "cell_type": "markdown",
   "metadata": {
    "application/vnd.databricks.v1+cell": {
     "cellMetadata": {},
     "inputWidgets": {},
     "nuid": "bfd89c43-9e5f-40a9-b7c4-0cf4c87377a9",
     "showTitle": false,
     "tableResultSettingsMap": {},
     "title": ""
    }
   },
   "source": [
    "3. Complete the following point-and-click demonstration to learn how to use a Databricks managed connector to an external database or SaaS application using **LakeFlow Connect**.\n",
    "\n",
    "      **NOTE:** This course does not have an active database or SaaS application to use. The demos below are a simple walk through. During a live teach, pick one of the tours below.\n",
    "\n",
    "   - [LakeFlow Connect Managed Connector Demonstration](https://app.getreprise.com/launch/BXZY58n/) - Simple demonstration\n",
    "\n",
    "   - [Databricks Lakeflow Connect for Workday Reports: Connect, Ingest, and Analyze Workday Data Without Complexity](https://www.databricks.com/resources/demos/tours/appdev/lakeflow-workday-connect?itm_data=demo_center)\n",
    "\n",
    "   - [Databricks Lakeflow Connect for Salesforce: Powering Smarter Selling with AI and Analytics](https://www.databricks.com/resources/demos/tours/platform/discover-databricks-lakeflow-connect-demo?itm_data=demo_center)"
   ]
  },
  {
   "cell_type": "markdown",
   "metadata": {
    "application/vnd.databricks.v1+cell": {
     "cellMetadata": {},
     "inputWidgets": {},
     "nuid": "946e7047-5ee2-4cd6-9ea0-5f455428c97a",
     "showTitle": false,
     "tableResultSettingsMap": {},
     "title": ""
    }
   },
   "source": [
    "\n",
    "&copy; 2025 Databricks, Inc. All rights reserved. Apache, Apache Spark, Spark, the Spark Logo, Apache Iceberg, Iceberg, and the Apache Iceberg logo are trademarks of the <a href=\"https://www.apache.org/\" target=\"blank\">Apache Software Foundation</a>.<br/>\n",
    "<br/><a href=\"https://databricks.com/privacy-policy\" target=\"blank\">Privacy Policy</a> | \n",
    "<a href=\"https://databricks.com/terms-of-use\" target=\"blank\">Terms of Use</a> | \n",
    "<a href=\"https://help.databricks.com/\" target=\"blank\">Support</a>"
   ]
  }
 ],
 "metadata": {
  "application/vnd.databricks.v1+notebook": {
   "computePreferences": null,
   "dashboards": [],
   "environmentMetadata": null,
   "inputWidgetPreferences": null,
   "language": "sql",
   "notebookMetadata": {
    "pythonIndentUnit": 4
   },
   "notebookName": "08 - Enterprise Data Ingestion with Lakeflow Connect",
   "widgets": {}
  },
  "language_info": {
   "name": "sql"
  }
 },
 "nbformat": 4,
 "nbformat_minor": 0
}